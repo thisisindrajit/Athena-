{
  "cells": [
    {
      "cell_type": "markdown",
      "metadata": {
        "id": "view-in-github",
        "colab_type": "text"
      },
      "source": [
        "<a href=\"https://colab.research.google.com/github/thisisindrajit/Athena/blob/main/code.ipynb\" target=\"_parent\"><img src=\"https://colab.research.google.com/assets/colab-badge.svg\" alt=\"Open In Colab\"/></a>"
      ]
    },
    {
      "cell_type": "markdown",
      "metadata": {
        "id": "JxinWUorgU9z"
      },
      "source": [
        "# Athena - Portfolio Optimization using Machine Learning"
      ]
    },
    {
      "cell_type": "markdown",
      "source": [
        "## Mounting Google Drive"
      ],
      "metadata": {
        "id": "UYS7kJBJfZ5h"
      }
    },
    {
      "cell_type": "code",
      "source": [
        "from google.colab import drive\n",
        "drive.mount('/content/drive')"
      ],
      "metadata": {
        "id": "N3ORS4DDfbmy",
        "colab": {
          "base_uri": "https://localhost:8080/"
        },
        "outputId": "a531b5e8-0d8f-4b0d-ee96-2eba1790dac8"
      },
      "execution_count": 3,
      "outputs": [
        {
          "output_type": "stream",
          "name": "stdout",
          "text": [
            "Drive already mounted at /content/drive; to attempt to forcibly remount, call drive.mount(\"/content/drive\", force_remount=True).\n"
          ]
        }
      ]
    },
    {
      "cell_type": "markdown",
      "metadata": {
        "id": "WNsc6nOKgQc9"
      },
      "source": [
        "## Imports"
      ]
    },
    {
      "cell_type": "code",
      "execution_count": 1,
      "metadata": {
        "colab": {
          "base_uri": "https://localhost:8080/"
        },
        "id": "cHK1UK8OblvU",
        "outputId": "6b03e270-2166-4d44-d97f-ee2536efd9f4"
      },
      "outputs": [
        {
          "output_type": "stream",
          "name": "stdout",
          "text": [
            "Requirement already satisfied: yfinance in /usr/local/lib/python3.7/dist-packages (0.1.70)\n",
            "Requirement already satisfied: pandas>=0.24.0 in /usr/local/lib/python3.7/dist-packages (from yfinance) (1.3.5)\n",
            "Requirement already satisfied: numpy>=1.15 in /usr/local/lib/python3.7/dist-packages (from yfinance) (1.21.5)\n",
            "Requirement already satisfied: lxml>=4.5.1 in /usr/local/lib/python3.7/dist-packages (from yfinance) (4.8.0)\n",
            "Requirement already satisfied: requests>=2.26 in /usr/local/lib/python3.7/dist-packages (from yfinance) (2.27.1)\n",
            "Requirement already satisfied: multitasking>=0.0.7 in /usr/local/lib/python3.7/dist-packages (from yfinance) (0.0.10)\n",
            "Requirement already satisfied: pytz>=2017.3 in /usr/local/lib/python3.7/dist-packages (from pandas>=0.24.0->yfinance) (2018.9)\n",
            "Requirement already satisfied: python-dateutil>=2.7.3 in /usr/local/lib/python3.7/dist-packages (from pandas>=0.24.0->yfinance) (2.8.2)\n",
            "Requirement already satisfied: six>=1.5 in /usr/local/lib/python3.7/dist-packages (from python-dateutil>=2.7.3->pandas>=0.24.0->yfinance) (1.15.0)\n",
            "Requirement already satisfied: charset-normalizer~=2.0.0 in /usr/local/lib/python3.7/dist-packages (from requests>=2.26->yfinance) (2.0.12)\n",
            "Requirement already satisfied: certifi>=2017.4.17 in /usr/local/lib/python3.7/dist-packages (from requests>=2.26->yfinance) (2021.10.8)\n",
            "Requirement already satisfied: urllib3<1.27,>=1.21.1 in /usr/local/lib/python3.7/dist-packages (from requests>=2.26->yfinance) (1.24.3)\n",
            "Requirement already satisfied: idna<4,>=2.5 in /usr/local/lib/python3.7/dist-packages (from requests>=2.26->yfinance) (2.10)\n",
            "Requirement already satisfied: Riskfolio-Lib in /usr/local/lib/python3.7/dist-packages (3.0.1)\n",
            "Requirement already satisfied: arch>=4.15 in /usr/local/lib/python3.7/dist-packages (from Riskfolio-Lib) (5.1.0)\n",
            "Requirement already satisfied: scipy>=1.0.1 in /usr/local/lib/python3.7/dist-packages (from Riskfolio-Lib) (1.4.1)\n",
            "Requirement already satisfied: scikit-learn>=0.22.0 in /usr/local/lib/python3.7/dist-packages (from Riskfolio-Lib) (1.0.2)\n",
            "Requirement already satisfied: numpy>=1.17.0 in /usr/local/lib/python3.7/dist-packages (from Riskfolio-Lib) (1.21.5)\n",
            "Requirement already satisfied: cvxpy>=1.0.25 in /usr/local/lib/python3.7/dist-packages (from Riskfolio-Lib) (1.2.0)\n",
            "Requirement already satisfied: statsmodels>=0.10.1 in /usr/local/lib/python3.7/dist-packages (from Riskfolio-Lib) (0.13.2)\n",
            "Requirement already satisfied: matplotlib>=3.3.0 in /usr/local/lib/python3.7/dist-packages (from Riskfolio-Lib) (3.5.1)\n",
            "Requirement already satisfied: pandas>=1.0.0 in /usr/local/lib/python3.7/dist-packages (from Riskfolio-Lib) (1.3.5)\n",
            "Requirement already satisfied: networkx>=2.5.1 in /usr/local/lib/python3.7/dist-packages (from Riskfolio-Lib) (2.6.3)\n",
            "Requirement already satisfied: astropy>=4.3.1 in /usr/local/lib/python3.7/dist-packages (from Riskfolio-Lib) (4.3.1)\n",
            "Requirement already satisfied: xlsxwriter>=1.3.7 in /usr/local/lib/python3.7/dist-packages (from Riskfolio-Lib) (3.0.3)\n",
            "Requirement already satisfied: property-cached>=1.6.4 in /usr/local/lib/python3.7/dist-packages (from arch>=4.15->Riskfolio-Lib) (1.6.4)\n",
            "Requirement already satisfied: pyerfa>=1.7.3 in /usr/local/lib/python3.7/dist-packages (from astropy>=4.3.1->Riskfolio-Lib) (2.0.0.1)\n",
            "Requirement already satisfied: importlib-metadata in /usr/local/lib/python3.7/dist-packages (from astropy>=4.3.1->Riskfolio-Lib) (4.11.2)\n",
            "Requirement already satisfied: osqp>=0.4.1 in /usr/local/lib/python3.7/dist-packages (from cvxpy>=1.0.25->Riskfolio-Lib) (0.6.2.post0)\n",
            "Requirement already satisfied: scs>=1.1.6 in /usr/local/lib/python3.7/dist-packages (from cvxpy>=1.0.25->Riskfolio-Lib) (3.2.0)\n",
            "Requirement already satisfied: ecos>=2 in /usr/local/lib/python3.7/dist-packages (from cvxpy>=1.0.25->Riskfolio-Lib) (2.0.10)\n",
            "Requirement already satisfied: packaging>=20.0 in /usr/local/lib/python3.7/dist-packages (from matplotlib>=3.3.0->Riskfolio-Lib) (21.3)\n",
            "Requirement already satisfied: cycler>=0.10 in /usr/local/lib/python3.7/dist-packages (from matplotlib>=3.3.0->Riskfolio-Lib) (0.11.0)\n",
            "Requirement already satisfied: pyparsing>=2.2.1 in /usr/local/lib/python3.7/dist-packages (from matplotlib>=3.3.0->Riskfolio-Lib) (3.0.7)\n",
            "Requirement already satisfied: fonttools>=4.22.0 in /usr/local/lib/python3.7/dist-packages (from matplotlib>=3.3.0->Riskfolio-Lib) (4.31.1)\n",
            "Requirement already satisfied: python-dateutil>=2.7 in /usr/local/lib/python3.7/dist-packages (from matplotlib>=3.3.0->Riskfolio-Lib) (2.8.2)\n",
            "Requirement already satisfied: pillow>=6.2.0 in /usr/local/lib/python3.7/dist-packages (from matplotlib>=3.3.0->Riskfolio-Lib) (7.1.2)\n",
            "Requirement already satisfied: kiwisolver>=1.0.1 in /usr/local/lib/python3.7/dist-packages (from matplotlib>=3.3.0->Riskfolio-Lib) (1.3.2)\n",
            "Requirement already satisfied: qdldl in /usr/local/lib/python3.7/dist-packages (from osqp>=0.4.1->cvxpy>=1.0.25->Riskfolio-Lib) (0.1.5.post0)\n",
            "Requirement already satisfied: pytz>=2017.3 in /usr/local/lib/python3.7/dist-packages (from pandas>=1.0.0->Riskfolio-Lib) (2018.9)\n",
            "Requirement already satisfied: six>=1.5 in /usr/local/lib/python3.7/dist-packages (from python-dateutil>=2.7->matplotlib>=3.3.0->Riskfolio-Lib) (1.15.0)\n",
            "Requirement already satisfied: joblib>=0.11 in /usr/local/lib/python3.7/dist-packages (from scikit-learn>=0.22.0->Riskfolio-Lib) (1.1.0)\n",
            "Requirement already satisfied: threadpoolctl>=2.0.0 in /usr/local/lib/python3.7/dist-packages (from scikit-learn>=0.22.0->Riskfolio-Lib) (3.1.0)\n",
            "Requirement already satisfied: patsy>=0.5.2 in /usr/local/lib/python3.7/dist-packages (from statsmodels>=0.10.1->Riskfolio-Lib) (0.5.2)\n",
            "Requirement already satisfied: typing-extensions>=3.6.4 in /usr/local/lib/python3.7/dist-packages (from importlib-metadata->astropy>=4.3.1->Riskfolio-Lib) (3.10.0.2)\n",
            "Requirement already satisfied: zipp>=0.5 in /usr/local/lib/python3.7/dist-packages (from importlib-metadata->astropy>=4.3.1->Riskfolio-Lib) (3.7.0)\n",
            "Requirement already satisfied: PyPortfolioOpt in /usr/local/lib/python3.7/dist-packages (1.5.1)\n",
            "Requirement already satisfied: numpy<2.0,>=1.12 in /usr/local/lib/python3.7/dist-packages (from PyPortfolioOpt) (1.21.5)\n",
            "Requirement already satisfied: pandas>=0.19 in /usr/local/lib/python3.7/dist-packages (from PyPortfolioOpt) (1.3.5)\n",
            "Requirement already satisfied: scipy<2.0,>=1.3 in /usr/local/lib/python3.7/dist-packages (from PyPortfolioOpt) (1.4.1)\n",
            "Requirement already satisfied: cvxpy<2.0.0,>=1.1.10 in /usr/local/lib/python3.7/dist-packages (from PyPortfolioOpt) (1.2.0)\n",
            "Requirement already satisfied: scs>=1.1.6 in /usr/local/lib/python3.7/dist-packages (from cvxpy<2.0.0,>=1.1.10->PyPortfolioOpt) (3.2.0)\n",
            "Requirement already satisfied: osqp>=0.4.1 in /usr/local/lib/python3.7/dist-packages (from cvxpy<2.0.0,>=1.1.10->PyPortfolioOpt) (0.6.2.post0)\n",
            "Requirement already satisfied: ecos>=2 in /usr/local/lib/python3.7/dist-packages (from cvxpy<2.0.0,>=1.1.10->PyPortfolioOpt) (2.0.10)\n",
            "Requirement already satisfied: qdldl in /usr/local/lib/python3.7/dist-packages (from osqp>=0.4.1->cvxpy<2.0.0,>=1.1.10->PyPortfolioOpt) (0.1.5.post0)\n",
            "Requirement already satisfied: pytz>=2017.3 in /usr/local/lib/python3.7/dist-packages (from pandas>=0.19->PyPortfolioOpt) (2018.9)\n",
            "Requirement already satisfied: python-dateutil>=2.7.3 in /usr/local/lib/python3.7/dist-packages (from pandas>=0.19->PyPortfolioOpt) (2.8.2)\n",
            "Requirement already satisfied: six>=1.5 in /usr/local/lib/python3.7/dist-packages (from python-dateutil>=2.7.3->pandas>=0.19->PyPortfolioOpt) (1.15.0)\n",
            "All neccessary imports done!\n"
          ]
        }
      ],
      "source": [
        "!pip install yfinance\n",
        "!pip install Riskfolio-Lib\n",
        "!pip install PyPortfolioOpt\n",
        "\n",
        "import numpy as np\n",
        "import tensorflow as tf\n",
        "from tensorflow import keras\n",
        "from keras.layers.core import Dense, Dropout\n",
        "from keras.layers.recurrent import LSTM, GRU\n",
        "from keras.models import Sequential, load_model\n",
        "from keras.callbacks import EarlyStopping, ReduceLROnPlateau\n",
        "import scipy\n",
        "import pandas as pd\n",
        "from pandas_datareader import data as pdr\n",
        "import yfinance as yf\n",
        "from sklearn.model_selection import train_test_split\n",
        "from sklearn.preprocessing import MinMaxScaler\n",
        "\n",
        "print(\"All neccessary imports done!\")"
      ]
    },
    {
      "cell_type": "markdown",
      "metadata": {
        "id": "3XGhyw70ey7M"
      },
      "source": [
        "## Variables"
      ]
    },
    {
      "cell_type": "code",
      "execution_count": 2,
      "metadata": {
        "id": "s3-7AdUne0tr"
      },
      "outputs": [],
      "source": [
        "time_steps = 60\n",
        "features = 4"
      ]
    },
    {
      "cell_type": "markdown",
      "metadata": {
        "id": "dHCHxCqaBnPN"
      },
      "source": [
        "## Getting data from API"
      ]
    },
    {
      "cell_type": "code",
      "execution_count": 3,
      "metadata": {
        "id": "b32kHzEiy95e"
      },
      "outputs": [],
      "source": [
        "tickers = [\"ASIANPAINT.NS\", \"RELIANCE.NS\", \"PIDILITIND.NS\", \"LUPIN.NS\", \"IOC.NS\"]"
      ]
    },
    {
      "cell_type": "code",
      "execution_count": 4,
      "metadata": {
        "id": "XOzwCHNqBqhI"
      },
      "outputs": [],
      "source": [
        "def get_data(tickers, period=\"5y\"):\n",
        "  \n",
        "  # download data of ticker symbol\n",
        "  data = yf.download(tickers, period=period)\n",
        "  info = []\n",
        "\n",
        "  for ticker in tickers: \n",
        "    info.append(yf.Ticker(ticker).info)\n",
        "\n",
        "  # # resetting index\n",
        "  # data = data.reset_index()\n",
        "  \n",
        "  # remove open, high, low, volume, adj close columns\n",
        "  data = data.drop(\"Open\", axis = 1)\n",
        "  data = data.drop(\"High\", axis = 1)\n",
        "  data = data.drop(\"Low\", axis = 1)\n",
        "  data = data.drop(\"Volume\", axis = 1)\n",
        "  data = data.drop(\"Adj Close\", axis = 1)\n",
        "\n",
        "  return data, info"
      ]
    },
    {
      "cell_type": "code",
      "execution_count": 5,
      "metadata": {
        "colab": {
          "base_uri": "https://localhost:8080/"
        },
        "id": "KLuty-2-g_lv",
        "outputId": "79ccfe17-ffa5-4e58-8ef3-5556bb0c5454"
      },
      "outputs": [
        {
          "output_type": "stream",
          "name": "stdout",
          "text": [
            "[*********************100%***********************]  5 of 5 completed\n"
          ]
        }
      ],
      "source": [
        "df, info = get_data(tickers)"
      ]
    },
    {
      "cell_type": "code",
      "execution_count": 6,
      "metadata": {
        "colab": {
          "base_uri": "https://localhost:8080/",
          "height": 481
        },
        "id": "0bEVHHVumo3D",
        "outputId": "016ba68a-e08f-4766-d5ed-874ee00dbb96"
      },
      "outputs": [
        {
          "output_type": "execute_result",
          "data": {
            "text/plain": [
              "                   Close                                                    \n",
              "           ASIANPAINT.NS      IOC.NS     LUPIN.NS PIDILITIND.NS  RELIANCE.NS\n",
              "Date                                                                        \n",
              "2017-03-17   1079.449951  187.925003  1456.550049    701.900024   644.243225\n",
              "2017-03-20   1079.699951  185.475006  1464.699951    699.500000   634.386658\n",
              "2017-03-21   1068.699951  186.050003  1454.400024    700.150024   625.966492\n",
              "2017-03-22   1057.849976  186.375000  1468.150024    693.299988   623.935730\n",
              "2017-03-23   1061.599976  188.399994  1490.250000    693.849976   630.671875\n",
              "...                  ...         ...          ...           ...          ...\n",
              "2022-03-11   2932.000000  123.699997   747.900024   2338.149902  2399.149902\n",
              "2022-03-14   2962.800049  120.800003   745.200012   2344.699951  2418.850098\n",
              "2022-03-15   2987.149902  119.000000   737.950012   2370.550049  2363.449951\n",
              "2022-03-16   3042.000000  121.949997   749.599976   2462.899902  2403.350098\n",
              "2022-03-17   3136.600098  121.349998   765.349976   2510.399902  2481.699951\n",
              "\n",
              "[1237 rows x 5 columns]"
            ],
            "text/html": [
              "\n",
              "  <div id=\"df-6172e60b-6dc9-4d6a-979f-55b75abb796b\">\n",
              "    <div class=\"colab-df-container\">\n",
              "      <div>\n",
              "<style scoped>\n",
              "    .dataframe tbody tr th:only-of-type {\n",
              "        vertical-align: middle;\n",
              "    }\n",
              "\n",
              "    .dataframe tbody tr th {\n",
              "        vertical-align: top;\n",
              "    }\n",
              "\n",
              "    .dataframe thead tr th {\n",
              "        text-align: left;\n",
              "    }\n",
              "\n",
              "    .dataframe thead tr:last-of-type th {\n",
              "        text-align: right;\n",
              "    }\n",
              "</style>\n",
              "<table border=\"1\" class=\"dataframe\">\n",
              "  <thead>\n",
              "    <tr>\n",
              "      <th></th>\n",
              "      <th colspan=\"5\" halign=\"left\">Close</th>\n",
              "    </tr>\n",
              "    <tr>\n",
              "      <th></th>\n",
              "      <th>ASIANPAINT.NS</th>\n",
              "      <th>IOC.NS</th>\n",
              "      <th>LUPIN.NS</th>\n",
              "      <th>PIDILITIND.NS</th>\n",
              "      <th>RELIANCE.NS</th>\n",
              "    </tr>\n",
              "    <tr>\n",
              "      <th>Date</th>\n",
              "      <th></th>\n",
              "      <th></th>\n",
              "      <th></th>\n",
              "      <th></th>\n",
              "      <th></th>\n",
              "    </tr>\n",
              "  </thead>\n",
              "  <tbody>\n",
              "    <tr>\n",
              "      <th>2017-03-17</th>\n",
              "      <td>1079.449951</td>\n",
              "      <td>187.925003</td>\n",
              "      <td>1456.550049</td>\n",
              "      <td>701.900024</td>\n",
              "      <td>644.243225</td>\n",
              "    </tr>\n",
              "    <tr>\n",
              "      <th>2017-03-20</th>\n",
              "      <td>1079.699951</td>\n",
              "      <td>185.475006</td>\n",
              "      <td>1464.699951</td>\n",
              "      <td>699.500000</td>\n",
              "      <td>634.386658</td>\n",
              "    </tr>\n",
              "    <tr>\n",
              "      <th>2017-03-21</th>\n",
              "      <td>1068.699951</td>\n",
              "      <td>186.050003</td>\n",
              "      <td>1454.400024</td>\n",
              "      <td>700.150024</td>\n",
              "      <td>625.966492</td>\n",
              "    </tr>\n",
              "    <tr>\n",
              "      <th>2017-03-22</th>\n",
              "      <td>1057.849976</td>\n",
              "      <td>186.375000</td>\n",
              "      <td>1468.150024</td>\n",
              "      <td>693.299988</td>\n",
              "      <td>623.935730</td>\n",
              "    </tr>\n",
              "    <tr>\n",
              "      <th>2017-03-23</th>\n",
              "      <td>1061.599976</td>\n",
              "      <td>188.399994</td>\n",
              "      <td>1490.250000</td>\n",
              "      <td>693.849976</td>\n",
              "      <td>630.671875</td>\n",
              "    </tr>\n",
              "    <tr>\n",
              "      <th>...</th>\n",
              "      <td>...</td>\n",
              "      <td>...</td>\n",
              "      <td>...</td>\n",
              "      <td>...</td>\n",
              "      <td>...</td>\n",
              "    </tr>\n",
              "    <tr>\n",
              "      <th>2022-03-11</th>\n",
              "      <td>2932.000000</td>\n",
              "      <td>123.699997</td>\n",
              "      <td>747.900024</td>\n",
              "      <td>2338.149902</td>\n",
              "      <td>2399.149902</td>\n",
              "    </tr>\n",
              "    <tr>\n",
              "      <th>2022-03-14</th>\n",
              "      <td>2962.800049</td>\n",
              "      <td>120.800003</td>\n",
              "      <td>745.200012</td>\n",
              "      <td>2344.699951</td>\n",
              "      <td>2418.850098</td>\n",
              "    </tr>\n",
              "    <tr>\n",
              "      <th>2022-03-15</th>\n",
              "      <td>2987.149902</td>\n",
              "      <td>119.000000</td>\n",
              "      <td>737.950012</td>\n",
              "      <td>2370.550049</td>\n",
              "      <td>2363.449951</td>\n",
              "    </tr>\n",
              "    <tr>\n",
              "      <th>2022-03-16</th>\n",
              "      <td>3042.000000</td>\n",
              "      <td>121.949997</td>\n",
              "      <td>749.599976</td>\n",
              "      <td>2462.899902</td>\n",
              "      <td>2403.350098</td>\n",
              "    </tr>\n",
              "    <tr>\n",
              "      <th>2022-03-17</th>\n",
              "      <td>3136.600098</td>\n",
              "      <td>121.349998</td>\n",
              "      <td>765.349976</td>\n",
              "      <td>2510.399902</td>\n",
              "      <td>2481.699951</td>\n",
              "    </tr>\n",
              "  </tbody>\n",
              "</table>\n",
              "<p>1237 rows × 5 columns</p>\n",
              "</div>\n",
              "      <button class=\"colab-df-convert\" onclick=\"convertToInteractive('df-6172e60b-6dc9-4d6a-979f-55b75abb796b')\"\n",
              "              title=\"Convert this dataframe to an interactive table.\"\n",
              "              style=\"display:none;\">\n",
              "        \n",
              "  <svg xmlns=\"http://www.w3.org/2000/svg\" height=\"24px\"viewBox=\"0 0 24 24\"\n",
              "       width=\"24px\">\n",
              "    <path d=\"M0 0h24v24H0V0z\" fill=\"none\"/>\n",
              "    <path d=\"M18.56 5.44l.94 2.06.94-2.06 2.06-.94-2.06-.94-.94-2.06-.94 2.06-2.06.94zm-11 1L8.5 8.5l.94-2.06 2.06-.94-2.06-.94L8.5 2.5l-.94 2.06-2.06.94zm10 10l.94 2.06.94-2.06 2.06-.94-2.06-.94-.94-2.06-.94 2.06-2.06.94z\"/><path d=\"M17.41 7.96l-1.37-1.37c-.4-.4-.92-.59-1.43-.59-.52 0-1.04.2-1.43.59L10.3 9.45l-7.72 7.72c-.78.78-.78 2.05 0 2.83L4 21.41c.39.39.9.59 1.41.59.51 0 1.02-.2 1.41-.59l7.78-7.78 2.81-2.81c.8-.78.8-2.07 0-2.86zM5.41 20L4 18.59l7.72-7.72 1.47 1.35L5.41 20z\"/>\n",
              "  </svg>\n",
              "      </button>\n",
              "      \n",
              "  <style>\n",
              "    .colab-df-container {\n",
              "      display:flex;\n",
              "      flex-wrap:wrap;\n",
              "      gap: 12px;\n",
              "    }\n",
              "\n",
              "    .colab-df-convert {\n",
              "      background-color: #E8F0FE;\n",
              "      border: none;\n",
              "      border-radius: 50%;\n",
              "      cursor: pointer;\n",
              "      display: none;\n",
              "      fill: #1967D2;\n",
              "      height: 32px;\n",
              "      padding: 0 0 0 0;\n",
              "      width: 32px;\n",
              "    }\n",
              "\n",
              "    .colab-df-convert:hover {\n",
              "      background-color: #E2EBFA;\n",
              "      box-shadow: 0px 1px 2px rgba(60, 64, 67, 0.3), 0px 1px 3px 1px rgba(60, 64, 67, 0.15);\n",
              "      fill: #174EA6;\n",
              "    }\n",
              "\n",
              "    [theme=dark] .colab-df-convert {\n",
              "      background-color: #3B4455;\n",
              "      fill: #D2E3FC;\n",
              "    }\n",
              "\n",
              "    [theme=dark] .colab-df-convert:hover {\n",
              "      background-color: #434B5C;\n",
              "      box-shadow: 0px 1px 3px 1px rgba(0, 0, 0, 0.15);\n",
              "      filter: drop-shadow(0px 1px 2px rgba(0, 0, 0, 0.3));\n",
              "      fill: #FFFFFF;\n",
              "    }\n",
              "  </style>\n",
              "\n",
              "      <script>\n",
              "        const buttonEl =\n",
              "          document.querySelector('#df-6172e60b-6dc9-4d6a-979f-55b75abb796b button.colab-df-convert');\n",
              "        buttonEl.style.display =\n",
              "          google.colab.kernel.accessAllowed ? 'block' : 'none';\n",
              "\n",
              "        async function convertToInteractive(key) {\n",
              "          const element = document.querySelector('#df-6172e60b-6dc9-4d6a-979f-55b75abb796b');\n",
              "          const dataTable =\n",
              "            await google.colab.kernel.invokeFunction('convertToInteractive',\n",
              "                                                     [key], {});\n",
              "          if (!dataTable) return;\n",
              "\n",
              "          const docLinkHtml = 'Like what you see? Visit the ' +\n",
              "            '<a target=\"_blank\" href=https://colab.research.google.com/notebooks/data_table.ipynb>data table notebook</a>'\n",
              "            + ' to learn more about interactive tables.';\n",
              "          element.innerHTML = '';\n",
              "          dataTable['output_type'] = 'display_data';\n",
              "          await google.colab.output.renderOutput(dataTable, element);\n",
              "          const docLink = document.createElement('div');\n",
              "          docLink.innerHTML = docLinkHtml;\n",
              "          element.appendChild(docLink);\n",
              "        }\n",
              "      </script>\n",
              "    </div>\n",
              "  </div>\n",
              "  "
            ]
          },
          "metadata": {},
          "execution_count": 6
        }
      ],
      "source": [
        "df"
      ]
    },
    {
      "cell_type": "markdown",
      "source": [
        "## Converting company info to DataFrame"
      ],
      "metadata": {
        "id": "jKCX7DdD4F1q"
      }
    },
    {
      "cell_type": "code",
      "source": [
        "# Information of the company of first ticker symbol\n",
        "infodf0 = pd.DataFrame.from_dict(info[0],orient='index')\n",
        "infodf0 = infodf0.reset_index()\n",
        "infodf0"
      ],
      "metadata": {
        "colab": {
          "base_uri": "https://localhost:8080/",
          "height": 419
        },
        "id": "eQV8KAcz4FcB",
        "outputId": "3296fa1c-bc6f-4e5d-eaf1-a86ada3375d0"
      },
      "execution_count": 7,
      "outputs": [
        {
          "output_type": "execute_result",
          "data": {
            "text/plain": [
              "                   index                                                  0\n",
              "0                    zip                                             400055\n",
              "1                 sector                                    Basic Materials\n",
              "2      fullTimeEmployees                                               7134\n",
              "3    longBusinessSummary  Asian Paints Limited, together with its subsid...\n",
              "4                   city                                             Mumbai\n",
              "..                   ...                                                ...\n",
              "148              bidSize                                                  0\n",
              "149              dayHigh                                             3163.3\n",
              "150   regularMarketPrice                                             3136.6\n",
              "151       preMarketPrice                                               None\n",
              "152             logo_url          https://logo.clearbit.com/asianpaints.com\n",
              "\n",
              "[153 rows x 2 columns]"
            ],
            "text/html": [
              "\n",
              "  <div id=\"df-bcc46087-491a-43ad-bae0-b7ca2187a419\">\n",
              "    <div class=\"colab-df-container\">\n",
              "      <div>\n",
              "<style scoped>\n",
              "    .dataframe tbody tr th:only-of-type {\n",
              "        vertical-align: middle;\n",
              "    }\n",
              "\n",
              "    .dataframe tbody tr th {\n",
              "        vertical-align: top;\n",
              "    }\n",
              "\n",
              "    .dataframe thead th {\n",
              "        text-align: right;\n",
              "    }\n",
              "</style>\n",
              "<table border=\"1\" class=\"dataframe\">\n",
              "  <thead>\n",
              "    <tr style=\"text-align: right;\">\n",
              "      <th></th>\n",
              "      <th>index</th>\n",
              "      <th>0</th>\n",
              "    </tr>\n",
              "  </thead>\n",
              "  <tbody>\n",
              "    <tr>\n",
              "      <th>0</th>\n",
              "      <td>zip</td>\n",
              "      <td>400055</td>\n",
              "    </tr>\n",
              "    <tr>\n",
              "      <th>1</th>\n",
              "      <td>sector</td>\n",
              "      <td>Basic Materials</td>\n",
              "    </tr>\n",
              "    <tr>\n",
              "      <th>2</th>\n",
              "      <td>fullTimeEmployees</td>\n",
              "      <td>7134</td>\n",
              "    </tr>\n",
              "    <tr>\n",
              "      <th>3</th>\n",
              "      <td>longBusinessSummary</td>\n",
              "      <td>Asian Paints Limited, together with its subsid...</td>\n",
              "    </tr>\n",
              "    <tr>\n",
              "      <th>4</th>\n",
              "      <td>city</td>\n",
              "      <td>Mumbai</td>\n",
              "    </tr>\n",
              "    <tr>\n",
              "      <th>...</th>\n",
              "      <td>...</td>\n",
              "      <td>...</td>\n",
              "    </tr>\n",
              "    <tr>\n",
              "      <th>148</th>\n",
              "      <td>bidSize</td>\n",
              "      <td>0</td>\n",
              "    </tr>\n",
              "    <tr>\n",
              "      <th>149</th>\n",
              "      <td>dayHigh</td>\n",
              "      <td>3163.3</td>\n",
              "    </tr>\n",
              "    <tr>\n",
              "      <th>150</th>\n",
              "      <td>regularMarketPrice</td>\n",
              "      <td>3136.6</td>\n",
              "    </tr>\n",
              "    <tr>\n",
              "      <th>151</th>\n",
              "      <td>preMarketPrice</td>\n",
              "      <td>None</td>\n",
              "    </tr>\n",
              "    <tr>\n",
              "      <th>152</th>\n",
              "      <td>logo_url</td>\n",
              "      <td>https://logo.clearbit.com/asianpaints.com</td>\n",
              "    </tr>\n",
              "  </tbody>\n",
              "</table>\n",
              "<p>153 rows × 2 columns</p>\n",
              "</div>\n",
              "      <button class=\"colab-df-convert\" onclick=\"convertToInteractive('df-bcc46087-491a-43ad-bae0-b7ca2187a419')\"\n",
              "              title=\"Convert this dataframe to an interactive table.\"\n",
              "              style=\"display:none;\">\n",
              "        \n",
              "  <svg xmlns=\"http://www.w3.org/2000/svg\" height=\"24px\"viewBox=\"0 0 24 24\"\n",
              "       width=\"24px\">\n",
              "    <path d=\"M0 0h24v24H0V0z\" fill=\"none\"/>\n",
              "    <path d=\"M18.56 5.44l.94 2.06.94-2.06 2.06-.94-2.06-.94-.94-2.06-.94 2.06-2.06.94zm-11 1L8.5 8.5l.94-2.06 2.06-.94-2.06-.94L8.5 2.5l-.94 2.06-2.06.94zm10 10l.94 2.06.94-2.06 2.06-.94-2.06-.94-.94-2.06-.94 2.06-2.06.94z\"/><path d=\"M17.41 7.96l-1.37-1.37c-.4-.4-.92-.59-1.43-.59-.52 0-1.04.2-1.43.59L10.3 9.45l-7.72 7.72c-.78.78-.78 2.05 0 2.83L4 21.41c.39.39.9.59 1.41.59.51 0 1.02-.2 1.41-.59l7.78-7.78 2.81-2.81c.8-.78.8-2.07 0-2.86zM5.41 20L4 18.59l7.72-7.72 1.47 1.35L5.41 20z\"/>\n",
              "  </svg>\n",
              "      </button>\n",
              "      \n",
              "  <style>\n",
              "    .colab-df-container {\n",
              "      display:flex;\n",
              "      flex-wrap:wrap;\n",
              "      gap: 12px;\n",
              "    }\n",
              "\n",
              "    .colab-df-convert {\n",
              "      background-color: #E8F0FE;\n",
              "      border: none;\n",
              "      border-radius: 50%;\n",
              "      cursor: pointer;\n",
              "      display: none;\n",
              "      fill: #1967D2;\n",
              "      height: 32px;\n",
              "      padding: 0 0 0 0;\n",
              "      width: 32px;\n",
              "    }\n",
              "\n",
              "    .colab-df-convert:hover {\n",
              "      background-color: #E2EBFA;\n",
              "      box-shadow: 0px 1px 2px rgba(60, 64, 67, 0.3), 0px 1px 3px 1px rgba(60, 64, 67, 0.15);\n",
              "      fill: #174EA6;\n",
              "    }\n",
              "\n",
              "    [theme=dark] .colab-df-convert {\n",
              "      background-color: #3B4455;\n",
              "      fill: #D2E3FC;\n",
              "    }\n",
              "\n",
              "    [theme=dark] .colab-df-convert:hover {\n",
              "      background-color: #434B5C;\n",
              "      box-shadow: 0px 1px 3px 1px rgba(0, 0, 0, 0.15);\n",
              "      filter: drop-shadow(0px 1px 2px rgba(0, 0, 0, 0.3));\n",
              "      fill: #FFFFFF;\n",
              "    }\n",
              "  </style>\n",
              "\n",
              "      <script>\n",
              "        const buttonEl =\n",
              "          document.querySelector('#df-bcc46087-491a-43ad-bae0-b7ca2187a419 button.colab-df-convert');\n",
              "        buttonEl.style.display =\n",
              "          google.colab.kernel.accessAllowed ? 'block' : 'none';\n",
              "\n",
              "        async function convertToInteractive(key) {\n",
              "          const element = document.querySelector('#df-bcc46087-491a-43ad-bae0-b7ca2187a419');\n",
              "          const dataTable =\n",
              "            await google.colab.kernel.invokeFunction('convertToInteractive',\n",
              "                                                     [key], {});\n",
              "          if (!dataTable) return;\n",
              "\n",
              "          const docLinkHtml = 'Like what you see? Visit the ' +\n",
              "            '<a target=\"_blank\" href=https://colab.research.google.com/notebooks/data_table.ipynb>data table notebook</a>'\n",
              "            + ' to learn more about interactive tables.';\n",
              "          element.innerHTML = '';\n",
              "          dataTable['output_type'] = 'display_data';\n",
              "          await google.colab.output.renderOutput(dataTable, element);\n",
              "          const docLink = document.createElement('div');\n",
              "          docLink.innerHTML = docLinkHtml;\n",
              "          element.appendChild(docLink);\n",
              "        }\n",
              "      </script>\n",
              "    </div>\n",
              "  </div>\n",
              "  "
            ]
          },
          "metadata": {},
          "execution_count": 7
        }
      ]
    },
    {
      "cell_type": "markdown",
      "metadata": {
        "id": "MSxyOwzrk8zH"
      },
      "source": [
        "## Visualizing the data"
      ]
    },
    {
      "cell_type": "code",
      "execution_count": 8,
      "metadata": {
        "colab": {
          "base_uri": "https://localhost:8080/",
          "height": 433
        },
        "id": "qmtu1y_Pk_qV",
        "outputId": "dbd7fb90-cb46-41c7-9181-147b71c74c07"
      },
      "outputs": [
        {
          "output_type": "execute_result",
          "data": {
            "text/plain": [
              "<AxesSubplot:xlabel='Date'>"
            ]
          },
          "metadata": {},
          "execution_count": 8
        },
        {
          "output_type": "display_data",
          "data": {
            "text/plain": [
              "<Figure size 1080x504 with 1 Axes>"
            ],
            "image/png": "[encoded data removed]"
          },
          "metadata": {
            "needs_background": "light"
          }
        }
      ],
      "source": [
        "# Pandas has inbuilt support for matplotlib, so we can use plot function directly\n",
        "\n",
        "df['Close'].plot(label = tickers, figsize = (15,7))"
      ]
    },
    {
      "cell_type": "markdown",
      "source": [
        "# Deep Learning model for future price prediction"
      ],
      "metadata": {
        "id": "onZAh1jUgf0L"
      }
    },
    {
      "cell_type": "markdown",
      "source": [
        "## Using timesteps (Method 1)"
      ],
      "metadata": {
        "id": "7uBPFlCGG9GU"
      }
    },
    {
      "cell_type": "markdown",
      "metadata": {
        "id": "JoZkZOAtz8k8"
      },
      "source": [
        "### Preprocessing"
      ]
    },
    {
      "cell_type": "code",
      "execution_count": 9,
      "metadata": {
        "colab": {
          "base_uri": "https://localhost:8080/"
        },
        "id": "gSNB-_3M0BEK",
        "outputId": "f6c8f363-89e2-4269-a5cf-2978fb5e49c2"
      },
      "outputs": [
        {
          "output_type": "stream",
          "name": "stdout",
          "text": [
            "Date\n",
            "2017-03-17    1079.699951\n",
            "2017-03-20    1068.699951\n",
            "2017-03-21    1057.849976\n",
            "2017-03-22    1061.599976\n",
            "2017-03-23    1064.250000\n",
            "                 ...     \n",
            "2022-03-11    2962.800049\n",
            "2022-03-14    2987.149902\n",
            "2022-03-15    3042.000000\n",
            "2022-03-16    3136.600098\n",
            "2022-03-17            NaN\n",
            "Name: Close, Length: 1237, dtype: float64\n"
          ]
        }
      ],
      "source": [
        "# shifting is done here to ensure that the next day's price is predicted on the given day\n",
        "df_shift = df.shift(-1)\n",
        "\n",
        "label = df_shift['Close']\n",
        "\n",
        "print(label)"
      ]
    },
    {
      "cell_type": "code",
      "execution_count": 10,
      "metadata": {
        "id": "vLTWOHNy9N65"
      },
      "outputs": [],
      "source": [
        "# adjusting the shape of both df and label (since label contains NaN as the last value)\n",
        "\n",
        "df.drop(df.index[len(df)-1], axis=0, inplace=True)\n",
        "label.drop(label.index[len(label)-1], axis=0, inplace=True)"
      ]
    },
    {
      "cell_type": "code",
      "execution_count": 11,
      "metadata": {
        "id": "C1OuQccw6fLg"
      },
      "outputs": [],
      "source": [
        "# conversion to numpy array\n",
        "\n",
        "x, y = df.values, label.values"
      ]
    },
    {
      "cell_type": "code",
      "execution_count": 12,
      "metadata": {
        "id": "CbfayYoF-OZ0"
      },
      "outputs": [],
      "source": [
        "# Scaling to normalize the data. MinMaxScaler scales all the data to be in the region of 0 and 1.\n",
        "\n",
        "x_scale = MinMaxScaler(feature_range=(0,1))\n",
        "y_scale = MinMaxScaler(feature_range=(0,1))"
      ]
    },
    {
      "cell_type": "code",
      "execution_count": 13,
      "metadata": {
        "colab": {
          "base_uri": "https://localhost:8080/"
        },
        "id": "MjioNLG5-gcf",
        "outputId": "2842fa1b-bd19-4b21-8f99-5c6ab8a1ba8a"
      },
      "outputs": [
        {
          "output_type": "stream",
          "name": "stdout",
          "text": [
            "X [[0.01823738 0.0142857  0.01651804 0.01537946]\n",
            " [0.01490538 0.01065509 0.01337842 0.01547804]\n",
            " [0.01496449 0.01142461 0.01189857 0.01114025]\n",
            " ...\n",
            " [0.75157729 0.75625497 0.75334962 0.7580693 ]\n",
            " [0.77050473 0.77979479 0.77282727 0.76767154]\n",
            " [0.78824921 0.78689818 0.79072512 0.78930141]]\n",
            "Y [[0.01547804]\n",
            " [0.01114025]\n",
            " [0.00686161]\n",
            " ...\n",
            " [0.76767154]\n",
            " [0.78930141]\n",
            " [0.82660649]]\n",
            "[0.04093062 0.04060774 0.0425549  0.04538916]\n",
            "[0.04363429]\n"
          ]
        }
      ],
      "source": [
        "X = x_scale.fit_transform(x)\n",
        "Y = y_scale.fit_transform(y.reshape(-1,1))\n",
        "\n",
        "print(\"X\",X)\n",
        "print(\"Y\",Y)\n",
        "\n",
        "print(X[time_steps - 1])\n",
        "print(Y[time_steps - 1])"
      ]
    },
    {
      "cell_type": "markdown",
      "metadata": {
        "id": "R6vw4pz-_Jtq"
      },
      "source": [
        "### Splitting training and test data"
      ]
    },
    {
      "cell_type": "code",
      "execution_count": 15,
      "metadata": {
        "id": "aG1fb-uJ_GUQ"
      },
      "outputs": [],
      "source": [
        "X_train, X_test, y_train, y_test = train_test_split(X, Y, test_size=0.4, shuffle=False)"
      ]
    },
    {
      "cell_type": "code",
      "source": [
        "print(X_train.shape)\n",
        "print(X_test.shape)"
      ],
      "metadata": {
        "colab": {
          "base_uri": "https://localhost:8080/"
        },
        "id": "RgZHql8AZD4i",
        "outputId": "3efe4727-94ae-4377-a142-b15bc6250ebc"
      },
      "execution_count": 16,
      "outputs": [
        {
          "output_type": "stream",
          "name": "stdout",
          "text": [
            "(741, 4)\n",
            "(495, 4)\n"
          ]
        }
      ]
    },
    {
      "cell_type": "markdown",
      "source": [
        "### Adding timesteps"
      ],
      "metadata": {
        "id": "eBI6FV9ZWGJd"
      }
    },
    {
      "cell_type": "code",
      "source": [
        "X_train_new = []\n",
        "y_train_new = []\n",
        "X_test_new = []\n",
        "y_test_new = []\n",
        "\n",
        "for i in range(time_steps, len(X_train)):\n",
        "  X_train_new.append(X_train[i-time_steps:i, :])\n",
        "  y_train_new.append(y_train[i-1])\n",
        "\n",
        "\n",
        "for i in range(time_steps, len(X_test)):\n",
        "  X_test_new.append(X_test[i-time_steps:i, :])\n",
        "  y_test_new.append(y_test[i-1])"
      ],
      "metadata": {
        "id": "Uv6eavTTWJPa"
      },
      "execution_count": 17,
      "outputs": []
    },
    {
      "cell_type": "markdown",
      "source": [
        "### Converting train and test to numpy arrays and reshaping"
      ],
      "metadata": {
        "id": "4sd319YRv-dd"
      }
    },
    {
      "cell_type": "code",
      "source": [
        "X_train_new = np.array(X_train_new)\n",
        "y_train_new = np.array(y_train_new)\n",
        "\n",
        "print(X_train_new.shape)\n",
        "print(y_train_new.shape)\n",
        "\n",
        "X_test_new = np.array(X_test_new)\n",
        "y_test_new = np.array(y_test_new)\n",
        "\n",
        "print(X_test_new.shape)\n",
        "print(y_test_new.shape)"
      ],
      "metadata": {
        "colab": {
          "base_uri": "https://localhost:8080/"
        },
        "id": "egaiS5TFwCDn",
        "outputId": "7c62d6b0-ac41-45f2-ff0e-874ffee28155"
      },
      "execution_count": 18,
      "outputs": [
        {
          "output_type": "stream",
          "name": "stdout",
          "text": [
            "(641, 100, 4)\n",
            "(641, 1)\n",
            "(395, 100, 4)\n",
            "(395, 1)\n"
          ]
        }
      ]
    },
    {
      "cell_type": "code",
      "source": [
        "X_train_new = X_train_new.reshape(-1,time_steps,features)\n",
        "X_test_new = X_test_new.reshape(-1,time_steps,features)"
      ],
      "metadata": {
        "id": "f7UeSeiPYIFW"
      },
      "execution_count": 19,
      "outputs": []
    },
    {
      "cell_type": "markdown",
      "metadata": {
        "id": "gQ5Dxq7dcIyH"
      },
      "source": [
        "## Using timesteps (Method 2)"
      ]
    },
    {
      "cell_type": "code",
      "source": [
        "scale = MinMaxScaler(feature_range=(0,1))\n",
        "\n",
        "df = scale.fit_transform(np.array(df).reshape(-1,1))"
      ],
      "metadata": {
        "id": "nNwuoOg9OZWN"
      },
      "execution_count": null,
      "outputs": []
    },
    {
      "cell_type": "code",
      "source": [
        "# Training data is 60% of the whole data. The rest is test data\n",
        "training_size=int(len(df)*0.6)\n",
        "test_size=len(df)-training_size\n",
        "\n",
        "train_data,test_data=df[0:training_size,:],df[training_size:len(df), :1]"
      ],
      "metadata": {
        "id": "fvauNiOeoi8F"
      },
      "execution_count": null,
      "outputs": []
    },
    {
      "cell_type": "code",
      "execution_count": null,
      "metadata": {
        "id": "868QIOfYcQgO"
      },
      "outputs": [],
      "source": [
        "def create_dataset(dataset, time_step):\n",
        "  dataX, dataY = [], []\n",
        "\n",
        "  for i in range(len(dataset)-time_step-1):\n",
        "\n",
        "    # a = dataset[i:(i+time_step), :]\n",
        "    a = dataset[i:(i+time_step), 0]\n",
        "    dataX.append(a)\n",
        "    # dataY.append(dataset[i + time_step, 3])\n",
        "    dataY.append(dataset[i + time_step, 0])\n",
        "\n",
        "  return np.array(dataX), np.array(dataY)"
      ]
    },
    {
      "cell_type": "code",
      "source": [
        "X_train, y_train = create_dataset(train_data, time_steps)\n",
        "X_test, y_test = create_dataset(test_data, time_steps)\n",
        "\n",
        "print(X_train.shape)\n",
        "print(X_test.shape)\n",
        "print(y_train.shape)\n",
        "print(y_test.shape)"
      ],
      "metadata": {
        "colab": {
          "base_uri": "https://localhost:8080/"
        },
        "id": "SUbVJhkfoTdE",
        "outputId": "ab38af82-b7d2-467d-f199-44ec85e79175"
      },
      "execution_count": null,
      "outputs": [
        {
          "output_type": "stream",
          "name": "stdout",
          "text": [
            "(641, 100)\n",
            "(394, 100)\n",
            "(641,)\n",
            "(394,)\n"
          ]
        }
      ]
    },
    {
      "cell_type": "code",
      "execution_count": null,
      "metadata": {
        "colab": {
          "base_uri": "https://localhost:8080/"
        },
        "id": "88EEKU9aeC78",
        "outputId": "d6076dc3-e7d6-4eca-f778-06cca43ae5b1"
      },
      "outputs": [
        {
          "output_type": "stream",
          "name": "stdout",
          "text": [
            "(641, 100, 1)\n",
            "(394, 100, 1)\n"
          ]
        }
      ],
      "source": [
        "X_train = X_train.reshape(X_train.shape[0], X_train.shape[1], features)\n",
        "X_test = X_test.reshape(X_test.shape[0], X_test.shape[1], features)\n",
        "\n",
        "print(X_train.shape)\n",
        "print(X_test.shape)"
      ]
    },
    {
      "cell_type": "markdown",
      "metadata": {
        "id": "hjjmES08vJ9r"
      },
      "source": [
        "## Deep learning model (GRU)"
      ]
    },
    {
      "cell_type": "code",
      "execution_count": 20,
      "metadata": {
        "id": "4X07cSmiu5n9"
      },
      "outputs": [],
      "source": [
        "gru_model = Sequential()\n",
        "gru_model.add(GRU(units=512,\n",
        "              return_sequences=True,\n",
        "              input_shape=(time_steps, features)))\n",
        "gru_model.add(Dropout(0.2))\n",
        "\n",
        "gru_model.add(GRU(units=256))\n",
        "gru_model.add(Dropout(0.2))\n",
        "\n",
        "gru_model.add(Dense(1))\n",
        "\n",
        "gru_model.compile(loss='mse', optimizer='adam')"
      ]
    },
    {
      "cell_type": "code",
      "source": [
        "gru_model.summary()"
      ],
      "metadata": {
        "colab": {
          "base_uri": "https://localhost:8080/"
        },
        "id": "-oYQ21MzzmCV",
        "outputId": "51968ba3-aeaf-4969-bea9-fed52c91a350"
      },
      "execution_count": 21,
      "outputs": [
        {
          "output_type": "stream",
          "name": "stdout",
          "text": [
            "Model: \"sequential\"\n",
            "_________________________________________________________________\n",
            " Layer (type)                Output Shape              Param #   \n",
            "=================================================================\n",
            " gru (GRU)                   (None, 100, 512)          794112    \n",
            "                                                                 \n",
            " dropout (Dropout)           (None, 100, 512)          0         \n",
            "                                                                 \n",
            " gru_1 (GRU)                 (None, 256)               590592    \n",
            "                                                                 \n",
            " dropout_1 (Dropout)         (None, 256)               0         \n",
            "                                                                 \n",
            " dense (Dense)               (None, 1)                 257       \n",
            "                                                                 \n",
            "=================================================================\n",
            "Total params: 1,384,961\n",
            "Trainable params: 1,384,961\n",
            "Non-trainable params: 0\n",
            "_________________________________________________________________\n"
          ]
        }
      ]
    },
    {
      "cell_type": "code",
      "execution_count": 22,
      "metadata": {
        "colab": {
          "base_uri": "https://localhost:8080/"
        },
        "id": "yRsuyf6pQMcr",
        "outputId": "0ce1202d-7816-4fe6-c3c6-a810fd8067f1"
      },
      "outputs": [
        {
          "output_type": "stream",
          "name": "stdout",
          "text": [
            "Epoch 1/100\n",
            "3/3 [==============================] - 9s 1s/step - loss: 0.0116 - val_loss: 4.2846e-04\n",
            "Epoch 2/100\n",
            "3/3 [==============================] - 3s 1s/step - loss: 0.0012 - val_loss: 0.0094\n",
            "Epoch 3/100\n",
            "3/3 [==============================] - 3s 1s/step - loss: 0.0013 - val_loss: 6.4867e-04\n",
            "Epoch 4/100\n",
            "3/3 [==============================] - 3s 1s/step - loss: 7.9975e-04 - val_loss: 0.0013\n",
            "Epoch 5/100\n",
            "3/3 [==============================] - 3s 1s/step - loss: 4.2677e-04 - val_loss: 0.0013\n",
            "Epoch 6/100\n",
            "3/3 [==============================] - 3s 1s/step - loss: 4.8688e-04 - val_loss: 0.0016\n",
            "Epoch 7/100\n",
            "3/3 [==============================] - 3s 1s/step - loss: 3.7378e-04 - val_loss: 3.1776e-04\n",
            "Epoch 8/100\n",
            "3/3 [==============================] - 3s 1s/step - loss: 2.4007e-04 - val_loss: 9.8005e-04\n",
            "Epoch 9/100\n",
            "3/3 [==============================] - 3s 1s/step - loss: 3.0818e-04 - val_loss: 3.1456e-04\n",
            "Epoch 10/100\n",
            "3/3 [==============================] - 3s 1s/step - loss: 1.8822e-04 - val_loss: 5.5426e-04\n",
            "Epoch 11/100\n",
            "3/3 [==============================] - 3s 1s/step - loss: 2.5296e-04 - val_loss: 3.2166e-04\n",
            "Epoch 12/100\n",
            "3/3 [==============================] - 3s 1s/step - loss: 1.6458e-04 - val_loss: 4.1857e-04\n",
            "Epoch 13/100\n",
            "3/3 [==============================] - 3s 1s/step - loss: 1.8187e-04 - val_loss: 3.4035e-04\n",
            "Epoch 14/100\n",
            "3/3 [==============================] - 3s 1s/step - loss: 1.5077e-04 - val_loss: 3.0477e-04\n",
            "Epoch 15/100\n",
            "3/3 [==============================] - 3s 1s/step - loss: 1.8878e-04 - val_loss: 3.1594e-04\n",
            "Epoch 16/100\n",
            "3/3 [==============================] - 3s 1s/step - loss: 1.6450e-04 - val_loss: 2.9324e-04\n",
            "Epoch 17/100\n",
            "3/3 [==============================] - 3s 1s/step - loss: 1.6639e-04 - val_loss: 3.0357e-04\n",
            "Epoch 18/100\n",
            "3/3 [==============================] - 3s 1s/step - loss: 1.6457e-04 - val_loss: 2.8178e-04\n",
            "Epoch 19/100\n",
            "3/3 [==============================] - 3s 1s/step - loss: 1.4878e-04 - val_loss: 3.0505e-04\n",
            "Epoch 20/100\n",
            "3/3 [==============================] - 3s 1s/step - loss: 1.6840e-04 - val_loss: 2.7802e-04\n",
            "Epoch 21/100\n",
            "3/3 [==============================] - 3s 1s/step - loss: 1.4439e-04 - val_loss: 3.1247e-04\n",
            "Epoch 22/100\n",
            "3/3 [==============================] - 3s 1s/step - loss: 1.7533e-04 - val_loss: 2.7625e-04\n",
            "Epoch 23/100\n",
            "3/3 [==============================] - 3s 1s/step - loss: 1.4304e-04 - val_loss: 2.9261e-04\n",
            "Epoch 24/100\n",
            "3/3 [==============================] - 3s 1s/step - loss: 1.5048e-04 - val_loss: 2.7269e-04\n",
            "Epoch 25/100\n",
            "3/3 [==============================] - 3s 1s/step - loss: 1.3630e-04 - val_loss: 2.8704e-04\n",
            "Epoch 26/100\n",
            "3/3 [==============================] - 3s 1s/step - loss: 1.4979e-04 - val_loss: 2.7232e-04\n",
            "Epoch 27/100\n",
            "3/3 [==============================] - 3s 1s/step - loss: 1.3307e-04 - val_loss: 2.7099e-04\n",
            "Epoch 28/100\n",
            "3/3 [==============================] - 3s 1s/step - loss: 1.3282e-04 - val_loss: 2.6857e-04\n",
            "Epoch 29/100\n",
            "3/3 [==============================] - 4s 2s/step - loss: 1.4940e-04 - val_loss: 2.6940e-04\n",
            "Epoch 30/100\n",
            "3/3 [==============================] - 3s 1s/step - loss: 1.4144e-04 - val_loss: 2.6886e-04\n",
            "Epoch 31/100\n",
            "3/3 [==============================] - 3s 1s/step - loss: 1.3470e-04 - val_loss: 2.6562e-04\n",
            "Epoch 32/100\n",
            "3/3 [==============================] - 3s 1s/step - loss: 1.3296e-04 - val_loss: 2.6449e-04\n",
            "Epoch 33/100\n",
            "3/3 [==============================] - 3s 1s/step - loss: 1.4740e-04 - val_loss: 2.6347e-04\n",
            "Epoch 34/100\n",
            "3/3 [==============================] - 3s 1s/step - loss: 1.3599e-04 - val_loss: 2.9363e-04\n",
            "Epoch 35/100\n",
            "3/3 [==============================] - 3s 1s/step - loss: 1.4781e-04 - val_loss: 2.6170e-04\n",
            "Epoch 36/100\n",
            "3/3 [==============================] - 3s 1s/step - loss: 1.4215e-04 - val_loss: 2.6264e-04\n",
            "Epoch 37/100\n",
            "3/3 [==============================] - 3s 1s/step - loss: 1.3915e-04 - val_loss: 2.6145e-04\n",
            "Epoch 38/100\n",
            "3/3 [==============================] - 3s 1s/step - loss: 1.2975e-04 - val_loss: 2.5844e-04\n",
            "Epoch 39/100\n",
            "3/3 [==============================] - 3s 1s/step - loss: 1.4058e-04 - val_loss: 2.6764e-04\n",
            "Epoch 40/100\n",
            "3/3 [==============================] - 4s 1s/step - loss: 1.4124e-04 - val_loss: 2.5660e-04\n",
            "Epoch 41/100\n",
            "3/3 [==============================] - 3s 1s/step - loss: 1.2778e-04 - val_loss: 2.5540e-04\n",
            "Epoch 42/100\n",
            "3/3 [==============================] - 3s 1s/step - loss: 1.1735e-04 - val_loss: 2.5392e-04\n",
            "Epoch 43/100\n",
            "3/3 [==============================] - 3s 1s/step - loss: 1.3986e-04 - val_loss: 2.5379e-04\n",
            "Epoch 44/100\n",
            "3/3 [==============================] - 3s 1s/step - loss: 1.1728e-04 - val_loss: 2.5654e-04\n",
            "Epoch 45/100\n",
            "3/3 [==============================] - 3s 1s/step - loss: 1.4115e-04 - val_loss: 2.5769e-04\n",
            "Epoch 46/100\n",
            "3/3 [==============================] - 3s 1s/step - loss: 1.5411e-04 - val_loss: 2.5312e-04\n",
            "Epoch 47/100\n",
            "3/3 [==============================] - 3s 1s/step - loss: 1.3082e-04 - val_loss: 2.5985e-04\n",
            "Epoch 48/100\n",
            "3/3 [==============================] - 3s 1s/step - loss: 1.2329e-04 - val_loss: 2.5604e-04\n",
            "Epoch 49/100\n",
            "3/3 [==============================] - 3s 1s/step - loss: 1.3009e-04 - val_loss: 2.4955e-04\n",
            "Epoch 50/100\n",
            "3/3 [==============================] - 3s 1s/step - loss: 1.2900e-04 - val_loss: 2.4999e-04\n",
            "Epoch 51/100\n",
            "3/3 [==============================] - 3s 1s/step - loss: 1.2075e-04 - val_loss: 2.6362e-04\n",
            "Epoch 52/100\n",
            "3/3 [==============================] - 3s 1s/step - loss: 1.3404e-04 - val_loss: 2.4491e-04\n",
            "Epoch 53/100\n",
            "3/3 [==============================] - 3s 1s/step - loss: 1.3042e-04 - val_loss: 2.5315e-04\n",
            "Epoch 54/100\n",
            "3/3 [==============================] - 3s 1s/step - loss: 1.2829e-04 - val_loss: 2.5388e-04\n",
            "Epoch 55/100\n",
            "3/3 [==============================] - 3s 1s/step - loss: 1.4082e-04 - val_loss: 2.4350e-04\n",
            "Epoch 56/100\n",
            "3/3 [==============================] - 3s 1s/step - loss: 1.2234e-04 - val_loss: 2.9459e-04\n",
            "Epoch 57/100\n",
            "3/3 [==============================] - 3s 1s/step - loss: 1.3242e-04 - val_loss: 2.4362e-04\n",
            "Epoch 58/100\n",
            "3/3 [==============================] - 3s 1s/step - loss: 1.2405e-04 - val_loss: 2.4103e-04\n",
            "Epoch 59/100\n",
            "3/3 [==============================] - 3s 1s/step - loss: 1.1726e-04 - val_loss: 3.0457e-04\n",
            "Epoch 60/100\n",
            "3/3 [==============================] - 3s 1s/step - loss: 1.2953e-04 - val_loss: 2.4211e-04\n",
            "Epoch 61/100\n",
            "3/3 [==============================] - 3s 1s/step - loss: 1.2957e-04 - val_loss: 2.3814e-04\n",
            "Epoch 62/100\n",
            "3/3 [==============================] - 3s 1s/step - loss: 1.2455e-04 - val_loss: 2.6241e-04\n",
            "Epoch 63/100\n",
            "3/3 [==============================] - 3s 1s/step - loss: 1.0855e-04 - val_loss: 2.6025e-04\n",
            "Epoch 64/100\n",
            "3/3 [==============================] - 3s 1s/step - loss: 1.2419e-04 - val_loss: 2.3661e-04\n",
            "Epoch 65/100\n",
            "3/3 [==============================] - 3s 1s/step - loss: 1.1913e-04 - val_loss: 2.3414e-04\n",
            "Epoch 66/100\n",
            "3/3 [==============================] - 3s 1s/step - loss: 1.1871e-04 - val_loss: 2.3886e-04\n",
            "Epoch 67/100\n",
            "3/3 [==============================] - 3s 1s/step - loss: 1.2454e-04 - val_loss: 2.3973e-04\n",
            "Epoch 68/100\n",
            "3/3 [==============================] - 3s 1s/step - loss: 1.3506e-04 - val_loss: 2.3282e-04\n",
            "Epoch 69/100\n",
            "3/3 [==============================] - 3s 1s/step - loss: 1.2349e-04 - val_loss: 2.3434e-04\n",
            "Epoch 70/100\n",
            "3/3 [==============================] - 3s 1s/step - loss: 1.3410e-04 - val_loss: 2.5857e-04\n",
            "Epoch 71/100\n",
            "3/3 [==============================] - 3s 1s/step - loss: 1.2564e-04 - val_loss: 2.3382e-04\n",
            "Epoch 72/100\n",
            "3/3 [==============================] - 3s 1s/step - loss: 1.2705e-04 - val_loss: 2.3209e-04\n",
            "Epoch 73/100\n",
            "3/3 [==============================] - 3s 1s/step - loss: 1.1547e-04 - val_loss: 2.2751e-04\n",
            "Epoch 74/100\n",
            "3/3 [==============================] - 3s 1s/step - loss: 1.1958e-04 - val_loss: 2.4001e-04\n",
            "Epoch 75/100\n",
            "3/3 [==============================] - 3s 1s/step - loss: 1.2635e-04 - val_loss: 2.2552e-04\n",
            "Epoch 76/100\n",
            "3/3 [==============================] - 3s 1s/step - loss: 1.1831e-04 - val_loss: 2.2481e-04\n",
            "Epoch 77/100\n",
            "3/3 [==============================] - 3s 1s/step - loss: 1.3051e-04 - val_loss: 2.2809e-04\n",
            "Epoch 78/100\n",
            "3/3 [==============================] - 3s 1s/step - loss: 1.2062e-04 - val_loss: 2.2417e-04\n",
            "Epoch 79/100\n",
            "3/3 [==============================] - 3s 1s/step - loss: 1.1934e-04 - val_loss: 2.3323e-04\n",
            "Epoch 80/100\n",
            "3/3 [==============================] - 3s 1s/step - loss: 1.2059e-04 - val_loss: 2.2671e-04\n",
            "Epoch 81/100\n",
            "3/3 [==============================] - 3s 1s/step - loss: 1.1683e-04 - val_loss: 2.2087e-04\n",
            "Epoch 82/100\n",
            "3/3 [==============================] - 3s 1s/step - loss: 1.1225e-04 - val_loss: 2.2508e-04\n",
            "Epoch 83/100\n",
            "3/3 [==============================] - 3s 1s/step - loss: 1.2271e-04 - val_loss: 2.2357e-04\n",
            "Epoch 84/100\n",
            "3/3 [==============================] - 3s 1s/step - loss: 1.1394e-04 - val_loss: 2.4259e-04\n",
            "Epoch 85/100\n",
            "3/3 [==============================] - 3s 1s/step - loss: 1.3500e-04 - val_loss: 2.2636e-04\n",
            "Epoch 86/100\n",
            "3/3 [==============================] - 3s 1s/step - loss: 1.2367e-04 - val_loss: 2.1778e-04\n",
            "Epoch 87/100\n",
            "3/3 [==============================] - 3s 1s/step - loss: 1.1586e-04 - val_loss: 2.1769e-04\n",
            "Epoch 88/100\n",
            "3/3 [==============================] - 3s 1s/step - loss: 1.1917e-04 - val_loss: 2.2692e-04\n",
            "Epoch 89/100\n",
            "3/3 [==============================] - 3s 1s/step - loss: 1.1426e-04 - val_loss: 2.3475e-04\n",
            "Epoch 90/100\n",
            "3/3 [==============================] - 3s 1s/step - loss: 1.2135e-04 - val_loss: 2.5002e-04\n",
            "Epoch 91/100\n",
            "3/3 [==============================] - 3s 1s/step - loss: 1.2829e-04 - val_loss: 2.3191e-04\n",
            "Epoch 92/100\n",
            "3/3 [==============================] - 3s 1s/step - loss: 1.1144e-04 - val_loss: 2.1508e-04\n",
            "Epoch 93/100\n",
            "3/3 [==============================] - 3s 1s/step - loss: 1.1003e-04 - val_loss: 2.2111e-04\n",
            "Epoch 94/100\n",
            "3/3 [==============================] - 3s 1s/step - loss: 1.0042e-04 - val_loss: 2.1617e-04\n",
            "Epoch 95/100\n",
            "3/3 [==============================] - 3s 1s/step - loss: 1.0575e-04 - val_loss: 2.1630e-04\n",
            "Epoch 96/100\n",
            "3/3 [==============================] - 3s 1s/step - loss: 1.1427e-04 - val_loss: 2.3749e-04\n",
            "Epoch 97/100\n",
            "3/3 [==============================] - 3s 1s/step - loss: 1.2409e-04 - val_loss: 2.1189e-04\n",
            "Epoch 98/100\n",
            "3/3 [==============================] - 3s 1s/step - loss: 1.1747e-04 - val_loss: 2.1009e-04\n",
            "Epoch 99/100\n",
            "3/3 [==============================] - 3s 1s/step - loss: 1.0396e-04 - val_loss: 2.0984e-04\n",
            "Epoch 100/100\n",
            "3/3 [==============================] - 3s 1s/step - loss: 1.0514e-04 - val_loss: 2.1032e-04\n"
          ]
        }
      ],
      "source": [
        "with tf.device('/device:GPU:0'):\n",
        "  gru_model.fit(X_train_new,y_train_new,batch_size=250, epochs=100, validation_split=0.1, verbose=1)"
      ]
    },
    {
      "cell_type": "code",
      "source": [
        "gru_model.save(\"/content/drive/MyDrive/Sem 8/Sem 8 Proj/Models/GRU_features_4_timesteps_100.h5\")\n",
        "print('GRU Model saved!')"
      ],
      "metadata": {
        "colab": {
          "base_uri": "https://localhost:8080/"
        },
        "id": "SPYy8_xmzLfs",
        "outputId": "040f679f-fba7-4a67-ccd6-dee093c932ff"
      },
      "execution_count": 23,
      "outputs": [
        {
          "output_type": "stream",
          "name": "stdout",
          "text": [
            "GRU Model saved!\n"
          ]
        }
      ]
    },
    {
      "cell_type": "markdown",
      "metadata": {
        "id": "FxWLV4MHQYfL"
      },
      "source": [
        "## Deep Learning Model (LSTM)"
      ]
    },
    {
      "cell_type": "code",
      "execution_count": 31,
      "metadata": {
        "id": "9-m-JDYxQbCO"
      },
      "outputs": [],
      "source": [
        "lstm_model = Sequential()\n",
        "lstm_model.add(LSTM(units=512,\n",
        "              return_sequences=True,\n",
        "              input_shape=(time_steps, features)))\n",
        "lstm_model.add(Dropout(0.2))\n",
        "\n",
        "lstm_model.add(LSTM(units=256))\n",
        "lstm_model.add(Dropout(0.2))\n",
        "\n",
        "lstm_model.add(Dense(1))\n",
        "\n",
        "lstm_model.compile(loss='mse', optimizer='adam')"
      ]
    },
    {
      "cell_type": "code",
      "source": [
        "lstm_model.summary()"
      ],
      "metadata": {
        "colab": {
          "base_uri": "https://localhost:8080/"
        },
        "id": "nFAkAlpQJ8Hv",
        "outputId": "063b7f62-816a-4c0d-d00c-9c52d7117e70"
      },
      "execution_count": 32,
      "outputs": [
        {
          "output_type": "stream",
          "name": "stdout",
          "text": [
            "Model: \"sequential_1\"\n",
            "_________________________________________________________________\n",
            " Layer (type)                Output Shape              Param #   \n",
            "=================================================================\n",
            " lstm (LSTM)                 (None, 100, 512)          1058816   \n",
            "                                                                 \n",
            " dropout_2 (Dropout)         (None, 100, 512)          0         \n",
            "                                                                 \n",
            " lstm_1 (LSTM)               (None, 256)               787456    \n",
            "                                                                 \n",
            " dropout_3 (Dropout)         (None, 256)               0         \n",
            "                                                                 \n",
            " dense_1 (Dense)             (None, 1)                 257       \n",
            "                                                                 \n",
            "=================================================================\n",
            "Total params: 1,846,529\n",
            "Trainable params: 1,846,529\n",
            "Non-trainable params: 0\n",
            "_________________________________________________________________\n"
          ]
        }
      ]
    },
    {
      "cell_type": "code",
      "execution_count": 33,
      "metadata": {
        "id": "nCqV6rEFQrxK",
        "colab": {
          "base_uri": "https://localhost:8080/"
        },
        "outputId": "99ea21aa-129b-4155-f4e1-c137b6190b4f"
      },
      "outputs": [
        {
          "output_type": "stream",
          "name": "stdout",
          "text": [
            "Epoch 1/100\n",
            "3/3 [==============================] - 11s 2s/step - loss: 0.0131 - val_loss: 8.9365e-04\n",
            "Epoch 2/100\n",
            "3/3 [==============================] - 4s 1s/step - loss: 0.0024 - val_loss: 0.0189\n",
            "Epoch 3/100\n",
            "3/3 [==============================] - 4s 1s/step - loss: 0.0027 - val_loss: 7.3096e-04\n",
            "Epoch 4/100\n",
            "3/3 [==============================] - 4s 1s/step - loss: 9.9523e-04 - val_loss: 6.7175e-04\n",
            "Epoch 5/100\n",
            "3/3 [==============================] - 4s 1s/step - loss: 6.6578e-04 - val_loss: 0.0037\n",
            "Epoch 6/100\n",
            "3/3 [==============================] - 4s 1s/step - loss: 8.5678e-04 - val_loss: 0.0040\n",
            "Epoch 7/100\n",
            "3/3 [==============================] - 4s 1s/step - loss: 6.4141e-04 - val_loss: 5.1687e-04\n",
            "Epoch 8/100\n",
            "3/3 [==============================] - 4s 1s/step - loss: 3.9544e-04 - val_loss: 7.3941e-04\n",
            "Epoch 9/100\n",
            "3/3 [==============================] - 4s 1s/step - loss: 3.6965e-04 - val_loss: 6.3958e-04\n",
            "Epoch 10/100\n",
            "3/3 [==============================] - 4s 1s/step - loss: 2.9893e-04 - val_loss: 0.0011\n",
            "Epoch 11/100\n",
            "3/3 [==============================] - 4s 1s/step - loss: 3.4033e-04 - val_loss: 4.7629e-04\n",
            "Epoch 12/100\n",
            "3/3 [==============================] - 4s 1s/step - loss: 2.4551e-04 - val_loss: 9.4161e-04\n",
            "Epoch 13/100\n",
            "3/3 [==============================] - 4s 1s/step - loss: 2.8627e-04 - val_loss: 4.9053e-04\n",
            "Epoch 14/100\n",
            "3/3 [==============================] - 4s 1s/step - loss: 2.3637e-04 - val_loss: 5.4668e-04\n",
            "Epoch 15/100\n",
            "3/3 [==============================] - 4s 1s/step - loss: 2.6257e-04 - val_loss: 4.7874e-04\n",
            "Epoch 16/100\n",
            "3/3 [==============================] - 4s 1s/step - loss: 2.4410e-04 - val_loss: 6.2764e-04\n",
            "Epoch 17/100\n",
            "3/3 [==============================] - 4s 1s/step - loss: 2.3870e-04 - val_loss: 4.6479e-04\n",
            "Epoch 18/100\n",
            "3/3 [==============================] - 4s 1s/step - loss: 2.3364e-04 - val_loss: 5.1016e-04\n",
            "Epoch 19/100\n",
            "3/3 [==============================] - 4s 1s/step - loss: 1.9402e-04 - val_loss: 4.6075e-04\n",
            "Epoch 20/100\n",
            "3/3 [==============================] - 4s 1s/step - loss: 2.1376e-04 - val_loss: 4.7360e-04\n",
            "Epoch 21/100\n",
            "3/3 [==============================] - 4s 1s/step - loss: 2.1967e-04 - val_loss: 4.6931e-04\n",
            "Epoch 22/100\n",
            "3/3 [==============================] - 4s 1s/step - loss: 2.2938e-04 - val_loss: 4.7460e-04\n",
            "Epoch 23/100\n",
            "3/3 [==============================] - 4s 1s/step - loss: 2.0206e-04 - val_loss: 4.6911e-04\n",
            "Epoch 24/100\n",
            "3/3 [==============================] - 4s 1s/step - loss: 2.1228e-04 - val_loss: 4.6848e-04\n",
            "Epoch 25/100\n",
            "3/3 [==============================] - 4s 1s/step - loss: 1.9252e-04 - val_loss: 4.5770e-04\n",
            "Epoch 26/100\n",
            "3/3 [==============================] - 8s 3s/step - loss: 1.9331e-04 - val_loss: 4.5889e-04\n",
            "Epoch 27/100\n",
            "3/3 [==============================] - 6s 1s/step - loss: 1.7846e-04 - val_loss: 4.6216e-04\n",
            "Epoch 28/100\n",
            "3/3 [==============================] - 4s 1s/step - loss: 1.8694e-04 - val_loss: 4.5580e-04\n",
            "Epoch 29/100\n",
            "3/3 [==============================] - 4s 1s/step - loss: 1.9450e-04 - val_loss: 4.5651e-04\n",
            "Epoch 30/100\n",
            "3/3 [==============================] - 4s 1s/step - loss: 1.9728e-04 - val_loss: 4.5742e-04\n",
            "Epoch 31/100\n",
            "3/3 [==============================] - 4s 1s/step - loss: 1.9026e-04 - val_loss: 4.5969e-04\n",
            "Epoch 32/100\n",
            "3/3 [==============================] - 4s 1s/step - loss: 1.8755e-04 - val_loss: 4.6038e-04\n",
            "Epoch 33/100\n",
            "3/3 [==============================] - 4s 1s/step - loss: 2.0766e-04 - val_loss: 4.5939e-04\n",
            "Epoch 34/100\n",
            "3/3 [==============================] - 4s 1s/step - loss: 1.8598e-04 - val_loss: 4.4970e-04\n",
            "Epoch 35/100\n",
            "3/3 [==============================] - 4s 1s/step - loss: 1.9093e-04 - val_loss: 4.4890e-04\n",
            "Epoch 36/100\n",
            "3/3 [==============================] - 4s 1s/step - loss: 1.8969e-04 - val_loss: 4.4864e-04\n",
            "Epoch 37/100\n",
            "3/3 [==============================] - 4s 1s/step - loss: 1.8792e-04 - val_loss: 4.4805e-04\n",
            "Epoch 38/100\n",
            "3/3 [==============================] - 4s 1s/step - loss: 1.9233e-04 - val_loss: 4.4804e-04\n",
            "Epoch 39/100\n",
            "3/3 [==============================] - 4s 1s/step - loss: 1.6772e-04 - val_loss: 4.4660e-04\n",
            "Epoch 40/100\n",
            "3/3 [==============================] - 4s 1s/step - loss: 1.7681e-04 - val_loss: 4.4668e-04\n",
            "Epoch 41/100\n",
            "3/3 [==============================] - 4s 1s/step - loss: 1.9191e-04 - val_loss: 4.4658e-04\n",
            "Epoch 42/100\n",
            "3/3 [==============================] - 4s 1s/step - loss: 1.8283e-04 - val_loss: 4.4424e-04\n",
            "Epoch 43/100\n",
            "3/3 [==============================] - 4s 1s/step - loss: 1.8980e-04 - val_loss: 4.4316e-04\n",
            "Epoch 44/100\n",
            "3/3 [==============================] - 4s 1s/step - loss: 1.7193e-04 - val_loss: 4.4573e-04\n",
            "Epoch 45/100\n",
            "3/3 [==============================] - 4s 1s/step - loss: 1.7819e-04 - val_loss: 4.4911e-04\n",
            "Epoch 46/100\n",
            "3/3 [==============================] - 4s 1s/step - loss: 1.7938e-04 - val_loss: 4.4431e-04\n",
            "Epoch 47/100\n",
            "3/3 [==============================] - 4s 1s/step - loss: 1.8168e-04 - val_loss: 4.4394e-04\n",
            "Epoch 48/100\n",
            "3/3 [==============================] - 4s 1s/step - loss: 2.0043e-04 - val_loss: 4.3957e-04\n",
            "Epoch 49/100\n",
            "3/3 [==============================] - 4s 1s/step - loss: 1.7638e-04 - val_loss: 4.3867e-04\n",
            "Epoch 50/100\n",
            "3/3 [==============================] - 4s 1s/step - loss: 1.7846e-04 - val_loss: 4.3955e-04\n",
            "Epoch 51/100\n",
            "3/3 [==============================] - 4s 1s/step - loss: 1.8861e-04 - val_loss: 4.3902e-04\n",
            "Epoch 52/100\n",
            "3/3 [==============================] - 4s 1s/step - loss: 1.6619e-04 - val_loss: 4.3740e-04\n",
            "Epoch 53/100\n",
            "3/3 [==============================] - 4s 1s/step - loss: 1.8578e-04 - val_loss: 4.5379e-04\n",
            "Epoch 54/100\n",
            "3/3 [==============================] - 4s 1s/step - loss: 1.8102e-04 - val_loss: 4.4096e-04\n",
            "Epoch 55/100\n",
            "3/3 [==============================] - 4s 1s/step - loss: 1.8866e-04 - val_loss: 4.3892e-04\n",
            "Epoch 56/100\n",
            "3/3 [==============================] - 4s 1s/step - loss: 1.7547e-04 - val_loss: 4.3459e-04\n",
            "Epoch 57/100\n",
            "3/3 [==============================] - 4s 1s/step - loss: 1.5939e-04 - val_loss: 4.3250e-04\n",
            "Epoch 58/100\n",
            "3/3 [==============================] - 4s 1s/step - loss: 1.6870e-04 - val_loss: 4.3238e-04\n",
            "Epoch 59/100\n",
            "3/3 [==============================] - 4s 1s/step - loss: 1.7582e-04 - val_loss: 4.3318e-04\n",
            "Epoch 60/100\n",
            "3/3 [==============================] - 4s 1s/step - loss: 1.6373e-04 - val_loss: 4.2827e-04\n",
            "Epoch 61/100\n",
            "3/3 [==============================] - 4s 1s/step - loss: 1.6746e-04 - val_loss: 4.2811e-04\n",
            "Epoch 62/100\n",
            "3/3 [==============================] - 4s 1s/step - loss: 1.7125e-04 - val_loss: 4.2577e-04\n",
            "Epoch 63/100\n",
            "3/3 [==============================] - 4s 1s/step - loss: 1.6727e-04 - val_loss: 4.2540e-04\n",
            "Epoch 64/100\n",
            "3/3 [==============================] - 4s 1s/step - loss: 1.6554e-04 - val_loss: 4.2499e-04\n",
            "Epoch 65/100\n",
            "3/3 [==============================] - 4s 1s/step - loss: 1.7226e-04 - val_loss: 4.2415e-04\n",
            "Epoch 66/100\n",
            "3/3 [==============================] - 4s 1s/step - loss: 1.6973e-04 - val_loss: 4.3758e-04\n",
            "Epoch 67/100\n",
            "3/3 [==============================] - 4s 1s/step - loss: 1.7641e-04 - val_loss: 4.5927e-04\n",
            "Epoch 68/100\n",
            "3/3 [==============================] - 4s 1s/step - loss: 1.7812e-04 - val_loss: 4.2647e-04\n",
            "Epoch 69/100\n",
            "3/3 [==============================] - 4s 1s/step - loss: 1.8220e-04 - val_loss: 4.1583e-04\n",
            "Epoch 70/100\n",
            "3/3 [==============================] - 4s 1s/step - loss: 1.5564e-04 - val_loss: 4.4530e-04\n",
            "Epoch 71/100\n",
            "3/3 [==============================] - 4s 1s/step - loss: 1.5825e-04 - val_loss: 4.2172e-04\n",
            "Epoch 72/100\n",
            "3/3 [==============================] - 4s 1s/step - loss: 1.8672e-04 - val_loss: 4.2214e-04\n",
            "Epoch 73/100\n",
            "3/3 [==============================] - 4s 1s/step - loss: 1.7715e-04 - val_loss: 4.2253e-04\n",
            "Epoch 74/100\n",
            "3/3 [==============================] - 4s 1s/step - loss: 1.7787e-04 - val_loss: 4.9574e-04\n",
            "Epoch 75/100\n",
            "3/3 [==============================] - 4s 1s/step - loss: 1.8086e-04 - val_loss: 4.3474e-04\n",
            "Epoch 76/100\n",
            "3/3 [==============================] - 4s 1s/step - loss: 1.8363e-04 - val_loss: 4.1740e-04\n",
            "Epoch 77/100\n",
            "3/3 [==============================] - 4s 1s/step - loss: 1.7768e-04 - val_loss: 4.1909e-04\n",
            "Epoch 78/100\n",
            "3/3 [==============================] - 4s 1s/step - loss: 1.6891e-04 - val_loss: 4.3172e-04\n",
            "Epoch 79/100\n",
            "3/3 [==============================] - 4s 1s/step - loss: 1.6836e-04 - val_loss: 4.6288e-04\n",
            "Epoch 80/100\n",
            "3/3 [==============================] - 4s 1s/step - loss: 1.7368e-04 - val_loss: 4.0499e-04\n",
            "Epoch 81/100\n",
            "3/3 [==============================] - 4s 1s/step - loss: 1.6692e-04 - val_loss: 4.1272e-04\n",
            "Epoch 82/100\n",
            "3/3 [==============================] - 4s 1s/step - loss: 1.6777e-04 - val_loss: 4.1962e-04\n",
            "Epoch 83/100\n",
            "3/3 [==============================] - 4s 1s/step - loss: 1.7186e-04 - val_loss: 4.1284e-04\n",
            "Epoch 84/100\n",
            "3/3 [==============================] - 4s 1s/step - loss: 1.8185e-04 - val_loss: 4.1006e-04\n",
            "Epoch 85/100\n",
            "3/3 [==============================] - 4s 1s/step - loss: 1.8920e-04 - val_loss: 4.0023e-04\n",
            "Epoch 86/100\n",
            "3/3 [==============================] - 4s 1s/step - loss: 1.6292e-04 - val_loss: 4.0006e-04\n",
            "Epoch 87/100\n",
            "3/3 [==============================] - 4s 1s/step - loss: 1.7725e-04 - val_loss: 3.9766e-04\n",
            "Epoch 88/100\n",
            "3/3 [==============================] - 4s 1s/step - loss: 1.6059e-04 - val_loss: 3.9703e-04\n",
            "Epoch 89/100\n",
            "3/3 [==============================] - 4s 1s/step - loss: 1.6295e-04 - val_loss: 3.9563e-04\n",
            "Epoch 90/100\n",
            "3/3 [==============================] - 4s 1s/step - loss: 1.6464e-04 - val_loss: 3.9161e-04\n",
            "Epoch 91/100\n",
            "3/3 [==============================] - 4s 1s/step - loss: 1.6073e-04 - val_loss: 4.0521e-04\n",
            "Epoch 92/100\n",
            "3/3 [==============================] - 4s 1s/step - loss: 1.5196e-04 - val_loss: 3.9183e-04\n",
            "Epoch 93/100\n",
            "3/3 [==============================] - 4s 1s/step - loss: 1.6802e-04 - val_loss: 4.1561e-04\n",
            "Epoch 94/100\n",
            "3/3 [==============================] - 4s 1s/step - loss: 1.5970e-04 - val_loss: 3.9000e-04\n",
            "Epoch 95/100\n",
            "3/3 [==============================] - 4s 1s/step - loss: 1.6126e-04 - val_loss: 3.9632e-04\n",
            "Epoch 96/100\n",
            "3/3 [==============================] - 4s 1s/step - loss: 1.7723e-04 - val_loss: 4.3178e-04\n",
            "Epoch 97/100\n",
            "3/3 [==============================] - 4s 1s/step - loss: 1.6792e-04 - val_loss: 3.9830e-04\n",
            "Epoch 98/100\n",
            "3/3 [==============================] - 4s 1s/step - loss: 1.5938e-04 - val_loss: 3.9607e-04\n",
            "Epoch 99/100\n",
            "3/3 [==============================] - 4s 1s/step - loss: 1.7186e-04 - val_loss: 3.9427e-04\n",
            "Epoch 100/100\n",
            "3/3 [==============================] - 4s 1s/step - loss: 1.6502e-04 - val_loss: 4.7133e-04\n"
          ]
        }
      ],
      "source": [
        "with tf.device('/device:GPU:0'):\n",
        "  lstm_model.fit(X_train_new, y_train_new, batch_size=250, epochs=100, validation_split=0.1, verbose=1)"
      ]
    },
    {
      "cell_type": "code",
      "source": [
        "# Saving the model in drive\n",
        "lstm_model.save(\"/content/drive/MyDrive/Sem 8/Sem 8 Proj/Models/LSTM_features_4_timesteps_100.h5\")\n",
        "print('LSTM Model saved!') "
      ],
      "metadata": {
        "colab": {
          "base_uri": "https://localhost:8080/"
        },
        "id": "siP3w4XPgWJ0",
        "outputId": "f6993e6f-3da0-44fa-ce41-b553d525b0cd"
      },
      "execution_count": 34,
      "outputs": [
        {
          "output_type": "stream",
          "name": "stdout",
          "text": [
            "LSTM Model saved!\n"
          ]
        }
      ]
    },
    {
      "cell_type": "markdown",
      "metadata": {
        "id": "PvVvgRATCbXq"
      },
      "source": [
        "## Prediction"
      ]
    },
    {
      "cell_type": "code",
      "execution_count": 35,
      "metadata": {
        "id": "tJzBSuC5Q2r8"
      },
      "outputs": [],
      "source": [
        "model = lstm_model"
      ]
    },
    {
      "cell_type": "code",
      "execution_count": 36,
      "metadata": {
        "colab": {
          "base_uri": "https://localhost:8080/",
          "height": 299
        },
        "id": "UGrEoOYYvXjg",
        "outputId": "78acc303-958d-434b-b7d0-cbc96146909c"
      },
      "outputs": [
        {
          "output_type": "stream",
          "name": "stdout",
          "text": [
            "13/13 [==============================] - 2s 134ms/step - loss: 0.0021\n",
            "Score: 0.002107418142259121\n"
          ]
        },
        {
          "output_type": "display_data",
          "data": {
            "text/plain": [
              "<Figure size 432x288 with 1 Axes>"
            ],
            "image/png": "[encoded data removed]"
          },
          "metadata": {
            "needs_background": "light"
          }
        }
      ],
      "source": [
        "score = model.evaluate(X_test_new, y_test_new)\n",
        "\n",
        "print('Score: {}'.format(score))\n",
        "\n",
        "yhat = model.predict(X_test_new)\n",
        "\n",
        "# inverse transform is used to convert the scaled values back to original values\n",
        "\n",
        "# predicted output\n",
        "yhat = y_scale.inverse_transform(yhat)\n",
        "\n",
        "# original output\n",
        "y_test = y_scale.inverse_transform(y_test_new)\n",
        "\n",
        "# Prediction plot\n",
        "plt.plot(yhat[-100:], label='Predicted')\n",
        "plt.plot(y_test[-100:], label='Ground Truth')\n",
        "plt.legend()\n",
        "plt.show()"
      ]
    },
    {
      "cell_type": "markdown",
      "source": [
        "## Next day stock price prediction"
      ],
      "metadata": {
        "id": "8vYQlPU8B1jv"
      }
    },
    {
      "cell_type": "code",
      "source": [
        "load_model = load_model(\"/content/drive/MyDrive/Sem 8/Sem 8 Proj/Models/GRU_features_4_timesteps_100.h5\")\n",
        "print(\"Model loaded!\")"
      ],
      "metadata": {
        "id": "bMAJh9oxgroM",
        "colab": {
          "base_uri": "https://localhost:8080/"
        },
        "outputId": "69ed0cb6-1ebe-4a09-8d41-0640a8bba8f8"
      },
      "execution_count": 14,
      "outputs": [
        {
          "output_type": "stream",
          "name": "stdout",
          "text": [
            "WARNING:tensorflow:Layer gru will not use cuDNN kernels since it doesn't meet the criteria. It will use a generic GPU kernel as fallback when running on GPU.\n",
            "WARNING:tensorflow:Layer gru_1 will not use cuDNN kernels since it doesn't meet the criteria. It will use a generic GPU kernel as fallback when running on GPU.\n",
            "Model loaded!\n"
          ]
        }
      ]
    },
    {
      "cell_type": "code",
      "source": [
        "df_pred = get_data(tickers)\n",
        "df_pred = df_pred.iloc[len(df_pred) - time_steps:len(df_pred)]\n",
        "print(df_pred)\n",
        "df_pred = df_pred.values"
      ],
      "metadata": {
        "id": "_V8W6M9xCAAq",
        "colab": {
          "base_uri": "https://localhost:8080/"
        },
        "outputId": "3de8d258-8717-4d56-8dc5-7d6d2a6406d9"
      },
      "execution_count": 15,
      "outputs": [
        {
          "output_type": "stream",
          "name": "stdout",
          "text": [
            "\r[*********************100%***********************]  1 of 1 completed\n",
            "                   Open         High          Low        Close\n",
            "Date                                                          \n",
            "2021-10-25  2950.000000  2950.000000  2857.250000  2918.050049\n",
            "2021-10-26  2918.050049  3024.000000  2898.000000  2969.800049\n",
            "2021-10-27  3029.199951  3145.000000  3029.199951  3094.649902\n",
            "2021-10-28  3103.000000  3147.600098  3062.000000  3116.300049\n",
            "2021-10-29  3125.000000  3144.699951  3083.300049  3100.100098\n",
            "...                 ...          ...          ...          ...\n",
            "2022-03-11  2917.000000  2939.949951  2882.350098  2932.000000\n",
            "2022-03-14  2950.000000  2972.350098  2917.300049  2962.800049\n",
            "2022-03-15  2998.000000  3032.000000  2966.000000  2987.149902\n",
            "2022-03-16  3043.000000  3050.000000  3010.750000  3042.000000\n",
            "2022-03-17  3113.500000  3163.300049  3076.500000  3136.600098\n",
            "\n",
            "[100 rows x 4 columns]\n"
          ]
        }
      ]
    },
    {
      "cell_type": "code",
      "source": [
        "x_pred = x_scale.transform(df_pred)\n",
        "\n",
        "print(x_pred.shape)"
      ],
      "metadata": {
        "colab": {
          "base_uri": "https://localhost:8080/"
        },
        "id": "KwmmcX1ZfXPL",
        "outputId": "948a61af-8dac-4576-c05d-d38258256ff7"
      },
      "execution_count": 16,
      "outputs": [
        {
          "output_type": "stream",
          "name": "stdout",
          "text": [
            "(100, 4)\n"
          ]
        }
      ]
    },
    {
      "cell_type": "code",
      "source": [
        "next_day_price = load_model.predict(x_pred.reshape(-1,time_steps,features))"
      ],
      "metadata": {
        "id": "VaUu91vMfsbU"
      },
      "execution_count": 17,
      "outputs": []
    },
    {
      "cell_type": "code",
      "source": [
        "print(y_scale.inverse_transform(next_day_price))"
      ],
      "metadata": {
        "id": "20GQUbydI11K",
        "colab": {
          "base_uri": "https://localhost:8080/"
        },
        "outputId": "9934cccb-b75d-4a85-998e-e9a584d9da64"
      },
      "execution_count": 18,
      "outputs": [
        {
          "output_type": "stream",
          "name": "stdout",
          "text": [
            "[[3073.656]]\n"
          ]
        }
      ]
    },
    {
      "cell_type": "markdown",
      "source": [
        "# Deep Learning Model for Portfolio Optimization"
      ],
      "metadata": {
        "id": "Tmcgnl3Uv8KC"
      }
    },
    {
      "cell_type": "code",
      "source": [
        ""
      ],
      "metadata": {
        "id": "8CZcJwPJwAsv"
      },
      "execution_count": null,
      "outputs": []
    },
    {
      "cell_type": "markdown",
      "source": [
        "# Helper functions for calculating expected returns, annual volatility and Sharpe ratio of optimized portfolio"
      ],
      "metadata": {
        "id": "waTc5AXsnYSx"
      }
    },
    {
      "cell_type": "code",
      "source": [
        "def get_port_stats(returns, weights, cov_matrix):\n",
        "  # EXPECTED ANNUAL RETURN\n",
        "  # annualise daily returns. 252 trading days in a year\n",
        "  annual_returns = returns.mean() * 252\n",
        "  # find expected portfolio returns\n",
        "  expected_return = np.sum(weights.T.values * annual_returns.values)\n",
        "\n",
        "  # ANNUAL VOLATILITY\n",
        "  # find annual volatility of portfolio\n",
        "  volatility = np.sqrt(np.dot(weights.T,np.dot(cov_matrix*252,weights)))\n",
        "\n",
        "  # SHARPE RATIO\n",
        "  sharpe_ratio = (expected_return - 0.02) / volatility\n",
        "\n",
        "  print(f\"Expected Returns: {(expected_return * 100).round(decimals = 2)}%\")\n",
        "  print(f\"Annual Volatility: {(volatility * 100).round(decimals = 2)[0][0]}%\")\n",
        "  print(f\"Sharpe Ratio: {sharpe_ratio.round(decimals = 2)[0][0]}\")"
      ],
      "metadata": {
        "id": "9OFSR9OyhtO6"
      },
      "execution_count": 184,
      "outputs": []
    },
    {
      "cell_type": "markdown",
      "source": [
        "# Statistical models (PyPortfolioOpt)"
      ],
      "metadata": {
        "id": "LpDcPFkMsj5g"
      }
    },
    {
      "cell_type": "code",
      "source": [
        "from pypfopt import HRPOpt\n",
        "from pypfopt import CLA\n",
        "from pypfopt import plotting\n",
        "from pypfopt import risk_models\n",
        "from pypfopt import expected_returns"
      ],
      "metadata": {
        "colab": {
          "base_uri": "https://localhost:8080/"
        },
        "id": "MLF219rOslj0",
        "outputId": "595b2be6-1c73-4094-c842-d92660f81675"
      },
      "execution_count": 12,
      "outputs": [
        {
          "output_type": "stream",
          "name": "stdout",
          "text": [
            "Collecting PyPortfolioOpt\n",
            "  Downloading PyPortfolioOpt-1.5.1-py3-none-any.whl (61 kB)\n",
            "\u001b[?25l\r\u001b[K     |█████▍                          | 10 kB 20.2 MB/s eta 0:00:01\r\u001b[K     |██████████▊                     | 20 kB 21.0 MB/s eta 0:00:01\r\u001b[K     |████████████████                | 30 kB 10.6 MB/s eta 0:00:01\r\u001b[K     |█████████████████████▍          | 40 kB 8.5 MB/s eta 0:00:01\r\u001b[K     |██████████████████████████▊     | 51 kB 5.5 MB/s eta 0:00:01\r\u001b[K     |████████████████████████████████| 61 kB 3.4 MB/s \n",
            "\u001b[?25hRequirement already satisfied: numpy<2.0,>=1.12 in /usr/local/lib/python3.7/dist-packages (from PyPortfolioOpt) (1.21.5)\n",
            "Collecting cvxpy<2.0.0,>=1.1.10\n",
            "  Downloading cvxpy-1.2.0-cp37-cp37m-manylinux_2_24_x86_64.whl (2.8 MB)\n",
            "\u001b[K     |████████████████████████████████| 2.8 MB 10.7 MB/s \n",
            "\u001b[?25hRequirement already satisfied: scipy<2.0,>=1.3 in /usr/local/lib/python3.7/dist-packages (from PyPortfolioOpt) (1.4.1)\n",
            "Requirement already satisfied: pandas>=0.19 in /usr/local/lib/python3.7/dist-packages (from PyPortfolioOpt) (1.3.5)\n",
            "Requirement already satisfied: scs>=1.1.6 in /usr/local/lib/python3.7/dist-packages (from cvxpy<2.0.0,>=1.1.10->PyPortfolioOpt) (3.2.0)\n",
            "Requirement already satisfied: ecos>=2 in /usr/local/lib/python3.7/dist-packages (from cvxpy<2.0.0,>=1.1.10->PyPortfolioOpt) (2.0.10)\n",
            "Requirement already satisfied: osqp>=0.4.1 in /usr/local/lib/python3.7/dist-packages (from cvxpy<2.0.0,>=1.1.10->PyPortfolioOpt) (0.6.2.post0)\n",
            "Requirement already satisfied: qdldl in /usr/local/lib/python3.7/dist-packages (from osqp>=0.4.1->cvxpy<2.0.0,>=1.1.10->PyPortfolioOpt) (0.1.5.post0)\n",
            "Requirement already satisfied: pytz>=2017.3 in /usr/local/lib/python3.7/dist-packages (from pandas>=0.19->PyPortfolioOpt) (2018.9)\n",
            "Requirement already satisfied: python-dateutil>=2.7.3 in /usr/local/lib/python3.7/dist-packages (from pandas>=0.19->PyPortfolioOpt) (2.8.2)\n",
            "Requirement already satisfied: six>=1.5 in /usr/local/lib/python3.7/dist-packages (from python-dateutil>=2.7.3->pandas>=0.19->PyPortfolioOpt) (1.15.0)\n",
            "Installing collected packages: cvxpy, PyPortfolioOpt\n",
            "  Attempting uninstall: cvxpy\n",
            "    Found existing installation: cvxpy 1.0.31\n",
            "    Uninstalling cvxpy-1.0.31:\n",
            "      Successfully uninstalled cvxpy-1.0.31\n",
            "Successfully installed PyPortfolioOpt-1.5.1 cvxpy-1.2.0\n"
          ]
        }
      ]
    },
    {
      "cell_type": "code",
      "source": [
        "df"
      ],
      "metadata": {
        "colab": {
          "base_uri": "https://localhost:8080/",
          "height": 481
        },
        "id": "widWu5xdhXtL",
        "outputId": "167f65ca-ab91-45ea-d5bb-98408a317f3d"
      },
      "execution_count": 13,
      "outputs": [
        {
          "output_type": "execute_result",
          "data": {
            "text/plain": [
              "                   Close                                                    \n",
              "           ASIANPAINT.NS      IOC.NS     LUPIN.NS PIDILITIND.NS  RELIANCE.NS\n",
              "Date                                                                        \n",
              "2017-03-17   1079.449951  187.925003  1456.550049    701.900024   644.243225\n",
              "2017-03-20   1079.699951  185.475006  1464.699951    699.500000   634.386658\n",
              "2017-03-21   1068.699951  186.050003  1454.400024    700.150024   625.966492\n",
              "2017-03-22   1057.849976  186.375000  1468.150024    693.299988   623.935730\n",
              "2017-03-23   1061.599976  188.399994  1490.250000    693.849976   630.671875\n",
              "...                  ...         ...          ...           ...          ...\n",
              "2022-03-11   2932.000000  123.699997   747.900024   2338.149902  2399.149902\n",
              "2022-03-14   2962.800049  120.800003   745.200012   2344.699951  2418.850098\n",
              "2022-03-15   2987.149902  119.000000   737.950012   2370.550049  2363.449951\n",
              "2022-03-16   3042.000000  121.949997   749.599976   2462.899902  2403.350098\n",
              "2022-03-17   3136.600098  121.349998   765.349976   2510.399902  2481.699951\n",
              "\n",
              "[1237 rows x 5 columns]"
            ],
            "text/html": [
              "\n",
              "  <div id=\"df-9716aad7-35f8-4195-bf6e-dd1822fc8783\">\n",
              "    <div class=\"colab-df-container\">\n",
              "      <div>\n",
              "<style scoped>\n",
              "    .dataframe tbody tr th:only-of-type {\n",
              "        vertical-align: middle;\n",
              "    }\n",
              "\n",
              "    .dataframe tbody tr th {\n",
              "        vertical-align: top;\n",
              "    }\n",
              "\n",
              "    .dataframe thead tr th {\n",
              "        text-align: left;\n",
              "    }\n",
              "\n",
              "    .dataframe thead tr:last-of-type th {\n",
              "        text-align: right;\n",
              "    }\n",
              "</style>\n",
              "<table border=\"1\" class=\"dataframe\">\n",
              "  <thead>\n",
              "    <tr>\n",
              "      <th></th>\n",
              "      <th colspan=\"5\" halign=\"left\">Close</th>\n",
              "    </tr>\n",
              "    <tr>\n",
              "      <th></th>\n",
              "      <th>ASIANPAINT.NS</th>\n",
              "      <th>IOC.NS</th>\n",
              "      <th>LUPIN.NS</th>\n",
              "      <th>PIDILITIND.NS</th>\n",
              "      <th>RELIANCE.NS</th>\n",
              "    </tr>\n",
              "    <tr>\n",
              "      <th>Date</th>\n",
              "      <th></th>\n",
              "      <th></th>\n",
              "      <th></th>\n",
              "      <th></th>\n",
              "      <th></th>\n",
              "    </tr>\n",
              "  </thead>\n",
              "  <tbody>\n",
              "    <tr>\n",
              "      <th>2017-03-17</th>\n",
              "      <td>1079.449951</td>\n",
              "      <td>187.925003</td>\n",
              "      <td>1456.550049</td>\n",
              "      <td>701.900024</td>\n",
              "      <td>644.243225</td>\n",
              "    </tr>\n",
              "    <tr>\n",
              "      <th>2017-03-20</th>\n",
              "      <td>1079.699951</td>\n",
              "      <td>185.475006</td>\n",
              "      <td>1464.699951</td>\n",
              "      <td>699.500000</td>\n",
              "      <td>634.386658</td>\n",
              "    </tr>\n",
              "    <tr>\n",
              "      <th>2017-03-21</th>\n",
              "      <td>1068.699951</td>\n",
              "      <td>186.050003</td>\n",
              "      <td>1454.400024</td>\n",
              "      <td>700.150024</td>\n",
              "      <td>625.966492</td>\n",
              "    </tr>\n",
              "    <tr>\n",
              "      <th>2017-03-22</th>\n",
              "      <td>1057.849976</td>\n",
              "      <td>186.375000</td>\n",
              "      <td>1468.150024</td>\n",
              "      <td>693.299988</td>\n",
              "      <td>623.935730</td>\n",
              "    </tr>\n",
              "    <tr>\n",
              "      <th>2017-03-23</th>\n",
              "      <td>1061.599976</td>\n",
              "      <td>188.399994</td>\n",
              "      <td>1490.250000</td>\n",
              "      <td>693.849976</td>\n",
              "      <td>630.671875</td>\n",
              "    </tr>\n",
              "    <tr>\n",
              "      <th>...</th>\n",
              "      <td>...</td>\n",
              "      <td>...</td>\n",
              "      <td>...</td>\n",
              "      <td>...</td>\n",
              "      <td>...</td>\n",
              "    </tr>\n",
              "    <tr>\n",
              "      <th>2022-03-11</th>\n",
              "      <td>2932.000000</td>\n",
              "      <td>123.699997</td>\n",
              "      <td>747.900024</td>\n",
              "      <td>2338.149902</td>\n",
              "      <td>2399.149902</td>\n",
              "    </tr>\n",
              "    <tr>\n",
              "      <th>2022-03-14</th>\n",
              "      <td>2962.800049</td>\n",
              "      <td>120.800003</td>\n",
              "      <td>745.200012</td>\n",
              "      <td>2344.699951</td>\n",
              "      <td>2418.850098</td>\n",
              "    </tr>\n",
              "    <tr>\n",
              "      <th>2022-03-15</th>\n",
              "      <td>2987.149902</td>\n",
              "      <td>119.000000</td>\n",
              "      <td>737.950012</td>\n",
              "      <td>2370.550049</td>\n",
              "      <td>2363.449951</td>\n",
              "    </tr>\n",
              "    <tr>\n",
              "      <th>2022-03-16</th>\n",
              "      <td>3042.000000</td>\n",
              "      <td>121.949997</td>\n",
              "      <td>749.599976</td>\n",
              "      <td>2462.899902</td>\n",
              "      <td>2403.350098</td>\n",
              "    </tr>\n",
              "    <tr>\n",
              "      <th>2022-03-17</th>\n",
              "      <td>3136.600098</td>\n",
              "      <td>121.349998</td>\n",
              "      <td>765.349976</td>\n",
              "      <td>2510.399902</td>\n",
              "      <td>2481.699951</td>\n",
              "    </tr>\n",
              "  </tbody>\n",
              "</table>\n",
              "<p>1237 rows × 5 columns</p>\n",
              "</div>\n",
              "      <button class=\"colab-df-convert\" onclick=\"convertToInteractive('df-9716aad7-35f8-4195-bf6e-dd1822fc8783')\"\n",
              "              title=\"Convert this dataframe to an interactive table.\"\n",
              "              style=\"display:none;\">\n",
              "        \n",
              "  <svg xmlns=\"http://www.w3.org/2000/svg\" height=\"24px\"viewBox=\"0 0 24 24\"\n",
              "       width=\"24px\">\n",
              "    <path d=\"M0 0h24v24H0V0z\" fill=\"none\"/>\n",
              "    <path d=\"M18.56 5.44l.94 2.06.94-2.06 2.06-.94-2.06-.94-.94-2.06-.94 2.06-2.06.94zm-11 1L8.5 8.5l.94-2.06 2.06-.94-2.06-.94L8.5 2.5l-.94 2.06-2.06.94zm10 10l.94 2.06.94-2.06 2.06-.94-2.06-.94-.94-2.06-.94 2.06-2.06.94z\"/><path d=\"M17.41 7.96l-1.37-1.37c-.4-.4-.92-.59-1.43-.59-.52 0-1.04.2-1.43.59L10.3 9.45l-7.72 7.72c-.78.78-.78 2.05 0 2.83L4 21.41c.39.39.9.59 1.41.59.51 0 1.02-.2 1.41-.59l7.78-7.78 2.81-2.81c.8-.78.8-2.07 0-2.86zM5.41 20L4 18.59l7.72-7.72 1.47 1.35L5.41 20z\"/>\n",
              "  </svg>\n",
              "      </button>\n",
              "      \n",
              "  <style>\n",
              "    .colab-df-container {\n",
              "      display:flex;\n",
              "      flex-wrap:wrap;\n",
              "      gap: 12px;\n",
              "    }\n",
              "\n",
              "    .colab-df-convert {\n",
              "      background-color: #E8F0FE;\n",
              "      border: none;\n",
              "      border-radius: 50%;\n",
              "      cursor: pointer;\n",
              "      display: none;\n",
              "      fill: #1967D2;\n",
              "      height: 32px;\n",
              "      padding: 0 0 0 0;\n",
              "      width: 32px;\n",
              "    }\n",
              "\n",
              "    .colab-df-convert:hover {\n",
              "      background-color: #E2EBFA;\n",
              "      box-shadow: 0px 1px 2px rgba(60, 64, 67, 0.3), 0px 1px 3px 1px rgba(60, 64, 67, 0.15);\n",
              "      fill: #174EA6;\n",
              "    }\n",
              "\n",
              "    [theme=dark] .colab-df-convert {\n",
              "      background-color: #3B4455;\n",
              "      fill: #D2E3FC;\n",
              "    }\n",
              "\n",
              "    [theme=dark] .colab-df-convert:hover {\n",
              "      background-color: #434B5C;\n",
              "      box-shadow: 0px 1px 3px 1px rgba(0, 0, 0, 0.15);\n",
              "      filter: drop-shadow(0px 1px 2px rgba(0, 0, 0, 0.3));\n",
              "      fill: #FFFFFF;\n",
              "    }\n",
              "  </style>\n",
              "\n",
              "      <script>\n",
              "        const buttonEl =\n",
              "          document.querySelector('#df-9716aad7-35f8-4195-bf6e-dd1822fc8783 button.colab-df-convert');\n",
              "        buttonEl.style.display =\n",
              "          google.colab.kernel.accessAllowed ? 'block' : 'none';\n",
              "\n",
              "        async function convertToInteractive(key) {\n",
              "          const element = document.querySelector('#df-9716aad7-35f8-4195-bf6e-dd1822fc8783');\n",
              "          const dataTable =\n",
              "            await google.colab.kernel.invokeFunction('convertToInteractive',\n",
              "                                                     [key], {});\n",
              "          if (!dataTable) return;\n",
              "\n",
              "          const docLinkHtml = 'Like what you see? Visit the ' +\n",
              "            '<a target=\"_blank\" href=https://colab.research.google.com/notebooks/data_table.ipynb>data table notebook</a>'\n",
              "            + ' to learn more about interactive tables.';\n",
              "          element.innerHTML = '';\n",
              "          dataTable['output_type'] = 'display_data';\n",
              "          await google.colab.output.renderOutput(dataTable, element);\n",
              "          const docLink = document.createElement('div');\n",
              "          docLink.innerHTML = docLinkHtml;\n",
              "          element.appendChild(docLink);\n",
              "        }\n",
              "      </script>\n",
              "    </div>\n",
              "  </div>\n",
              "  "
            ]
          },
          "metadata": {},
          "execution_count": 13
        }
      ]
    },
    {
      "cell_type": "code",
      "source": [
        "# pct_change() calculates the percent change values and dropna() drops the missing values\n",
        "returns = df.pct_change().dropna()\n",
        "\n",
        "returns"
      ],
      "metadata": {
        "colab": {
          "base_uri": "https://localhost:8080/",
          "height": 481
        },
        "id": "R0DYZgl3bURW",
        "outputId": "7be1cd0a-a76c-4327-fb68-42631dac401e"
      },
      "execution_count": 14,
      "outputs": [
        {
          "output_type": "execute_result",
          "data": {
            "text/plain": [
              "                   Close                                              \n",
              "           ASIANPAINT.NS    IOC.NS  LUPIN.NS PIDILITIND.NS RELIANCE.NS\n",
              "Date                                                                  \n",
              "2017-03-20      0.000232 -0.013037  0.005595     -0.003419   -0.015299\n",
              "2017-03-21     -0.010188  0.003100 -0.007032      0.000929   -0.013273\n",
              "2017-03-22     -0.010152  0.001747  0.009454     -0.009784   -0.003244\n",
              "2017-03-23      0.003545  0.010865  0.015053      0.000793    0.010796\n",
              "2017-03-24      0.002496 -0.010881 -0.001644     -0.008071    0.010563\n",
              "...                  ...       ...       ...           ...         ...\n",
              "2022-03-11      0.006592  0.022737  0.011291     -0.005000    0.002884\n",
              "2022-03-14      0.010505 -0.023444 -0.003610      0.002801    0.008211\n",
              "2022-03-15      0.008219 -0.014901 -0.009729      0.011025   -0.022904\n",
              "2022-03-16      0.018362  0.024790  0.015787      0.038957    0.016882\n",
              "2022-03-17      0.031098 -0.004920  0.021011      0.019286    0.032600\n",
              "\n",
              "[1236 rows x 5 columns]"
            ],
            "text/html": [
              "\n",
              "  <div id=\"df-2e83b807-6fb5-48f1-b109-d1f6d34ad355\">\n",
              "    <div class=\"colab-df-container\">\n",
              "      <div>\n",
              "<style scoped>\n",
              "    .dataframe tbody tr th:only-of-type {\n",
              "        vertical-align: middle;\n",
              "    }\n",
              "\n",
              "    .dataframe tbody tr th {\n",
              "        vertical-align: top;\n",
              "    }\n",
              "\n",
              "    .dataframe thead tr th {\n",
              "        text-align: left;\n",
              "    }\n",
              "\n",
              "    .dataframe thead tr:last-of-type th {\n",
              "        text-align: right;\n",
              "    }\n",
              "</style>\n",
              "<table border=\"1\" class=\"dataframe\">\n",
              "  <thead>\n",
              "    <tr>\n",
              "      <th></th>\n",
              "      <th colspan=\"5\" halign=\"left\">Close</th>\n",
              "    </tr>\n",
              "    <tr>\n",
              "      <th></th>\n",
              "      <th>ASIANPAINT.NS</th>\n",
              "      <th>IOC.NS</th>\n",
              "      <th>LUPIN.NS</th>\n",
              "      <th>PIDILITIND.NS</th>\n",
              "      <th>RELIANCE.NS</th>\n",
              "    </tr>\n",
              "    <tr>\n",
              "      <th>Date</th>\n",
              "      <th></th>\n",
              "      <th></th>\n",
              "      <th></th>\n",
              "      <th></th>\n",
              "      <th></th>\n",
              "    </tr>\n",
              "  </thead>\n",
              "  <tbody>\n",
              "    <tr>\n",
              "      <th>2017-03-20</th>\n",
              "      <td>0.000232</td>\n",
              "      <td>-0.013037</td>\n",
              "      <td>0.005595</td>\n",
              "      <td>-0.003419</td>\n",
              "      <td>-0.015299</td>\n",
              "    </tr>\n",
              "    <tr>\n",
              "      <th>2017-03-21</th>\n",
              "      <td>-0.010188</td>\n",
              "      <td>0.003100</td>\n",
              "      <td>-0.007032</td>\n",
              "      <td>0.000929</td>\n",
              "      <td>-0.013273</td>\n",
              "    </tr>\n",
              "    <tr>\n",
              "      <th>2017-03-22</th>\n",
              "      <td>-0.010152</td>\n",
              "      <td>0.001747</td>\n",
              "      <td>0.009454</td>\n",
              "      <td>-0.009784</td>\n",
              "      <td>-0.003244</td>\n",
              "    </tr>\n",
              "    <tr>\n",
              "      <th>2017-03-23</th>\n",
              "      <td>0.003545</td>\n",
              "      <td>0.010865</td>\n",
              "      <td>0.015053</td>\n",
              "      <td>0.000793</td>\n",
              "      <td>0.010796</td>\n",
              "    </tr>\n",
              "    <tr>\n",
              "      <th>2017-03-24</th>\n",
              "      <td>0.002496</td>\n",
              "      <td>-0.010881</td>\n",
              "      <td>-0.001644</td>\n",
              "      <td>-0.008071</td>\n",
              "      <td>0.010563</td>\n",
              "    </tr>\n",
              "    <tr>\n",
              "      <th>...</th>\n",
              "      <td>...</td>\n",
              "      <td>...</td>\n",
              "      <td>...</td>\n",
              "      <td>...</td>\n",
              "      <td>...</td>\n",
              "    </tr>\n",
              "    <tr>\n",
              "      <th>2022-03-11</th>\n",
              "      <td>0.006592</td>\n",
              "      <td>0.022737</td>\n",
              "      <td>0.011291</td>\n",
              "      <td>-0.005000</td>\n",
              "      <td>0.002884</td>\n",
              "    </tr>\n",
              "    <tr>\n",
              "      <th>2022-03-14</th>\n",
              "      <td>0.010505</td>\n",
              "      <td>-0.023444</td>\n",
              "      <td>-0.003610</td>\n",
              "      <td>0.002801</td>\n",
              "      <td>0.008211</td>\n",
              "    </tr>\n",
              "    <tr>\n",
              "      <th>2022-03-15</th>\n",
              "      <td>0.008219</td>\n",
              "      <td>-0.014901</td>\n",
              "      <td>-0.009729</td>\n",
              "      <td>0.011025</td>\n",
              "      <td>-0.022904</td>\n",
              "    </tr>\n",
              "    <tr>\n",
              "      <th>2022-03-16</th>\n",
              "      <td>0.018362</td>\n",
              "      <td>0.024790</td>\n",
              "      <td>0.015787</td>\n",
              "      <td>0.038957</td>\n",
              "      <td>0.016882</td>\n",
              "    </tr>\n",
              "    <tr>\n",
              "      <th>2022-03-17</th>\n",
              "      <td>0.031098</td>\n",
              "      <td>-0.004920</td>\n",
              "      <td>0.021011</td>\n",
              "      <td>0.019286</td>\n",
              "      <td>0.032600</td>\n",
              "    </tr>\n",
              "  </tbody>\n",
              "</table>\n",
              "<p>1236 rows × 5 columns</p>\n",
              "</div>\n",
              "      <button class=\"colab-df-convert\" onclick=\"convertToInteractive('df-2e83b807-6fb5-48f1-b109-d1f6d34ad355')\"\n",
              "              title=\"Convert this dataframe to an interactive table.\"\n",
              "              style=\"display:none;\">\n",
              "        \n",
              "  <svg xmlns=\"http://www.w3.org/2000/svg\" height=\"24px\"viewBox=\"0 0 24 24\"\n",
              "       width=\"24px\">\n",
              "    <path d=\"M0 0h24v24H0V0z\" fill=\"none\"/>\n",
              "    <path d=\"M18.56 5.44l.94 2.06.94-2.06 2.06-.94-2.06-.94-.94-2.06-.94 2.06-2.06.94zm-11 1L8.5 8.5l.94-2.06 2.06-.94-2.06-.94L8.5 2.5l-.94 2.06-2.06.94zm10 10l.94 2.06.94-2.06 2.06-.94-2.06-.94-.94-2.06-.94 2.06-2.06.94z\"/><path d=\"M17.41 7.96l-1.37-1.37c-.4-.4-.92-.59-1.43-.59-.52 0-1.04.2-1.43.59L10.3 9.45l-7.72 7.72c-.78.78-.78 2.05 0 2.83L4 21.41c.39.39.9.59 1.41.59.51 0 1.02-.2 1.41-.59l7.78-7.78 2.81-2.81c.8-.78.8-2.07 0-2.86zM5.41 20L4 18.59l7.72-7.72 1.47 1.35L5.41 20z\"/>\n",
              "  </svg>\n",
              "      </button>\n",
              "      \n",
              "  <style>\n",
              "    .colab-df-container {\n",
              "      display:flex;\n",
              "      flex-wrap:wrap;\n",
              "      gap: 12px;\n",
              "    }\n",
              "\n",
              "    .colab-df-convert {\n",
              "      background-color: #E8F0FE;\n",
              "      border: none;\n",
              "      border-radius: 50%;\n",
              "      cursor: pointer;\n",
              "      display: none;\n",
              "      fill: #1967D2;\n",
              "      height: 32px;\n",
              "      padding: 0 0 0 0;\n",
              "      width: 32px;\n",
              "    }\n",
              "\n",
              "    .colab-df-convert:hover {\n",
              "      background-color: #E2EBFA;\n",
              "      box-shadow: 0px 1px 2px rgba(60, 64, 67, 0.3), 0px 1px 3px 1px rgba(60, 64, 67, 0.15);\n",
              "      fill: #174EA6;\n",
              "    }\n",
              "\n",
              "    [theme=dark] .colab-df-convert {\n",
              "      background-color: #3B4455;\n",
              "      fill: #D2E3FC;\n",
              "    }\n",
              "\n",
              "    [theme=dark] .colab-df-convert:hover {\n",
              "      background-color: #434B5C;\n",
              "      box-shadow: 0px 1px 3px 1px rgba(0, 0, 0, 0.15);\n",
              "      filter: drop-shadow(0px 1px 2px rgba(0, 0, 0, 0.3));\n",
              "      fill: #FFFFFF;\n",
              "    }\n",
              "  </style>\n",
              "\n",
              "      <script>\n",
              "        const buttonEl =\n",
              "          document.querySelector('#df-2e83b807-6fb5-48f1-b109-d1f6d34ad355 button.colab-df-convert');\n",
              "        buttonEl.style.display =\n",
              "          google.colab.kernel.accessAllowed ? 'block' : 'none';\n",
              "\n",
              "        async function convertToInteractive(key) {\n",
              "          const element = document.querySelector('#df-2e83b807-6fb5-48f1-b109-d1f6d34ad355');\n",
              "          const dataTable =\n",
              "            await google.colab.kernel.invokeFunction('convertToInteractive',\n",
              "                                                     [key], {});\n",
              "          if (!dataTable) return;\n",
              "\n",
              "          const docLinkHtml = 'Like what you see? Visit the ' +\n",
              "            '<a target=\"_blank\" href=https://colab.research.google.com/notebooks/data_table.ipynb>data table notebook</a>'\n",
              "            + ' to learn more about interactive tables.';\n",
              "          element.innerHTML = '';\n",
              "          dataTable['output_type'] = 'display_data';\n",
              "          await google.colab.output.renderOutput(dataTable, element);\n",
              "          const docLink = document.createElement('div');\n",
              "          docLink.innerHTML = docLinkHtml;\n",
              "          element.appendChild(docLink);\n",
              "        }\n",
              "      </script>\n",
              "    </div>\n",
              "  </div>\n",
              "  "
            ]
          },
          "metadata": {},
          "execution_count": 14
        }
      ]
    },
    {
      "cell_type": "code",
      "source": [
        "returns[\"Close\"].plot(label = tickers, figsize = (15,7))"
      ],
      "metadata": {
        "colab": {
          "base_uri": "https://localhost:8080/",
          "height": 433
        },
        "id": "z2trxDeeeAA4",
        "outputId": "e12de4ad-dd8f-4585-fa57-b444471614c7"
      },
      "execution_count": 15,
      "outputs": [
        {
          "output_type": "execute_result",
          "data": {
            "text/plain": [
              "<matplotlib.axes._subplots.AxesSubplot at 0x7f6bcf93cb10>"
            ]
          },
          "metadata": {},
          "execution_count": 15
        },
        {
          "output_type": "display_data",
          "data": {
            "text/plain": [
              "<Figure size 1080x504 with 1 Axes>"
            ],
            "image/png": "[encoded data removed]"
          },
          "metadata": {
            "needs_background": "light"
          }
        }
      ]
    },
    {
      "cell_type": "markdown",
      "source": [
        "## HRP (Hierarchical Risk Parity) [Best Model]"
      ],
      "metadata": {
        "id": "kUTW8tFUgB4C"
      }
    },
    {
      "cell_type": "code",
      "source": [
        "# Using Hierarchical Risk Parity method to compute optimized portfolio weights\n",
        "hrp = HRPOpt(returns)\n",
        "hrp.optimize()\n",
        "weights = hrp.clean_weights()\n",
        "weights"
      ],
      "metadata": {
        "colab": {
          "base_uri": "https://localhost:8080/"
        },
        "id": "YbRjtvYqeI7t",
        "outputId": "ae18588e-738c-4388-eb72-c5f505a4ab97"
      },
      "execution_count": 16,
      "outputs": [
        {
          "output_type": "execute_result",
          "data": {
            "text/plain": [
              "OrderedDict([(('Close', 'ASIANPAINT.NS'), 0.18115),\n",
              "             (('Close', 'IOC.NS'), 0.21242),\n",
              "             (('Close', 'LUPIN.NS'), 0.22411),\n",
              "             (('Close', 'PIDILITIND.NS'), 0.17966),\n",
              "             (('Close', 'RELIANCE.NS'), 0.20266)])"
            ]
          },
          "metadata": {},
          "execution_count": 16
        }
      ]
    },
    {
      "cell_type": "code",
      "source": [
        "weightsdf = pd.DataFrame.from_dict(weights, orient=\"index\")\n",
        "weightscol = weightsdf.iloc[:, 0]\n",
        "weightscol"
      ],
      "metadata": {
        "colab": {
          "base_uri": "https://localhost:8080/"
        },
        "id": "Am-1YfDM6F10",
        "outputId": "229f491c-0ad6-4aea-80e4-c901ced39206"
      },
      "execution_count": 19,
      "outputs": [
        {
          "output_type": "execute_result",
          "data": {
            "text/plain": [
              "(Close, ASIANPAINT.NS)    0.18115\n",
              "(Close, IOC.NS)           0.21242\n",
              "(Close, LUPIN.NS)         0.22411\n",
              "(Close, PIDILITIND.NS)    0.17966\n",
              "(Close, RELIANCE.NS)      0.20266\n",
              "Name: 0, dtype: float64"
            ]
          },
          "metadata": {},
          "execution_count": 19
        }
      ]
    },
    {
      "cell_type": "code",
      "source": [
        "weightscol.sum()"
      ],
      "metadata": {
        "colab": {
          "base_uri": "https://localhost:8080/"
        },
        "id": "uQLy_-HWK2su",
        "outputId": "2532d3fa-c77b-4077-d998-b38309bd70d7"
      },
      "execution_count": 20,
      "outputs": [
        {
          "output_type": "execute_result",
          "data": {
            "text/plain": [
              "1.0"
            ]
          },
          "metadata": {},
          "execution_count": 20
        }
      ]
    },
    {
      "cell_type": "code",
      "source": [
        "hrp.portfolio_performance(verbose=True)"
      ],
      "metadata": {
        "colab": {
          "base_uri": "https://localhost:8080/"
        },
        "id": "rtyrg7Y4fRoS",
        "outputId": "681eac64-4078-4432-e0a4-75d7f2bdc8a0"
      },
      "execution_count": 48,
      "outputs": [
        {
          "output_type": "stream",
          "name": "stdout",
          "text": [
            "Expected annual return: 13.9%\n",
            "Annual volatility: 19.2%\n",
            "Sharpe Ratio: 0.62\n"
          ]
        },
        {
          "output_type": "execute_result",
          "data": {
            "text/plain": [
              "(0.13903837254267337, 0.19236659996810446, 0.6188099834504048)"
            ]
          },
          "metadata": {},
          "execution_count": 48
        }
      ]
    },
    {
      "cell_type": "code",
      "source": [
        "plotting.plot_dendrogram(hrp) "
      ],
      "metadata": {
        "colab": {
          "base_uri": "https://localhost:8080/",
          "height": 314
        },
        "id": "-3Dde_L_fVAK",
        "outputId": "d5f2416c-16dd-4347-8289-55b22fb1304e"
      },
      "execution_count": 49,
      "outputs": [
        {
          "output_type": "execute_result",
          "data": {
            "text/plain": [
              "<matplotlib.axes._subplots.AxesSubplot at 0x7fe03d24b7d0>"
            ]
          },
          "metadata": {},
          "execution_count": 49
        },
        {
          "output_type": "display_data",
          "data": {
            "text/plain": [
              "<Figure size 432x288 with 1 Axes>"
            ],
            "image/png": "[encoded data removed]"
          },
          "metadata": {
            "needs_background": "light"
          }
        }
      ]
    },
    {
      "cell_type": "markdown",
      "source": [
        "## CLA (Critical Line Algorithm)"
      ],
      "metadata": {
        "id": "43Q2hNXIgXZT"
      }
    },
    {
      "cell_type": "code",
      "source": [
        "mu = expected_returns.mean_historical_return(df)\n",
        "S = risk_models.sample_cov(df)"
      ],
      "metadata": {
        "id": "gPw8aiedglN3"
      },
      "execution_count": 38,
      "outputs": []
    },
    {
      "cell_type": "code",
      "source": [
        "mu"
      ],
      "metadata": {
        "colab": {
          "base_uri": "https://localhost:8080/"
        },
        "id": "v32wM0LBgwW8",
        "outputId": "f2da0c30-8e0e-4adc-8279-d5f7b1a80271"
      },
      "execution_count": 39,
      "outputs": [
        {
          "output_type": "execute_result",
          "data": {
            "text/plain": [
              "Close  ASIANPAINT.NS    0.242941\n",
              "       IOC.NS          -0.085311\n",
              "       LUPIN.NS        -0.122955\n",
              "       PIDILITIND.NS    0.296710\n",
              "       RELIANCE.NS      0.316481\n",
              "dtype: float64"
            ]
          },
          "metadata": {},
          "execution_count": 39
        }
      ]
    },
    {
      "cell_type": "code",
      "source": [
        "S"
      ],
      "metadata": {
        "colab": {
          "base_uri": "https://localhost:8080/",
          "height": 235
        },
        "id": "pNIZhNP8gyER",
        "outputId": "2c4d4116-b6fe-47fa-f247-4b8411b80de7"
      },
      "execution_count": 34,
      "outputs": [
        {
          "output_type": "execute_result",
          "data": {
            "text/plain": [
              "                            Close                                    \\\n",
              "                    ASIANPAINT.NS    IOC.NS  LUPIN.NS PIDILITIND.NS   \n",
              "Close ASIANPAINT.NS      0.070017  0.023275  0.009063      0.040019   \n",
              "      IOC.NS             0.023275  0.107291  0.019123      0.024902   \n",
              "      LUPIN.NS           0.009063  0.019123  0.101692      0.011666   \n",
              "      PIDILITIND.NS      0.040019  0.024902  0.011666      0.070596   \n",
              "      RELIANCE.NS        0.030536  0.031913  0.018938      0.026691   \n",
              "\n",
              "                                 \n",
              "                    RELIANCE.NS  \n",
              "Close ASIANPAINT.NS    0.030536  \n",
              "      IOC.NS           0.031913  \n",
              "      LUPIN.NS         0.018938  \n",
              "      PIDILITIND.NS    0.026691  \n",
              "      RELIANCE.NS      0.098205  "
            ],
            "text/html": [
              "\n",
              "  <div id=\"df-534fa567-65ae-49df-9edb-b8aab1c89c1a\">\n",
              "    <div class=\"colab-df-container\">\n",
              "      <div>\n",
              "<style scoped>\n",
              "    .dataframe tbody tr th:only-of-type {\n",
              "        vertical-align: middle;\n",
              "    }\n",
              "\n",
              "    .dataframe tbody tr th {\n",
              "        vertical-align: top;\n",
              "    }\n",
              "\n",
              "    .dataframe thead tr th {\n",
              "        text-align: left;\n",
              "    }\n",
              "</style>\n",
              "<table border=\"1\" class=\"dataframe\">\n",
              "  <thead>\n",
              "    <tr>\n",
              "      <th></th>\n",
              "      <th></th>\n",
              "      <th colspan=\"5\" halign=\"left\">Close</th>\n",
              "    </tr>\n",
              "    <tr>\n",
              "      <th></th>\n",
              "      <th></th>\n",
              "      <th>ASIANPAINT.NS</th>\n",
              "      <th>IOC.NS</th>\n",
              "      <th>LUPIN.NS</th>\n",
              "      <th>PIDILITIND.NS</th>\n",
              "      <th>RELIANCE.NS</th>\n",
              "    </tr>\n",
              "  </thead>\n",
              "  <tbody>\n",
              "    <tr>\n",
              "      <th rowspan=\"5\" valign=\"top\">Close</th>\n",
              "      <th>ASIANPAINT.NS</th>\n",
              "      <td>0.070017</td>\n",
              "      <td>0.023275</td>\n",
              "      <td>0.009063</td>\n",
              "      <td>0.040019</td>\n",
              "      <td>0.030536</td>\n",
              "    </tr>\n",
              "    <tr>\n",
              "      <th>IOC.NS</th>\n",
              "      <td>0.023275</td>\n",
              "      <td>0.107291</td>\n",
              "      <td>0.019123</td>\n",
              "      <td>0.024902</td>\n",
              "      <td>0.031913</td>\n",
              "    </tr>\n",
              "    <tr>\n",
              "      <th>LUPIN.NS</th>\n",
              "      <td>0.009063</td>\n",
              "      <td>0.019123</td>\n",
              "      <td>0.101692</td>\n",
              "      <td>0.011666</td>\n",
              "      <td>0.018938</td>\n",
              "    </tr>\n",
              "    <tr>\n",
              "      <th>PIDILITIND.NS</th>\n",
              "      <td>0.040019</td>\n",
              "      <td>0.024902</td>\n",
              "      <td>0.011666</td>\n",
              "      <td>0.070596</td>\n",
              "      <td>0.026691</td>\n",
              "    </tr>\n",
              "    <tr>\n",
              "      <th>RELIANCE.NS</th>\n",
              "      <td>0.030536</td>\n",
              "      <td>0.031913</td>\n",
              "      <td>0.018938</td>\n",
              "      <td>0.026691</td>\n",
              "      <td>0.098205</td>\n",
              "    </tr>\n",
              "  </tbody>\n",
              "</table>\n",
              "</div>\n",
              "      <button class=\"colab-df-convert\" onclick=\"convertToInteractive('df-534fa567-65ae-49df-9edb-b8aab1c89c1a')\"\n",
              "              title=\"Convert this dataframe to an interactive table.\"\n",
              "              style=\"display:none;\">\n",
              "        \n",
              "  <svg xmlns=\"http://www.w3.org/2000/svg\" height=\"24px\"viewBox=\"0 0 24 24\"\n",
              "       width=\"24px\">\n",
              "    <path d=\"M0 0h24v24H0V0z\" fill=\"none\"/>\n",
              "    <path d=\"M18.56 5.44l.94 2.06.94-2.06 2.06-.94-2.06-.94-.94-2.06-.94 2.06-2.06.94zm-11 1L8.5 8.5l.94-2.06 2.06-.94-2.06-.94L8.5 2.5l-.94 2.06-2.06.94zm10 10l.94 2.06.94-2.06 2.06-.94-2.06-.94-.94-2.06-.94 2.06-2.06.94z\"/><path d=\"M17.41 7.96l-1.37-1.37c-.4-.4-.92-.59-1.43-.59-.52 0-1.04.2-1.43.59L10.3 9.45l-7.72 7.72c-.78.78-.78 2.05 0 2.83L4 21.41c.39.39.9.59 1.41.59.51 0 1.02-.2 1.41-.59l7.78-7.78 2.81-2.81c.8-.78.8-2.07 0-2.86zM5.41 20L4 18.59l7.72-7.72 1.47 1.35L5.41 20z\"/>\n",
              "  </svg>\n",
              "      </button>\n",
              "      \n",
              "  <style>\n",
              "    .colab-df-container {\n",
              "      display:flex;\n",
              "      flex-wrap:wrap;\n",
              "      gap: 12px;\n",
              "    }\n",
              "\n",
              "    .colab-df-convert {\n",
              "      background-color: #E8F0FE;\n",
              "      border: none;\n",
              "      border-radius: 50%;\n",
              "      cursor: pointer;\n",
              "      display: none;\n",
              "      fill: #1967D2;\n",
              "      height: 32px;\n",
              "      padding: 0 0 0 0;\n",
              "      width: 32px;\n",
              "    }\n",
              "\n",
              "    .colab-df-convert:hover {\n",
              "      background-color: #E2EBFA;\n",
              "      box-shadow: 0px 1px 2px rgba(60, 64, 67, 0.3), 0px 1px 3px 1px rgba(60, 64, 67, 0.15);\n",
              "      fill: #174EA6;\n",
              "    }\n",
              "\n",
              "    [theme=dark] .colab-df-convert {\n",
              "      background-color: #3B4455;\n",
              "      fill: #D2E3FC;\n",
              "    }\n",
              "\n",
              "    [theme=dark] .colab-df-convert:hover {\n",
              "      background-color: #434B5C;\n",
              "      box-shadow: 0px 1px 3px 1px rgba(0, 0, 0, 0.15);\n",
              "      filter: drop-shadow(0px 1px 2px rgba(0, 0, 0, 0.3));\n",
              "      fill: #FFFFFF;\n",
              "    }\n",
              "  </style>\n",
              "\n",
              "      <script>\n",
              "        const buttonEl =\n",
              "          document.querySelector('#df-534fa567-65ae-49df-9edb-b8aab1c89c1a button.colab-df-convert');\n",
              "        buttonEl.style.display =\n",
              "          google.colab.kernel.accessAllowed ? 'block' : 'none';\n",
              "\n",
              "        async function convertToInteractive(key) {\n",
              "          const element = document.querySelector('#df-534fa567-65ae-49df-9edb-b8aab1c89c1a');\n",
              "          const dataTable =\n",
              "            await google.colab.kernel.invokeFunction('convertToInteractive',\n",
              "                                                     [key], {});\n",
              "          if (!dataTable) return;\n",
              "\n",
              "          const docLinkHtml = 'Like what you see? Visit the ' +\n",
              "            '<a target=\"_blank\" href=https://colab.research.google.com/notebooks/data_table.ipynb>data table notebook</a>'\n",
              "            + ' to learn more about interactive tables.';\n",
              "          element.innerHTML = '';\n",
              "          dataTable['output_type'] = 'display_data';\n",
              "          await google.colab.output.renderOutput(dataTable, element);\n",
              "          const docLink = document.createElement('div');\n",
              "          docLink.innerHTML = docLinkHtml;\n",
              "          element.appendChild(docLink);\n",
              "        }\n",
              "      </script>\n",
              "    </div>\n",
              "  </div>\n",
              "  "
            ]
          },
          "metadata": {},
          "execution_count": 34
        }
      ]
    },
    {
      "cell_type": "code",
      "source": [
        "cla = CLA(mu, S)\n",
        "cla.max_sharpe()\n",
        "cla.clean_weights()"
      ],
      "metadata": {
        "colab": {
          "base_uri": "https://localhost:8080/"
        },
        "id": "663BulhXfXK-",
        "outputId": "e902b0a6-e58f-4df1-f62c-9070ae7cf75a"
      },
      "execution_count": 44,
      "outputs": [
        {
          "output_type": "execute_result",
          "data": {
            "text/plain": [
              "OrderedDict([(('Close', 'ASIANPAINT.NS'), 0.14747),\n",
              "             (('Close', 'IOC.NS'), 0.0),\n",
              "             (('Close', 'LUPIN.NS'), 0.0),\n",
              "             (('Close', 'PIDILITIND.NS'), 0.48722),\n",
              "             (('Close', 'RELIANCE.NS'), 0.36531)])"
            ]
          },
          "metadata": {},
          "execution_count": 44
        }
      ]
    },
    {
      "cell_type": "code",
      "source": [
        "cla.portfolio_performance(verbose=True)"
      ],
      "metadata": {
        "colab": {
          "base_uri": "https://localhost:8080/"
        },
        "id": "tKurSYpTkzAT",
        "outputId": "caf786e8-0395-4b24-fbd5-3035da612741"
      },
      "execution_count": 42,
      "outputs": [
        {
          "output_type": "stream",
          "name": "stdout",
          "text": [
            "Expected annual return: 29.6%\n",
            "Annual volatility: 22.3%\n",
            "Sharpe Ratio: 1.24\n"
          ]
        },
        {
          "output_type": "execute_result",
          "data": {
            "text/plain": [
              "(0.29600312375953075, 0.22344783664547857, 1.235201592922272)"
            ]
          },
          "metadata": {},
          "execution_count": 42
        }
      ]
    },
    {
      "cell_type": "code",
      "source": [
        "plotting.plot_efficient_frontier(cla)"
      ],
      "metadata": {
        "colab": {
          "base_uri": "https://localhost:8080/",
          "height": 314
        },
        "id": "m8adHOfrk2CG",
        "outputId": "48ffbeb2-2085-479e-ddbf-6bba0406122b"
      },
      "execution_count": 43,
      "outputs": [
        {
          "output_type": "execute_result",
          "data": {
            "text/plain": [
              "<matplotlib.axes._subplots.AxesSubplot at 0x7f4f26e8e310>"
            ]
          },
          "metadata": {},
          "execution_count": 43
        },
        {
          "output_type": "display_data",
          "data": {
            "text/plain": [
              "<Figure size 432x288 with 1 Axes>"
            ],
            "image/png": "[encoded data removed]"
          },
          "metadata": {
            "needs_background": "light"
          }
        }
      ]
    },
    {
      "cell_type": "markdown",
      "source": [
        "# Statistical Models (RiskFolio-Lib) [Best Library]"
      ],
      "metadata": {
        "id": "IKsYvvehbQfd"
      }
    },
    {
      "cell_type": "code",
      "source": [
        "import riskfolio as rp"
      ],
      "metadata": {
        "id": "MTYzGED8b1Uy"
      },
      "execution_count": 9,
      "outputs": []
    },
    {
      "cell_type": "code",
      "source": [
        "# Calculating returns\n",
        "Y = df['Close'].pct_change().dropna()\n",
        "Y"
      ],
      "metadata": {
        "colab": {
          "base_uri": "https://localhost:8080/",
          "height": 450
        },
        "id": "Rlb_EJB3bvYx",
        "outputId": "e7f80f2c-ebb6-40ed-ddc6-3dc1d046025a"
      },
      "execution_count": 10,
      "outputs": [
        {
          "output_type": "execute_result",
          "data": {
            "text/plain": [
              "            ASIANPAINT.NS    IOC.NS  LUPIN.NS  PIDILITIND.NS  RELIANCE.NS\n",
              "Date                                                                     \n",
              "2017-03-20       0.000232 -0.013037  0.005595      -0.003419    -0.015299\n",
              "2017-03-21      -0.010188  0.003100 -0.007032       0.000929    -0.013273\n",
              "2017-03-22      -0.010152  0.001747  0.009454      -0.009784    -0.003244\n",
              "2017-03-23       0.003545  0.010865  0.015053       0.000793     0.010796\n",
              "2017-03-24       0.002496 -0.010881 -0.001644      -0.008071     0.010563\n",
              "...                   ...       ...       ...            ...          ...\n",
              "2022-03-11       0.006592  0.022737  0.011291      -0.005000     0.002884\n",
              "2022-03-14       0.010505 -0.023444 -0.003610       0.002801     0.008211\n",
              "2022-03-15       0.008219 -0.014901 -0.009729       0.011025    -0.022904\n",
              "2022-03-16       0.018362  0.024790  0.015787       0.038957     0.016882\n",
              "2022-03-17       0.031098 -0.004920  0.021011       0.019286     0.032600\n",
              "\n",
              "[1236 rows x 5 columns]"
            ],
            "text/html": [
              "\n",
              "  <div id=\"df-7379b51d-7102-4cdd-bab9-4543b46ee491\">\n",
              "    <div class=\"colab-df-container\">\n",
              "      <div>\n",
              "<style scoped>\n",
              "    .dataframe tbody tr th:only-of-type {\n",
              "        vertical-align: middle;\n",
              "    }\n",
              "\n",
              "    .dataframe tbody tr th {\n",
              "        vertical-align: top;\n",
              "    }\n",
              "\n",
              "    .dataframe thead th {\n",
              "        text-align: right;\n",
              "    }\n",
              "</style>\n",
              "<table border=\"1\" class=\"dataframe\">\n",
              "  <thead>\n",
              "    <tr style=\"text-align: right;\">\n",
              "      <th></th>\n",
              "      <th>ASIANPAINT.NS</th>\n",
              "      <th>IOC.NS</th>\n",
              "      <th>LUPIN.NS</th>\n",
              "      <th>PIDILITIND.NS</th>\n",
              "      <th>RELIANCE.NS</th>\n",
              "    </tr>\n",
              "    <tr>\n",
              "      <th>Date</th>\n",
              "      <th></th>\n",
              "      <th></th>\n",
              "      <th></th>\n",
              "      <th></th>\n",
              "      <th></th>\n",
              "    </tr>\n",
              "  </thead>\n",
              "  <tbody>\n",
              "    <tr>\n",
              "      <th>2017-03-20</th>\n",
              "      <td>0.000232</td>\n",
              "      <td>-0.013037</td>\n",
              "      <td>0.005595</td>\n",
              "      <td>-0.003419</td>\n",
              "      <td>-0.015299</td>\n",
              "    </tr>\n",
              "    <tr>\n",
              "      <th>2017-03-21</th>\n",
              "      <td>-0.010188</td>\n",
              "      <td>0.003100</td>\n",
              "      <td>-0.007032</td>\n",
              "      <td>0.000929</td>\n",
              "      <td>-0.013273</td>\n",
              "    </tr>\n",
              "    <tr>\n",
              "      <th>2017-03-22</th>\n",
              "      <td>-0.010152</td>\n",
              "      <td>0.001747</td>\n",
              "      <td>0.009454</td>\n",
              "      <td>-0.009784</td>\n",
              "      <td>-0.003244</td>\n",
              "    </tr>\n",
              "    <tr>\n",
              "      <th>2017-03-23</th>\n",
              "      <td>0.003545</td>\n",
              "      <td>0.010865</td>\n",
              "      <td>0.015053</td>\n",
              "      <td>0.000793</td>\n",
              "      <td>0.010796</td>\n",
              "    </tr>\n",
              "    <tr>\n",
              "      <th>2017-03-24</th>\n",
              "      <td>0.002496</td>\n",
              "      <td>-0.010881</td>\n",
              "      <td>-0.001644</td>\n",
              "      <td>-0.008071</td>\n",
              "      <td>0.010563</td>\n",
              "    </tr>\n",
              "    <tr>\n",
              "      <th>...</th>\n",
              "      <td>...</td>\n",
              "      <td>...</td>\n",
              "      <td>...</td>\n",
              "      <td>...</td>\n",
              "      <td>...</td>\n",
              "    </tr>\n",
              "    <tr>\n",
              "      <th>2022-03-11</th>\n",
              "      <td>0.006592</td>\n",
              "      <td>0.022737</td>\n",
              "      <td>0.011291</td>\n",
              "      <td>-0.005000</td>\n",
              "      <td>0.002884</td>\n",
              "    </tr>\n",
              "    <tr>\n",
              "      <th>2022-03-14</th>\n",
              "      <td>0.010505</td>\n",
              "      <td>-0.023444</td>\n",
              "      <td>-0.003610</td>\n",
              "      <td>0.002801</td>\n",
              "      <td>0.008211</td>\n",
              "    </tr>\n",
              "    <tr>\n",
              "      <th>2022-03-15</th>\n",
              "      <td>0.008219</td>\n",
              "      <td>-0.014901</td>\n",
              "      <td>-0.009729</td>\n",
              "      <td>0.011025</td>\n",
              "      <td>-0.022904</td>\n",
              "    </tr>\n",
              "    <tr>\n",
              "      <th>2022-03-16</th>\n",
              "      <td>0.018362</td>\n",
              "      <td>0.024790</td>\n",
              "      <td>0.015787</td>\n",
              "      <td>0.038957</td>\n",
              "      <td>0.016882</td>\n",
              "    </tr>\n",
              "    <tr>\n",
              "      <th>2022-03-17</th>\n",
              "      <td>0.031098</td>\n",
              "      <td>-0.004920</td>\n",
              "      <td>0.021011</td>\n",
              "      <td>0.019286</td>\n",
              "      <td>0.032600</td>\n",
              "    </tr>\n",
              "  </tbody>\n",
              "</table>\n",
              "<p>1236 rows × 5 columns</p>\n",
              "</div>\n",
              "      <button class=\"colab-df-convert\" onclick=\"convertToInteractive('df-7379b51d-7102-4cdd-bab9-4543b46ee491')\"\n",
              "              title=\"Convert this dataframe to an interactive table.\"\n",
              "              style=\"display:none;\">\n",
              "        \n",
              "  <svg xmlns=\"http://www.w3.org/2000/svg\" height=\"24px\"viewBox=\"0 0 24 24\"\n",
              "       width=\"24px\">\n",
              "    <path d=\"M0 0h24v24H0V0z\" fill=\"none\"/>\n",
              "    <path d=\"M18.56 5.44l.94 2.06.94-2.06 2.06-.94-2.06-.94-.94-2.06-.94 2.06-2.06.94zm-11 1L8.5 8.5l.94-2.06 2.06-.94-2.06-.94L8.5 2.5l-.94 2.06-2.06.94zm10 10l.94 2.06.94-2.06 2.06-.94-2.06-.94-.94-2.06-.94 2.06-2.06.94z\"/><path d=\"M17.41 7.96l-1.37-1.37c-.4-.4-.92-.59-1.43-.59-.52 0-1.04.2-1.43.59L10.3 9.45l-7.72 7.72c-.78.78-.78 2.05 0 2.83L4 21.41c.39.39.9.59 1.41.59.51 0 1.02-.2 1.41-.59l7.78-7.78 2.81-2.81c.8-.78.8-2.07 0-2.86zM5.41 20L4 18.59l7.72-7.72 1.47 1.35L5.41 20z\"/>\n",
              "  </svg>\n",
              "      </button>\n",
              "      \n",
              "  <style>\n",
              "    .colab-df-container {\n",
              "      display:flex;\n",
              "      flex-wrap:wrap;\n",
              "      gap: 12px;\n",
              "    }\n",
              "\n",
              "    .colab-df-convert {\n",
              "      background-color: #E8F0FE;\n",
              "      border: none;\n",
              "      border-radius: 50%;\n",
              "      cursor: pointer;\n",
              "      display: none;\n",
              "      fill: #1967D2;\n",
              "      height: 32px;\n",
              "      padding: 0 0 0 0;\n",
              "      width: 32px;\n",
              "    }\n",
              "\n",
              "    .colab-df-convert:hover {\n",
              "      background-color: #E2EBFA;\n",
              "      box-shadow: 0px 1px 2px rgba(60, 64, 67, 0.3), 0px 1px 3px 1px rgba(60, 64, 67, 0.15);\n",
              "      fill: #174EA6;\n",
              "    }\n",
              "\n",
              "    [theme=dark] .colab-df-convert {\n",
              "      background-color: #3B4455;\n",
              "      fill: #D2E3FC;\n",
              "    }\n",
              "\n",
              "    [theme=dark] .colab-df-convert:hover {\n",
              "      background-color: #434B5C;\n",
              "      box-shadow: 0px 1px 3px 1px rgba(0, 0, 0, 0.15);\n",
              "      filter: drop-shadow(0px 1px 2px rgba(0, 0, 0, 0.3));\n",
              "      fill: #FFFFFF;\n",
              "    }\n",
              "  </style>\n",
              "\n",
              "      <script>\n",
              "        const buttonEl =\n",
              "          document.querySelector('#df-7379b51d-7102-4cdd-bab9-4543b46ee491 button.colab-df-convert');\n",
              "        buttonEl.style.display =\n",
              "          google.colab.kernel.accessAllowed ? 'block' : 'none';\n",
              "\n",
              "        async function convertToInteractive(key) {\n",
              "          const element = document.querySelector('#df-7379b51d-7102-4cdd-bab9-4543b46ee491');\n",
              "          const dataTable =\n",
              "            await google.colab.kernel.invokeFunction('convertToInteractive',\n",
              "                                                     [key], {});\n",
              "          if (!dataTable) return;\n",
              "\n",
              "          const docLinkHtml = 'Like what you see? Visit the ' +\n",
              "            '<a target=\"_blank\" href=https://colab.research.google.com/notebooks/data_table.ipynb>data table notebook</a>'\n",
              "            + ' to learn more about interactive tables.';\n",
              "          element.innerHTML = '';\n",
              "          dataTable['output_type'] = 'display_data';\n",
              "          await google.colab.output.renderOutput(dataTable, element);\n",
              "          const docLink = document.createElement('div');\n",
              "          docLink.innerHTML = docLinkHtml;\n",
              "          element.appendChild(docLink);\n",
              "        }\n",
              "      </script>\n",
              "    </div>\n",
              "  </div>\n",
              "  "
            ]
          },
          "metadata": {},
          "execution_count": 10
        }
      ]
    },
    {
      "cell_type": "code",
      "source": [
        "# Plotting Assets Clusters\n",
        "\n",
        "ax = rp.plot_clusters(returns=Y,\n",
        "                        codependence='pearson',\n",
        "                        linkage='single',\n",
        "                        k=None,\n",
        "                        max_k=10,\n",
        "                        leaf_order=True,\n",
        "                        ax=None)"
      ],
      "metadata": {
        "colab": {
          "base_uri": "https://localhost:8080/",
          "height": 917
        },
        "id": "4lXQhdnKcZ2K",
        "outputId": "740c927a-72e4-4ddd-f503-bcc0fed3c1de"
      },
      "execution_count": 11,
      "outputs": [
        {
          "output_type": "stream",
          "name": "stderr",
          "text": [
            "/usr/local/lib/python3.7/dist-packages/riskfolio/PlotFunctions.py:2174: UserWarning: FixedFormatter should only be used together with FixedLocator\n",
            "  ax2.set_xticklabels(labels[permutation], rotation=90, ha=\"center\")\n",
            "/usr/local/lib/python3.7/dist-packages/riskfolio/PlotFunctions.py:2218: UserWarning: This figure includes Axes that are not compatible with tight_layout, so results might be incorrect.\n",
            "  fig.tight_layout()\n"
          ]
        },
        {
          "output_type": "display_data",
          "data": {
            "text/plain": [
              "<Figure size 864x864 with 4 Axes>"
            ],
            "image/png": "[encoded data removed]"
          },
          "metadata": {
            "needs_background": "light"
          }
        }
      ]
    },
    {
      "cell_type": "markdown",
      "source": [
        "## HRP (Hierarchical Risk Parity)"
      ],
      "metadata": {
        "id": "cQ19Og0atiH4"
      }
    },
    {
      "cell_type": "code",
      "source": [
        "# Building the portfolio object\n",
        "port1 = rp.HCPortfolio(returns=Y)"
      ],
      "metadata": {
        "id": "J9MlzIjIci6P"
      },
      "execution_count": 43,
      "outputs": []
    },
    {
      "cell_type": "code",
      "source": [
        "# Estimate optimal portfolio:\n",
        "\n",
        "model='HRP' # Could be HRP or HERC\n",
        "codependence = 'pearson' # Correlation matrix used to group assets in clusters\n",
        "# Risk measure\n",
        "rm = 'CDaR'\n",
        "rf = 0 # Risk free rate\n",
        "obj = 'Sharpe' # Objective function, could be MinRisk, MaxRet, Utility or Sharpe\n",
        "linkage = 'single' # Linkage method used to build clusters\n",
        "max_k = 10 # Max number of clusters used in two difference gap statistic, only for HERC model\n",
        "leaf_order = True # Consider optimal order of leafs in dendrogram\n",
        "hist = True # Use historical scenarios for risk measures that depend on scenarios\n",
        "\n",
        "w1 = port1.optimization(model=model,\n",
        "                      codependence=codependence,\n",
        "                      rm=rm,\n",
        "                      rf=rf,\n",
        "                      obj=obj,\n",
        "                      linkage=linkage,\n",
        "                      max_k=max_k,\n",
        "                      leaf_order=leaf_order,\n",
        "                      hist=hist)\n",
        "\n",
        "display(w1.T)"
      ],
      "metadata": {
        "colab": {
          "base_uri": "https://localhost:8080/",
          "height": 80
        },
        "id": "rbdMSuXKfKgg",
        "outputId": "b29ba009-4dd7-4734-8cd1-cbf7be337aac"
      },
      "execution_count": 190,
      "outputs": [
        {
          "output_type": "display_data",
          "data": {
            "text/plain": [
              "         ASIANPAINT.NS    IOC.NS  LUPIN.NS  PIDILITIND.NS  RELIANCE.NS\n",
              "weights       0.253569  0.087373  0.114356       0.229982     0.314719"
            ],
            "text/html": [
              "\n",
              "  <div id=\"df-4f28d85d-6b39-4281-ad48-b9e802275c01\">\n",
              "    <div class=\"colab-df-container\">\n",
              "      <div>\n",
              "<style scoped>\n",
              "    .dataframe tbody tr th:only-of-type {\n",
              "        vertical-align: middle;\n",
              "    }\n",
              "\n",
              "    .dataframe tbody tr th {\n",
              "        vertical-align: top;\n",
              "    }\n",
              "\n",
              "    .dataframe thead th {\n",
              "        text-align: right;\n",
              "    }\n",
              "</style>\n",
              "<table border=\"1\" class=\"dataframe\">\n",
              "  <thead>\n",
              "    <tr style=\"text-align: right;\">\n",
              "      <th></th>\n",
              "      <th>ASIANPAINT.NS</th>\n",
              "      <th>IOC.NS</th>\n",
              "      <th>LUPIN.NS</th>\n",
              "      <th>PIDILITIND.NS</th>\n",
              "      <th>RELIANCE.NS</th>\n",
              "    </tr>\n",
              "  </thead>\n",
              "  <tbody>\n",
              "    <tr>\n",
              "      <th>weights</th>\n",
              "      <td>0.253569</td>\n",
              "      <td>0.087373</td>\n",
              "      <td>0.114356</td>\n",
              "      <td>0.229982</td>\n",
              "      <td>0.314719</td>\n",
              "    </tr>\n",
              "  </tbody>\n",
              "</table>\n",
              "</div>\n",
              "      <button class=\"colab-df-convert\" onclick=\"convertToInteractive('df-4f28d85d-6b39-4281-ad48-b9e802275c01')\"\n",
              "              title=\"Convert this dataframe to an interactive table.\"\n",
              "              style=\"display:none;\">\n",
              "        \n",
              "  <svg xmlns=\"http://www.w3.org/2000/svg\" height=\"24px\"viewBox=\"0 0 24 24\"\n",
              "       width=\"24px\">\n",
              "    <path d=\"M0 0h24v24H0V0z\" fill=\"none\"/>\n",
              "    <path d=\"M18.56 5.44l.94 2.06.94-2.06 2.06-.94-2.06-.94-.94-2.06-.94 2.06-2.06.94zm-11 1L8.5 8.5l.94-2.06 2.06-.94-2.06-.94L8.5 2.5l-.94 2.06-2.06.94zm10 10l.94 2.06.94-2.06 2.06-.94-2.06-.94-.94-2.06-.94 2.06-2.06.94z\"/><path d=\"M17.41 7.96l-1.37-1.37c-.4-.4-.92-.59-1.43-.59-.52 0-1.04.2-1.43.59L10.3 9.45l-7.72 7.72c-.78.78-.78 2.05 0 2.83L4 21.41c.39.39.9.59 1.41.59.51 0 1.02-.2 1.41-.59l7.78-7.78 2.81-2.81c.8-.78.8-2.07 0-2.86zM5.41 20L4 18.59l7.72-7.72 1.47 1.35L5.41 20z\"/>\n",
              "  </svg>\n",
              "      </button>\n",
              "      \n",
              "  <style>\n",
              "    .colab-df-container {\n",
              "      display:flex;\n",
              "      flex-wrap:wrap;\n",
              "      gap: 12px;\n",
              "    }\n",
              "\n",
              "    .colab-df-convert {\n",
              "      background-color: #E8F0FE;\n",
              "      border: none;\n",
              "      border-radius: 50%;\n",
              "      cursor: pointer;\n",
              "      display: none;\n",
              "      fill: #1967D2;\n",
              "      height: 32px;\n",
              "      padding: 0 0 0 0;\n",
              "      width: 32px;\n",
              "    }\n",
              "\n",
              "    .colab-df-convert:hover {\n",
              "      background-color: #E2EBFA;\n",
              "      box-shadow: 0px 1px 2px rgba(60, 64, 67, 0.3), 0px 1px 3px 1px rgba(60, 64, 67, 0.15);\n",
              "      fill: #174EA6;\n",
              "    }\n",
              "\n",
              "    [theme=dark] .colab-df-convert {\n",
              "      background-color: #3B4455;\n",
              "      fill: #D2E3FC;\n",
              "    }\n",
              "\n",
              "    [theme=dark] .colab-df-convert:hover {\n",
              "      background-color: #434B5C;\n",
              "      box-shadow: 0px 1px 3px 1px rgba(0, 0, 0, 0.15);\n",
              "      filter: drop-shadow(0px 1px 2px rgba(0, 0, 0, 0.3));\n",
              "      fill: #FFFFFF;\n",
              "    }\n",
              "  </style>\n",
              "\n",
              "      <script>\n",
              "        const buttonEl =\n",
              "          document.querySelector('#df-4f28d85d-6b39-4281-ad48-b9e802275c01 button.colab-df-convert');\n",
              "        buttonEl.style.display =\n",
              "          google.colab.kernel.accessAllowed ? 'block' : 'none';\n",
              "\n",
              "        async function convertToInteractive(key) {\n",
              "          const element = document.querySelector('#df-4f28d85d-6b39-4281-ad48-b9e802275c01');\n",
              "          const dataTable =\n",
              "            await google.colab.kernel.invokeFunction('convertToInteractive',\n",
              "                                                     [key], {});\n",
              "          if (!dataTable) return;\n",
              "\n",
              "          const docLinkHtml = 'Like what you see? Visit the ' +\n",
              "            '<a target=\"_blank\" href=https://colab.research.google.com/notebooks/data_table.ipynb>data table notebook</a>'\n",
              "            + ' to learn more about interactive tables.';\n",
              "          element.innerHTML = '';\n",
              "          dataTable['output_type'] = 'display_data';\n",
              "          await google.colab.output.renderOutput(dataTable, element);\n",
              "          const docLink = document.createElement('div');\n",
              "          docLink.innerHTML = docLinkHtml;\n",
              "          element.appendChild(docLink);\n",
              "        }\n",
              "      </script>\n",
              "    </div>\n",
              "  </div>\n",
              "  "
            ]
          },
          "metadata": {}
        }
      ]
    },
    {
      "cell_type": "code",
      "source": [
        "# Plotting the composition of the portfolio\n",
        "\n",
        "ax = rp.plot_pie(w=w1,\n",
        "                 title='HRP Naive Risk Parity',\n",
        "                 others=0,\n",
        "                 nrow=25,\n",
        "                 cmap=\"tab20\",\n",
        "                 height=8,\n",
        "                 width=10,\n",
        "                 ax=None)"
      ],
      "metadata": {
        "colab": {
          "base_uri": "https://localhost:8080/",
          "height": 585
        },
        "id": "-Y-UVUrkfuJs",
        "outputId": "b6b67501-97f8-4942-b405-ee7814998f59"
      },
      "execution_count": 191,
      "outputs": [
        {
          "output_type": "display_data",
          "data": {
            "text/plain": [
              "<Figure size 720x576 with 1 Axes>"
            ],
            "image/png": "[encoded data removed]"
          },
          "metadata": {}
        }
      ]
    },
    {
      "cell_type": "code",
      "source": [
        "get_port_stats(port1.returns, w1, port1.cov)"
      ],
      "metadata": {
        "colab": {
          "base_uri": "https://localhost:8080/"
        },
        "id": "kADoWYbCn194",
        "outputId": "f669211d-84d8-4dba-c8d5-e07740a89e91"
      },
      "execution_count": 192,
      "outputs": [
        {
          "output_type": "stream",
          "name": "stdout",
          "text": [
            "Expected Returns: 22.17%\n",
            "Annual Volatility: 20.05%\n",
            "Sharpe Ratio: 1.01\n"
          ]
        }
      ]
    },
    {
      "cell_type": "markdown",
      "source": [
        "## HERC (Hierarchical Equal Risk Contribution) [Better model than HRP] \n",
        "\n",
        "Reference - https://hudsonthames.org/beyond-risk-parity-the-hierarchical-equal-risk-contribution-algorithm/"
      ],
      "metadata": {
        "id": "a1aNCsZhrEdY"
      }
    },
    {
      "cell_type": "code",
      "source": [
        "# Building the portfolio object\n",
        "port2 = rp.HCPortfolio(returns=Y)"
      ],
      "metadata": {
        "id": "r8xJ7qZJrEFO"
      },
      "execution_count": 46,
      "outputs": []
    },
    {
      "cell_type": "markdown",
      "source": [
        "### Using two Risk measures - CDaR and Ulcer Index\n",
        "\n",
        "Both of these risk measures are focused towards minimizing the risk of the portfolio and assigning optimal weights to make the portfolio more robust to market volatility rather than focusing only on maximing the returns."
      ],
      "metadata": {
        "id": "yTVF-4XnXheX"
      }
    },
    {
      "cell_type": "code",
      "source": [
        "# Estimate optimal portfolio:\n",
        "\n",
        "model='HERC' # Could be HRP or HERC\n",
        "codependence = 'pearson' # Correlation matrix used to group assets in clusters\n",
        "# Risk Measure - Conditional Drawdown at Risk of uncompounded cumulative returns\n",
        "# rm = 'CDaR'\n",
        "# Risk Measure - Ulcer Index of uncompounded cumulative returns.\n",
        "rm = 'UCI'\n",
        "obj = 'Sharpe' # Objective function, could be MinRisk, MaxRet, Utility or Sharpe\n",
        "rf = 0 # Risk free rate\n",
        "linkage = 'ward' # Linkage method used to build clusters\n",
        "max_k = 10 # Max number of clusters used in two difference gap statistic, only for HERC model\n",
        "leaf_order = True # Consider optimal order of leafs in dendrogram\n",
        "hist = True # Use historical scenarios for risk measures that depend on scenarios\n",
        "\n",
        "w2 = port2.optimization(model=model,\n",
        "                      codependence=codependence,\n",
        "                      rm=rm,\n",
        "                      rf=rf,\n",
        "                      obj=obj,\n",
        "                      linkage=linkage,\n",
        "                      max_k=max_k,\n",
        "                      leaf_order=leaf_order,\n",
        "                      hist=hist)\n",
        "\n",
        "display(w2.T)"
      ],
      "metadata": {
        "colab": {
          "base_uri": "https://localhost:8080/",
          "height": 80
        },
        "id": "HLDHhMLJf5LZ",
        "outputId": "c2446f92-c0e0-4e36-fdf3-d0ed835a1f49"
      },
      "execution_count": 47,
      "outputs": [
        {
          "output_type": "display_data",
          "data": {
            "text/plain": [
              "         ASIANPAINT.NS    IOC.NS  LUPIN.NS  PIDILITIND.NS  RELIANCE.NS\n",
              "weights        0.31113  0.048995  0.104636       0.300254     0.234984"
            ],
            "text/html": [
              "\n",
              "  <div id=\"df-be1d40ad-e523-4a41-a688-3696bedfa634\">\n",
              "    <div class=\"colab-df-container\">\n",
              "      <div>\n",
              "<style scoped>\n",
              "    .dataframe tbody tr th:only-of-type {\n",
              "        vertical-align: middle;\n",
              "    }\n",
              "\n",
              "    .dataframe tbody tr th {\n",
              "        vertical-align: top;\n",
              "    }\n",
              "\n",
              "    .dataframe thead th {\n",
              "        text-align: right;\n",
              "    }\n",
              "</style>\n",
              "<table border=\"1\" class=\"dataframe\">\n",
              "  <thead>\n",
              "    <tr style=\"text-align: right;\">\n",
              "      <th></th>\n",
              "      <th>ASIANPAINT.NS</th>\n",
              "      <th>IOC.NS</th>\n",
              "      <th>LUPIN.NS</th>\n",
              "      <th>PIDILITIND.NS</th>\n",
              "      <th>RELIANCE.NS</th>\n",
              "    </tr>\n",
              "  </thead>\n",
              "  <tbody>\n",
              "    <tr>\n",
              "      <th>weights</th>\n",
              "      <td>0.31113</td>\n",
              "      <td>0.048995</td>\n",
              "      <td>0.104636</td>\n",
              "      <td>0.300254</td>\n",
              "      <td>0.234984</td>\n",
              "    </tr>\n",
              "  </tbody>\n",
              "</table>\n",
              "</div>\n",
              "      <button class=\"colab-df-convert\" onclick=\"convertToInteractive('df-be1d40ad-e523-4a41-a688-3696bedfa634')\"\n",
              "              title=\"Convert this dataframe to an interactive table.\"\n",
              "              style=\"display:none;\">\n",
              "        \n",
              "  <svg xmlns=\"http://www.w3.org/2000/svg\" height=\"24px\"viewBox=\"0 0 24 24\"\n",
              "       width=\"24px\">\n",
              "    <path d=\"M0 0h24v24H0V0z\" fill=\"none\"/>\n",
              "    <path d=\"M18.56 5.44l.94 2.06.94-2.06 2.06-.94-2.06-.94-.94-2.06-.94 2.06-2.06.94zm-11 1L8.5 8.5l.94-2.06 2.06-.94-2.06-.94L8.5 2.5l-.94 2.06-2.06.94zm10 10l.94 2.06.94-2.06 2.06-.94-2.06-.94-.94-2.06-.94 2.06-2.06.94z\"/><path d=\"M17.41 7.96l-1.37-1.37c-.4-.4-.92-.59-1.43-.59-.52 0-1.04.2-1.43.59L10.3 9.45l-7.72 7.72c-.78.78-.78 2.05 0 2.83L4 21.41c.39.39.9.59 1.41.59.51 0 1.02-.2 1.41-.59l7.78-7.78 2.81-2.81c.8-.78.8-2.07 0-2.86zM5.41 20L4 18.59l7.72-7.72 1.47 1.35L5.41 20z\"/>\n",
              "  </svg>\n",
              "      </button>\n",
              "      \n",
              "  <style>\n",
              "    .colab-df-container {\n",
              "      display:flex;\n",
              "      flex-wrap:wrap;\n",
              "      gap: 12px;\n",
              "    }\n",
              "\n",
              "    .colab-df-convert {\n",
              "      background-color: #E8F0FE;\n",
              "      border: none;\n",
              "      border-radius: 50%;\n",
              "      cursor: pointer;\n",
              "      display: none;\n",
              "      fill: #1967D2;\n",
              "      height: 32px;\n",
              "      padding: 0 0 0 0;\n",
              "      width: 32px;\n",
              "    }\n",
              "\n",
              "    .colab-df-convert:hover {\n",
              "      background-color: #E2EBFA;\n",
              "      box-shadow: 0px 1px 2px rgba(60, 64, 67, 0.3), 0px 1px 3px 1px rgba(60, 64, 67, 0.15);\n",
              "      fill: #174EA6;\n",
              "    }\n",
              "\n",
              "    [theme=dark] .colab-df-convert {\n",
              "      background-color: #3B4455;\n",
              "      fill: #D2E3FC;\n",
              "    }\n",
              "\n",
              "    [theme=dark] .colab-df-convert:hover {\n",
              "      background-color: #434B5C;\n",
              "      box-shadow: 0px 1px 3px 1px rgba(0, 0, 0, 0.15);\n",
              "      filter: drop-shadow(0px 1px 2px rgba(0, 0, 0, 0.3));\n",
              "      fill: #FFFFFF;\n",
              "    }\n",
              "  </style>\n",
              "\n",
              "      <script>\n",
              "        const buttonEl =\n",
              "          document.querySelector('#df-be1d40ad-e523-4a41-a688-3696bedfa634 button.colab-df-convert');\n",
              "        buttonEl.style.display =\n",
              "          google.colab.kernel.accessAllowed ? 'block' : 'none';\n",
              "\n",
              "        async function convertToInteractive(key) {\n",
              "          const element = document.querySelector('#df-be1d40ad-e523-4a41-a688-3696bedfa634');\n",
              "          const dataTable =\n",
              "            await google.colab.kernel.invokeFunction('convertToInteractive',\n",
              "                                                     [key], {});\n",
              "          if (!dataTable) return;\n",
              "\n",
              "          const docLinkHtml = 'Like what you see? Visit the ' +\n",
              "            '<a target=\"_blank\" href=https://colab.research.google.com/notebooks/data_table.ipynb>data table notebook</a>'\n",
              "            + ' to learn more about interactive tables.';\n",
              "          element.innerHTML = '';\n",
              "          dataTable['output_type'] = 'display_data';\n",
              "          await google.colab.output.renderOutput(dataTable, element);\n",
              "          const docLink = document.createElement('div');\n",
              "          docLink.innerHTML = docLinkHtml;\n",
              "          element.appendChild(docLink);\n",
              "        }\n",
              "      </script>\n",
              "    </div>\n",
              "  </div>\n",
              "  "
            ]
          },
          "metadata": {}
        }
      ]
    },
    {
      "cell_type": "code",
      "source": [
        "# Plotting the composition of the portfolio\n",
        "\n",
        "ax = rp.plot_pie(w=w2,\n",
        "                 title='HERC Naive Risk Parity',\n",
        "                 others=0,\n",
        "                 nrow=25,\n",
        "                 cmap=\"tab20\",\n",
        "                 height=8,\n",
        "                 width=10,\n",
        "                 ax=None)"
      ],
      "metadata": {
        "colab": {
          "base_uri": "https://localhost:8080/",
          "height": 585
        },
        "id": "nGO_UNNVt0Nw",
        "outputId": "2a056a3a-2afe-4a3b-9bcf-655a5dcf501a"
      },
      "execution_count": 50,
      "outputs": [
        {
          "output_type": "display_data",
          "data": {
            "text/plain": [
              "<Figure size 720x576 with 1 Axes>"
            ],
            "image/png": "[encoded data removed]"
          },
          "metadata": {}
        }
      ]
    },
    {
      "cell_type": "code",
      "source": [
        "# Plotting the risk contribution graph of each asset\n",
        "\n",
        "\n",
        "ax = rp.plot_risk_con(w=w2,\n",
        "                 cov=port2.cov, \n",
        "                 returns=port2.returns, \n",
        "                 ax=None)"
      ],
      "metadata": {
        "colab": {
          "base_uri": "https://localhost:8080/",
          "height": 441
        },
        "id": "j1hCsqYBiSdu",
        "outputId": "ba1b95f6-1997-4df0-be18-efa6a25ded93"
      },
      "execution_count": 71,
      "outputs": [
        {
          "output_type": "display_data",
          "data": {
            "text/plain": [
              "<Figure size 720x432 with 1 Axes>"
            ],
            "image/png": "[encoded data removed]"
          },
          "metadata": {
            "needs_background": "light"
          }
        }
      ]
    },
    {
      "cell_type": "code",
      "source": [
        "get_port_stats(port2.returns, w2, port2.cov)"
      ],
      "metadata": {
        "colab": {
          "base_uri": "https://localhost:8080/"
        },
        "id": "S-6OQbmHgc_r",
        "outputId": "7c5ba960-0f30-499b-a3e7-f8407e11b8e8"
      },
      "execution_count": 186,
      "outputs": [
        {
          "output_type": "stream",
          "name": "stdout",
          "text": [
            "Expected Returns: 23.33%\n",
            "Annual Volatility: 20.07%\n",
            "Sharpe Ratio: 1.06\n"
          ]
        }
      ]
    }
  ],
  "metadata": {
    "accelerator": "GPU",
    "colab": {
      "name": "Athena - Portfolio Optimization using Machine Learning.ipynb",
      "provenance": [],
      "toc_visible": true,
      "include_colab_link": true
    },
    "kernelspec": {
      "display_name": "Python 3",
      "name": "python3"
    },
    "language_info": {
      "name": "python"
    }
  },
  "nbformat": 4,
  "nbformat_minor": 0
}