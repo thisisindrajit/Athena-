{
  "cells": [
    {
      "cell_type": "markdown",
      "metadata": {
        "id": "view-in-github",
        "colab_type": "text"
      },
      "source": [
        "<a href=\"https://colab.research.google.com/github/thisisindrajit/Athena/blob/main/code.ipynb\" target=\"_parent\"><img src=\"https://colab.research.google.com/assets/colab-badge.svg\" alt=\"Open In Colab\"/></a>"
      ]
    },
    {
      "cell_type": "markdown",
      "metadata": {
        "id": "JxinWUorgU9z"
      },
      "source": [
        "# Athena - Portfolio Optimization using Machine Learning\n",
        "\n",
        "Athena uses a novel approach to portfolio optimization. It combines both deep learning and statistics along with asset fundamentals analysis to generate a robust portfolio with maximal returns and minimal risk. "
      ]
    },
    {
      "cell_type": "markdown",
      "source": [
        "## Mounting Google Drive"
      ],
      "metadata": {
        "id": "UYS7kJBJfZ5h"
      }
    },
    {
      "cell_type": "code",
      "source": [
        "from google.colab import drive\n",
        "drive.mount('/content/drive')"
      ],
      "metadata": {
        "id": "N3ORS4DDfbmy",
        "colab": {
          "base_uri": "https://localhost:8080/"
        },
        "outputId": "a531b5e8-0d8f-4b0d-ee96-2eba1790dac8"
      },
      "execution_count": null,
      "outputs": [
        {
          "output_type": "stream",
          "name": "stdout",
          "text": [
            "Drive already mounted at /content/drive; to attempt to forcibly remount, call drive.mount(\"/content/drive\", force_remount=True).\n"
          ]
        }
      ]
    },
    {
      "cell_type": "markdown",
      "metadata": {
        "id": "WNsc6nOKgQc9"
      },
      "source": [
        "## Imports"
      ]
    },
    {
      "cell_type": "code",
      "execution_count": 1,
      "metadata": {
        "colab": {
          "base_uri": "https://localhost:8080/"
        },
        "id": "cHK1UK8OblvU",
        "outputId": "a0c5fd54-bbf5-4fef-fc36-3e9389e4ce03"
      },
      "outputs": [
        {
          "output_type": "stream",
          "name": "stdout",
          "text": [
            "Requirement already satisfied: yfinance in /usr/local/lib/python3.7/dist-packages (0.1.70)\n",
            "Requirement already satisfied: lxml>=4.5.1 in /usr/local/lib/python3.7/dist-packages (from yfinance) (4.8.0)\n",
            "Requirement already satisfied: pandas>=0.24.0 in /usr/local/lib/python3.7/dist-packages (from yfinance) (1.3.5)\n",
            "Requirement already satisfied: multitasking>=0.0.7 in /usr/local/lib/python3.7/dist-packages (from yfinance) (0.0.10)\n",
            "Requirement already satisfied: numpy>=1.15 in /usr/local/lib/python3.7/dist-packages (from yfinance) (1.21.5)\n",
            "Requirement already satisfied: requests>=2.26 in /usr/local/lib/python3.7/dist-packages (from yfinance) (2.27.1)\n",
            "Requirement already satisfied: pytz>=2017.3 in /usr/local/lib/python3.7/dist-packages (from pandas>=0.24.0->yfinance) (2018.9)\n",
            "Requirement already satisfied: python-dateutil>=2.7.3 in /usr/local/lib/python3.7/dist-packages (from pandas>=0.24.0->yfinance) (2.8.2)\n",
            "Requirement already satisfied: six>=1.5 in /usr/local/lib/python3.7/dist-packages (from python-dateutil>=2.7.3->pandas>=0.24.0->yfinance) (1.15.0)\n",
            "Requirement already satisfied: urllib3<1.27,>=1.21.1 in /usr/local/lib/python3.7/dist-packages (from requests>=2.26->yfinance) (1.24.3)\n",
            "Requirement already satisfied: idna<4,>=2.5 in /usr/local/lib/python3.7/dist-packages (from requests>=2.26->yfinance) (2.10)\n",
            "Requirement already satisfied: charset-normalizer~=2.0.0 in /usr/local/lib/python3.7/dist-packages (from requests>=2.26->yfinance) (2.0.12)\n",
            "Requirement already satisfied: certifi>=2017.4.17 in /usr/local/lib/python3.7/dist-packages (from requests>=2.26->yfinance) (2021.10.8)\n",
            "Requirement already satisfied: Riskfolio-Lib in /usr/local/lib/python3.7/dist-packages (3.0.1)\n",
            "Requirement already satisfied: astropy>=4.3.1 in /usr/local/lib/python3.7/dist-packages (from Riskfolio-Lib) (4.3.1)\n",
            "Requirement already satisfied: arch>=4.15 in /usr/local/lib/python3.7/dist-packages (from Riskfolio-Lib) (5.1.0)\n",
            "Requirement already satisfied: matplotlib>=3.3.0 in /usr/local/lib/python3.7/dist-packages (from Riskfolio-Lib) (3.5.1)\n",
            "Requirement already satisfied: cvxpy>=1.0.25 in /usr/local/lib/python3.7/dist-packages (from Riskfolio-Lib) (1.2.0)\n",
            "Requirement already satisfied: numpy>=1.17.0 in /usr/local/lib/python3.7/dist-packages (from Riskfolio-Lib) (1.21.5)\n",
            "Requirement already satisfied: statsmodels>=0.10.1 in /usr/local/lib/python3.7/dist-packages (from Riskfolio-Lib) (0.13.2)\n",
            "Requirement already satisfied: xlsxwriter>=1.3.7 in /usr/local/lib/python3.7/dist-packages (from Riskfolio-Lib) (3.0.3)\n",
            "Requirement already satisfied: scipy>=1.0.1 in /usr/local/lib/python3.7/dist-packages (from Riskfolio-Lib) (1.4.1)\n",
            "Requirement already satisfied: networkx>=2.5.1 in /usr/local/lib/python3.7/dist-packages (from Riskfolio-Lib) (2.6.3)\n",
            "Requirement already satisfied: pandas>=1.0.0 in /usr/local/lib/python3.7/dist-packages (from Riskfolio-Lib) (1.3.5)\n",
            "Requirement already satisfied: scikit-learn>=0.22.0 in /usr/local/lib/python3.7/dist-packages (from Riskfolio-Lib) (1.0.2)\n",
            "Requirement already satisfied: property-cached>=1.6.4 in /usr/local/lib/python3.7/dist-packages (from arch>=4.15->Riskfolio-Lib) (1.6.4)\n",
            "Requirement already satisfied: importlib-metadata in /usr/local/lib/python3.7/dist-packages (from astropy>=4.3.1->Riskfolio-Lib) (4.11.3)\n",
            "Requirement already satisfied: pyerfa>=1.7.3 in /usr/local/lib/python3.7/dist-packages (from astropy>=4.3.1->Riskfolio-Lib) (2.0.0.1)\n",
            "Requirement already satisfied: ecos>=2 in /usr/local/lib/python3.7/dist-packages (from cvxpy>=1.0.25->Riskfolio-Lib) (2.0.10)\n",
            "Requirement already satisfied: osqp>=0.4.1 in /usr/local/lib/python3.7/dist-packages (from cvxpy>=1.0.25->Riskfolio-Lib) (0.6.2.post0)\n",
            "Requirement already satisfied: scs>=1.1.6 in /usr/local/lib/python3.7/dist-packages (from cvxpy>=1.0.25->Riskfolio-Lib) (3.2.0)\n",
            "Requirement already satisfied: kiwisolver>=1.0.1 in /usr/local/lib/python3.7/dist-packages (from matplotlib>=3.3.0->Riskfolio-Lib) (1.4.0)\n",
            "Requirement already satisfied: fonttools>=4.22.0 in /usr/local/lib/python3.7/dist-packages (from matplotlib>=3.3.0->Riskfolio-Lib) (4.31.2)\n",
            "Requirement already satisfied: pillow>=6.2.0 in /usr/local/lib/python3.7/dist-packages (from matplotlib>=3.3.0->Riskfolio-Lib) (7.1.2)\n",
            "Requirement already satisfied: python-dateutil>=2.7 in /usr/local/lib/python3.7/dist-packages (from matplotlib>=3.3.0->Riskfolio-Lib) (2.8.2)\n",
            "Requirement already satisfied: packaging>=20.0 in /usr/local/lib/python3.7/dist-packages (from matplotlib>=3.3.0->Riskfolio-Lib) (21.3)\n",
            "Requirement already satisfied: pyparsing>=2.2.1 in /usr/local/lib/python3.7/dist-packages (from matplotlib>=3.3.0->Riskfolio-Lib) (3.0.7)\n",
            "Requirement already satisfied: cycler>=0.10 in /usr/local/lib/python3.7/dist-packages (from matplotlib>=3.3.0->Riskfolio-Lib) (0.11.0)\n",
            "Requirement already satisfied: typing-extensions in /usr/local/lib/python3.7/dist-packages (from kiwisolver>=1.0.1->matplotlib>=3.3.0->Riskfolio-Lib) (3.10.0.2)\n",
            "Requirement already satisfied: qdldl in /usr/local/lib/python3.7/dist-packages (from osqp>=0.4.1->cvxpy>=1.0.25->Riskfolio-Lib) (0.1.5.post0)\n",
            "Requirement already satisfied: pytz>=2017.3 in /usr/local/lib/python3.7/dist-packages (from pandas>=1.0.0->Riskfolio-Lib) (2018.9)\n",
            "Requirement already satisfied: six>=1.5 in /usr/local/lib/python3.7/dist-packages (from python-dateutil>=2.7->matplotlib>=3.3.0->Riskfolio-Lib) (1.15.0)\n",
            "Requirement already satisfied: threadpoolctl>=2.0.0 in /usr/local/lib/python3.7/dist-packages (from scikit-learn>=0.22.0->Riskfolio-Lib) (3.1.0)\n",
            "Requirement already satisfied: joblib>=0.11 in /usr/local/lib/python3.7/dist-packages (from scikit-learn>=0.22.0->Riskfolio-Lib) (1.1.0)\n",
            "Requirement already satisfied: patsy>=0.5.2 in /usr/local/lib/python3.7/dist-packages (from statsmodels>=0.10.1->Riskfolio-Lib) (0.5.2)\n",
            "Requirement already satisfied: zipp>=0.5 in /usr/local/lib/python3.7/dist-packages (from importlib-metadata->astropy>=4.3.1->Riskfolio-Lib) (3.7.0)\n",
            "Requirement already satisfied: PyPortfolioOpt in /usr/local/lib/python3.7/dist-packages (1.5.2)\n",
            "Requirement already satisfied: cvxpy<2.0.0,>=1.1.10 in /usr/local/lib/python3.7/dist-packages (from PyPortfolioOpt) (1.2.0)\n",
            "Requirement already satisfied: scipy<2.0,>=1.3 in /usr/local/lib/python3.7/dist-packages (from PyPortfolioOpt) (1.4.1)\n",
            "Requirement already satisfied: pandas>=0.19 in /usr/local/lib/python3.7/dist-packages (from PyPortfolioOpt) (1.3.5)\n",
            "Requirement already satisfied: numpy<2.0,>=1.12 in /usr/local/lib/python3.7/dist-packages (from PyPortfolioOpt) (1.21.5)\n",
            "Requirement already satisfied: scs>=1.1.6 in /usr/local/lib/python3.7/dist-packages (from cvxpy<2.0.0,>=1.1.10->PyPortfolioOpt) (3.2.0)\n",
            "Requirement already satisfied: osqp>=0.4.1 in /usr/local/lib/python3.7/dist-packages (from cvxpy<2.0.0,>=1.1.10->PyPortfolioOpt) (0.6.2.post0)\n",
            "Requirement already satisfied: ecos>=2 in /usr/local/lib/python3.7/dist-packages (from cvxpy<2.0.0,>=1.1.10->PyPortfolioOpt) (2.0.10)\n",
            "Requirement already satisfied: qdldl in /usr/local/lib/python3.7/dist-packages (from osqp>=0.4.1->cvxpy<2.0.0,>=1.1.10->PyPortfolioOpt) (0.1.5.post0)\n",
            "Requirement already satisfied: python-dateutil>=2.7.3 in /usr/local/lib/python3.7/dist-packages (from pandas>=0.19->PyPortfolioOpt) (2.8.2)\n",
            "Requirement already satisfied: pytz>=2017.3 in /usr/local/lib/python3.7/dist-packages (from pandas>=0.19->PyPortfolioOpt) (2018.9)\n",
            "Requirement already satisfied: six>=1.5 in /usr/local/lib/python3.7/dist-packages (from python-dateutil>=2.7.3->pandas>=0.19->PyPortfolioOpt) (1.15.0)\n",
            "2.8.0\n",
            "All neccessary imports done!\n"
          ]
        }
      ],
      "source": [
        "!pip install yfinance\n",
        "!pip install Riskfolio-Lib\n",
        "!pip install PyPortfolioOpt\n",
        "\n",
        "import numpy as np\n",
        "import tensorflow as tf\n",
        "from tensorflow import keras\n",
        "from keras.layers.core import Dense, Dropout, Flatten\n",
        "from keras.layers.recurrent import LSTM, GRU\n",
        "from keras.models import Sequential, load_model\n",
        "# from keras.callbacks import EarlyStopping, ReduceLROnPlateau\n",
        "import tensorflow.keras.backend as K\n",
        "import scipy\n",
        "import pandas as pd\n",
        "# from pandas_datareader import data as pdr\n",
        "import yfinance as yf\n",
        "from sklearn.model_selection import train_test_split\n",
        "from sklearn.preprocessing import MinMaxScaler\n",
        "\n",
        "print(tf.__version__)\n",
        "print(\"All neccessary imports done!\")"
      ]
    },
    {
      "cell_type": "markdown",
      "metadata": {
        "id": "3XGhyw70ey7M"
      },
      "source": [
        "## Variables"
      ]
    },
    {
      "cell_type": "code",
      "execution_count": 2,
      "metadata": {
        "id": "s3-7AdUne0tr"
      },
      "outputs": [],
      "source": [
        "tickers = [\"ASIANPAINT.NS\", \"RELIANCE.NS\", \"PIDILITIND.NS\", \"LUPIN.NS\", \"IOC.NS\"]\n",
        "# sorting tickers\n",
        "tickers.sort()\n",
        "\n",
        "time_steps = 100\n",
        "features = 1\n",
        "port_len = len(tickers)"
      ]
    },
    {
      "cell_type": "markdown",
      "metadata": {
        "id": "dHCHxCqaBnPN"
      },
      "source": [
        "## Getting data from API"
      ]
    },
    {
      "cell_type": "code",
      "execution_count": 3,
      "metadata": {
        "id": "XOzwCHNqBqhI"
      },
      "outputs": [],
      "source": [
        "def get_data(tickers, getInfo=True, period=\"5y\"):\n",
        "  \n",
        "  # download data of ticker symbol\n",
        "  data = yf.download(tickers, period=period)\n",
        "  \n",
        "  if(getInfo):\n",
        "    info = []\n",
        "\n",
        "    for ticker in tickers: \n",
        "      info.append(yf.Ticker(ticker).info)\n",
        "  \n",
        "  # remove open, high, low, volume, adj close columns\n",
        "  data = data.drop(\"Open\", axis = 1)\n",
        "  data = data.drop(\"High\", axis = 1)\n",
        "  data = data.drop(\"Low\", axis = 1)\n",
        "  data = data.drop(\"Volume\", axis = 1)\n",
        "  data = data.drop(\"Adj Close\", axis = 1)\n",
        "\n",
        "  if getInfo:\n",
        "    return data, info\n",
        "  else:\n",
        "    return data"
      ]
    },
    {
      "cell_type": "code",
      "execution_count": 4,
      "metadata": {
        "colab": {
          "base_uri": "https://localhost:8080/"
        },
        "id": "KLuty-2-g_lv",
        "outputId": "03cc914e-80b7-420c-b254-e265c5ce13ca"
      },
      "outputs": [
        {
          "output_type": "stream",
          "name": "stdout",
          "text": [
            "[*********************100%***********************]  5 of 5 completed\n"
          ]
        }
      ],
      "source": [
        "# valid periods: 1d,5d,1mo,3mo,6mo,1y,2y,5y,10y,ytd,max\n",
        "\n",
        "# df, info = get_data(tickers)\n",
        "df = get_data(tickers, getInfo=False, period=\"2y\")"
      ]
    },
    {
      "cell_type": "code",
      "execution_count": 5,
      "metadata": {
        "colab": {
          "base_uri": "https://localhost:8080/",
          "height": 450
        },
        "id": "0bEVHHVumo3D",
        "outputId": "651909b7-1c19-43b4-fb3d-4607df3510d0"
      },
      "outputs": [
        {
          "output_type": "execute_result",
          "data": {
            "text/plain": [
              "            ASIANPAINT.NS      IOC.NS    LUPIN.NS  PIDILITIND.NS  RELIANCE.NS\n",
              "Date                                                                         \n",
              "2020-03-24    1524.849976   79.699997  592.200012    1275.099976   934.541504\n",
              "2020-03-25    1593.150024   77.849998  566.500000    1271.099976  1072.087646\n",
              "2020-03-26    1616.949951   78.000000  558.650024    1267.900024  1056.188354\n",
              "2020-03-27    1604.150024   76.900002  548.099976    1299.150024  1055.593994\n",
              "2020-03-30    1594.949951   76.800003  560.599976    1283.199951  1020.774109\n",
              "...                   ...         ...         ...            ...          ...\n",
              "2022-03-17    3136.600098  121.349998  765.349976    2510.399902  2481.699951\n",
              "2022-03-21    3045.750000  118.000000  755.150024    2485.250000  2467.399902\n",
              "2022-03-22    3051.149902  120.650002  757.250000    2450.350098  2531.149902\n",
              "2022-03-23    3016.800049  121.699997  746.299988    2433.899902  2539.199951\n",
              "2022-03-24    3022.899902  120.550003  773.099976    2425.199951  2575.850098\n",
              "\n",
              "[498 rows x 5 columns]"
            ],
            "text/html": [
              "\n",
              "  <div id=\"df-3c84ac87-c856-430e-899f-8497d52fd6db\">\n",
              "    <div class=\"colab-df-container\">\n",
              "      <div>\n",
              "<style scoped>\n",
              "    .dataframe tbody tr th:only-of-type {\n",
              "        vertical-align: middle;\n",
              "    }\n",
              "\n",
              "    .dataframe tbody tr th {\n",
              "        vertical-align: top;\n",
              "    }\n",
              "\n",
              "    .dataframe thead th {\n",
              "        text-align: right;\n",
              "    }\n",
              "</style>\n",
              "<table border=\"1\" class=\"dataframe\">\n",
              "  <thead>\n",
              "    <tr style=\"text-align: right;\">\n",
              "      <th></th>\n",
              "      <th>ASIANPAINT.NS</th>\n",
              "      <th>IOC.NS</th>\n",
              "      <th>LUPIN.NS</th>\n",
              "      <th>PIDILITIND.NS</th>\n",
              "      <th>RELIANCE.NS</th>\n",
              "    </tr>\n",
              "    <tr>\n",
              "      <th>Date</th>\n",
              "      <th></th>\n",
              "      <th></th>\n",
              "      <th></th>\n",
              "      <th></th>\n",
              "      <th></th>\n",
              "    </tr>\n",
              "  </thead>\n",
              "  <tbody>\n",
              "    <tr>\n",
              "      <th>2020-03-24</th>\n",
              "      <td>1524.849976</td>\n",
              "      <td>79.699997</td>\n",
              "      <td>592.200012</td>\n",
              "      <td>1275.099976</td>\n",
              "      <td>934.541504</td>\n",
              "    </tr>\n",
              "    <tr>\n",
              "      <th>2020-03-25</th>\n",
              "      <td>1593.150024</td>\n",
              "      <td>77.849998</td>\n",
              "      <td>566.500000</td>\n",
              "      <td>1271.099976</td>\n",
              "      <td>1072.087646</td>\n",
              "    </tr>\n",
              "    <tr>\n",
              "      <th>2020-03-26</th>\n",
              "      <td>1616.949951</td>\n",
              "      <td>78.000000</td>\n",
              "      <td>558.650024</td>\n",
              "      <td>1267.900024</td>\n",
              "      <td>1056.188354</td>\n",
              "    </tr>\n",
              "    <tr>\n",
              "      <th>2020-03-27</th>\n",
              "      <td>1604.150024</td>\n",
              "      <td>76.900002</td>\n",
              "      <td>548.099976</td>\n",
              "      <td>1299.150024</td>\n",
              "      <td>1055.593994</td>\n",
              "    </tr>\n",
              "    <tr>\n",
              "      <th>2020-03-30</th>\n",
              "      <td>1594.949951</td>\n",
              "      <td>76.800003</td>\n",
              "      <td>560.599976</td>\n",
              "      <td>1283.199951</td>\n",
              "      <td>1020.774109</td>\n",
              "    </tr>\n",
              "    <tr>\n",
              "      <th>...</th>\n",
              "      <td>...</td>\n",
              "      <td>...</td>\n",
              "      <td>...</td>\n",
              "      <td>...</td>\n",
              "      <td>...</td>\n",
              "    </tr>\n",
              "    <tr>\n",
              "      <th>2022-03-17</th>\n",
              "      <td>3136.600098</td>\n",
              "      <td>121.349998</td>\n",
              "      <td>765.349976</td>\n",
              "      <td>2510.399902</td>\n",
              "      <td>2481.699951</td>\n",
              "    </tr>\n",
              "    <tr>\n",
              "      <th>2022-03-21</th>\n",
              "      <td>3045.750000</td>\n",
              "      <td>118.000000</td>\n",
              "      <td>755.150024</td>\n",
              "      <td>2485.250000</td>\n",
              "      <td>2467.399902</td>\n",
              "    </tr>\n",
              "    <tr>\n",
              "      <th>2022-03-22</th>\n",
              "      <td>3051.149902</td>\n",
              "      <td>120.650002</td>\n",
              "      <td>757.250000</td>\n",
              "      <td>2450.350098</td>\n",
              "      <td>2531.149902</td>\n",
              "    </tr>\n",
              "    <tr>\n",
              "      <th>2022-03-23</th>\n",
              "      <td>3016.800049</td>\n",
              "      <td>121.699997</td>\n",
              "      <td>746.299988</td>\n",
              "      <td>2433.899902</td>\n",
              "      <td>2539.199951</td>\n",
              "    </tr>\n",
              "    <tr>\n",
              "      <th>2022-03-24</th>\n",
              "      <td>3022.899902</td>\n",
              "      <td>120.550003</td>\n",
              "      <td>773.099976</td>\n",
              "      <td>2425.199951</td>\n",
              "      <td>2575.850098</td>\n",
              "    </tr>\n",
              "  </tbody>\n",
              "</table>\n",
              "<p>498 rows × 5 columns</p>\n",
              "</div>\n",
              "      <button class=\"colab-df-convert\" onclick=\"convertToInteractive('df-3c84ac87-c856-430e-899f-8497d52fd6db')\"\n",
              "              title=\"Convert this dataframe to an interactive table.\"\n",
              "              style=\"display:none;\">\n",
              "        \n",
              "  <svg xmlns=\"http://www.w3.org/2000/svg\" height=\"24px\"viewBox=\"0 0 24 24\"\n",
              "       width=\"24px\">\n",
              "    <path d=\"M0 0h24v24H0V0z\" fill=\"none\"/>\n",
              "    <path d=\"M18.56 5.44l.94 2.06.94-2.06 2.06-.94-2.06-.94-.94-2.06-.94 2.06-2.06.94zm-11 1L8.5 8.5l.94-2.06 2.06-.94-2.06-.94L8.5 2.5l-.94 2.06-2.06.94zm10 10l.94 2.06.94-2.06 2.06-.94-2.06-.94-.94-2.06-.94 2.06-2.06.94z\"/><path d=\"M17.41 7.96l-1.37-1.37c-.4-.4-.92-.59-1.43-.59-.52 0-1.04.2-1.43.59L10.3 9.45l-7.72 7.72c-.78.78-.78 2.05 0 2.83L4 21.41c.39.39.9.59 1.41.59.51 0 1.02-.2 1.41-.59l7.78-7.78 2.81-2.81c.8-.78.8-2.07 0-2.86zM5.41 20L4 18.59l7.72-7.72 1.47 1.35L5.41 20z\"/>\n",
              "  </svg>\n",
              "      </button>\n",
              "      \n",
              "  <style>\n",
              "    .colab-df-container {\n",
              "      display:flex;\n",
              "      flex-wrap:wrap;\n",
              "      gap: 12px;\n",
              "    }\n",
              "\n",
              "    .colab-df-convert {\n",
              "      background-color: #E8F0FE;\n",
              "      border: none;\n",
              "      border-radius: 50%;\n",
              "      cursor: pointer;\n",
              "      display: none;\n",
              "      fill: #1967D2;\n",
              "      height: 32px;\n",
              "      padding: 0 0 0 0;\n",
              "      width: 32px;\n",
              "    }\n",
              "\n",
              "    .colab-df-convert:hover {\n",
              "      background-color: #E2EBFA;\n",
              "      box-shadow: 0px 1px 2px rgba(60, 64, 67, 0.3), 0px 1px 3px 1px rgba(60, 64, 67, 0.15);\n",
              "      fill: #174EA6;\n",
              "    }\n",
              "\n",
              "    [theme=dark] .colab-df-convert {\n",
              "      background-color: #3B4455;\n",
              "      fill: #D2E3FC;\n",
              "    }\n",
              "\n",
              "    [theme=dark] .colab-df-convert:hover {\n",
              "      background-color: #434B5C;\n",
              "      box-shadow: 0px 1px 3px 1px rgba(0, 0, 0, 0.15);\n",
              "      filter: drop-shadow(0px 1px 2px rgba(0, 0, 0, 0.3));\n",
              "      fill: #FFFFFF;\n",
              "    }\n",
              "  </style>\n",
              "\n",
              "      <script>\n",
              "        const buttonEl =\n",
              "          document.querySelector('#df-3c84ac87-c856-430e-899f-8497d52fd6db button.colab-df-convert');\n",
              "        buttonEl.style.display =\n",
              "          google.colab.kernel.accessAllowed ? 'block' : 'none';\n",
              "\n",
              "        async function convertToInteractive(key) {\n",
              "          const element = document.querySelector('#df-3c84ac87-c856-430e-899f-8497d52fd6db');\n",
              "          const dataTable =\n",
              "            await google.colab.kernel.invokeFunction('convertToInteractive',\n",
              "                                                     [key], {});\n",
              "          if (!dataTable) return;\n",
              "\n",
              "          const docLinkHtml = 'Like what you see? Visit the ' +\n",
              "            '<a target=\"_blank\" href=https://colab.research.google.com/notebooks/data_table.ipynb>data table notebook</a>'\n",
              "            + ' to learn more about interactive tables.';\n",
              "          element.innerHTML = '';\n",
              "          dataTable['output_type'] = 'display_data';\n",
              "          await google.colab.output.renderOutput(dataTable, element);\n",
              "          const docLink = document.createElement('div');\n",
              "          docLink.innerHTML = docLinkHtml;\n",
              "          element.appendChild(docLink);\n",
              "        }\n",
              "      </script>\n",
              "    </div>\n",
              "  </div>\n",
              "  "
            ]
          },
          "metadata": {},
          "execution_count": 5
        }
      ],
      "source": [
        "df = df[\"Close\"]\n",
        "df"
      ]
    },
    {
      "cell_type": "markdown",
      "source": [
        "## Converting company info to DataFrame"
      ],
      "metadata": {
        "id": "jKCX7DdD4F1q"
      }
    },
    {
      "cell_type": "code",
      "source": [
        "# Information of the company of first ticker symbol\n",
        "infodf0 = pd.DataFrame.from_dict(info[0],orient='index')\n",
        "infodf0 = infodf0.reset_index()\n",
        "infodf0"
      ],
      "metadata": {
        "colab": {
          "base_uri": "https://localhost:8080/",
          "height": 419
        },
        "id": "eQV8KAcz4FcB",
        "outputId": "278073d6-c686-4f01-df5f-0313d7c03c56"
      },
      "execution_count": 333,
      "outputs": [
        {
          "output_type": "execute_result",
          "data": {
            "text/plain": [
              "                   index                                                  0\n",
              "0                    zip                                             400055\n",
              "1                 sector                                    Basic Materials\n",
              "2      fullTimeEmployees                                               7134\n",
              "3    longBusinessSummary  Asian Paints Limited, together with its subsid...\n",
              "4                   city                                             Mumbai\n",
              "..                   ...                                                ...\n",
              "148              bidSize                                                  0\n",
              "149              dayHigh                                             3079.9\n",
              "150   regularMarketPrice                                             3016.8\n",
              "151       preMarketPrice                                               None\n",
              "152             logo_url          https://logo.clearbit.com/asianpaints.com\n",
              "\n",
              "[153 rows x 2 columns]"
            ],
            "text/html": [
              "\n",
              "  <div id=\"df-155cac37-2672-41eb-aec6-62cffbd1cddd\">\n",
              "    <div class=\"colab-df-container\">\n",
              "      <div>\n",
              "<style scoped>\n",
              "    .dataframe tbody tr th:only-of-type {\n",
              "        vertical-align: middle;\n",
              "    }\n",
              "\n",
              "    .dataframe tbody tr th {\n",
              "        vertical-align: top;\n",
              "    }\n",
              "\n",
              "    .dataframe thead th {\n",
              "        text-align: right;\n",
              "    }\n",
              "</style>\n",
              "<table border=\"1\" class=\"dataframe\">\n",
              "  <thead>\n",
              "    <tr style=\"text-align: right;\">\n",
              "      <th></th>\n",
              "      <th>index</th>\n",
              "      <th>0</th>\n",
              "    </tr>\n",
              "  </thead>\n",
              "  <tbody>\n",
              "    <tr>\n",
              "      <th>0</th>\n",
              "      <td>zip</td>\n",
              "      <td>400055</td>\n",
              "    </tr>\n",
              "    <tr>\n",
              "      <th>1</th>\n",
              "      <td>sector</td>\n",
              "      <td>Basic Materials</td>\n",
              "    </tr>\n",
              "    <tr>\n",
              "      <th>2</th>\n",
              "      <td>fullTimeEmployees</td>\n",
              "      <td>7134</td>\n",
              "    </tr>\n",
              "    <tr>\n",
              "      <th>3</th>\n",
              "      <td>longBusinessSummary</td>\n",
              "      <td>Asian Paints Limited, together with its subsid...</td>\n",
              "    </tr>\n",
              "    <tr>\n",
              "      <th>4</th>\n",
              "      <td>city</td>\n",
              "      <td>Mumbai</td>\n",
              "    </tr>\n",
              "    <tr>\n",
              "      <th>...</th>\n",
              "      <td>...</td>\n",
              "      <td>...</td>\n",
              "    </tr>\n",
              "    <tr>\n",
              "      <th>148</th>\n",
              "      <td>bidSize</td>\n",
              "      <td>0</td>\n",
              "    </tr>\n",
              "    <tr>\n",
              "      <th>149</th>\n",
              "      <td>dayHigh</td>\n",
              "      <td>3079.9</td>\n",
              "    </tr>\n",
              "    <tr>\n",
              "      <th>150</th>\n",
              "      <td>regularMarketPrice</td>\n",
              "      <td>3016.8</td>\n",
              "    </tr>\n",
              "    <tr>\n",
              "      <th>151</th>\n",
              "      <td>preMarketPrice</td>\n",
              "      <td>None</td>\n",
              "    </tr>\n",
              "    <tr>\n",
              "      <th>152</th>\n",
              "      <td>logo_url</td>\n",
              "      <td>https://logo.clearbit.com/asianpaints.com</td>\n",
              "    </tr>\n",
              "  </tbody>\n",
              "</table>\n",
              "<p>153 rows × 2 columns</p>\n",
              "</div>\n",
              "      <button class=\"colab-df-convert\" onclick=\"convertToInteractive('df-155cac37-2672-41eb-aec6-62cffbd1cddd')\"\n",
              "              title=\"Convert this dataframe to an interactive table.\"\n",
              "              style=\"display:none;\">\n",
              "        \n",
              "  <svg xmlns=\"http://www.w3.org/2000/svg\" height=\"24px\"viewBox=\"0 0 24 24\"\n",
              "       width=\"24px\">\n",
              "    <path d=\"M0 0h24v24H0V0z\" fill=\"none\"/>\n",
              "    <path d=\"M18.56 5.44l.94 2.06.94-2.06 2.06-.94-2.06-.94-.94-2.06-.94 2.06-2.06.94zm-11 1L8.5 8.5l.94-2.06 2.06-.94-2.06-.94L8.5 2.5l-.94 2.06-2.06.94zm10 10l.94 2.06.94-2.06 2.06-.94-2.06-.94-.94-2.06-.94 2.06-2.06.94z\"/><path d=\"M17.41 7.96l-1.37-1.37c-.4-.4-.92-.59-1.43-.59-.52 0-1.04.2-1.43.59L10.3 9.45l-7.72 7.72c-.78.78-.78 2.05 0 2.83L4 21.41c.39.39.9.59 1.41.59.51 0 1.02-.2 1.41-.59l7.78-7.78 2.81-2.81c.8-.78.8-2.07 0-2.86zM5.41 20L4 18.59l7.72-7.72 1.47 1.35L5.41 20z\"/>\n",
              "  </svg>\n",
              "      </button>\n",
              "      \n",
              "  <style>\n",
              "    .colab-df-container {\n",
              "      display:flex;\n",
              "      flex-wrap:wrap;\n",
              "      gap: 12px;\n",
              "    }\n",
              "\n",
              "    .colab-df-convert {\n",
              "      background-color: #E8F0FE;\n",
              "      border: none;\n",
              "      border-radius: 50%;\n",
              "      cursor: pointer;\n",
              "      display: none;\n",
              "      fill: #1967D2;\n",
              "      height: 32px;\n",
              "      padding: 0 0 0 0;\n",
              "      width: 32px;\n",
              "    }\n",
              "\n",
              "    .colab-df-convert:hover {\n",
              "      background-color: #E2EBFA;\n",
              "      box-shadow: 0px 1px 2px rgba(60, 64, 67, 0.3), 0px 1px 3px 1px rgba(60, 64, 67, 0.15);\n",
              "      fill: #174EA6;\n",
              "    }\n",
              "\n",
              "    [theme=dark] .colab-df-convert {\n",
              "      background-color: #3B4455;\n",
              "      fill: #D2E3FC;\n",
              "    }\n",
              "\n",
              "    [theme=dark] .colab-df-convert:hover {\n",
              "      background-color: #434B5C;\n",
              "      box-shadow: 0px 1px 3px 1px rgba(0, 0, 0, 0.15);\n",
              "      filter: drop-shadow(0px 1px 2px rgba(0, 0, 0, 0.3));\n",
              "      fill: #FFFFFF;\n",
              "    }\n",
              "  </style>\n",
              "\n",
              "      <script>\n",
              "        const buttonEl =\n",
              "          document.querySelector('#df-155cac37-2672-41eb-aec6-62cffbd1cddd button.colab-df-convert');\n",
              "        buttonEl.style.display =\n",
              "          google.colab.kernel.accessAllowed ? 'block' : 'none';\n",
              "\n",
              "        async function convertToInteractive(key) {\n",
              "          const element = document.querySelector('#df-155cac37-2672-41eb-aec6-62cffbd1cddd');\n",
              "          const dataTable =\n",
              "            await google.colab.kernel.invokeFunction('convertToInteractive',\n",
              "                                                     [key], {});\n",
              "          if (!dataTable) return;\n",
              "\n",
              "          const docLinkHtml = 'Like what you see? Visit the ' +\n",
              "            '<a target=\"_blank\" href=https://colab.research.google.com/notebooks/data_table.ipynb>data table notebook</a>'\n",
              "            + ' to learn more about interactive tables.';\n",
              "          element.innerHTML = '';\n",
              "          dataTable['output_type'] = 'display_data';\n",
              "          await google.colab.output.renderOutput(dataTable, element);\n",
              "          const docLink = document.createElement('div');\n",
              "          docLink.innerHTML = docLinkHtml;\n",
              "          element.appendChild(docLink);\n",
              "        }\n",
              "      </script>\n",
              "    </div>\n",
              "  </div>\n",
              "  "
            ]
          },
          "metadata": {},
          "execution_count": 333
        }
      ]
    },
    {
      "cell_type": "markdown",
      "metadata": {
        "id": "MSxyOwzrk8zH"
      },
      "source": [
        "## Visualizing the data"
      ]
    },
    {
      "cell_type": "code",
      "execution_count": 6,
      "metadata": {
        "colab": {
          "base_uri": "https://localhost:8080/",
          "height": 441
        },
        "id": "qmtu1y_Pk_qV",
        "outputId": "c39c276e-92b8-4095-e807-a804d01b1a3e"
      },
      "outputs": [
        {
          "output_type": "execute_result",
          "data": {
            "text/plain": [
              "<AxesSubplot:xlabel='Date'>"
            ]
          },
          "metadata": {},
          "execution_count": 6
        },
        {
          "output_type": "display_data",
          "data": {
            "text/plain": [
              "<Figure size 1080x504 with 1 Axes>"
            ],
            "image/png": "[encoded data removed]"
          },
          "metadata": {
            "needs_background": "light"
          }
        }
      ],
      "source": [
        "# Pandas has inbuilt support for matplotlib, so we can use plot function directly\n",
        "\n",
        "df.plot(label = tickers, figsize = (15,7))"
      ]
    },
    {
      "cell_type": "markdown",
      "source": [
        "# Deep Learning model for future price prediction"
      ],
      "metadata": {
        "id": "onZAh1jUgf0L"
      }
    },
    {
      "cell_type": "markdown",
      "source": [
        "## Preprocessing"
      ],
      "metadata": {
        "id": "7uBPFlCGG9GU"
      }
    },
    {
      "cell_type": "code",
      "execution_count": null,
      "metadata": {
        "colab": {
          "base_uri": "https://localhost:8080/"
        },
        "id": "gSNB-_3M0BEK",
        "outputId": "aba08f6a-d1b2-4f1f-847d-648f2b8fed3d"
      },
      "outputs": [
        {
          "output_type": "stream",
          "name": "stdout",
          "text": [
            "            ASIANPAINT.NS      IOC.NS     LUPIN.NS  PIDILITIND.NS  RELIANCE.NS\n",
            "Date                                                                          \n",
            "2017-03-23    1064.250000  186.350006  1487.800049     688.250000   637.333740\n",
            "2017-03-24    1042.900024  185.449997  1457.750000     682.900024   619.676086\n",
            "2017-03-27    1057.849976  184.524994  1455.699951     696.500000   617.026184\n",
            "2017-03-28    1068.099976  185.074997  1454.349976     689.099976   622.425049\n",
            "2017-03-29    1070.099976  188.399994  1446.949951     690.950012   629.359314\n",
            "...                   ...         ...          ...            ...          ...\n",
            "2022-03-16    3136.600098  121.349998   765.349976    2510.399902  2481.699951\n",
            "2022-03-17    3045.750000  118.000000   755.150024    2485.250000  2467.399902\n",
            "2022-03-21    3051.149902  120.650002   757.250000    2450.350098  2531.149902\n",
            "2022-03-22    3007.300049  121.199997   752.500000    2421.899902  2542.000000\n",
            "2022-03-23            NaN         NaN          NaN            NaN          NaN\n",
            "\n",
            "[1236 rows x 5 columns]\n"
          ]
        }
      ],
      "source": [
        "# shifting is done here to ensure that the next day's price is predicted on the given day\n",
        "df_shift = df.shift(-1)\n",
        "\n",
        "label = df_shift\n",
        "\n",
        "print(label)"
      ]
    },
    {
      "cell_type": "code",
      "execution_count": null,
      "metadata": {
        "id": "vLTWOHNy9N65"
      },
      "outputs": [],
      "source": [
        "# adjusting the shape of both df and label (since label contains NaN as the last value)\n",
        "\n",
        "df.drop(df.index[len(df)-1], axis=0, inplace=True)\n",
        "label.drop(label.index[len(label)-1], axis=0, inplace=True)"
      ]
    },
    {
      "cell_type": "code",
      "source": [
        "df"
      ],
      "metadata": {
        "colab": {
          "base_uri": "https://localhost:8080/",
          "height": 450
        },
        "id": "hVxXZ5feD-8X",
        "outputId": "61269241-06a6-4230-a4cf-42bdd462ab1d"
      },
      "execution_count": null,
      "outputs": [
        {
          "output_type": "execute_result",
          "data": {
            "text/plain": [
              "            ASIANPAINT.NS      IOC.NS     LUPIN.NS  PIDILITIND.NS  RELIANCE.NS\n",
              "Date                                                                          \n",
              "2017-03-23    1061.599976  188.399994  1490.250000     693.849976   630.671875\n",
              "2017-03-24    1064.250000  186.350006  1487.800049     688.250000   637.333740\n",
              "2017-03-27    1042.900024  185.449997  1457.750000     682.900024   619.676086\n",
              "2017-03-28    1057.849976  184.524994  1455.699951     696.500000   617.026184\n",
              "2017-03-29    1068.099976  185.074997  1454.349976     689.099976   622.425049\n",
              "...                   ...         ...          ...            ...          ...\n",
              "2022-03-15    2987.149902  119.000000   737.950012    2370.550049  2363.449951\n",
              "2022-03-16    3042.000000  121.949997   749.599976    2462.899902  2403.350098\n",
              "2022-03-17    3136.600098  121.349998   765.349976    2510.399902  2481.699951\n",
              "2022-03-21    3045.750000  118.000000   755.150024    2485.250000  2467.399902\n",
              "2022-03-22    3051.149902  120.650002   757.250000    2450.350098  2531.149902\n",
              "\n",
              "[1235 rows x 5 columns]"
            ],
            "text/html": [
              "\n",
              "  <div id=\"df-464769ee-d92e-4925-a506-1f0cd8d88417\">\n",
              "    <div class=\"colab-df-container\">\n",
              "      <div>\n",
              "<style scoped>\n",
              "    .dataframe tbody tr th:only-of-type {\n",
              "        vertical-align: middle;\n",
              "    }\n",
              "\n",
              "    .dataframe tbody tr th {\n",
              "        vertical-align: top;\n",
              "    }\n",
              "\n",
              "    .dataframe thead th {\n",
              "        text-align: right;\n",
              "    }\n",
              "</style>\n",
              "<table border=\"1\" class=\"dataframe\">\n",
              "  <thead>\n",
              "    <tr style=\"text-align: right;\">\n",
              "      <th></th>\n",
              "      <th>ASIANPAINT.NS</th>\n",
              "      <th>IOC.NS</th>\n",
              "      <th>LUPIN.NS</th>\n",
              "      <th>PIDILITIND.NS</th>\n",
              "      <th>RELIANCE.NS</th>\n",
              "    </tr>\n",
              "    <tr>\n",
              "      <th>Date</th>\n",
              "      <th></th>\n",
              "      <th></th>\n",
              "      <th></th>\n",
              "      <th></th>\n",
              "      <th></th>\n",
              "    </tr>\n",
              "  </thead>\n",
              "  <tbody>\n",
              "    <tr>\n",
              "      <th>2017-03-23</th>\n",
              "      <td>1061.599976</td>\n",
              "      <td>188.399994</td>\n",
              "      <td>1490.250000</td>\n",
              "      <td>693.849976</td>\n",
              "      <td>630.671875</td>\n",
              "    </tr>\n",
              "    <tr>\n",
              "      <th>2017-03-24</th>\n",
              "      <td>1064.250000</td>\n",
              "      <td>186.350006</td>\n",
              "      <td>1487.800049</td>\n",
              "      <td>688.250000</td>\n",
              "      <td>637.333740</td>\n",
              "    </tr>\n",
              "    <tr>\n",
              "      <th>2017-03-27</th>\n",
              "      <td>1042.900024</td>\n",
              "      <td>185.449997</td>\n",
              "      <td>1457.750000</td>\n",
              "      <td>682.900024</td>\n",
              "      <td>619.676086</td>\n",
              "    </tr>\n",
              "    <tr>\n",
              "      <th>2017-03-28</th>\n",
              "      <td>1057.849976</td>\n",
              "      <td>184.524994</td>\n",
              "      <td>1455.699951</td>\n",
              "      <td>696.500000</td>\n",
              "      <td>617.026184</td>\n",
              "    </tr>\n",
              "    <tr>\n",
              "      <th>2017-03-29</th>\n",
              "      <td>1068.099976</td>\n",
              "      <td>185.074997</td>\n",
              "      <td>1454.349976</td>\n",
              "      <td>689.099976</td>\n",
              "      <td>622.425049</td>\n",
              "    </tr>\n",
              "    <tr>\n",
              "      <th>...</th>\n",
              "      <td>...</td>\n",
              "      <td>...</td>\n",
              "      <td>...</td>\n",
              "      <td>...</td>\n",
              "      <td>...</td>\n",
              "    </tr>\n",
              "    <tr>\n",
              "      <th>2022-03-15</th>\n",
              "      <td>2987.149902</td>\n",
              "      <td>119.000000</td>\n",
              "      <td>737.950012</td>\n",
              "      <td>2370.550049</td>\n",
              "      <td>2363.449951</td>\n",
              "    </tr>\n",
              "    <tr>\n",
              "      <th>2022-03-16</th>\n",
              "      <td>3042.000000</td>\n",
              "      <td>121.949997</td>\n",
              "      <td>749.599976</td>\n",
              "      <td>2462.899902</td>\n",
              "      <td>2403.350098</td>\n",
              "    </tr>\n",
              "    <tr>\n",
              "      <th>2022-03-17</th>\n",
              "      <td>3136.600098</td>\n",
              "      <td>121.349998</td>\n",
              "      <td>765.349976</td>\n",
              "      <td>2510.399902</td>\n",
              "      <td>2481.699951</td>\n",
              "    </tr>\n",
              "    <tr>\n",
              "      <th>2022-03-21</th>\n",
              "      <td>3045.750000</td>\n",
              "      <td>118.000000</td>\n",
              "      <td>755.150024</td>\n",
              "      <td>2485.250000</td>\n",
              "      <td>2467.399902</td>\n",
              "    </tr>\n",
              "    <tr>\n",
              "      <th>2022-03-22</th>\n",
              "      <td>3051.149902</td>\n",
              "      <td>120.650002</td>\n",
              "      <td>757.250000</td>\n",
              "      <td>2450.350098</td>\n",
              "      <td>2531.149902</td>\n",
              "    </tr>\n",
              "  </tbody>\n",
              "</table>\n",
              "<p>1235 rows × 5 columns</p>\n",
              "</div>\n",
              "      <button class=\"colab-df-convert\" onclick=\"convertToInteractive('df-464769ee-d92e-4925-a506-1f0cd8d88417')\"\n",
              "              title=\"Convert this dataframe to an interactive table.\"\n",
              "              style=\"display:none;\">\n",
              "        \n",
              "  <svg xmlns=\"http://www.w3.org/2000/svg\" height=\"24px\"viewBox=\"0 0 24 24\"\n",
              "       width=\"24px\">\n",
              "    <path d=\"M0 0h24v24H0V0z\" fill=\"none\"/>\n",
              "    <path d=\"M18.56 5.44l.94 2.06.94-2.06 2.06-.94-2.06-.94-.94-2.06-.94 2.06-2.06.94zm-11 1L8.5 8.5l.94-2.06 2.06-.94-2.06-.94L8.5 2.5l-.94 2.06-2.06.94zm10 10l.94 2.06.94-2.06 2.06-.94-2.06-.94-.94-2.06-.94 2.06-2.06.94z\"/><path d=\"M17.41 7.96l-1.37-1.37c-.4-.4-.92-.59-1.43-.59-.52 0-1.04.2-1.43.59L10.3 9.45l-7.72 7.72c-.78.78-.78 2.05 0 2.83L4 21.41c.39.39.9.59 1.41.59.51 0 1.02-.2 1.41-.59l7.78-7.78 2.81-2.81c.8-.78.8-2.07 0-2.86zM5.41 20L4 18.59l7.72-7.72 1.47 1.35L5.41 20z\"/>\n",
              "  </svg>\n",
              "      </button>\n",
              "      \n",
              "  <style>\n",
              "    .colab-df-container {\n",
              "      display:flex;\n",
              "      flex-wrap:wrap;\n",
              "      gap: 12px;\n",
              "    }\n",
              "\n",
              "    .colab-df-convert {\n",
              "      background-color: #E8F0FE;\n",
              "      border: none;\n",
              "      border-radius: 50%;\n",
              "      cursor: pointer;\n",
              "      display: none;\n",
              "      fill: #1967D2;\n",
              "      height: 32px;\n",
              "      padding: 0 0 0 0;\n",
              "      width: 32px;\n",
              "    }\n",
              "\n",
              "    .colab-df-convert:hover {\n",
              "      background-color: #E2EBFA;\n",
              "      box-shadow: 0px 1px 2px rgba(60, 64, 67, 0.3), 0px 1px 3px 1px rgba(60, 64, 67, 0.15);\n",
              "      fill: #174EA6;\n",
              "    }\n",
              "\n",
              "    [theme=dark] .colab-df-convert {\n",
              "      background-color: #3B4455;\n",
              "      fill: #D2E3FC;\n",
              "    }\n",
              "\n",
              "    [theme=dark] .colab-df-convert:hover {\n",
              "      background-color: #434B5C;\n",
              "      box-shadow: 0px 1px 3px 1px rgba(0, 0, 0, 0.15);\n",
              "      filter: drop-shadow(0px 1px 2px rgba(0, 0, 0, 0.3));\n",
              "      fill: #FFFFFF;\n",
              "    }\n",
              "  </style>\n",
              "\n",
              "      <script>\n",
              "        const buttonEl =\n",
              "          document.querySelector('#df-464769ee-d92e-4925-a506-1f0cd8d88417 button.colab-df-convert');\n",
              "        buttonEl.style.display =\n",
              "          google.colab.kernel.accessAllowed ? 'block' : 'none';\n",
              "\n",
              "        async function convertToInteractive(key) {\n",
              "          const element = document.querySelector('#df-464769ee-d92e-4925-a506-1f0cd8d88417');\n",
              "          const dataTable =\n",
              "            await google.colab.kernel.invokeFunction('convertToInteractive',\n",
              "                                                     [key], {});\n",
              "          if (!dataTable) return;\n",
              "\n",
              "          const docLinkHtml = 'Like what you see? Visit the ' +\n",
              "            '<a target=\"_blank\" href=https://colab.research.google.com/notebooks/data_table.ipynb>data table notebook</a>'\n",
              "            + ' to learn more about interactive tables.';\n",
              "          element.innerHTML = '';\n",
              "          dataTable['output_type'] = 'display_data';\n",
              "          await google.colab.output.renderOutput(dataTable, element);\n",
              "          const docLink = document.createElement('div');\n",
              "          docLink.innerHTML = docLinkHtml;\n",
              "          element.appendChild(docLink);\n",
              "        }\n",
              "      </script>\n",
              "    </div>\n",
              "  </div>\n",
              "  "
            ]
          },
          "metadata": {},
          "execution_count": 12
        }
      ]
    },
    {
      "cell_type": "code",
      "source": [
        "label"
      ],
      "metadata": {
        "colab": {
          "base_uri": "https://localhost:8080/",
          "height": 450
        },
        "id": "GX6_PhyADAbc",
        "outputId": "b61697a7-5dca-476a-e8d5-9c1c74238f7e"
      },
      "execution_count": null,
      "outputs": [
        {
          "output_type": "execute_result",
          "data": {
            "text/plain": [
              "            ASIANPAINT.NS      IOC.NS     LUPIN.NS  PIDILITIND.NS  RELIANCE.NS\n",
              "Date                                                                          \n",
              "2017-03-23    1064.250000  186.350006  1487.800049     688.250000   637.333740\n",
              "2017-03-24    1042.900024  185.449997  1457.750000     682.900024   619.676086\n",
              "2017-03-27    1057.849976  184.524994  1455.699951     696.500000   617.026184\n",
              "2017-03-28    1068.099976  185.074997  1454.349976     689.099976   622.425049\n",
              "2017-03-29    1070.099976  188.399994  1446.949951     690.950012   629.359314\n",
              "...                   ...         ...          ...            ...          ...\n",
              "2022-03-15    3042.000000  121.949997   749.599976    2462.899902  2403.350098\n",
              "2022-03-16    3136.600098  121.349998   765.349976    2510.399902  2481.699951\n",
              "2022-03-17    3045.750000  118.000000   755.150024    2485.250000  2467.399902\n",
              "2022-03-21    3051.149902  120.650002   757.250000    2450.350098  2531.149902\n",
              "2022-03-22    3007.300049  121.199997   752.500000    2421.899902  2542.000000\n",
              "\n",
              "[1235 rows x 5 columns]"
            ],
            "text/html": [
              "\n",
              "  <div id=\"df-09584736-d33d-4be9-b205-ae60f07c0a52\">\n",
              "    <div class=\"colab-df-container\">\n",
              "      <div>\n",
              "<style scoped>\n",
              "    .dataframe tbody tr th:only-of-type {\n",
              "        vertical-align: middle;\n",
              "    }\n",
              "\n",
              "    .dataframe tbody tr th {\n",
              "        vertical-align: top;\n",
              "    }\n",
              "\n",
              "    .dataframe thead th {\n",
              "        text-align: right;\n",
              "    }\n",
              "</style>\n",
              "<table border=\"1\" class=\"dataframe\">\n",
              "  <thead>\n",
              "    <tr style=\"text-align: right;\">\n",
              "      <th></th>\n",
              "      <th>ASIANPAINT.NS</th>\n",
              "      <th>IOC.NS</th>\n",
              "      <th>LUPIN.NS</th>\n",
              "      <th>PIDILITIND.NS</th>\n",
              "      <th>RELIANCE.NS</th>\n",
              "    </tr>\n",
              "    <tr>\n",
              "      <th>Date</th>\n",
              "      <th></th>\n",
              "      <th></th>\n",
              "      <th></th>\n",
              "      <th></th>\n",
              "      <th></th>\n",
              "    </tr>\n",
              "  </thead>\n",
              "  <tbody>\n",
              "    <tr>\n",
              "      <th>2017-03-23</th>\n",
              "      <td>1064.250000</td>\n",
              "      <td>186.350006</td>\n",
              "      <td>1487.800049</td>\n",
              "      <td>688.250000</td>\n",
              "      <td>637.333740</td>\n",
              "    </tr>\n",
              "    <tr>\n",
              "      <th>2017-03-24</th>\n",
              "      <td>1042.900024</td>\n",
              "      <td>185.449997</td>\n",
              "      <td>1457.750000</td>\n",
              "      <td>682.900024</td>\n",
              "      <td>619.676086</td>\n",
              "    </tr>\n",
              "    <tr>\n",
              "      <th>2017-03-27</th>\n",
              "      <td>1057.849976</td>\n",
              "      <td>184.524994</td>\n",
              "      <td>1455.699951</td>\n",
              "      <td>696.500000</td>\n",
              "      <td>617.026184</td>\n",
              "    </tr>\n",
              "    <tr>\n",
              "      <th>2017-03-28</th>\n",
              "      <td>1068.099976</td>\n",
              "      <td>185.074997</td>\n",
              "      <td>1454.349976</td>\n",
              "      <td>689.099976</td>\n",
              "      <td>622.425049</td>\n",
              "    </tr>\n",
              "    <tr>\n",
              "      <th>2017-03-29</th>\n",
              "      <td>1070.099976</td>\n",
              "      <td>188.399994</td>\n",
              "      <td>1446.949951</td>\n",
              "      <td>690.950012</td>\n",
              "      <td>629.359314</td>\n",
              "    </tr>\n",
              "    <tr>\n",
              "      <th>...</th>\n",
              "      <td>...</td>\n",
              "      <td>...</td>\n",
              "      <td>...</td>\n",
              "      <td>...</td>\n",
              "      <td>...</td>\n",
              "    </tr>\n",
              "    <tr>\n",
              "      <th>2022-03-15</th>\n",
              "      <td>3042.000000</td>\n",
              "      <td>121.949997</td>\n",
              "      <td>749.599976</td>\n",
              "      <td>2462.899902</td>\n",
              "      <td>2403.350098</td>\n",
              "    </tr>\n",
              "    <tr>\n",
              "      <th>2022-03-16</th>\n",
              "      <td>3136.600098</td>\n",
              "      <td>121.349998</td>\n",
              "      <td>765.349976</td>\n",
              "      <td>2510.399902</td>\n",
              "      <td>2481.699951</td>\n",
              "    </tr>\n",
              "    <tr>\n",
              "      <th>2022-03-17</th>\n",
              "      <td>3045.750000</td>\n",
              "      <td>118.000000</td>\n",
              "      <td>755.150024</td>\n",
              "      <td>2485.250000</td>\n",
              "      <td>2467.399902</td>\n",
              "    </tr>\n",
              "    <tr>\n",
              "      <th>2022-03-21</th>\n",
              "      <td>3051.149902</td>\n",
              "      <td>120.650002</td>\n",
              "      <td>757.250000</td>\n",
              "      <td>2450.350098</td>\n",
              "      <td>2531.149902</td>\n",
              "    </tr>\n",
              "    <tr>\n",
              "      <th>2022-03-22</th>\n",
              "      <td>3007.300049</td>\n",
              "      <td>121.199997</td>\n",
              "      <td>752.500000</td>\n",
              "      <td>2421.899902</td>\n",
              "      <td>2542.000000</td>\n",
              "    </tr>\n",
              "  </tbody>\n",
              "</table>\n",
              "<p>1235 rows × 5 columns</p>\n",
              "</div>\n",
              "      <button class=\"colab-df-convert\" onclick=\"convertToInteractive('df-09584736-d33d-4be9-b205-ae60f07c0a52')\"\n",
              "              title=\"Convert this dataframe to an interactive table.\"\n",
              "              style=\"display:none;\">\n",
              "        \n",
              "  <svg xmlns=\"http://www.w3.org/2000/svg\" height=\"24px\"viewBox=\"0 0 24 24\"\n",
              "       width=\"24px\">\n",
              "    <path d=\"M0 0h24v24H0V0z\" fill=\"none\"/>\n",
              "    <path d=\"M18.56 5.44l.94 2.06.94-2.06 2.06-.94-2.06-.94-.94-2.06-.94 2.06-2.06.94zm-11 1L8.5 8.5l.94-2.06 2.06-.94-2.06-.94L8.5 2.5l-.94 2.06-2.06.94zm10 10l.94 2.06.94-2.06 2.06-.94-2.06-.94-.94-2.06-.94 2.06-2.06.94z\"/><path d=\"M17.41 7.96l-1.37-1.37c-.4-.4-.92-.59-1.43-.59-.52 0-1.04.2-1.43.59L10.3 9.45l-7.72 7.72c-.78.78-.78 2.05 0 2.83L4 21.41c.39.39.9.59 1.41.59.51 0 1.02-.2 1.41-.59l7.78-7.78 2.81-2.81c.8-.78.8-2.07 0-2.86zM5.41 20L4 18.59l7.72-7.72 1.47 1.35L5.41 20z\"/>\n",
              "  </svg>\n",
              "      </button>\n",
              "      \n",
              "  <style>\n",
              "    .colab-df-container {\n",
              "      display:flex;\n",
              "      flex-wrap:wrap;\n",
              "      gap: 12px;\n",
              "    }\n",
              "\n",
              "    .colab-df-convert {\n",
              "      background-color: #E8F0FE;\n",
              "      border: none;\n",
              "      border-radius: 50%;\n",
              "      cursor: pointer;\n",
              "      display: none;\n",
              "      fill: #1967D2;\n",
              "      height: 32px;\n",
              "      padding: 0 0 0 0;\n",
              "      width: 32px;\n",
              "    }\n",
              "\n",
              "    .colab-df-convert:hover {\n",
              "      background-color: #E2EBFA;\n",
              "      box-shadow: 0px 1px 2px rgba(60, 64, 67, 0.3), 0px 1px 3px 1px rgba(60, 64, 67, 0.15);\n",
              "      fill: #174EA6;\n",
              "    }\n",
              "\n",
              "    [theme=dark] .colab-df-convert {\n",
              "      background-color: #3B4455;\n",
              "      fill: #D2E3FC;\n",
              "    }\n",
              "\n",
              "    [theme=dark] .colab-df-convert:hover {\n",
              "      background-color: #434B5C;\n",
              "      box-shadow: 0px 1px 3px 1px rgba(0, 0, 0, 0.15);\n",
              "      filter: drop-shadow(0px 1px 2px rgba(0, 0, 0, 0.3));\n",
              "      fill: #FFFFFF;\n",
              "    }\n",
              "  </style>\n",
              "\n",
              "      <script>\n",
              "        const buttonEl =\n",
              "          document.querySelector('#df-09584736-d33d-4be9-b205-ae60f07c0a52 button.colab-df-convert');\n",
              "        buttonEl.style.display =\n",
              "          google.colab.kernel.accessAllowed ? 'block' : 'none';\n",
              "\n",
              "        async function convertToInteractive(key) {\n",
              "          const element = document.querySelector('#df-09584736-d33d-4be9-b205-ae60f07c0a52');\n",
              "          const dataTable =\n",
              "            await google.colab.kernel.invokeFunction('convertToInteractive',\n",
              "                                                     [key], {});\n",
              "          if (!dataTable) return;\n",
              "\n",
              "          const docLinkHtml = 'Like what you see? Visit the ' +\n",
              "            '<a target=\"_blank\" href=https://colab.research.google.com/notebooks/data_table.ipynb>data table notebook</a>'\n",
              "            + ' to learn more about interactive tables.';\n",
              "          element.innerHTML = '';\n",
              "          dataTable['output_type'] = 'display_data';\n",
              "          await google.colab.output.renderOutput(dataTable, element);\n",
              "          const docLink = document.createElement('div');\n",
              "          docLink.innerHTML = docLinkHtml;\n",
              "          element.appendChild(docLink);\n",
              "        }\n",
              "      </script>\n",
              "    </div>\n",
              "  </div>\n",
              "  "
            ]
          },
          "metadata": {},
          "execution_count": 13
        }
      ]
    },
    {
      "cell_type": "markdown",
      "source": [
        "#### For portfolio [not important]"
      ],
      "metadata": {
        "id": "JPduN_N_RbM1"
      }
    },
    {
      "cell_type": "code",
      "source": [
        "df[\"ASIANPAINT.NS\"].values.reshape(-1,1)"
      ],
      "metadata": {
        "colab": {
          "base_uri": "https://localhost:8080/"
        },
        "id": "qZLnSLJWSyn_",
        "outputId": "f3948286-5303-4ac4-e919-141929cd1a0b"
      },
      "execution_count": null,
      "outputs": [
        {
          "output_type": "execute_result",
          "data": {
            "text/plain": [
              "array([[1061.59997559],\n",
              "       [1064.25      ],\n",
              "       [1042.90002441],\n",
              "       ...,\n",
              "       [2987.14990234],\n",
              "       [3042.        ],\n",
              "       [3136.60009766]])"
            ]
          },
          "metadata": {},
          "execution_count": 116
        }
      ]
    },
    {
      "cell_type": "code",
      "source": [
        "x_scale = MinMaxScaler(feature_range=(0,1))\n",
        "y_scale = MinMaxScaler(feature_range=(0,1))\n",
        "X = []\n",
        "Y = []\n",
        "\n",
        "for t in tickers:\n",
        "  scaled_t = x_scale.fit_transform(df[t].values.reshape(-1,1))\n",
        "  scaled_label = y_scale.fit_transform(label[t].values.reshape(-1,1))\n",
        "  \n",
        "  X.append(scaled_t)\n",
        "  Y.append(scaled_label)\n",
        "\n",
        "X = np.array(X)\n",
        "Y = np.array(Y)\n",
        "\n",
        "print(X.shape)\n",
        "print(Y.shape)"
      ],
      "metadata": {
        "colab": {
          "base_uri": "https://localhost:8080/"
        },
        "id": "tYj1qzWlRjiS",
        "outputId": "65876ff6-4c12-4505-c83c-d282496b0b22"
      },
      "execution_count": null,
      "outputs": [
        {
          "output_type": "stream",
          "name": "stdout",
          "text": [
            "(5, 1233, 1)\n",
            "(5, 1233, 1)\n"
          ]
        }
      ]
    },
    {
      "cell_type": "markdown",
      "source": [
        "#### For single asset and portfolio"
      ],
      "metadata": {
        "id": "LUoEiDETRznp"
      }
    },
    {
      "cell_type": "code",
      "execution_count": null,
      "metadata": {
        "id": "C1OuQccw6fLg"
      },
      "outputs": [],
      "source": [
        "# conversion to numpy array\n",
        "\n",
        "x, y = df.values, label.values"
      ]
    },
    {
      "cell_type": "code",
      "execution_count": null,
      "metadata": {
        "id": "CbfayYoF-OZ0"
      },
      "outputs": [],
      "source": [
        "# Scaling to normalize the data. MinMaxScaler scales all the data to be in the region of 0 and 1.\n",
        "\n",
        "x_scale = MinMaxScaler(feature_range=(0,1))\n",
        "y_scale = MinMaxScaler(feature_range=(0,1))"
      ]
    },
    {
      "cell_type": "code",
      "execution_count": null,
      "metadata": {
        "colab": {
          "base_uri": "https://localhost:8080/"
        },
        "id": "MjioNLG5-gcf",
        "outputId": "47e41d9c-0991-4394-eff2-739d12af6eb7"
      },
      "outputs": [
        {
          "output_type": "stream",
          "name": "stdout",
          "text": [
            "(1235, 5)\n",
            "(1235, 5)\n",
            "[0.00834041 0.74999993 1.         0.0053002  0.0064524 ]\n",
            "[0.03925707 0.9122272  0.41529208 0.06711196 0.07720612]\n"
          ]
        }
      ],
      "source": [
        "X = x_scale.fit_transform(x)\n",
        "Y = y_scale.fit_transform(y.reshape(-1,port_len))\n",
        "\n",
        "print(X.shape)\n",
        "print(Y.shape)\n",
        "\n",
        "print(X[0])\n",
        "print(Y[time_steps])"
      ]
    },
    {
      "cell_type": "markdown",
      "metadata": {
        "id": "R6vw4pz-_Jtq"
      },
      "source": [
        "## Splitting train/test data and adding timesteps [Best Method]"
      ]
    },
    {
      "cell_type": "markdown",
      "source": [
        "### For portfolio [not important]"
      ],
      "metadata": {
        "id": "MYlIxCAZVJAS"
      }
    },
    {
      "cell_type": "code",
      "source": [
        "X_train_new = []\n",
        "y_train_new = []\n",
        "X_test_new = []\n",
        "y_test_new = []\n",
        "\n",
        "for i in range(len(X)):\n",
        "  X_train, X_test, y_train, y_test = train_test_split(X[i], Y[i], test_size=0.4, shuffle=False)\n",
        "  X_train_new.append(X_train)\n",
        "  X_test_new.append(X_test)\n",
        "  y_train_new.append(y_train)\n",
        "  y_test_new.append(y_test)\n",
        "\n",
        "X_train_new = np.array(X_train_new)\n",
        "y_train_new = np.array(y_train_new)\n",
        "\n",
        "print(X_train_new.shape)\n",
        "print(y_train_new.shape)\n",
        "\n",
        "X_test_new = np.array(X_test_new)\n",
        "y_test_new = np.array(y_test_new)\n",
        "\n",
        "print(X_test_new.shape)\n",
        "print(y_test_new.shape)"
      ],
      "metadata": {
        "colab": {
          "base_uri": "https://localhost:8080/"
        },
        "id": "ytFba5NwVsNY",
        "outputId": "c75c44d7-6969-4d3b-a6da-9b5e94248b28"
      },
      "execution_count": null,
      "outputs": [
        {
          "output_type": "stream",
          "name": "stdout",
          "text": [
            "(5, 739, 1)\n",
            "(5, 739, 1)\n",
            "(5, 494, 1)\n",
            "(5, 494, 1)\n"
          ]
        }
      ]
    },
    {
      "cell_type": "markdown",
      "source": [
        "### For single asset and portfolio\n"
      ],
      "metadata": {
        "id": "k7OlqZyrVFk0"
      }
    },
    {
      "cell_type": "code",
      "execution_count": null,
      "metadata": {
        "id": "aG1fb-uJ_GUQ"
      },
      "outputs": [],
      "source": [
        "X_train, X_test, y_train, y_test = train_test_split(X, Y, test_size=0.4, shuffle=False)"
      ]
    },
    {
      "cell_type": "code",
      "source": [
        "print(X_train.shape)\n",
        "print(y_train.shape)\n",
        "\n",
        "print(X_test.shape)\n",
        "print(y_test.shape)"
      ],
      "metadata": {
        "colab": {
          "base_uri": "https://localhost:8080/"
        },
        "id": "RgZHql8AZD4i",
        "outputId": "bef02383-ad9b-4931-8174-8b878fc7b326"
      },
      "execution_count": null,
      "outputs": [
        {
          "output_type": "stream",
          "name": "stdout",
          "text": [
            "(741, 5)\n",
            "(741, 5)\n",
            "(494, 5)\n",
            "(494, 5)\n"
          ]
        }
      ]
    },
    {
      "cell_type": "markdown",
      "source": [
        "#### Adding timesteps [Best Method]"
      ],
      "metadata": {
        "id": "eBI6FV9ZWGJd"
      }
    },
    {
      "cell_type": "code",
      "source": [
        "X_train_new = []\n",
        "y_train_new = []\n",
        "X_test_new = []\n",
        "y_test_new = []\n",
        "\n",
        "for i in range(time_steps, len(X_train)):\n",
        "  X_train_new.append(X_train[i-time_steps:i, :])\n",
        "  y_train_new.append(y_train[i-1])\n",
        "  \n",
        "\n",
        "\n",
        "for i in range(time_steps, len(X_test)):\n",
        "  X_test_new.append(X_test[i-time_steps:i, :])\n",
        "  y_test_new.append(y_test[i-1])"
      ],
      "metadata": {
        "id": "Uv6eavTTWJPa"
      },
      "execution_count": null,
      "outputs": []
    },
    {
      "cell_type": "markdown",
      "source": [
        "#### Converting train and test to numpy arrays and reshaping"
      ],
      "metadata": {
        "id": "4sd319YRv-dd"
      }
    },
    {
      "cell_type": "code",
      "source": [
        "X_train_new = np.array(X_train_new)\n",
        "y_train_new = np.array(y_train_new)\n",
        "\n",
        "print(X_train_new.shape)\n",
        "print(y_train_new.shape)\n",
        "\n",
        "X_test_new = np.array(X_test_new)\n",
        "y_test_new = np.array(y_test_new)\n",
        "\n",
        "print(X_test_new.shape)\n",
        "print(y_test_new.shape)"
      ],
      "metadata": {
        "colab": {
          "base_uri": "https://localhost:8080/"
        },
        "id": "egaiS5TFwCDn",
        "outputId": "41de9491-bad9-4ca2-b158-c88997dc26ce"
      },
      "execution_count": null,
      "outputs": [
        {
          "output_type": "stream",
          "name": "stdout",
          "text": [
            "(641, 100, 5)\n",
            "(641, 5)\n",
            "(394, 100, 5)\n",
            "(394, 5)\n"
          ]
        }
      ]
    },
    {
      "cell_type": "code",
      "source": [
        "y_train_new[0]"
      ],
      "metadata": {
        "colab": {
          "base_uri": "https://localhost:8080/"
        },
        "id": "GaHgxeGgE5bq",
        "outputId": "52c53660-22f8-4483-8a64-9de690497358"
      },
      "execution_count": null,
      "outputs": [
        {
          "output_type": "execute_result",
          "data": {
            "text/plain": [
              "array([0.03726561, 0.90885743, 0.43189316, 0.06549044, 0.07526218])"
            ]
          },
          "metadata": {},
          "execution_count": 21
        }
      ]
    },
    {
      "cell_type": "code",
      "source": [
        "X_train_new = X_train_new.reshape(-1,time_steps,port_len)\n",
        "X_test_new = X_test_new.reshape(-1,time_steps,port_len)"
      ],
      "metadata": {
        "id": "f7UeSeiPYIFW"
      },
      "execution_count": null,
      "outputs": []
    },
    {
      "cell_type": "markdown",
      "metadata": {
        "id": "gQ5Dxq7dcIyH"
      },
      "source": [
        "## Using timesteps (Method 2) [not important]"
      ]
    },
    {
      "cell_type": "code",
      "source": [
        "scale = MinMaxScaler(feature_range=(0,1))\n",
        "\n",
        "df = scale.fit_transform(np.array(df).reshape(-1,1))"
      ],
      "metadata": {
        "id": "nNwuoOg9OZWN"
      },
      "execution_count": null,
      "outputs": []
    },
    {
      "cell_type": "code",
      "source": [
        "# Training data is 60% of the whole data. The rest is test data\n",
        "training_size=int(len(df)*0.6)\n",
        "test_size=len(df)-training_size\n",
        "\n",
        "train_data,test_data=df[0:training_size,:],df[training_size:len(df), :1]"
      ],
      "metadata": {
        "id": "fvauNiOeoi8F"
      },
      "execution_count": null,
      "outputs": []
    },
    {
      "cell_type": "code",
      "execution_count": null,
      "metadata": {
        "id": "868QIOfYcQgO"
      },
      "outputs": [],
      "source": [
        "def create_dataset(dataset, time_step):\n",
        "  dataX, dataY = [], []\n",
        "\n",
        "  for i in range(len(dataset)-time_step-1):\n",
        "\n",
        "    # a = dataset[i:(i+time_step), :]\n",
        "    a = dataset[i:(i+time_step), 0]\n",
        "    dataX.append(a)\n",
        "    # dataY.append(dataset[i + time_step, 3])\n",
        "    dataY.append(dataset[i + time_step, 0])\n",
        "\n",
        "  return np.array(dataX), np.array(dataY)"
      ]
    },
    {
      "cell_type": "code",
      "source": [
        "X_train, y_train = create_dataset(train_data, time_steps)\n",
        "X_test, y_test = create_dataset(test_data, time_steps)\n",
        "\n",
        "print(X_train.shape)\n",
        "print(X_test.shape)\n",
        "print(y_train.shape)\n",
        "print(y_test.shape)"
      ],
      "metadata": {
        "colab": {
          "base_uri": "https://localhost:8080/"
        },
        "id": "SUbVJhkfoTdE",
        "outputId": "ab38af82-b7d2-467d-f199-44ec85e79175"
      },
      "execution_count": null,
      "outputs": [
        {
          "output_type": "stream",
          "name": "stdout",
          "text": [
            "(641, 100)\n",
            "(394, 100)\n",
            "(641,)\n",
            "(394,)\n"
          ]
        }
      ]
    },
    {
      "cell_type": "code",
      "execution_count": null,
      "metadata": {
        "colab": {
          "base_uri": "https://localhost:8080/"
        },
        "id": "88EEKU9aeC78",
        "outputId": "d6076dc3-e7d6-4eca-f778-06cca43ae5b1"
      },
      "outputs": [
        {
          "output_type": "stream",
          "name": "stdout",
          "text": [
            "(641, 100, 1)\n",
            "(394, 100, 1)\n"
          ]
        }
      ],
      "source": [
        "X_train = X_train.reshape(X_train.shape[0], X_train.shape[1], features)\n",
        "X_test = X_test.reshape(X_test.shape[0], X_test.shape[1], features)\n",
        "\n",
        "print(X_train.shape)\n",
        "print(X_test.shape)"
      ]
    },
    {
      "cell_type": "markdown",
      "metadata": {
        "id": "hjjmES08vJ9r"
      },
      "source": [
        "## Deep learning model (GRU)"
      ]
    },
    {
      "cell_type": "code",
      "execution_count": null,
      "metadata": {
        "id": "4X07cSmiu5n9"
      },
      "outputs": [],
      "source": [
        "gru_model = Sequential()\n",
        "gru_model.add(GRU(units=512,\n",
        "              return_sequences=True,\n",
        "              input_shape=(time_steps, port_len)))\n",
        "gru_model.add(Dropout(0.2))\n",
        "\n",
        "gru_model.add(GRU(units=256))\n",
        "gru_model.add(Dropout(0.2))\n",
        "\n",
        "gru_model.add(Dense(port_len))\n",
        "\n",
        "gru_model.compile(loss='mse', optimizer='adam')"
      ]
    },
    {
      "cell_type": "code",
      "source": [
        "gru_model.summary()"
      ],
      "metadata": {
        "colab": {
          "base_uri": "https://localhost:8080/"
        },
        "id": "-oYQ21MzzmCV",
        "outputId": "f7406f8b-06af-4a62-f525-1dd3c013fe4d"
      },
      "execution_count": null,
      "outputs": [
        {
          "output_type": "stream",
          "name": "stdout",
          "text": [
            "Model: \"sequential_1\"\n",
            "_________________________________________________________________\n",
            " Layer (type)                Output Shape              Param #   \n",
            "=================================================================\n",
            " gru_3 (GRU)                 (None, 100, 512)          795648    \n",
            "                                                                 \n",
            " dropout_3 (Dropout)         (None, 100, 512)          0         \n",
            "                                                                 \n",
            " gru_4 (GRU)                 (None, 256)               590592    \n",
            "                                                                 \n",
            " dropout_4 (Dropout)         (None, 256)               0         \n",
            "                                                                 \n",
            " dense_1 (Dense)             (None, 5)                 1285      \n",
            "                                                                 \n",
            "=================================================================\n",
            "Total params: 1,387,525\n",
            "Trainable params: 1,387,525\n",
            "Non-trainable params: 0\n",
            "_________________________________________________________________\n"
          ]
        }
      ]
    },
    {
      "cell_type": "code",
      "execution_count": null,
      "metadata": {
        "colab": {
          "base_uri": "https://localhost:8080/"
        },
        "id": "yRsuyf6pQMcr",
        "outputId": "c767b7e4-d258-4801-af3b-06e3e04c1009"
      },
      "outputs": [
        {
          "output_type": "stream",
          "name": "stdout",
          "text": [
            "Epoch 1/100\n",
            "3/3 [==============================] - 9s 1s/step - loss: 0.0700 - val_loss: 0.0223\n",
            "Epoch 2/100\n",
            "3/3 [==============================] - 3s 1s/step - loss: 0.0133 - val_loss: 0.0063\n",
            "Epoch 3/100\n",
            "3/3 [==============================] - 3s 1s/step - loss: 0.0099 - val_loss: 0.0117\n",
            "Epoch 4/100\n",
            "3/3 [==============================] - 3s 1s/step - loss: 0.0068 - val_loss: 0.0064\n",
            "Epoch 5/100\n",
            "3/3 [==============================] - 3s 998ms/step - loss: 0.0037 - val_loss: 0.0050\n",
            "Epoch 6/100\n",
            "3/3 [==============================] - 3s 1s/step - loss: 0.0039 - val_loss: 0.0030\n",
            "Epoch 7/100\n",
            "3/3 [==============================] - 3s 1s/step - loss: 0.0023 - val_loss: 0.0040\n",
            "Epoch 8/100\n",
            "3/3 [==============================] - 3s 979ms/step - loss: 0.0032 - val_loss: 0.0029\n",
            "Epoch 9/100\n",
            "3/3 [==============================] - 3s 1s/step - loss: 0.0021 - val_loss: 0.0017\n",
            "Epoch 10/100\n",
            "3/3 [==============================] - 3s 994ms/step - loss: 0.0019 - val_loss: 0.0026\n",
            "Epoch 11/100\n",
            "3/3 [==============================] - 3s 1s/step - loss: 0.0020 - val_loss: 0.0024\n",
            "Epoch 12/100\n",
            "3/3 [==============================] - 3s 1s/step - loss: 0.0016 - val_loss: 0.0021\n",
            "Epoch 13/100\n",
            "3/3 [==============================] - 3s 1s/step - loss: 0.0017 - val_loss: 0.0017\n",
            "Epoch 14/100\n",
            "3/3 [==============================] - 3s 1s/step - loss: 0.0015 - val_loss: 0.0014\n",
            "Epoch 15/100\n",
            "3/3 [==============================] - 3s 1s/step - loss: 0.0015 - val_loss: 0.0013\n",
            "Epoch 16/100\n",
            "3/3 [==============================] - 3s 1s/step - loss: 0.0014 - val_loss: 0.0013\n",
            "Epoch 17/100\n",
            "3/3 [==============================] - 3s 994ms/step - loss: 0.0013 - val_loss: 0.0014\n",
            "Epoch 18/100\n",
            "3/3 [==============================] - 4s 1s/step - loss: 0.0015 - val_loss: 0.0012\n",
            "Epoch 19/100\n",
            "3/3 [==============================] - 3s 1s/step - loss: 0.0013 - val_loss: 0.0012\n",
            "Epoch 20/100\n",
            "3/3 [==============================] - 3s 1s/step - loss: 0.0012 - val_loss: 0.0012\n",
            "Epoch 21/100\n",
            "3/3 [==============================] - 3s 1s/step - loss: 0.0012 - val_loss: 9.6948e-04\n",
            "Epoch 22/100\n",
            "3/3 [==============================] - 3s 998ms/step - loss: 0.0013 - val_loss: 9.8472e-04\n",
            "Epoch 23/100\n",
            "3/3 [==============================] - 3s 997ms/step - loss: 0.0012 - val_loss: 0.0011\n",
            "Epoch 24/100\n",
            "3/3 [==============================] - 3s 986ms/step - loss: 0.0012 - val_loss: 9.4801e-04\n",
            "Epoch 25/100\n",
            "3/3 [==============================] - 3s 1s/step - loss: 0.0013 - val_loss: 0.0010\n",
            "Epoch 26/100\n",
            "3/3 [==============================] - 3s 1s/step - loss: 0.0013 - val_loss: 9.9605e-04\n",
            "Epoch 27/100\n",
            "3/3 [==============================] - 4s 1s/step - loss: 0.0011 - val_loss: 8.4774e-04\n",
            "Epoch 28/100\n",
            "3/3 [==============================] - 3s 1s/step - loss: 0.0011 - val_loss: 8.6719e-04\n",
            "Epoch 29/100\n",
            "3/3 [==============================] - 3s 1s/step - loss: 0.0011 - val_loss: 7.8285e-04\n",
            "Epoch 30/100\n",
            "3/3 [==============================] - 3s 1s/step - loss: 0.0011 - val_loss: 8.8383e-04\n",
            "Epoch 31/100\n",
            "3/3 [==============================] - 3s 1s/step - loss: 0.0011 - val_loss: 8.3402e-04\n",
            "Epoch 32/100\n",
            "3/3 [==============================] - 3s 1s/step - loss: 0.0011 - val_loss: 9.5430e-04\n",
            "Epoch 33/100\n",
            "3/3 [==============================] - 3s 1s/step - loss: 0.0011 - val_loss: 8.3993e-04\n",
            "Epoch 34/100\n",
            "3/3 [==============================] - 3s 983ms/step - loss: 0.0010 - val_loss: 7.9851e-04\n",
            "Epoch 35/100\n",
            "3/3 [==============================] - 3s 1s/step - loss: 0.0011 - val_loss: 9.0809e-04\n",
            "Epoch 36/100\n",
            "3/3 [==============================] - 3s 1s/step - loss: 0.0011 - val_loss: 8.8878e-04\n",
            "Epoch 37/100\n",
            "3/3 [==============================] - 3s 1s/step - loss: 0.0010 - val_loss: 9.5634e-04\n",
            "Epoch 38/100\n",
            "3/3 [==============================] - 3s 1s/step - loss: 0.0011 - val_loss: 8.0545e-04\n",
            "Epoch 39/100\n",
            "3/3 [==============================] - 3s 1s/step - loss: 0.0011 - val_loss: 7.5036e-04\n",
            "Epoch 40/100\n",
            "3/3 [==============================] - 3s 991ms/step - loss: 0.0010 - val_loss: 7.7502e-04\n",
            "Epoch 41/100\n",
            "3/3 [==============================] - 3s 1s/step - loss: 0.0010 - val_loss: 7.9025e-04\n",
            "Epoch 42/100\n",
            "3/3 [==============================] - 3s 1s/step - loss: 9.5136e-04 - val_loss: 8.6583e-04\n",
            "Epoch 43/100\n",
            "3/3 [==============================] - 3s 991ms/step - loss: 9.7165e-04 - val_loss: 9.0591e-04\n",
            "Epoch 44/100\n",
            "3/3 [==============================] - 3s 1000ms/step - loss: 0.0010 - val_loss: 8.0692e-04\n",
            "Epoch 45/100\n",
            "3/3 [==============================] - 3s 988ms/step - loss: 0.0010 - val_loss: 8.9803e-04\n",
            "Epoch 46/100\n",
            "3/3 [==============================] - 3s 1s/step - loss: 0.0010 - val_loss: 8.8480e-04\n",
            "Epoch 47/100\n",
            "3/3 [==============================] - 3s 997ms/step - loss: 9.8912e-04 - val_loss: 9.1357e-04\n",
            "Epoch 48/100\n",
            "3/3 [==============================] - 3s 1s/step - loss: 9.8192e-04 - val_loss: 0.0010\n",
            "Epoch 49/100\n",
            "3/3 [==============================] - 3s 1s/step - loss: 0.0010 - val_loss: 8.7252e-04\n",
            "Epoch 50/100\n",
            "3/3 [==============================] - 3s 1s/step - loss: 9.9547e-04 - val_loss: 9.4536e-04\n",
            "Epoch 51/100\n",
            "3/3 [==============================] - 3s 1s/step - loss: 0.0010 - val_loss: 8.1155e-04\n",
            "Epoch 52/100\n",
            "3/3 [==============================] - 3s 990ms/step - loss: 0.0010 - val_loss: 8.5041e-04\n",
            "Epoch 53/100\n",
            "3/3 [==============================] - 3s 988ms/step - loss: 9.7798e-04 - val_loss: 7.4861e-04\n",
            "Epoch 54/100\n",
            "3/3 [==============================] - 3s 987ms/step - loss: 9.6841e-04 - val_loss: 8.1650e-04\n",
            "Epoch 55/100\n",
            "3/3 [==============================] - 3s 1s/step - loss: 9.6201e-04 - val_loss: 8.2152e-04\n",
            "Epoch 56/100\n",
            "3/3 [==============================] - 3s 988ms/step - loss: 9.3427e-04 - val_loss: 8.2257e-04\n",
            "Epoch 57/100\n",
            "3/3 [==============================] - 3s 986ms/step - loss: 9.9840e-04 - val_loss: 8.8099e-04\n",
            "Epoch 58/100\n",
            "3/3 [==============================] - 3s 1s/step - loss: 9.5914e-04 - val_loss: 9.2605e-04\n",
            "Epoch 59/100\n",
            "3/3 [==============================] - 3s 1s/step - loss: 9.6585e-04 - val_loss: 9.3636e-04\n",
            "Epoch 60/100\n",
            "3/3 [==============================] - 3s 1s/step - loss: 9.6724e-04 - val_loss: 8.4100e-04\n",
            "Epoch 61/100\n",
            "3/3 [==============================] - 3s 990ms/step - loss: 9.4894e-04 - val_loss: 8.1323e-04\n",
            "Epoch 62/100\n",
            "3/3 [==============================] - 3s 1s/step - loss: 9.7522e-04 - val_loss: 8.5084e-04\n",
            "Epoch 63/100\n",
            "3/3 [==============================] - 3s 1s/step - loss: 9.5434e-04 - val_loss: 7.7376e-04\n",
            "Epoch 64/100\n",
            "3/3 [==============================] - 3s 1s/step - loss: 9.5008e-04 - val_loss: 9.0014e-04\n",
            "Epoch 65/100\n",
            "3/3 [==============================] - 3s 986ms/step - loss: 9.0133e-04 - val_loss: 9.3592e-04\n",
            "Epoch 66/100\n",
            "3/3 [==============================] - 3s 1s/step - loss: 9.0109e-04 - val_loss: 8.5178e-04\n",
            "Epoch 67/100\n",
            "3/3 [==============================] - 3s 992ms/step - loss: 9.2632e-04 - val_loss: 7.5426e-04\n",
            "Epoch 68/100\n",
            "3/3 [==============================] - 3s 1s/step - loss: 9.1784e-04 - val_loss: 8.5988e-04\n",
            "Epoch 69/100\n",
            "3/3 [==============================] - 3s 984ms/step - loss: 9.2794e-04 - val_loss: 8.9228e-04\n",
            "Epoch 70/100\n",
            "3/3 [==============================] - 3s 1s/step - loss: 8.8600e-04 - val_loss: 8.0173e-04\n",
            "Epoch 71/100\n",
            "3/3 [==============================] - 3s 1s/step - loss: 8.8983e-04 - val_loss: 8.8771e-04\n",
            "Epoch 72/100\n",
            "3/3 [==============================] - 3s 982ms/step - loss: 8.3373e-04 - val_loss: 7.4392e-04\n",
            "Epoch 73/100\n",
            "3/3 [==============================] - 3s 1s/step - loss: 9.4206e-04 - val_loss: 8.6667e-04\n",
            "Epoch 74/100\n",
            "3/3 [==============================] - 3s 1s/step - loss: 8.9845e-04 - val_loss: 8.6149e-04\n",
            "Epoch 75/100\n",
            "3/3 [==============================] - 3s 996ms/step - loss: 9.6190e-04 - val_loss: 8.6604e-04\n",
            "Epoch 76/100\n",
            "3/3 [==============================] - 3s 1s/step - loss: 9.1065e-04 - val_loss: 7.1606e-04\n",
            "Epoch 77/100\n",
            "3/3 [==============================] - 3s 1s/step - loss: 9.1200e-04 - val_loss: 8.2609e-04\n",
            "Epoch 78/100\n",
            "3/3 [==============================] - 3s 1s/step - loss: 8.6459e-04 - val_loss: 6.8224e-04\n",
            "Epoch 79/100\n",
            "3/3 [==============================] - 3s 1s/step - loss: 8.7515e-04 - val_loss: 8.3486e-04\n",
            "Epoch 80/100\n",
            "3/3 [==============================] - 3s 1s/step - loss: 8.8459e-04 - val_loss: 9.9923e-04\n",
            "Epoch 81/100\n",
            "3/3 [==============================] - 3s 1s/step - loss: 8.8668e-04 - val_loss: 8.5522e-04\n",
            "Epoch 82/100\n",
            "3/3 [==============================] - 3s 1s/step - loss: 8.6660e-04 - val_loss: 7.9412e-04\n",
            "Epoch 83/100\n",
            "3/3 [==============================] - 3s 1s/step - loss: 8.5141e-04 - val_loss: 8.0382e-04\n",
            "Epoch 84/100\n",
            "3/3 [==============================] - 3s 1s/step - loss: 8.4592e-04 - val_loss: 6.6069e-04\n",
            "Epoch 85/100\n",
            "3/3 [==============================] - 3s 1s/step - loss: 8.3949e-04 - val_loss: 8.4268e-04\n",
            "Epoch 86/100\n",
            "3/3 [==============================] - 3s 998ms/step - loss: 8.5140e-04 - val_loss: 7.2084e-04\n",
            "Epoch 87/100\n",
            "3/3 [==============================] - 3s 1s/step - loss: 8.3720e-04 - val_loss: 8.9179e-04\n",
            "Epoch 88/100\n",
            "3/3 [==============================] - 3s 977ms/step - loss: 8.4080e-04 - val_loss: 8.2443e-04\n",
            "Epoch 89/100\n",
            "3/3 [==============================] - 3s 1s/step - loss: 8.4700e-04 - val_loss: 8.7151e-04\n",
            "Epoch 90/100\n",
            "3/3 [==============================] - 3s 1s/step - loss: 8.0637e-04 - val_loss: 7.2064e-04\n",
            "Epoch 91/100\n",
            "3/3 [==============================] - 3s 1s/step - loss: 8.2760e-04 - val_loss: 8.2222e-04\n",
            "Epoch 92/100\n",
            "3/3 [==============================] - 3s 1s/step - loss: 8.1064e-04 - val_loss: 7.2905e-04\n",
            "Epoch 93/100\n",
            "3/3 [==============================] - 3s 1s/step - loss: 8.5883e-04 - val_loss: 7.0432e-04\n",
            "Epoch 94/100\n",
            "3/3 [==============================] - 3s 1s/step - loss: 8.3552e-04 - val_loss: 6.9949e-04\n",
            "Epoch 95/100\n",
            "3/3 [==============================] - 3s 1s/step - loss: 7.6633e-04 - val_loss: 7.7111e-04\n",
            "Epoch 96/100\n",
            "3/3 [==============================] - 3s 999ms/step - loss: 8.3859e-04 - val_loss: 6.9108e-04\n",
            "Epoch 97/100\n",
            "3/3 [==============================] - 3s 992ms/step - loss: 7.7028e-04 - val_loss: 7.2851e-04\n",
            "Epoch 98/100\n",
            "3/3 [==============================] - 3s 1s/step - loss: 8.1758e-04 - val_loss: 7.7549e-04\n",
            "Epoch 99/100\n",
            "3/3 [==============================] - 3s 992ms/step - loss: 7.9875e-04 - val_loss: 6.9877e-04\n",
            "Epoch 100/100\n",
            "3/3 [==============================] - 3s 1s/step - loss: 7.9902e-04 - val_loss: 7.1849e-04\n"
          ]
        }
      ],
      "source": [
        "with tf.device('/device:GPU:0'):\n",
        "  gru_model.fit(X_train_new,y_train_new,batch_size=250, epochs=100, validation_split=0.1, verbose=1)"
      ]
    },
    {
      "cell_type": "code",
      "source": [
        "gru_model.save(\"/content/drive/MyDrive/Sem 8/Sem 8 Proj/Models/GRU_port_len_5_features_1_timesteps_100.h5\")\n",
        "print('GRU Model saved!')"
      ],
      "metadata": {
        "colab": {
          "base_uri": "https://localhost:8080/"
        },
        "id": "SPYy8_xmzLfs",
        "outputId": "62070332-239c-4a98-cf01-ddf15477df57"
      },
      "execution_count": null,
      "outputs": [
        {
          "output_type": "stream",
          "name": "stdout",
          "text": [
            "GRU Model saved!\n"
          ]
        }
      ]
    },
    {
      "cell_type": "markdown",
      "metadata": {
        "id": "FxWLV4MHQYfL"
      },
      "source": [
        "## Deep Learning Model (LSTM)"
      ]
    },
    {
      "cell_type": "code",
      "execution_count": null,
      "metadata": {
        "id": "9-m-JDYxQbCO"
      },
      "outputs": [],
      "source": [
        "lstm_model = Sequential()\n",
        "lstm_model.add(LSTM(units=512,\n",
        "              return_sequences=True,\n",
        "              input_shape=(time_steps, port_len)))\n",
        "lstm_model.add(Dropout(0.2))\n",
        "\n",
        "lstm_model.add(LSTM(units=256))\n",
        "lstm_model.add(Dropout(0.2))\n",
        "\n",
        "lstm_model.add(Dense(port_len))\n",
        "\n",
        "lstm_model.compile(loss='mse', optimizer='adam')"
      ]
    },
    {
      "cell_type": "code",
      "source": [
        "lstm_model.summary()"
      ],
      "metadata": {
        "colab": {
          "base_uri": "https://localhost:8080/"
        },
        "id": "nFAkAlpQJ8Hv",
        "outputId": "08c6b313-154a-4205-960b-9ba6e35aa33f"
      },
      "execution_count": null,
      "outputs": [
        {
          "output_type": "stream",
          "name": "stdout",
          "text": [
            "Model: \"sequential_2\"\n",
            "_________________________________________________________________\n",
            " Layer (type)                Output Shape              Param #   \n",
            "=================================================================\n",
            " lstm (LSTM)                 (None, 100, 512)          1060864   \n",
            "                                                                 \n",
            " dropout_5 (Dropout)         (None, 100, 512)          0         \n",
            "                                                                 \n",
            " lstm_1 (LSTM)               (None, 256)               787456    \n",
            "                                                                 \n",
            " dropout_6 (Dropout)         (None, 256)               0         \n",
            "                                                                 \n",
            " dense_2 (Dense)             (None, 5)                 1285      \n",
            "                                                                 \n",
            "=================================================================\n",
            "Total params: 1,849,605\n",
            "Trainable params: 1,849,605\n",
            "Non-trainable params: 0\n",
            "_________________________________________________________________\n"
          ]
        }
      ]
    },
    {
      "cell_type": "code",
      "execution_count": null,
      "metadata": {
        "id": "nCqV6rEFQrxK",
        "colab": {
          "base_uri": "https://localhost:8080/"
        },
        "outputId": "190b685f-6db7-45a0-d95f-dd5ec3d9554f"
      },
      "outputs": [
        {
          "output_type": "stream",
          "name": "stdout",
          "text": [
            "Epoch 1/100\n",
            "3/3 [==============================] - 13s 3s/step - loss: 0.0691 - val_loss: 0.0210\n",
            "Epoch 2/100\n",
            "3/3 [==============================] - 10s 4s/step - loss: 0.0159 - val_loss: 0.0177\n",
            "Epoch 3/100\n",
            "3/3 [==============================] - 4s 1s/step - loss: 0.0186 - val_loss: 0.0039\n",
            "Epoch 4/100\n",
            "3/3 [==============================] - 4s 1s/step - loss: 0.0061 - val_loss: 0.0155\n",
            "Epoch 5/100\n",
            "3/3 [==============================] - 3s 1s/step - loss: 0.0051 - val_loss: 0.0048\n",
            "Epoch 6/100\n",
            "3/3 [==============================] - 4s 1s/step - loss: 0.0049 - val_loss: 0.0053\n",
            "Epoch 7/100\n",
            "3/3 [==============================] - 4s 1s/step - loss: 0.0043 - val_loss: 0.0042\n",
            "Epoch 8/100\n",
            "3/3 [==============================] - 4s 1s/step - loss: 0.0031 - val_loss: 0.0034\n",
            "Epoch 9/100\n",
            "3/3 [==============================] - 4s 1s/step - loss: 0.0034 - val_loss: 0.0027\n",
            "Epoch 10/100\n",
            "3/3 [==============================] - 4s 1s/step - loss: 0.0025 - val_loss: 0.0032\n",
            "Epoch 11/100\n",
            "3/3 [==============================] - 3s 1s/step - loss: 0.0027 - val_loss: 0.0033\n",
            "Epoch 12/100\n",
            "3/3 [==============================] - 4s 1s/step - loss: 0.0023 - val_loss: 0.0039\n",
            "Epoch 13/100\n",
            "3/3 [==============================] - 4s 1s/step - loss: 0.0021 - val_loss: 0.0040\n",
            "Epoch 14/100\n",
            "3/3 [==============================] - 4s 1s/step - loss: 0.0022 - val_loss: 0.0031\n",
            "Epoch 15/100\n",
            "3/3 [==============================] - 4s 1s/step - loss: 0.0019 - val_loss: 0.0030\n",
            "Epoch 16/100\n",
            "3/3 [==============================] - 4s 1s/step - loss: 0.0019 - val_loss: 0.0027\n",
            "Epoch 17/100\n",
            "3/3 [==============================] - 4s 1s/step - loss: 0.0018 - val_loss: 0.0028\n",
            "Epoch 18/100\n",
            "3/3 [==============================] - 4s 1s/step - loss: 0.0018 - val_loss: 0.0029\n",
            "Epoch 19/100\n",
            "3/3 [==============================] - 4s 1s/step - loss: 0.0018 - val_loss: 0.0026\n",
            "Epoch 20/100\n",
            "3/3 [==============================] - 4s 1s/step - loss: 0.0017 - val_loss: 0.0027\n",
            "Epoch 21/100\n",
            "3/3 [==============================] - 4s 1s/step - loss: 0.0017 - val_loss: 0.0028\n",
            "Epoch 22/100\n",
            "3/3 [==============================] - 4s 1s/step - loss: 0.0016 - val_loss: 0.0026\n",
            "Epoch 23/100\n",
            "3/3 [==============================] - 4s 1s/step - loss: 0.0017 - val_loss: 0.0025\n",
            "Epoch 24/100\n",
            "3/3 [==============================] - 4s 1s/step - loss: 0.0016 - val_loss: 0.0027\n",
            "Epoch 25/100\n",
            "3/3 [==============================] - 4s 1s/step - loss: 0.0016 - val_loss: 0.0024\n",
            "Epoch 26/100\n",
            "3/3 [==============================] - 4s 1s/step - loss: 0.0016 - val_loss: 0.0025\n",
            "Epoch 27/100\n",
            "3/3 [==============================] - 4s 1s/step - loss: 0.0015 - val_loss: 0.0025\n",
            "Epoch 28/100\n",
            "3/3 [==============================] - 4s 1s/step - loss: 0.0015 - val_loss: 0.0023\n",
            "Epoch 29/100\n",
            "3/3 [==============================] - 4s 1s/step - loss: 0.0016 - val_loss: 0.0023\n",
            "Epoch 30/100\n",
            "3/3 [==============================] - 4s 1s/step - loss: 0.0015 - val_loss: 0.0022\n",
            "Epoch 31/100\n",
            "3/3 [==============================] - 4s 1s/step - loss: 0.0015 - val_loss: 0.0025\n",
            "Epoch 32/100\n",
            "3/3 [==============================] - 5s 2s/step - loss: 0.0015 - val_loss: 0.0022\n",
            "Epoch 33/100\n",
            "3/3 [==============================] - 4s 1s/step - loss: 0.0014 - val_loss: 0.0022\n",
            "Epoch 34/100\n",
            "3/3 [==============================] - 4s 1s/step - loss: 0.0014 - val_loss: 0.0022\n",
            "Epoch 35/100\n",
            "3/3 [==============================] - 4s 1s/step - loss: 0.0014 - val_loss: 0.0020\n",
            "Epoch 36/100\n",
            "3/3 [==============================] - 4s 1s/step - loss: 0.0014 - val_loss: 0.0022\n",
            "Epoch 37/100\n",
            "3/3 [==============================] - 4s 1s/step - loss: 0.0013 - val_loss: 0.0021\n",
            "Epoch 38/100\n",
            "3/3 [==============================] - 4s 1s/step - loss: 0.0014 - val_loss: 0.0023\n",
            "Epoch 39/100\n",
            "3/3 [==============================] - 3s 1s/step - loss: 0.0014 - val_loss: 0.0020\n",
            "Epoch 40/100\n",
            "3/3 [==============================] - 4s 1s/step - loss: 0.0014 - val_loss: 0.0019\n",
            "Epoch 41/100\n",
            "3/3 [==============================] - 4s 1s/step - loss: 0.0014 - val_loss: 0.0020\n",
            "Epoch 42/100\n",
            "3/3 [==============================] - 4s 1s/step - loss: 0.0014 - val_loss: 0.0026\n",
            "Epoch 43/100\n",
            "3/3 [==============================] - 4s 1s/step - loss: 0.0014 - val_loss: 0.0022\n",
            "Epoch 44/100\n",
            "3/3 [==============================] - 4s 1s/step - loss: 0.0013 - val_loss: 0.0019\n",
            "Epoch 45/100\n",
            "3/3 [==============================] - 4s 1s/step - loss: 0.0013 - val_loss: 0.0020\n",
            "Epoch 46/100\n",
            "3/3 [==============================] - 4s 1s/step - loss: 0.0013 - val_loss: 0.0021\n",
            "Epoch 47/100\n",
            "3/3 [==============================] - 4s 1s/step - loss: 0.0013 - val_loss: 0.0023\n",
            "Epoch 48/100\n",
            "3/3 [==============================] - 4s 1s/step - loss: 0.0013 - val_loss: 0.0020\n",
            "Epoch 49/100\n",
            "3/3 [==============================] - 4s 1s/step - loss: 0.0013 - val_loss: 0.0019\n",
            "Epoch 50/100\n",
            "3/3 [==============================] - 4s 1s/step - loss: 0.0013 - val_loss: 0.0022\n",
            "Epoch 51/100\n",
            "3/3 [==============================] - 3s 1s/step - loss: 0.0012 - val_loss: 0.0020\n",
            "Epoch 52/100\n",
            "3/3 [==============================] - 3s 1s/step - loss: 0.0014 - val_loss: 0.0024\n",
            "Epoch 53/100\n",
            "3/3 [==============================] - 4s 1s/step - loss: 0.0013 - val_loss: 0.0020\n",
            "Epoch 54/100\n",
            "3/3 [==============================] - 4s 1s/step - loss: 0.0013 - val_loss: 0.0021\n",
            "Epoch 55/100\n",
            "3/3 [==============================] - 4s 1s/step - loss: 0.0012 - val_loss: 0.0021\n",
            "Epoch 56/100\n",
            "3/3 [==============================] - 3s 1s/step - loss: 0.0013 - val_loss: 0.0019\n",
            "Epoch 57/100\n",
            "3/3 [==============================] - 4s 1s/step - loss: 0.0013 - val_loss: 0.0023\n",
            "Epoch 58/100\n",
            "3/3 [==============================] - 4s 1s/step - loss: 0.0012 - val_loss: 0.0019\n",
            "Epoch 59/100\n",
            "3/3 [==============================] - 3s 1s/step - loss: 0.0012 - val_loss: 0.0021\n",
            "Epoch 60/100\n",
            "3/3 [==============================] - 4s 1s/step - loss: 0.0013 - val_loss: 0.0021\n",
            "Epoch 61/100\n",
            "3/3 [==============================] - 5s 2s/step - loss: 0.0012 - val_loss: 0.0019\n",
            "Epoch 62/100\n",
            "3/3 [==============================] - 4s 1s/step - loss: 0.0011 - val_loss: 0.0024\n",
            "Epoch 63/100\n",
            "3/3 [==============================] - 3s 1s/step - loss: 0.0011 - val_loss: 0.0023\n",
            "Epoch 64/100\n",
            "3/3 [==============================] - 4s 1s/step - loss: 0.0012 - val_loss: 0.0027\n",
            "Epoch 65/100\n",
            "3/3 [==============================] - 4s 1s/step - loss: 0.0013 - val_loss: 0.0018\n",
            "Epoch 66/100\n",
            "3/3 [==============================] - 4s 1s/step - loss: 0.0012 - val_loss: 0.0023\n",
            "Epoch 67/100\n",
            "3/3 [==============================] - 4s 1s/step - loss: 0.0013 - val_loss: 0.0019\n",
            "Epoch 68/100\n",
            "3/3 [==============================] - 4s 1s/step - loss: 0.0012 - val_loss: 0.0028\n",
            "Epoch 69/100\n",
            "3/3 [==============================] - 4s 1s/step - loss: 0.0012 - val_loss: 0.0020\n",
            "Epoch 70/100\n",
            "3/3 [==============================] - 4s 1s/step - loss: 0.0012 - val_loss: 0.0023\n",
            "Epoch 71/100\n",
            "3/3 [==============================] - 4s 1s/step - loss: 0.0012 - val_loss: 0.0018\n",
            "Epoch 72/100\n",
            "3/3 [==============================] - 4s 1s/step - loss: 0.0012 - val_loss: 0.0021\n",
            "Epoch 73/100\n",
            "3/3 [==============================] - 4s 1s/step - loss: 0.0011 - val_loss: 0.0021\n",
            "Epoch 74/100\n",
            "3/3 [==============================] - 4s 1s/step - loss: 0.0012 - val_loss: 0.0024\n",
            "Epoch 75/100\n",
            "3/3 [==============================] - 4s 1s/step - loss: 0.0011 - val_loss: 0.0018\n",
            "Epoch 76/100\n",
            "3/3 [==============================] - 4s 1s/step - loss: 0.0011 - val_loss: 0.0021\n",
            "Epoch 77/100\n",
            "3/3 [==============================] - 3s 1s/step - loss: 0.0012 - val_loss: 0.0020\n",
            "Epoch 78/100\n",
            "3/3 [==============================] - 4s 1s/step - loss: 0.0011 - val_loss: 0.0021\n",
            "Epoch 79/100\n",
            "3/3 [==============================] - 4s 1s/step - loss: 0.0012 - val_loss: 0.0019\n",
            "Epoch 80/100\n",
            "3/3 [==============================] - 4s 1s/step - loss: 0.0011 - val_loss: 0.0019\n",
            "Epoch 81/100\n",
            "3/3 [==============================] - 3s 1s/step - loss: 0.0012 - val_loss: 0.0019\n",
            "Epoch 82/100\n",
            "3/3 [==============================] - 3s 1s/step - loss: 0.0011 - val_loss: 0.0019\n",
            "Epoch 83/100\n",
            "3/3 [==============================] - 4s 1s/step - loss: 0.0011 - val_loss: 0.0018\n",
            "Epoch 84/100\n",
            "3/3 [==============================] - 4s 1s/step - loss: 0.0011 - val_loss: 0.0021\n",
            "Epoch 85/100\n",
            "3/3 [==============================] - 4s 1s/step - loss: 0.0011 - val_loss: 0.0019\n",
            "Epoch 86/100\n",
            "3/3 [==============================] - 4s 1s/step - loss: 0.0011 - val_loss: 0.0019\n",
            "Epoch 87/100\n",
            "3/3 [==============================] - 4s 1s/step - loss: 0.0011 - val_loss: 0.0018\n",
            "Epoch 88/100\n",
            "3/3 [==============================] - 4s 1s/step - loss: 0.0010 - val_loss: 0.0019\n",
            "Epoch 89/100\n",
            "3/3 [==============================] - 3s 1s/step - loss: 0.0011 - val_loss: 0.0019\n",
            "Epoch 90/100\n",
            "3/3 [==============================] - 4s 1s/step - loss: 9.9234e-04 - val_loss: 0.0019\n",
            "Epoch 91/100\n",
            "3/3 [==============================] - 4s 1s/step - loss: 0.0011 - val_loss: 0.0019\n",
            "Epoch 92/100\n",
            "3/3 [==============================] - 4s 1s/step - loss: 0.0011 - val_loss: 0.0018\n",
            "Epoch 93/100\n",
            "3/3 [==============================] - 3s 1s/step - loss: 0.0011 - val_loss: 0.0020\n",
            "Epoch 94/100\n",
            "3/3 [==============================] - 4s 1s/step - loss: 0.0011 - val_loss: 0.0018\n",
            "Epoch 95/100\n",
            "3/3 [==============================] - 4s 1s/step - loss: 0.0011 - val_loss: 0.0016\n",
            "Epoch 96/100\n",
            "3/3 [==============================] - 4s 1s/step - loss: 0.0010 - val_loss: 0.0016\n",
            "Epoch 97/100\n",
            "3/3 [==============================] - 4s 1s/step - loss: 0.0010 - val_loss: 0.0021\n",
            "Epoch 98/100\n",
            "3/3 [==============================] - 4s 1s/step - loss: 0.0011 - val_loss: 0.0017\n",
            "Epoch 99/100\n",
            "3/3 [==============================] - 4s 1s/step - loss: 0.0011 - val_loss: 0.0018\n",
            "Epoch 100/100\n",
            "3/3 [==============================] - 4s 1s/step - loss: 0.0010 - val_loss: 0.0018\n"
          ]
        }
      ],
      "source": [
        "with tf.device('/device:GPU:0'):\n",
        "  lstm_model.fit(X_train_new, y_train_new, batch_size=250, epochs=100, validation_split=0.1, verbose=1)"
      ]
    },
    {
      "cell_type": "code",
      "source": [
        "# Saving the model in drive\n",
        "lstm_model.save(\"/content/drive/MyDrive/Sem 8/Sem 8 Proj/Models/LSTM_port_len_5_features_1_timesteps_100.h5\")\n",
        "print('LSTM Model saved!') "
      ],
      "metadata": {
        "colab": {
          "base_uri": "https://localhost:8080/"
        },
        "id": "siP3w4XPgWJ0",
        "outputId": "b81794ef-36de-46b0-d3d9-60d0ce2dca26"
      },
      "execution_count": null,
      "outputs": [
        {
          "output_type": "stream",
          "name": "stdout",
          "text": [
            "LSTM Model saved!\n"
          ]
        }
      ]
    },
    {
      "cell_type": "markdown",
      "metadata": {
        "id": "PvVvgRATCbXq"
      },
      "source": [
        "## Prediction"
      ]
    },
    {
      "cell_type": "code",
      "execution_count": null,
      "metadata": {
        "id": "tJzBSuC5Q2r8"
      },
      "outputs": [],
      "source": [
        "model = lstm_model"
      ]
    },
    {
      "cell_type": "code",
      "execution_count": null,
      "metadata": {
        "colab": {
          "base_uri": "https://localhost:8080/",
          "height": 965
        },
        "id": "UGrEoOYYvXjg",
        "outputId": "9e6eea54-049b-4b30-cf65-d77ad1551fbf"
      },
      "outputs": [
        {
          "output_type": "stream",
          "name": "stdout",
          "text": [
            "13/13 [==============================] - 2s 129ms/step - loss: 0.0042\n",
            "Score: 0.0041625648736953735\n"
          ]
        },
        {
          "output_type": "display_data",
          "data": {
            "text/plain": [
              "<Figure size 2160x1872 with 1 Axes>"
            ],
            "image/png": "[encoded data removed]"
          },
          "metadata": {
            "needs_background": "light"
          }
        }
      ],
      "source": [
        "score = model.evaluate(X_test_new, y_test_new)\n",
        "\n",
        "print('Score: {}'.format(score))\n",
        "\n",
        "yhat = model.predict(X_test_new)\n",
        "\n",
        "# inverse transform is used to convert the scaled values back to original values\n",
        "\n",
        "# predicted output\n",
        "yhat = y_scale.inverse_transform(yhat)\n",
        "\n",
        "# original output\n",
        "y_test = y_scale.inverse_transform(y_test_new)\n",
        "\n",
        "# Prediction plot\n",
        "plt.figure(figsize = (30,26))\n",
        "\n",
        "for i in range(len(tickers)):\n",
        "  plt.plot(yhat[-100:, i], label = f'Predicted - {tickers[i]}')\n",
        "  plt.plot(y_test[-100:, i], label = tickers[i])\n",
        "\n",
        "plt.legend()\n",
        "# plt.legend(handles = [pred, orig], labels = [[f'Predicted - {x}' for x in tickers], tickers])\n",
        "plt.show()"
      ]
    },
    {
      "cell_type": "markdown",
      "source": [
        "## Next day stock price prediction (Portfolio)"
      ],
      "metadata": {
        "id": "8vYQlPU8B1jv"
      }
    },
    {
      "cell_type": "code",
      "source": [
        "load_model = load_model(\"/content/drive/MyDrive/Sem 8/Sem 8 Proj/Models/GRU_port_len_5_features_1_timesteps_100.h5\")\n",
        "print(\"Model loaded!\")"
      ],
      "metadata": {
        "id": "bMAJh9oxgroM",
        "colab": {
          "base_uri": "https://localhost:8080/"
        },
        "outputId": "07b9b268-a174-458f-a628-9b95e6a22de5"
      },
      "execution_count": null,
      "outputs": [
        {
          "output_type": "stream",
          "name": "stdout",
          "text": [
            "WARNING:tensorflow:Layer gru_3 will not use cuDNN kernels since it doesn't meet the criteria. It will use a generic GPU kernel as fallback when running on GPU.\n",
            "WARNING:tensorflow:Layer gru_4 will not use cuDNN kernels since it doesn't meet the criteria. It will use a generic GPU kernel as fallback when running on GPU.\n",
            "Model loaded!\n"
          ]
        }
      ]
    },
    {
      "cell_type": "code",
      "source": [
        "df_pred = get_data(tickers, False)"
      ],
      "metadata": {
        "id": "_V8W6M9xCAAq",
        "colab": {
          "base_uri": "https://localhost:8080/"
        },
        "outputId": "00c552ab-0dc6-4d98-e919-4d783871c3f6"
      },
      "execution_count": null,
      "outputs": [
        {
          "output_type": "stream",
          "name": "stdout",
          "text": [
            "[*********************100%***********************]  5 of 5 completed\n"
          ]
        }
      ]
    },
    {
      "cell_type": "code",
      "source": [
        "df_pred = df_pred[\"Close\"]"
      ],
      "metadata": {
        "id": "t_FbB9swCeeU"
      },
      "execution_count": null,
      "outputs": []
    },
    {
      "cell_type": "code",
      "source": [
        "df_pred"
      ],
      "metadata": {
        "colab": {
          "base_uri": "https://localhost:8080/",
          "height": 450
        },
        "id": "zLmG5qQTC8-W",
        "outputId": "bf2ec432-4e8b-49fb-c2e3-a0f50646e6e0"
      },
      "execution_count": null,
      "outputs": [
        {
          "output_type": "execute_result",
          "data": {
            "text/plain": [
              "            ASIANPAINT.NS      IOC.NS     LUPIN.NS  PIDILITIND.NS  RELIANCE.NS\n",
              "Date                                                                          \n",
              "2017-03-23    1061.599976  188.399994  1490.250000     693.849976   630.671875\n",
              "2017-03-24    1064.250000  186.350006  1487.800049     688.250000   637.333740\n",
              "2017-03-27    1042.900024  185.449997  1457.750000     682.900024   619.676086\n",
              "2017-03-28    1057.849976  184.524994  1455.699951     696.500000   617.026184\n",
              "2017-03-29    1068.099976  185.074997  1454.349976     689.099976   622.425049\n",
              "...                   ...         ...          ...            ...          ...\n",
              "2022-03-16    3042.000000  121.949997   749.599976    2462.899902  2403.350098\n",
              "2022-03-17    3136.600098  121.349998   765.349976    2510.399902  2481.699951\n",
              "2022-03-21    3045.750000  118.000000   755.150024    2485.250000  2467.399902\n",
              "2022-03-22    3051.149902  120.650002   757.250000    2450.350098  2531.149902\n",
              "2022-03-23    3011.800049  121.199997   747.200012    2428.600098  2546.300049\n",
              "\n",
              "[1236 rows x 5 columns]"
            ],
            "text/html": [
              "\n",
              "  <div id=\"df-d5627bbd-02ef-4dcc-8f25-8cf25e4318cd\">\n",
              "    <div class=\"colab-df-container\">\n",
              "      <div>\n",
              "<style scoped>\n",
              "    .dataframe tbody tr th:only-of-type {\n",
              "        vertical-align: middle;\n",
              "    }\n",
              "\n",
              "    .dataframe tbody tr th {\n",
              "        vertical-align: top;\n",
              "    }\n",
              "\n",
              "    .dataframe thead th {\n",
              "        text-align: right;\n",
              "    }\n",
              "</style>\n",
              "<table border=\"1\" class=\"dataframe\">\n",
              "  <thead>\n",
              "    <tr style=\"text-align: right;\">\n",
              "      <th></th>\n",
              "      <th>ASIANPAINT.NS</th>\n",
              "      <th>IOC.NS</th>\n",
              "      <th>LUPIN.NS</th>\n",
              "      <th>PIDILITIND.NS</th>\n",
              "      <th>RELIANCE.NS</th>\n",
              "    </tr>\n",
              "    <tr>\n",
              "      <th>Date</th>\n",
              "      <th></th>\n",
              "      <th></th>\n",
              "      <th></th>\n",
              "      <th></th>\n",
              "      <th></th>\n",
              "    </tr>\n",
              "  </thead>\n",
              "  <tbody>\n",
              "    <tr>\n",
              "      <th>2017-03-23</th>\n",
              "      <td>1061.599976</td>\n",
              "      <td>188.399994</td>\n",
              "      <td>1490.250000</td>\n",
              "      <td>693.849976</td>\n",
              "      <td>630.671875</td>\n",
              "    </tr>\n",
              "    <tr>\n",
              "      <th>2017-03-24</th>\n",
              "      <td>1064.250000</td>\n",
              "      <td>186.350006</td>\n",
              "      <td>1487.800049</td>\n",
              "      <td>688.250000</td>\n",
              "      <td>637.333740</td>\n",
              "    </tr>\n",
              "    <tr>\n",
              "      <th>2017-03-27</th>\n",
              "      <td>1042.900024</td>\n",
              "      <td>185.449997</td>\n",
              "      <td>1457.750000</td>\n",
              "      <td>682.900024</td>\n",
              "      <td>619.676086</td>\n",
              "    </tr>\n",
              "    <tr>\n",
              "      <th>2017-03-28</th>\n",
              "      <td>1057.849976</td>\n",
              "      <td>184.524994</td>\n",
              "      <td>1455.699951</td>\n",
              "      <td>696.500000</td>\n",
              "      <td>617.026184</td>\n",
              "    </tr>\n",
              "    <tr>\n",
              "      <th>2017-03-29</th>\n",
              "      <td>1068.099976</td>\n",
              "      <td>185.074997</td>\n",
              "      <td>1454.349976</td>\n",
              "      <td>689.099976</td>\n",
              "      <td>622.425049</td>\n",
              "    </tr>\n",
              "    <tr>\n",
              "      <th>...</th>\n",
              "      <td>...</td>\n",
              "      <td>...</td>\n",
              "      <td>...</td>\n",
              "      <td>...</td>\n",
              "      <td>...</td>\n",
              "    </tr>\n",
              "    <tr>\n",
              "      <th>2022-03-16</th>\n",
              "      <td>3042.000000</td>\n",
              "      <td>121.949997</td>\n",
              "      <td>749.599976</td>\n",
              "      <td>2462.899902</td>\n",
              "      <td>2403.350098</td>\n",
              "    </tr>\n",
              "    <tr>\n",
              "      <th>2022-03-17</th>\n",
              "      <td>3136.600098</td>\n",
              "      <td>121.349998</td>\n",
              "      <td>765.349976</td>\n",
              "      <td>2510.399902</td>\n",
              "      <td>2481.699951</td>\n",
              "    </tr>\n",
              "    <tr>\n",
              "      <th>2022-03-21</th>\n",
              "      <td>3045.750000</td>\n",
              "      <td>118.000000</td>\n",
              "      <td>755.150024</td>\n",
              "      <td>2485.250000</td>\n",
              "      <td>2467.399902</td>\n",
              "    </tr>\n",
              "    <tr>\n",
              "      <th>2022-03-22</th>\n",
              "      <td>3051.149902</td>\n",
              "      <td>120.650002</td>\n",
              "      <td>757.250000</td>\n",
              "      <td>2450.350098</td>\n",
              "      <td>2531.149902</td>\n",
              "    </tr>\n",
              "    <tr>\n",
              "      <th>2022-03-23</th>\n",
              "      <td>3011.800049</td>\n",
              "      <td>121.199997</td>\n",
              "      <td>747.200012</td>\n",
              "      <td>2428.600098</td>\n",
              "      <td>2546.300049</td>\n",
              "    </tr>\n",
              "  </tbody>\n",
              "</table>\n",
              "<p>1236 rows × 5 columns</p>\n",
              "</div>\n",
              "      <button class=\"colab-df-convert\" onclick=\"convertToInteractive('df-d5627bbd-02ef-4dcc-8f25-8cf25e4318cd')\"\n",
              "              title=\"Convert this dataframe to an interactive table.\"\n",
              "              style=\"display:none;\">\n",
              "        \n",
              "  <svg xmlns=\"http://www.w3.org/2000/svg\" height=\"24px\"viewBox=\"0 0 24 24\"\n",
              "       width=\"24px\">\n",
              "    <path d=\"M0 0h24v24H0V0z\" fill=\"none\"/>\n",
              "    <path d=\"M18.56 5.44l.94 2.06.94-2.06 2.06-.94-2.06-.94-.94-2.06-.94 2.06-2.06.94zm-11 1L8.5 8.5l.94-2.06 2.06-.94-2.06-.94L8.5 2.5l-.94 2.06-2.06.94zm10 10l.94 2.06.94-2.06 2.06-.94-2.06-.94-.94-2.06-.94 2.06-2.06.94z\"/><path d=\"M17.41 7.96l-1.37-1.37c-.4-.4-.92-.59-1.43-.59-.52 0-1.04.2-1.43.59L10.3 9.45l-7.72 7.72c-.78.78-.78 2.05 0 2.83L4 21.41c.39.39.9.59 1.41.59.51 0 1.02-.2 1.41-.59l7.78-7.78 2.81-2.81c.8-.78.8-2.07 0-2.86zM5.41 20L4 18.59l7.72-7.72 1.47 1.35L5.41 20z\"/>\n",
              "  </svg>\n",
              "      </button>\n",
              "      \n",
              "  <style>\n",
              "    .colab-df-container {\n",
              "      display:flex;\n",
              "      flex-wrap:wrap;\n",
              "      gap: 12px;\n",
              "    }\n",
              "\n",
              "    .colab-df-convert {\n",
              "      background-color: #E8F0FE;\n",
              "      border: none;\n",
              "      border-radius: 50%;\n",
              "      cursor: pointer;\n",
              "      display: none;\n",
              "      fill: #1967D2;\n",
              "      height: 32px;\n",
              "      padding: 0 0 0 0;\n",
              "      width: 32px;\n",
              "    }\n",
              "\n",
              "    .colab-df-convert:hover {\n",
              "      background-color: #E2EBFA;\n",
              "      box-shadow: 0px 1px 2px rgba(60, 64, 67, 0.3), 0px 1px 3px 1px rgba(60, 64, 67, 0.15);\n",
              "      fill: #174EA6;\n",
              "    }\n",
              "\n",
              "    [theme=dark] .colab-df-convert {\n",
              "      background-color: #3B4455;\n",
              "      fill: #D2E3FC;\n",
              "    }\n",
              "\n",
              "    [theme=dark] .colab-df-convert:hover {\n",
              "      background-color: #434B5C;\n",
              "      box-shadow: 0px 1px 3px 1px rgba(0, 0, 0, 0.15);\n",
              "      filter: drop-shadow(0px 1px 2px rgba(0, 0, 0, 0.3));\n",
              "      fill: #FFFFFF;\n",
              "    }\n",
              "  </style>\n",
              "\n",
              "      <script>\n",
              "        const buttonEl =\n",
              "          document.querySelector('#df-d5627bbd-02ef-4dcc-8f25-8cf25e4318cd button.colab-df-convert');\n",
              "        buttonEl.style.display =\n",
              "          google.colab.kernel.accessAllowed ? 'block' : 'none';\n",
              "\n",
              "        async function convertToInteractive(key) {\n",
              "          const element = document.querySelector('#df-d5627bbd-02ef-4dcc-8f25-8cf25e4318cd');\n",
              "          const dataTable =\n",
              "            await google.colab.kernel.invokeFunction('convertToInteractive',\n",
              "                                                     [key], {});\n",
              "          if (!dataTable) return;\n",
              "\n",
              "          const docLinkHtml = 'Like what you see? Visit the ' +\n",
              "            '<a target=\"_blank\" href=https://colab.research.google.com/notebooks/data_table.ipynb>data table notebook</a>'\n",
              "            + ' to learn more about interactive tables.';\n",
              "          element.innerHTML = '';\n",
              "          dataTable['output_type'] = 'display_data';\n",
              "          await google.colab.output.renderOutput(dataTable, element);\n",
              "          const docLink = document.createElement('div');\n",
              "          docLink.innerHTML = docLinkHtml;\n",
              "          element.appendChild(docLink);\n",
              "        }\n",
              "      </script>\n",
              "    </div>\n",
              "  </div>\n",
              "  "
            ]
          },
          "metadata": {},
          "execution_count": 68
        }
      ]
    },
    {
      "cell_type": "code",
      "source": [
        "df_pred = df_pred.iloc[len(df_pred) - time_steps:len(df_pred), :]\n",
        "df_pred = df_pred.values\n",
        "df_pred"
      ],
      "metadata": {
        "colab": {
          "base_uri": "https://localhost:8080/"
        },
        "id": "XdGtQs--CYD9",
        "outputId": "82a8ca8a-4a89-4d34-ec04-55aebc4b280e"
      },
      "execution_count": null,
      "outputs": [
        {
          "output_type": "execute_result",
          "data": {
            "text/plain": [
              "array([[3116.30004883,  128.6499939 ,  881.75      , 2368.        ,\n",
              "        2598.60009766],\n",
              "       [3100.10009766,  127.94999695,  922.90002441, 2313.64990234,\n",
              "        2536.25      ],\n",
              "       [3121.80004883,  131.6499939 ,  944.34997559, 2362.94995117,\n",
              "        2537.80004883],\n",
              "       [3103.35009766,  130.80000305,  930.75      , 2343.75      ,\n",
              "        2500.80004883],\n",
              "       [3170.64990234,  132.55000305,  935.90002441, 2359.5       ,\n",
              "        2483.60009766],\n",
              "       [3159.25      ,  134.6499939 ,  934.25      , 2408.        ,\n",
              "        2498.85009766],\n",
              "       [3138.        ,  140.44999695,  929.29998779, 2382.30004883,\n",
              "        2501.94995117],\n",
              "       [3145.14990234,  139.69999695,  937.34997559, 2392.10009766,\n",
              "        2521.69995117],\n",
              "       [3108.30004883,  139.44999695,  942.04998779, 2366.44995117,\n",
              "        2549.89990234],\n",
              "       [3063.5       ,  133.30000305,  935.65002441, 2474.        ,\n",
              "        2554.55004883],\n",
              "       [3122.89990234,  132.94999695,  948.25      , 2426.19995117,\n",
              "        2593.10009766],\n",
              "       [3168.69995117,  132.8500061 ,  944.75      , 2431.55004883,\n",
              "        2577.80004883],\n",
              "       [3151.69995117,  131.        ,  931.5       , 2444.75      ,\n",
              "        2517.89990234],\n",
              "       [3230.25      ,  128.44999695,  910.15002441, 2414.44995117,\n",
              "        2464.        ],\n",
              "       [3226.85009766,  129.3500061 ,  898.70001221, 2439.60009766,\n",
              "        2473.30004883],\n",
              "       [3261.25      ,  124.5       ,  871.29998779, 2350.        ,\n",
              "        2363.75      ],\n",
              "       [3185.55004883,  126.15000153,  883.        , 2343.19995117,\n",
              "        2385.85009766],\n",
              "       [3157.        ,  127.59999847,  894.70001221, 2263.10009766,\n",
              "        2351.39990234],\n",
              "       [3144.25      ,  125.65000153,  899.25      , 2251.64990234,\n",
              "        2492.94995117],\n",
              "       [3143.10009766,  120.94999695,  915.34997559, 2232.30004883,\n",
              "        2412.60009766],\n",
              "       [3144.30004883,  118.80000305,  893.        , 2218.10009766,\n",
              "        2441.5       ],\n",
              "       [3143.64990234,  118.94999695,  884.40002441, 2205.85009766,\n",
              "        2405.39990234],\n",
              "       [3138.14990234,  117.69999695,  871.40002441, 2204.44995117,\n",
              "        2467.        ],\n",
              "       [3180.60009766,  120.65000153,  875.59997559, 2235.        ,\n",
              "        2482.85009766],\n",
              "       [3110.44995117,  122.19999695,  873.        , 2208.44995117,\n",
              "        2408.25      ],\n",
              "       [3038.30004883,  120.94999695,  858.25      , 2201.55004883,\n",
              "        2362.60009766],\n",
              "       [3030.35009766,  120.59999847,  866.15002441, 2213.55004883,\n",
              "        2381.85009766],\n",
              "       [3108.5       ,  120.40000153,  889.25      , 2232.05004883,\n",
              "        2418.10009766],\n",
              "       [3178.69995117,  119.69999695,  887.54998779, 2262.75      ,\n",
              "        2456.44995117],\n",
              "       [3283.14990234,  120.05000305,  883.90002441, 2325.75      ,\n",
              "        2458.94995117],\n",
              "       [3279.85009766,  118.30000305,  884.        , 2358.10009766,\n",
              "        2409.64990234],\n",
              "       [3297.5       ,  117.90000153,  943.04998779, 2389.25      ,\n",
              "        2380.14990234],\n",
              "       [3301.94995117,  115.69999695,  918.84997559, 2407.75      ,\n",
              "        2373.19995117],\n",
              "       [3298.60009766,  115.75      ,  903.40002441, 2418.25      ,\n",
              "        2403.89990234],\n",
              "       [3243.69995117,  112.84999847,  874.84997559, 2391.44995117,\n",
              "        2340.44995117],\n",
              "       [3239.44995117,  108.75      ,  875.15002441, 2405.55004883,\n",
              "        2277.35009766],\n",
              "       [3271.35009766,  109.5       ,  875.75      , 2410.        ,\n",
              "        2311.25      ],\n",
              "       [3280.10009766,  109.05000305,  902.34997559, 2434.5       ,\n",
              "        2366.10009766],\n",
              "       [3267.89990234,  112.15000153,  912.45001221, 2421.39990234,\n",
              "        2365.25      ],\n",
              "       [3284.80004883,  110.25      ,  897.75      , 2410.19995117,\n",
              "        2372.80004883],\n",
              "       [3272.39990234,  110.75      ,  916.45001221, 2398.19995117,\n",
              "        2370.25      ],\n",
              "       [3368.19995117,  112.30000305,  916.59997559, 2472.80004883,\n",
              "        2398.39990234],\n",
              "       [3367.44995117,  111.5       ,  929.59997559, 2450.25      ,\n",
              "        2402.5       ],\n",
              "       [3365.69995117,  110.55000305,  937.84997559, 2433.89990234,\n",
              "        2359.10009766],\n",
              "       [3382.94995117,  111.5       ,  950.75      , 2462.80004883,\n",
              "        2368.14990234],\n",
              "       [3422.39990234,  112.94999695,  945.25      , 2473.94995117,\n",
              "        2403.85009766],\n",
              "       [3459.30004883,  114.05000305,  932.34997559, 2599.19995117,\n",
              "        2458.10009766],\n",
              "       [3526.80004883,  117.25      ,  932.04998779, 2637.94995117,\n",
              "        2469.60009766],\n",
              "       [3514.64990234,  117.25      ,  923.15002441, 2646.        ,\n",
              "        2416.5       ],\n",
              "       [3576.30004883,  118.5       ,  916.04998779, 2723.44995117,\n",
              "        2436.        ],\n",
              "       [3553.5       ,  119.69999695,  938.29998779, 2709.14990234,\n",
              "        2438.        ],\n",
              "       [3538.75      ,  118.59999847,  946.04998779, 2709.75      ,\n",
              "        2455.55004883],\n",
              "       [3543.80004883,  119.15000153,  952.84997559, 2748.85009766,\n",
              "        2521.10009766],\n",
              "       [3456.25      ,  121.15000153,  958.95001221, 2724.35009766,\n",
              "        2535.30004883],\n",
              "       [3364.39990234,  123.30000305,  951.79998779, 2700.55004883,\n",
              "        2539.        ],\n",
              "       [3378.64990234,  123.75      ,  942.54998779, 2714.55004883,\n",
              "        2552.25      ],\n",
              "       [3373.69995117,  123.94999695,  943.70001221, 2685.10009766,\n",
              "        2521.80004883],\n",
              "       [3280.39990234,  125.09999847,  959.45001221, 2673.39990234,\n",
              "        2521.60009766],\n",
              "       [3306.39990234,  125.5       ,  939.5       , 2675.94995117,\n",
              "        2477.44995117],\n",
              "       [3274.85009766,  121.69999695,  903.40002441, 2700.60009766,\n",
              "        2477.85009766],\n",
              "       [3155.14990234,  120.34999847,  922.        , 2640.35009766,\n",
              "        2377.89990234],\n",
              "       [3147.10009766,  121.44999695,  915.95001221, 2589.85009766,\n",
              "        2373.25      ],\n",
              "       [3116.94995117,  122.69999695,  888.09997559, 2460.89990234,\n",
              "        2338.10009766],\n",
              "       [3110.85009766,  124.09999847,  899.75      , 2475.80004883,\n",
              "        2335.85009766],\n",
              "       [3152.25      ,  125.19999695,  908.09997559, 2456.5       ,\n",
              "        2386.60009766],\n",
              "       [3196.25      ,  121.75      ,  904.04998779, 2472.85009766,\n",
              "        2378.69995117],\n",
              "       [3197.69995117,  124.44999695,  913.54998779, 2522.89990234,\n",
              "        2383.55004883],\n",
              "       [3203.        ,  124.65000153,  900.        , 2503.19995117,\n",
              "        2352.75      ],\n",
              "       [3236.64990234,  124.15000153,  872.20001221, 2481.80004883,\n",
              "        2331.30004883],\n",
              "       [3174.69995117,  122.90000153,  804.70001221, 2435.5       ,\n",
              "        2317.10009766],\n",
              "       [3216.35009766,  121.34999847,  787.59997559, 2415.35009766,\n",
              "        2356.05004883],\n",
              "       [3228.35009766,  121.05000305,  800.95001221, 2480.60009766,\n",
              "        2383.5       ],\n",
              "       [3238.75      ,  119.94999695,  806.34997559, 2489.05004883,\n",
              "        2381.05004883],\n",
              "       [3216.30004883,  122.05000305,  798.09997559, 2432.25      ,\n",
              "        2376.39990234],\n",
              "       [3143.44995117,  116.55000305,  761.34997559, 2388.55004883,\n",
              "        2338.55004883],\n",
              "       [3264.60009766,  118.75      ,  764.20001221, 2448.10009766,\n",
              "        2417.94995117],\n",
              "       [3252.85009766,  121.5       ,  777.40002441, 2422.69995117,\n",
              "        2412.94995117],\n",
              "       [3265.85009766,  121.40000153,  772.29998779, 2446.80004883,\n",
              "        2443.5       ],\n",
              "       [3258.44995117,  121.15000153,  767.75      , 2430.69995117,\n",
              "        2424.39990234],\n",
              "       [3251.64990234,  119.19999695,  760.75      , 2426.30004883,\n",
              "        2399.89990234],\n",
              "       [3227.14990234,  117.09999847,  752.20001221, 2382.69995117,\n",
              "        2389.        ],\n",
              "       [3237.19995117,  117.15000153,  756.        , 2415.60009766,\n",
              "        2374.05004883],\n",
              "       [3069.05004883,  110.        ,  713.20001221, 2310.75      ,\n",
              "        2255.75      ],\n",
              "       [3119.19995117,  112.34999847,  741.95001221, 2369.05004883,\n",
              "        2283.94995117],\n",
              "       [3174.64990234,  115.        ,  745.84997559, 2402.94995117,\n",
              "        2359.55004883],\n",
              "       [3028.94995117,  112.25      ,  728.15002441, 2397.80004883,\n",
              "        2398.55004883],\n",
              "       [2871.89990234,  114.65000153,  719.5       , 2338.64990234,\n",
              "        2378.30004883],\n",
              "       [2738.14990234,  113.25      ,  704.34997559, 2260.94995117,\n",
              "        2325.55004883],\n",
              "       [2708.44995117,  112.25      ,  700.79998779, 2164.64990234,\n",
              "        2239.55004883],\n",
              "       [2723.39990234,  117.05000305,  708.40002441, 2180.85009766,\n",
              "        2235.5       ],\n",
              "       [2874.94995117,  116.94999695,  739.40002441, 2237.60009766,\n",
              "        2354.10009766],\n",
              "       [2912.80004883,  120.94999695,  739.54998779, 2349.89990234,\n",
              "        2392.25      ],\n",
              "       [2932.        ,  123.69999695,  747.90002441, 2338.14990234,\n",
              "        2399.14990234],\n",
              "       [2962.80004883,  120.80000305,  745.20001221, 2344.69995117,\n",
              "        2418.85009766],\n",
              "       [2987.14990234,  119.        ,  737.95001221, 2370.55004883,\n",
              "        2363.44995117],\n",
              "       [3042.        ,  121.94999695,  749.59997559, 2462.89990234,\n",
              "        2403.35009766],\n",
              "       [3136.60009766,  121.34999847,  765.34997559, 2510.39990234,\n",
              "        2481.69995117],\n",
              "       [3045.75      ,  118.        ,  755.15002441, 2485.25      ,\n",
              "        2467.39990234],\n",
              "       [3051.14990234,  120.65000153,  757.25      , 2450.35009766,\n",
              "        2531.14990234],\n",
              "       [3011.80004883,  121.19999695,  747.20001221, 2428.60009766,\n",
              "        2546.30004883]])"
            ]
          },
          "metadata": {},
          "execution_count": 70
        }
      ]
    },
    {
      "cell_type": "code",
      "source": [
        "x_pred = x_scale.transform(df_pred)\n",
        "\n",
        "print(x_pred.shape)"
      ],
      "metadata": {
        "colab": {
          "base_uri": "https://localhost:8080/"
        },
        "id": "KwmmcX1ZfXPL",
        "outputId": "f5863f9e-5d4a-4944-f7f7-d9f38e09293e"
      },
      "execution_count": null,
      "outputs": [
        {
          "output_type": "stream",
          "name": "stdout",
          "text": [
            "(100, 5)\n"
          ]
        }
      ]
    },
    {
      "cell_type": "code",
      "source": [
        "next_day_price = load_model.predict(x_pred.reshape(-1, x_pred.shape[0], x_pred.shape[1]))"
      ],
      "metadata": {
        "id": "VaUu91vMfsbU"
      },
      "execution_count": null,
      "outputs": []
    },
    {
      "cell_type": "code",
      "source": [
        "print(y_scale.inverse_transform(next_day_price))"
      ],
      "metadata": {
        "id": "20GQUbydI11K",
        "colab": {
          "base_uri": "https://localhost:8080/"
        },
        "outputId": "47e02565-7eca-47d9-8884-f4abf26bc79b"
      },
      "execution_count": null,
      "outputs": [
        {
          "output_type": "stream",
          "name": "stdout",
          "text": [
            "[[3033.3398    116.084206  749.45996  2386.426    2505.0662  ]]\n"
          ]
        }
      ]
    },
    {
      "cell_type": "markdown",
      "source": [
        "# Helper function for calculating expected returns, annual volatility and Sharpe ratio of optimized portfolio"
      ],
      "metadata": {
        "id": "waTc5AXsnYSx"
      }
    },
    {
      "cell_type": "code",
      "source": [
        "def get_port_stats(returns, weights, cov_matrix):\n",
        "  # EXPECTED ANNUAL RETURN\n",
        "  annual_returns = returns.mean() * 252\n",
        "  # find expected portfolio returns\n",
        "  expected_return = np.sum(weights.T.values * annual_returns.values)\n",
        "\n",
        "  # ANNUAL VOLATILITY\n",
        "  # find annual volatility of portfolio\n",
        "  volatility = np.sqrt(np.dot(weights.T,np.dot(cov_matrix*252,weights)))\n",
        "\n",
        "  # SHARPE RATIO (Assuming 0 risk free return. Alternative is to use a value of 0.02)\n",
        "  sharpe_ratio = expected_return / volatility\n",
        "\n",
        "  print(f\"Expected Returns: {(expected_return * 100).round(decimals = 2)}%\")\n",
        "  print(f\"Annual Volatility: {(volatility * 100).round(decimals = 2)[0][0]}%\")\n",
        "  print(f\"Sharpe Ratio: {sharpe_ratio.round(decimals = 2)[0][0]}\")"
      ],
      "metadata": {
        "id": "9OFSR9OyhtO6"
      },
      "execution_count": 7,
      "outputs": []
    },
    {
      "cell_type": "markdown",
      "source": [
        "# Deep Learning Model for Portfolio Optimization [Method 1]"
      ],
      "metadata": {
        "id": "Tmcgnl3Uv8KC"
      }
    },
    {
      "cell_type": "code",
      "source": [
        "sharpe_loss_data = tf.cast(tf.constant(df.iloc[1:]), float)"
      ],
      "metadata": {
        "id": "Eaf1ON8TWBl2"
      },
      "execution_count": 144,
      "outputs": []
    },
    {
      "cell_type": "code",
      "source": [
        "def sharpe_loss(_, y_pred):\n",
        "  # make all time-series start at 1\n",
        "  data = tf.divide(sharpe_loss_data, sharpe_loss_data[0])  \n",
        "            \n",
        "  # value of the portfolio after allocations applied\n",
        "  portfolio_values = tf.reduce_sum(tf.multiply(data, y_pred), axis=1) \n",
        "  \n",
        "  portfolio_returns = (portfolio_values[1:] - portfolio_values[:-1]) / portfolio_values[:-1]  # % change formula\n",
        "\n",
        "  sharpe = K.mean(portfolio_returns) / K.std(portfolio_returns)\n",
        "\n",
        "  # since we want to maximize Sharpe, while gradient descent minimizes the loss, \n",
        "  # we can negate Sharpe (the min of a negated function is its max)\n",
        "  return -sharpe"
      ],
      "metadata": {
        "id": "8CZcJwPJwAsv"
      },
      "execution_count": 145,
      "outputs": []
    },
    {
      "cell_type": "code",
      "source": [
        "# Historical data with returns\n",
        "df_w_ret = np.concatenate([ df.values[1:], df.pct_change().values[1:] ], axis=1)\n",
        "\n",
        "df_w_ret[0,:]"
      ],
      "metadata": {
        "colab": {
          "base_uri": "https://localhost:8080/"
        },
        "id": "j-Gyx4uwNpG4",
        "outputId": "c115c539-1c1c-453f-d090-d7818a985962"
      },
      "execution_count": 146,
      "outputs": [
        {
          "output_type": "execute_result",
          "data": {
            "text/plain": [
              "array([ 1.06425000e+03,  1.86350006e+02,  1.48780005e+03,  6.88250000e+02,\n",
              "        6.37333740e+02,  2.49625516e-03, -1.08810396e-02, -1.64398669e-03,\n",
              "       -8.07087380e-03,  1.05631240e-02])"
            ]
          },
          "metadata": {},
          "execution_count": 146
        }
      ]
    },
    {
      "cell_type": "code",
      "source": [
        "opt_model = Sequential([\n",
        "            LSTM(64, input_shape=df_w_ret.shape),\n",
        "            Flatten(),\n",
        "            Dense(port_len, activation='softmax')\n",
        "        ])"
      ],
      "metadata": {
        "id": "XZlIWNH6Qk-w"
      },
      "execution_count": 147,
      "outputs": []
    },
    {
      "cell_type": "code",
      "source": [
        "opt_model.compile(loss=sharpe_loss, optimizer='adam')"
      ],
      "metadata": {
        "id": "7IBhbY34WcOi"
      },
      "execution_count": 148,
      "outputs": []
    },
    {
      "cell_type": "code",
      "source": [
        "opt_model.summary()"
      ],
      "metadata": {
        "colab": {
          "base_uri": "https://localhost:8080/"
        },
        "id": "H3CvhT0mYGcx",
        "outputId": "9320509c-7281-4c29-cd3b-d527689af53e"
      },
      "execution_count": 149,
      "outputs": [
        {
          "output_type": "stream",
          "name": "stdout",
          "text": [
            "Model: \"sequential_9\"\n",
            "_________________________________________________________________\n",
            " Layer (type)                Output Shape              Param #   \n",
            "=================================================================\n",
            " lstm_9 (LSTM)               (None, 64)                19200     \n",
            "                                                                 \n",
            " flatten_9 (Flatten)         (None, 64)                0         \n",
            "                                                                 \n",
            " dense_9 (Dense)             (None, 5)                 325       \n",
            "                                                                 \n",
            "=================================================================\n",
            "Total params: 19,525\n",
            "Trainable params: 19,525\n",
            "Non-trainable params: 0\n",
            "_________________________________________________________________\n"
          ]
        }
      ]
    },
    {
      "cell_type": "code",
      "source": [
        "fit_predict_data = df_w_ret[np.newaxis,:]\n",
        "fit_predict_data.shape"
      ],
      "metadata": {
        "colab": {
          "base_uri": "https://localhost:8080/"
        },
        "id": "ZgjvDYAEWoBd",
        "outputId": "796211bf-ef09-40ea-ddbb-78e512790391"
      },
      "execution_count": 150,
      "outputs": [
        {
          "output_type": "execute_result",
          "data": {
            "text/plain": [
              "(1, 1235, 10)"
            ]
          },
          "metadata": {},
          "execution_count": 150
        }
      ]
    },
    {
      "cell_type": "code",
      "source": [
        "with tf.device('/device:GPU:0'):\n",
        "  opt_model.fit(fit_predict_data, np.zeros((1, port_len)), epochs=20, shuffle=False)"
      ],
      "metadata": {
        "colab": {
          "base_uri": "https://localhost:8080/"
        },
        "id": "4_c6qE26WfSp",
        "outputId": "f645b029-5137-4a6d-a4de-8f50a906e197"
      },
      "execution_count": 152,
      "outputs": [
        {
          "output_type": "stream",
          "name": "stdout",
          "text": [
            "Epoch 1/30\n",
            "1/1 [==============================] - 26s 26s/step - loss: -0.0355\n",
            "Epoch 2/30\n",
            "1/1 [==============================] - 23s 23s/step - loss: -0.0367\n",
            "Epoch 3/30\n",
            "1/1 [==============================] - 27s 27s/step - loss: -0.0374\n",
            "Epoch 4/30\n",
            "1/1 [==============================] - 9s 9s/step - loss: -0.0381\n",
            "Epoch 5/30\n",
            "1/1 [==============================] - 8s 8s/step - loss: -0.0388\n",
            "Epoch 6/30\n",
            "1/1 [==============================] - 8s 8s/step - loss: -0.0394\n",
            "Epoch 7/30\n",
            "1/1 [==============================] - 8s 8s/step - loss: -0.0401\n",
            "Epoch 8/30\n",
            "1/1 [==============================] - 9s 9s/step - loss: -0.0408\n",
            "Epoch 9/30\n",
            "1/1 [==============================] - 8s 8s/step - loss: -0.0415\n",
            "Epoch 10/30\n",
            "1/1 [==============================] - 8s 8s/step - loss: -0.0422\n",
            "Epoch 11/30\n",
            "1/1 [==============================] - 8s 8s/step - loss: -0.0429\n",
            "Epoch 12/30\n",
            "1/1 [==============================] - 9s 9s/step - loss: -0.0435\n",
            "Epoch 13/30\n",
            "1/1 [==============================] - 9s 9s/step - loss: -0.0442\n",
            "Epoch 14/30\n",
            "1/1 [==============================] - 9s 9s/step - loss: -0.0448\n",
            "Epoch 15/30\n",
            "1/1 [==============================] - 9s 9s/step - loss: -0.0455\n",
            "Epoch 16/30\n",
            "1/1 [==============================] - 8s 8s/step - loss: -0.0461\n",
            "Epoch 17/30\n",
            "1/1 [==============================] - 9s 9s/step - loss: -0.0467\n",
            "Epoch 18/30\n",
            "1/1 [==============================] - 8s 8s/step - loss: -0.0473\n",
            "Epoch 19/30\n",
            "1/1 [==============================] - 8s 8s/step - loss: -0.0479\n",
            "Epoch 20/30\n",
            "1/1 [==============================] - 8s 8s/step - loss: -0.0485\n",
            "Epoch 21/30\n",
            "1/1 [==============================] - 9s 9s/step - loss: -0.0491\n",
            "Epoch 22/30\n",
            "1/1 [==============================] - 9s 9s/step - loss: -0.0497\n",
            "Epoch 23/30\n",
            "1/1 [==============================] - 8s 8s/step - loss: -0.0502\n",
            "Epoch 24/30\n",
            "1/1 [==============================] - 8s 8s/step - loss: -0.0508\n",
            "Epoch 25/30\n",
            "1/1 [==============================] - 8s 8s/step - loss: -0.0513\n",
            "Epoch 26/30\n",
            "1/1 [==============================] - 9s 9s/step - loss: -0.0518\n",
            "Epoch 27/30\n",
            "1/1 [==============================] - 9s 9s/step - loss: -0.0523\n",
            "Epoch 28/30\n",
            "1/1 [==============================] - 9s 9s/step - loss: -0.0528\n",
            "Epoch 29/30\n",
            "1/1 [==============================] - 9s 9s/step - loss: -0.0533\n",
            "Epoch 30/30\n",
            "1/1 [==============================] - 9s 9s/step - loss: -0.0538\n"
          ]
        }
      ]
    },
    {
      "cell_type": "code",
      "source": [
        "pred_weights_1 = opt_model.predict(fit_predict_data).T\n",
        "pred_weights_1 = pd.DataFrame(pred_weights_1)\n",
        "pred_weights_1"
      ],
      "metadata": {
        "colab": {
          "base_uri": "https://localhost:8080/",
          "height": 204
        },
        "id": "Mms7oX35ROem",
        "outputId": "a947ab02-6cc7-4055-cda5-d1d431e05cc3"
      },
      "execution_count": 156,
      "outputs": [
        {
          "output_type": "execute_result",
          "data": {
            "text/plain": [
              "          0\n",
              "0  0.113205\n",
              "1  0.193688\n",
              "2  0.252592\n",
              "3  0.371681\n",
              "4  0.068834"
            ],
            "text/html": [
              "\n",
              "  <div id=\"df-cdf222e9-9716-4937-ae43-b2cb41ce5dfb\">\n",
              "    <div class=\"colab-df-container\">\n",
              "      <div>\n",
              "<style scoped>\n",
              "    .dataframe tbody tr th:only-of-type {\n",
              "        vertical-align: middle;\n",
              "    }\n",
              "\n",
              "    .dataframe tbody tr th {\n",
              "        vertical-align: top;\n",
              "    }\n",
              "\n",
              "    .dataframe thead th {\n",
              "        text-align: right;\n",
              "    }\n",
              "</style>\n",
              "<table border=\"1\" class=\"dataframe\">\n",
              "  <thead>\n",
              "    <tr style=\"text-align: right;\">\n",
              "      <th></th>\n",
              "      <th>0</th>\n",
              "    </tr>\n",
              "  </thead>\n",
              "  <tbody>\n",
              "    <tr>\n",
              "      <th>0</th>\n",
              "      <td>0.113205</td>\n",
              "    </tr>\n",
              "    <tr>\n",
              "      <th>1</th>\n",
              "      <td>0.193688</td>\n",
              "    </tr>\n",
              "    <tr>\n",
              "      <th>2</th>\n",
              "      <td>0.252592</td>\n",
              "    </tr>\n",
              "    <tr>\n",
              "      <th>3</th>\n",
              "      <td>0.371681</td>\n",
              "    </tr>\n",
              "    <tr>\n",
              "      <th>4</th>\n",
              "      <td>0.068834</td>\n",
              "    </tr>\n",
              "  </tbody>\n",
              "</table>\n",
              "</div>\n",
              "      <button class=\"colab-df-convert\" onclick=\"convertToInteractive('df-cdf222e9-9716-4937-ae43-b2cb41ce5dfb')\"\n",
              "              title=\"Convert this dataframe to an interactive table.\"\n",
              "              style=\"display:none;\">\n",
              "        \n",
              "  <svg xmlns=\"http://www.w3.org/2000/svg\" height=\"24px\"viewBox=\"0 0 24 24\"\n",
              "       width=\"24px\">\n",
              "    <path d=\"M0 0h24v24H0V0z\" fill=\"none\"/>\n",
              "    <path d=\"M18.56 5.44l.94 2.06.94-2.06 2.06-.94-2.06-.94-.94-2.06-.94 2.06-2.06.94zm-11 1L8.5 8.5l.94-2.06 2.06-.94-2.06-.94L8.5 2.5l-.94 2.06-2.06.94zm10 10l.94 2.06.94-2.06 2.06-.94-2.06-.94-.94-2.06-.94 2.06-2.06.94z\"/><path d=\"M17.41 7.96l-1.37-1.37c-.4-.4-.92-.59-1.43-.59-.52 0-1.04.2-1.43.59L10.3 9.45l-7.72 7.72c-.78.78-.78 2.05 0 2.83L4 21.41c.39.39.9.59 1.41.59.51 0 1.02-.2 1.41-.59l7.78-7.78 2.81-2.81c.8-.78.8-2.07 0-2.86zM5.41 20L4 18.59l7.72-7.72 1.47 1.35L5.41 20z\"/>\n",
              "  </svg>\n",
              "      </button>\n",
              "      \n",
              "  <style>\n",
              "    .colab-df-container {\n",
              "      display:flex;\n",
              "      flex-wrap:wrap;\n",
              "      gap: 12px;\n",
              "    }\n",
              "\n",
              "    .colab-df-convert {\n",
              "      background-color: #E8F0FE;\n",
              "      border: none;\n",
              "      border-radius: 50%;\n",
              "      cursor: pointer;\n",
              "      display: none;\n",
              "      fill: #1967D2;\n",
              "      height: 32px;\n",
              "      padding: 0 0 0 0;\n",
              "      width: 32px;\n",
              "    }\n",
              "\n",
              "    .colab-df-convert:hover {\n",
              "      background-color: #E2EBFA;\n",
              "      box-shadow: 0px 1px 2px rgba(60, 64, 67, 0.3), 0px 1px 3px 1px rgba(60, 64, 67, 0.15);\n",
              "      fill: #174EA6;\n",
              "    }\n",
              "\n",
              "    [theme=dark] .colab-df-convert {\n",
              "      background-color: #3B4455;\n",
              "      fill: #D2E3FC;\n",
              "    }\n",
              "\n",
              "    [theme=dark] .colab-df-convert:hover {\n",
              "      background-color: #434B5C;\n",
              "      box-shadow: 0px 1px 3px 1px rgba(0, 0, 0, 0.15);\n",
              "      filter: drop-shadow(0px 1px 2px rgba(0, 0, 0, 0.3));\n",
              "      fill: #FFFFFF;\n",
              "    }\n",
              "  </style>\n",
              "\n",
              "      <script>\n",
              "        const buttonEl =\n",
              "          document.querySelector('#df-cdf222e9-9716-4937-ae43-b2cb41ce5dfb button.colab-df-convert');\n",
              "        buttonEl.style.display =\n",
              "          google.colab.kernel.accessAllowed ? 'block' : 'none';\n",
              "\n",
              "        async function convertToInteractive(key) {\n",
              "          const element = document.querySelector('#df-cdf222e9-9716-4937-ae43-b2cb41ce5dfb');\n",
              "          const dataTable =\n",
              "            await google.colab.kernel.invokeFunction('convertToInteractive',\n",
              "                                                     [key], {});\n",
              "          if (!dataTable) return;\n",
              "\n",
              "          const docLinkHtml = 'Like what you see? Visit the ' +\n",
              "            '<a target=\"_blank\" href=https://colab.research.google.com/notebooks/data_table.ipynb>data table notebook</a>'\n",
              "            + ' to learn more about interactive tables.';\n",
              "          element.innerHTML = '';\n",
              "          dataTable['output_type'] = 'display_data';\n",
              "          await google.colab.output.renderOutput(dataTable, element);\n",
              "          const docLink = document.createElement('div');\n",
              "          docLink.innerHTML = docLinkHtml;\n",
              "          element.appendChild(docLink);\n",
              "        }\n",
              "      </script>\n",
              "    </div>\n",
              "  </div>\n",
              "  "
            ]
          },
          "metadata": {},
          "execution_count": 156
        }
      ]
    },
    {
      "cell_type": "markdown",
      "source": [
        "# Deep learning Model for Portfolio Optimization [Method 2] (Better Method)"
      ],
      "metadata": {
        "id": "sXMq5rupnYOx"
      }
    },
    {
      "cell_type": "code",
      "source": [
        "pct_change = df.pct_change().dropna()\n",
        "cov = np.cov(pct_change.values.T)"
      ],
      "metadata": {
        "id": "PYmiB0topOvu"
      },
      "execution_count": 13,
      "outputs": []
    },
    {
      "cell_type": "code",
      "source": [
        "def sharpe_loss_2(_, y_pred):\n",
        "\n",
        "  y_pred = tf.cast(y_pred, dtype = tf.float64)\n",
        "  cov_tensor = tf.convert_to_tensor(cov, dtype=tf.float64)\n",
        "  pct_change_tensor = tf.convert_to_tensor(pct_change, dtype=tf.float64)\n",
        "\n",
        "  # EXPECTED ANNUAL RETURN\n",
        "  annual_returns = K.mean(pct_change_tensor) * 252\n",
        "  # find expected portfolio returns\n",
        "  expected_return = tf.reduce_sum(tf.transpose(y_pred) * annual_returns)\n",
        "\n",
        "  # ANNUAL VOLATILITY\n",
        "  # find annual volatility of portfolio\n",
        "  volatility = tf.sqrt(tf.matmul(y_pred,tf.matmul(cov_tensor*252,tf.transpose(y_pred))))\n",
        "\n",
        "  # SHARPE RATIO (Assuming 0 risk free return)\n",
        "  sharpe_ratio = expected_return / volatility\n",
        "\n",
        "  if sharpe_ratio > 0:\n",
        "    return -sharpe_ratio\n",
        "  else:\n",
        "    return sharpe_ratio"
      ],
      "metadata": {
        "id": "5shrZtuRnXoV"
      },
      "execution_count": 14,
      "outputs": []
    },
    {
      "cell_type": "code",
      "source": [
        "def gen_model(input_shape, outputs):\n",
        "  opt_model_2 = Sequential([\n",
        "              # LSTM(64, input_shape=input_shape),\n",
        "              GRU(128, input_shape=input_shape, return_sequences = True),\n",
        "              GRU(64),\n",
        "              Flatten(),\n",
        "              Dense(outputs, activation='softmax')\n",
        "          ])\n",
        "\n",
        "  # FOR TESTING:\n",
        "  # opt_model_2.compile(loss=sharpe_loss_2, optimizer='adam', run_eagerly=True)\n",
        "  \n",
        "  # FOR PRODUCTION:\n",
        "  opt_model_2.compile(loss=sharpe_loss_2, optimizer='adam')\n",
        "\n",
        "  return opt_model_2"
      ],
      "metadata": {
        "id": "W2dfYFNLnkCs"
      },
      "execution_count": 15,
      "outputs": []
    },
    {
      "cell_type": "code",
      "source": [
        "# Historical data with returns\n",
        "df_w_ret = np.concatenate([ df.values[1:], df.pct_change().values[1:] ], axis=1)"
      ],
      "metadata": {
        "id": "VVIlY1SUNWDk"
      },
      "execution_count": 18,
      "outputs": []
    },
    {
      "cell_type": "code",
      "source": [
        "df_w_ret[0]"
      ],
      "metadata": {
        "colab": {
          "base_uri": "https://localhost:8080/"
        },
        "id": "ufLrCB_OPSvB",
        "outputId": "5d07e5d7-6dcd-457a-b3b2-c5b128c96ee5"
      },
      "execution_count": 36,
      "outputs": [
        {
          "output_type": "execute_result",
          "data": {
            "text/plain": [
              "array([ 1.59315002e+03,  7.78499985e+01,  5.66500000e+02,  1.27109998e+03,\n",
              "        1.07208765e+03,  4.47913237e-02, -2.32120269e-02, -4.33975206e-02,\n",
              "       -3.13700892e-03,  1.47180347e-01])"
            ]
          },
          "metadata": {},
          "execution_count": 36
        }
      ]
    },
    {
      "cell_type": "code",
      "source": [
        "opt_model_x = df_w_ret[np.newaxis, :]\n",
        "\n",
        "opt_model_x.shape"
      ],
      "metadata": {
        "colab": {
          "base_uri": "https://localhost:8080/"
        },
        "id": "2mdchUN7q4Ja",
        "outputId": "187eb7e0-8842-4a99-f949-e2efed370cf1"
      },
      "execution_count": 22,
      "outputs": [
        {
          "output_type": "execute_result",
          "data": {
            "text/plain": [
              "(1, 497, 10)"
            ]
          },
          "metadata": {},
          "execution_count": 22
        }
      ]
    },
    {
      "cell_type": "code",
      "source": [
        "opt_model_2 = gen_model(np.array([opt_model_x.shape[1], opt_model_x.shape[2]]), port_len)"
      ],
      "metadata": {
        "id": "GF36Qv8Zn-4d"
      },
      "execution_count": 23,
      "outputs": []
    },
    {
      "cell_type": "code",
      "source": [
        "with tf.device('/device:GPU:0'):\n",
        "  # Here Y [np.zeros((1, port_len))] does not matter because we don't use y_true in \n",
        "  # the custom loss function\n",
        "  opt_model_2.fit(opt_model_x, np.zeros((1, port_len)), epochs=20, shuffle=False)"
      ],
      "metadata": {
        "colab": {
          "base_uri": "https://localhost:8080/"
        },
        "id": "OXLXhKRQqhPf",
        "outputId": "0f63420c-1247-4934-c125-8271f1644df6"
      },
      "execution_count": 24,
      "outputs": [
        {
          "output_type": "stream",
          "name": "stdout",
          "text": [
            "Epoch 1/20\n",
            "1/1 [==============================] - 25s 25s/step - loss: -1.7868\n",
            "Epoch 2/20\n",
            "1/1 [==============================] - 17s 17s/step - loss: -1.7924\n",
            "Epoch 3/20\n",
            "1/1 [==============================] - 14s 14s/step - loss: -1.8094\n",
            "Epoch 4/20\n",
            "1/1 [==============================] - 13s 13s/step - loss: -1.8255\n",
            "Epoch 5/20\n",
            "1/1 [==============================] - 7s 7s/step - loss: -1.8161\n",
            "Epoch 6/20\n",
            "1/1 [==============================] - 6s 6s/step - loss: -1.8080\n",
            "Epoch 7/20\n",
            "1/1 [==============================] - 6s 6s/step - loss: -1.8144\n",
            "Epoch 8/20\n",
            "1/1 [==============================] - 6s 6s/step - loss: -1.8238\n",
            "Epoch 9/20\n",
            "1/1 [==============================] - 10s 10s/step - loss: -1.8262\n",
            "Epoch 10/20\n",
            "1/1 [==============================] - 6s 6s/step - loss: -1.8224\n",
            "Epoch 11/20\n",
            "1/1 [==============================] - 6s 6s/step - loss: -1.8194\n",
            "Epoch 12/20\n",
            "1/1 [==============================] - 7s 7s/step - loss: -1.8199\n",
            "Epoch 13/20\n",
            "1/1 [==============================] - 6s 6s/step - loss: -1.8228\n",
            "Epoch 14/20\n",
            "1/1 [==============================] - 6s 6s/step - loss: -1.8257\n",
            "Epoch 15/20\n",
            "1/1 [==============================] - 6s 6s/step - loss: -1.8265\n",
            "Epoch 16/20\n",
            "1/1 [==============================] - 6s 6s/step - loss: -1.8257\n",
            "Epoch 17/20\n",
            "1/1 [==============================] - 6s 6s/step - loss: -1.8251\n",
            "Epoch 18/20\n",
            "1/1 [==============================] - 6s 6s/step - loss: -1.8251\n",
            "Epoch 19/20\n",
            "1/1 [==============================] - 6s 6s/step - loss: -1.8257\n",
            "Epoch 20/20\n",
            "1/1 [==============================] - 6s 6s/step - loss: -1.8262\n"
          ]
        }
      ]
    },
    {
      "cell_type": "code",
      "source": [
        "pred_weights_2 = opt_model_2.predict(opt_model_x).T\n",
        "pred_weights_2 = pd.DataFrame(pred_weights_2)\n",
        "pred_weights_2"
      ],
      "metadata": {
        "colab": {
          "base_uri": "https://localhost:8080/",
          "height": 204
        },
        "id": "h9TDg468GTCm",
        "outputId": "f073cee2-ffa8-4bc3-8c40-d227aa8d88ed"
      },
      "execution_count": 25,
      "outputs": [
        {
          "output_type": "execute_result",
          "data": {
            "text/plain": [
              "          0\n",
              "0  0.187586\n",
              "1  0.219518\n",
              "2  0.224791\n",
              "3  0.253132\n",
              "4  0.114974"
            ],
            "text/html": [
              "\n",
              "  <div id=\"df-f88c4ef1-b324-40ba-a656-56204caff813\">\n",
              "    <div class=\"colab-df-container\">\n",
              "      <div>\n",
              "<style scoped>\n",
              "    .dataframe tbody tr th:only-of-type {\n",
              "        vertical-align: middle;\n",
              "    }\n",
              "\n",
              "    .dataframe tbody tr th {\n",
              "        vertical-align: top;\n",
              "    }\n",
              "\n",
              "    .dataframe thead th {\n",
              "        text-align: right;\n",
              "    }\n",
              "</style>\n",
              "<table border=\"1\" class=\"dataframe\">\n",
              "  <thead>\n",
              "    <tr style=\"text-align: right;\">\n",
              "      <th></th>\n",
              "      <th>0</th>\n",
              "    </tr>\n",
              "  </thead>\n",
              "  <tbody>\n",
              "    <tr>\n",
              "      <th>0</th>\n",
              "      <td>0.187586</td>\n",
              "    </tr>\n",
              "    <tr>\n",
              "      <th>1</th>\n",
              "      <td>0.219518</td>\n",
              "    </tr>\n",
              "    <tr>\n",
              "      <th>2</th>\n",
              "      <td>0.224791</td>\n",
              "    </tr>\n",
              "    <tr>\n",
              "      <th>3</th>\n",
              "      <td>0.253132</td>\n",
              "    </tr>\n",
              "    <tr>\n",
              "      <th>4</th>\n",
              "      <td>0.114974</td>\n",
              "    </tr>\n",
              "  </tbody>\n",
              "</table>\n",
              "</div>\n",
              "      <button class=\"colab-df-convert\" onclick=\"convertToInteractive('df-f88c4ef1-b324-40ba-a656-56204caff813')\"\n",
              "              title=\"Convert this dataframe to an interactive table.\"\n",
              "              style=\"display:none;\">\n",
              "        \n",
              "  <svg xmlns=\"http://www.w3.org/2000/svg\" height=\"24px\"viewBox=\"0 0 24 24\"\n",
              "       width=\"24px\">\n",
              "    <path d=\"M0 0h24v24H0V0z\" fill=\"none\"/>\n",
              "    <path d=\"M18.56 5.44l.94 2.06.94-2.06 2.06-.94-2.06-.94-.94-2.06-.94 2.06-2.06.94zm-11 1L8.5 8.5l.94-2.06 2.06-.94-2.06-.94L8.5 2.5l-.94 2.06-2.06.94zm10 10l.94 2.06.94-2.06 2.06-.94-2.06-.94-.94-2.06-.94 2.06-2.06.94z\"/><path d=\"M17.41 7.96l-1.37-1.37c-.4-.4-.92-.59-1.43-.59-.52 0-1.04.2-1.43.59L10.3 9.45l-7.72 7.72c-.78.78-.78 2.05 0 2.83L4 21.41c.39.39.9.59 1.41.59.51 0 1.02-.2 1.41-.59l7.78-7.78 2.81-2.81c.8-.78.8-2.07 0-2.86zM5.41 20L4 18.59l7.72-7.72 1.47 1.35L5.41 20z\"/>\n",
              "  </svg>\n",
              "      </button>\n",
              "      \n",
              "  <style>\n",
              "    .colab-df-container {\n",
              "      display:flex;\n",
              "      flex-wrap:wrap;\n",
              "      gap: 12px;\n",
              "    }\n",
              "\n",
              "    .colab-df-convert {\n",
              "      background-color: #E8F0FE;\n",
              "      border: none;\n",
              "      border-radius: 50%;\n",
              "      cursor: pointer;\n",
              "      display: none;\n",
              "      fill: #1967D2;\n",
              "      height: 32px;\n",
              "      padding: 0 0 0 0;\n",
              "      width: 32px;\n",
              "    }\n",
              "\n",
              "    .colab-df-convert:hover {\n",
              "      background-color: #E2EBFA;\n",
              "      box-shadow: 0px 1px 2px rgba(60, 64, 67, 0.3), 0px 1px 3px 1px rgba(60, 64, 67, 0.15);\n",
              "      fill: #174EA6;\n",
              "    }\n",
              "\n",
              "    [theme=dark] .colab-df-convert {\n",
              "      background-color: #3B4455;\n",
              "      fill: #D2E3FC;\n",
              "    }\n",
              "\n",
              "    [theme=dark] .colab-df-convert:hover {\n",
              "      background-color: #434B5C;\n",
              "      box-shadow: 0px 1px 3px 1px rgba(0, 0, 0, 0.15);\n",
              "      filter: drop-shadow(0px 1px 2px rgba(0, 0, 0, 0.3));\n",
              "      fill: #FFFFFF;\n",
              "    }\n",
              "  </style>\n",
              "\n",
              "      <script>\n",
              "        const buttonEl =\n",
              "          document.querySelector('#df-f88c4ef1-b324-40ba-a656-56204caff813 button.colab-df-convert');\n",
              "        buttonEl.style.display =\n",
              "          google.colab.kernel.accessAllowed ? 'block' : 'none';\n",
              "\n",
              "        async function convertToInteractive(key) {\n",
              "          const element = document.querySelector('#df-f88c4ef1-b324-40ba-a656-56204caff813');\n",
              "          const dataTable =\n",
              "            await google.colab.kernel.invokeFunction('convertToInteractive',\n",
              "                                                     [key], {});\n",
              "          if (!dataTable) return;\n",
              "\n",
              "          const docLinkHtml = 'Like what you see? Visit the ' +\n",
              "            '<a target=\"_blank\" href=https://colab.research.google.com/notebooks/data_table.ipynb>data table notebook</a>'\n",
              "            + ' to learn more about interactive tables.';\n",
              "          element.innerHTML = '';\n",
              "          dataTable['output_type'] = 'display_data';\n",
              "          await google.colab.output.renderOutput(dataTable, element);\n",
              "          const docLink = document.createElement('div');\n",
              "          docLink.innerHTML = docLinkHtml;\n",
              "          element.appendChild(docLink);\n",
              "        }\n",
              "      </script>\n",
              "    </div>\n",
              "  </div>\n",
              "  "
            ]
          },
          "metadata": {},
          "execution_count": 25
        }
      ]
    },
    {
      "cell_type": "code",
      "source": [
        "get_port_stats(pct_change, pred_weights_2, cov)"
      ],
      "metadata": {
        "colab": {
          "base_uri": "https://localhost:8080/"
        },
        "id": "9hEVtZerNHoU",
        "outputId": "f4183cc7-6b7a-46c6-9ea3-ddaa399188d8"
      },
      "execution_count": 26,
      "outputs": [
        {
          "output_type": "stream",
          "name": "stdout",
          "text": [
            "Expected Returns: 33.1%\n",
            "Annual Volatility: 19.44%\n",
            "Sharpe Ratio: 1.7\n"
          ]
        }
      ]
    },
    {
      "cell_type": "markdown",
      "source": [
        "### Portfolio Statistics of portfolio generated using method 1 [Worse method]"
      ],
      "metadata": {
        "id": "DYbBuRwFUq-b"
      }
    },
    {
      "cell_type": "code",
      "source": [
        "get_port_stats(pct_change, pred_weights_1, cov)"
      ],
      "metadata": {
        "colab": {
          "base_uri": "https://localhost:8080/"
        },
        "id": "5cQJf1f4Tb0f",
        "outputId": "95b0f50f-9399-400c-867f-274292257989"
      },
      "execution_count": 160,
      "outputs": [
        {
          "output_type": "stream",
          "name": "stdout",
          "text": [
            "Expected Returns: 12.99%\n",
            "Annual Volatility: 19.39%\n",
            "Sharpe Ratio: 0.57\n"
          ]
        }
      ]
    },
    {
      "cell_type": "markdown",
      "source": [
        "# Statistical models (PyPortfolioOpt)"
      ],
      "metadata": {
        "id": "LpDcPFkMsj5g"
      }
    },
    {
      "cell_type": "code",
      "source": [
        "from pypfopt import HRPOpt\n",
        "from pypfopt import CLA\n",
        "from pypfopt import plotting\n",
        "from pypfopt import risk_models\n",
        "from pypfopt import expected_returns"
      ],
      "metadata": {
        "colab": {
          "base_uri": "https://localhost:8080/"
        },
        "id": "MLF219rOslj0",
        "outputId": "595b2be6-1c73-4094-c842-d92660f81675"
      },
      "execution_count": null,
      "outputs": [
        {
          "output_type": "stream",
          "name": "stdout",
          "text": [
            "Collecting PyPortfolioOpt\n",
            "  Downloading PyPortfolioOpt-1.5.1-py3-none-any.whl (61 kB)\n",
            "\u001b[?25l\r\u001b[K     |█████▍                          | 10 kB 20.2 MB/s eta 0:00:01\r\u001b[K     |██████████▊                     | 20 kB 21.0 MB/s eta 0:00:01\r\u001b[K     |████████████████                | 30 kB 10.6 MB/s eta 0:00:01\r\u001b[K     |█████████████████████▍          | 40 kB 8.5 MB/s eta 0:00:01\r\u001b[K     |██████████████████████████▊     | 51 kB 5.5 MB/s eta 0:00:01\r\u001b[K     |████████████████████████████████| 61 kB 3.4 MB/s \n",
            "\u001b[?25hRequirement already satisfied: numpy<2.0,>=1.12 in /usr/local/lib/python3.7/dist-packages (from PyPortfolioOpt) (1.21.5)\n",
            "Collecting cvxpy<2.0.0,>=1.1.10\n",
            "  Downloading cvxpy-1.2.0-cp37-cp37m-manylinux_2_24_x86_64.whl (2.8 MB)\n",
            "\u001b[K     |████████████████████████████████| 2.8 MB 10.7 MB/s \n",
            "\u001b[?25hRequirement already satisfied: scipy<2.0,>=1.3 in /usr/local/lib/python3.7/dist-packages (from PyPortfolioOpt) (1.4.1)\n",
            "Requirement already satisfied: pandas>=0.19 in /usr/local/lib/python3.7/dist-packages (from PyPortfolioOpt) (1.3.5)\n",
            "Requirement already satisfied: scs>=1.1.6 in /usr/local/lib/python3.7/dist-packages (from cvxpy<2.0.0,>=1.1.10->PyPortfolioOpt) (3.2.0)\n",
            "Requirement already satisfied: ecos>=2 in /usr/local/lib/python3.7/dist-packages (from cvxpy<2.0.0,>=1.1.10->PyPortfolioOpt) (2.0.10)\n",
            "Requirement already satisfied: osqp>=0.4.1 in /usr/local/lib/python3.7/dist-packages (from cvxpy<2.0.0,>=1.1.10->PyPortfolioOpt) (0.6.2.post0)\n",
            "Requirement already satisfied: qdldl in /usr/local/lib/python3.7/dist-packages (from osqp>=0.4.1->cvxpy<2.0.0,>=1.1.10->PyPortfolioOpt) (0.1.5.post0)\n",
            "Requirement already satisfied: pytz>=2017.3 in /usr/local/lib/python3.7/dist-packages (from pandas>=0.19->PyPortfolioOpt) (2018.9)\n",
            "Requirement already satisfied: python-dateutil>=2.7.3 in /usr/local/lib/python3.7/dist-packages (from pandas>=0.19->PyPortfolioOpt) (2.8.2)\n",
            "Requirement already satisfied: six>=1.5 in /usr/local/lib/python3.7/dist-packages (from python-dateutil>=2.7.3->pandas>=0.19->PyPortfolioOpt) (1.15.0)\n",
            "Installing collected packages: cvxpy, PyPortfolioOpt\n",
            "  Attempting uninstall: cvxpy\n",
            "    Found existing installation: cvxpy 1.0.31\n",
            "    Uninstalling cvxpy-1.0.31:\n",
            "      Successfully uninstalled cvxpy-1.0.31\n",
            "Successfully installed PyPortfolioOpt-1.5.1 cvxpy-1.2.0\n"
          ]
        }
      ]
    },
    {
      "cell_type": "code",
      "source": [
        "df"
      ],
      "metadata": {
        "colab": {
          "base_uri": "https://localhost:8080/",
          "height": 481
        },
        "id": "widWu5xdhXtL",
        "outputId": "167f65ca-ab91-45ea-d5bb-98408a317f3d"
      },
      "execution_count": null,
      "outputs": [
        {
          "output_type": "execute_result",
          "data": {
            "text/plain": [
              "                   Close                                                    \n",
              "           ASIANPAINT.NS      IOC.NS     LUPIN.NS PIDILITIND.NS  RELIANCE.NS\n",
              "Date                                                                        \n",
              "2017-03-17   1079.449951  187.925003  1456.550049    701.900024   644.243225\n",
              "2017-03-20   1079.699951  185.475006  1464.699951    699.500000   634.386658\n",
              "2017-03-21   1068.699951  186.050003  1454.400024    700.150024   625.966492\n",
              "2017-03-22   1057.849976  186.375000  1468.150024    693.299988   623.935730\n",
              "2017-03-23   1061.599976  188.399994  1490.250000    693.849976   630.671875\n",
              "...                  ...         ...          ...           ...          ...\n",
              "2022-03-11   2932.000000  123.699997   747.900024   2338.149902  2399.149902\n",
              "2022-03-14   2962.800049  120.800003   745.200012   2344.699951  2418.850098\n",
              "2022-03-15   2987.149902  119.000000   737.950012   2370.550049  2363.449951\n",
              "2022-03-16   3042.000000  121.949997   749.599976   2462.899902  2403.350098\n",
              "2022-03-17   3136.600098  121.349998   765.349976   2510.399902  2481.699951\n",
              "\n",
              "[1237 rows x 5 columns]"
            ],
            "text/html": [
              "\n",
              "  <div id=\"df-9716aad7-35f8-4195-bf6e-dd1822fc8783\">\n",
              "    <div class=\"colab-df-container\">\n",
              "      <div>\n",
              "<style scoped>\n",
              "    .dataframe tbody tr th:only-of-type {\n",
              "        vertical-align: middle;\n",
              "    }\n",
              "\n",
              "    .dataframe tbody tr th {\n",
              "        vertical-align: top;\n",
              "    }\n",
              "\n",
              "    .dataframe thead tr th {\n",
              "        text-align: left;\n",
              "    }\n",
              "\n",
              "    .dataframe thead tr:last-of-type th {\n",
              "        text-align: right;\n",
              "    }\n",
              "</style>\n",
              "<table border=\"1\" class=\"dataframe\">\n",
              "  <thead>\n",
              "    <tr>\n",
              "      <th></th>\n",
              "      <th colspan=\"5\" halign=\"left\">Close</th>\n",
              "    </tr>\n",
              "    <tr>\n",
              "      <th></th>\n",
              "      <th>ASIANPAINT.NS</th>\n",
              "      <th>IOC.NS</th>\n",
              "      <th>LUPIN.NS</th>\n",
              "      <th>PIDILITIND.NS</th>\n",
              "      <th>RELIANCE.NS</th>\n",
              "    </tr>\n",
              "    <tr>\n",
              "      <th>Date</th>\n",
              "      <th></th>\n",
              "      <th></th>\n",
              "      <th></th>\n",
              "      <th></th>\n",
              "      <th></th>\n",
              "    </tr>\n",
              "  </thead>\n",
              "  <tbody>\n",
              "    <tr>\n",
              "      <th>2017-03-17</th>\n",
              "      <td>1079.449951</td>\n",
              "      <td>187.925003</td>\n",
              "      <td>1456.550049</td>\n",
              "      <td>701.900024</td>\n",
              "      <td>644.243225</td>\n",
              "    </tr>\n",
              "    <tr>\n",
              "      <th>2017-03-20</th>\n",
              "      <td>1079.699951</td>\n",
              "      <td>185.475006</td>\n",
              "      <td>1464.699951</td>\n",
              "      <td>699.500000</td>\n",
              "      <td>634.386658</td>\n",
              "    </tr>\n",
              "    <tr>\n",
              "      <th>2017-03-21</th>\n",
              "      <td>1068.699951</td>\n",
              "      <td>186.050003</td>\n",
              "      <td>1454.400024</td>\n",
              "      <td>700.150024</td>\n",
              "      <td>625.966492</td>\n",
              "    </tr>\n",
              "    <tr>\n",
              "      <th>2017-03-22</th>\n",
              "      <td>1057.849976</td>\n",
              "      <td>186.375000</td>\n",
              "      <td>1468.150024</td>\n",
              "      <td>693.299988</td>\n",
              "      <td>623.935730</td>\n",
              "    </tr>\n",
              "    <tr>\n",
              "      <th>2017-03-23</th>\n",
              "      <td>1061.599976</td>\n",
              "      <td>188.399994</td>\n",
              "      <td>1490.250000</td>\n",
              "      <td>693.849976</td>\n",
              "      <td>630.671875</td>\n",
              "    </tr>\n",
              "    <tr>\n",
              "      <th>...</th>\n",
              "      <td>...</td>\n",
              "      <td>...</td>\n",
              "      <td>...</td>\n",
              "      <td>...</td>\n",
              "      <td>...</td>\n",
              "    </tr>\n",
              "    <tr>\n",
              "      <th>2022-03-11</th>\n",
              "      <td>2932.000000</td>\n",
              "      <td>123.699997</td>\n",
              "      <td>747.900024</td>\n",
              "      <td>2338.149902</td>\n",
              "      <td>2399.149902</td>\n",
              "    </tr>\n",
              "    <tr>\n",
              "      <th>2022-03-14</th>\n",
              "      <td>2962.800049</td>\n",
              "      <td>120.800003</td>\n",
              "      <td>745.200012</td>\n",
              "      <td>2344.699951</td>\n",
              "      <td>2418.850098</td>\n",
              "    </tr>\n",
              "    <tr>\n",
              "      <th>2022-03-15</th>\n",
              "      <td>2987.149902</td>\n",
              "      <td>119.000000</td>\n",
              "      <td>737.950012</td>\n",
              "      <td>2370.550049</td>\n",
              "      <td>2363.449951</td>\n",
              "    </tr>\n",
              "    <tr>\n",
              "      <th>2022-03-16</th>\n",
              "      <td>3042.000000</td>\n",
              "      <td>121.949997</td>\n",
              "      <td>749.599976</td>\n",
              "      <td>2462.899902</td>\n",
              "      <td>2403.350098</td>\n",
              "    </tr>\n",
              "    <tr>\n",
              "      <th>2022-03-17</th>\n",
              "      <td>3136.600098</td>\n",
              "      <td>121.349998</td>\n",
              "      <td>765.349976</td>\n",
              "      <td>2510.399902</td>\n",
              "      <td>2481.699951</td>\n",
              "    </tr>\n",
              "  </tbody>\n",
              "</table>\n",
              "<p>1237 rows × 5 columns</p>\n",
              "</div>\n",
              "      <button class=\"colab-df-convert\" onclick=\"convertToInteractive('df-9716aad7-35f8-4195-bf6e-dd1822fc8783')\"\n",
              "              title=\"Convert this dataframe to an interactive table.\"\n",
              "              style=\"display:none;\">\n",
              "        \n",
              "  <svg xmlns=\"http://www.w3.org/2000/svg\" height=\"24px\"viewBox=\"0 0 24 24\"\n",
              "       width=\"24px\">\n",
              "    <path d=\"M0 0h24v24H0V0z\" fill=\"none\"/>\n",
              "    <path d=\"M18.56 5.44l.94 2.06.94-2.06 2.06-.94-2.06-.94-.94-2.06-.94 2.06-2.06.94zm-11 1L8.5 8.5l.94-2.06 2.06-.94-2.06-.94L8.5 2.5l-.94 2.06-2.06.94zm10 10l.94 2.06.94-2.06 2.06-.94-2.06-.94-.94-2.06-.94 2.06-2.06.94z\"/><path d=\"M17.41 7.96l-1.37-1.37c-.4-.4-.92-.59-1.43-.59-.52 0-1.04.2-1.43.59L10.3 9.45l-7.72 7.72c-.78.78-.78 2.05 0 2.83L4 21.41c.39.39.9.59 1.41.59.51 0 1.02-.2 1.41-.59l7.78-7.78 2.81-2.81c.8-.78.8-2.07 0-2.86zM5.41 20L4 18.59l7.72-7.72 1.47 1.35L5.41 20z\"/>\n",
              "  </svg>\n",
              "      </button>\n",
              "      \n",
              "  <style>\n",
              "    .colab-df-container {\n",
              "      display:flex;\n",
              "      flex-wrap:wrap;\n",
              "      gap: 12px;\n",
              "    }\n",
              "\n",
              "    .colab-df-convert {\n",
              "      background-color: #E8F0FE;\n",
              "      border: none;\n",
              "      border-radius: 50%;\n",
              "      cursor: pointer;\n",
              "      display: none;\n",
              "      fill: #1967D2;\n",
              "      height: 32px;\n",
              "      padding: 0 0 0 0;\n",
              "      width: 32px;\n",
              "    }\n",
              "\n",
              "    .colab-df-convert:hover {\n",
              "      background-color: #E2EBFA;\n",
              "      box-shadow: 0px 1px 2px rgba(60, 64, 67, 0.3), 0px 1px 3px 1px rgba(60, 64, 67, 0.15);\n",
              "      fill: #174EA6;\n",
              "    }\n",
              "\n",
              "    [theme=dark] .colab-df-convert {\n",
              "      background-color: #3B4455;\n",
              "      fill: #D2E3FC;\n",
              "    }\n",
              "\n",
              "    [theme=dark] .colab-df-convert:hover {\n",
              "      background-color: #434B5C;\n",
              "      box-shadow: 0px 1px 3px 1px rgba(0, 0, 0, 0.15);\n",
              "      filter: drop-shadow(0px 1px 2px rgba(0, 0, 0, 0.3));\n",
              "      fill: #FFFFFF;\n",
              "    }\n",
              "  </style>\n",
              "\n",
              "      <script>\n",
              "        const buttonEl =\n",
              "          document.querySelector('#df-9716aad7-35f8-4195-bf6e-dd1822fc8783 button.colab-df-convert');\n",
              "        buttonEl.style.display =\n",
              "          google.colab.kernel.accessAllowed ? 'block' : 'none';\n",
              "\n",
              "        async function convertToInteractive(key) {\n",
              "          const element = document.querySelector('#df-9716aad7-35f8-4195-bf6e-dd1822fc8783');\n",
              "          const dataTable =\n",
              "            await google.colab.kernel.invokeFunction('convertToInteractive',\n",
              "                                                     [key], {});\n",
              "          if (!dataTable) return;\n",
              "\n",
              "          const docLinkHtml = 'Like what you see? Visit the ' +\n",
              "            '<a target=\"_blank\" href=https://colab.research.google.com/notebooks/data_table.ipynb>data table notebook</a>'\n",
              "            + ' to learn more about interactive tables.';\n",
              "          element.innerHTML = '';\n",
              "          dataTable['output_type'] = 'display_data';\n",
              "          await google.colab.output.renderOutput(dataTable, element);\n",
              "          const docLink = document.createElement('div');\n",
              "          docLink.innerHTML = docLinkHtml;\n",
              "          element.appendChild(docLink);\n",
              "        }\n",
              "      </script>\n",
              "    </div>\n",
              "  </div>\n",
              "  "
            ]
          },
          "metadata": {},
          "execution_count": 13
        }
      ]
    },
    {
      "cell_type": "code",
      "source": [
        "# pct_change() calculates the percent change values and dropna() drops the missing values\n",
        "returns = df.pct_change().dropna()\n",
        "\n",
        "returns"
      ],
      "metadata": {
        "colab": {
          "base_uri": "https://localhost:8080/",
          "height": 481
        },
        "id": "R0DYZgl3bURW",
        "outputId": "7be1cd0a-a76c-4327-fb68-42631dac401e"
      },
      "execution_count": null,
      "outputs": [
        {
          "output_type": "execute_result",
          "data": {
            "text/plain": [
              "                   Close                                              \n",
              "           ASIANPAINT.NS    IOC.NS  LUPIN.NS PIDILITIND.NS RELIANCE.NS\n",
              "Date                                                                  \n",
              "2017-03-20      0.000232 -0.013037  0.005595     -0.003419   -0.015299\n",
              "2017-03-21     -0.010188  0.003100 -0.007032      0.000929   -0.013273\n",
              "2017-03-22     -0.010152  0.001747  0.009454     -0.009784   -0.003244\n",
              "2017-03-23      0.003545  0.010865  0.015053      0.000793    0.010796\n",
              "2017-03-24      0.002496 -0.010881 -0.001644     -0.008071    0.010563\n",
              "...                  ...       ...       ...           ...         ...\n",
              "2022-03-11      0.006592  0.022737  0.011291     -0.005000    0.002884\n",
              "2022-03-14      0.010505 -0.023444 -0.003610      0.002801    0.008211\n",
              "2022-03-15      0.008219 -0.014901 -0.009729      0.011025   -0.022904\n",
              "2022-03-16      0.018362  0.024790  0.015787      0.038957    0.016882\n",
              "2022-03-17      0.031098 -0.004920  0.021011      0.019286    0.032600\n",
              "\n",
              "[1236 rows x 5 columns]"
            ],
            "text/html": [
              "\n",
              "  <div id=\"df-2e83b807-6fb5-48f1-b109-d1f6d34ad355\">\n",
              "    <div class=\"colab-df-container\">\n",
              "      <div>\n",
              "<style scoped>\n",
              "    .dataframe tbody tr th:only-of-type {\n",
              "        vertical-align: middle;\n",
              "    }\n",
              "\n",
              "    .dataframe tbody tr th {\n",
              "        vertical-align: top;\n",
              "    }\n",
              "\n",
              "    .dataframe thead tr th {\n",
              "        text-align: left;\n",
              "    }\n",
              "\n",
              "    .dataframe thead tr:last-of-type th {\n",
              "        text-align: right;\n",
              "    }\n",
              "</style>\n",
              "<table border=\"1\" class=\"dataframe\">\n",
              "  <thead>\n",
              "    <tr>\n",
              "      <th></th>\n",
              "      <th colspan=\"5\" halign=\"left\">Close</th>\n",
              "    </tr>\n",
              "    <tr>\n",
              "      <th></th>\n",
              "      <th>ASIANPAINT.NS</th>\n",
              "      <th>IOC.NS</th>\n",
              "      <th>LUPIN.NS</th>\n",
              "      <th>PIDILITIND.NS</th>\n",
              "      <th>RELIANCE.NS</th>\n",
              "    </tr>\n",
              "    <tr>\n",
              "      <th>Date</th>\n",
              "      <th></th>\n",
              "      <th></th>\n",
              "      <th></th>\n",
              "      <th></th>\n",
              "      <th></th>\n",
              "    </tr>\n",
              "  </thead>\n",
              "  <tbody>\n",
              "    <tr>\n",
              "      <th>2017-03-20</th>\n",
              "      <td>0.000232</td>\n",
              "      <td>-0.013037</td>\n",
              "      <td>0.005595</td>\n",
              "      <td>-0.003419</td>\n",
              "      <td>-0.015299</td>\n",
              "    </tr>\n",
              "    <tr>\n",
              "      <th>2017-03-21</th>\n",
              "      <td>-0.010188</td>\n",
              "      <td>0.003100</td>\n",
              "      <td>-0.007032</td>\n",
              "      <td>0.000929</td>\n",
              "      <td>-0.013273</td>\n",
              "    </tr>\n",
              "    <tr>\n",
              "      <th>2017-03-22</th>\n",
              "      <td>-0.010152</td>\n",
              "      <td>0.001747</td>\n",
              "      <td>0.009454</td>\n",
              "      <td>-0.009784</td>\n",
              "      <td>-0.003244</td>\n",
              "    </tr>\n",
              "    <tr>\n",
              "      <th>2017-03-23</th>\n",
              "      <td>0.003545</td>\n",
              "      <td>0.010865</td>\n",
              "      <td>0.015053</td>\n",
              "      <td>0.000793</td>\n",
              "      <td>0.010796</td>\n",
              "    </tr>\n",
              "    <tr>\n",
              "      <th>2017-03-24</th>\n",
              "      <td>0.002496</td>\n",
              "      <td>-0.010881</td>\n",
              "      <td>-0.001644</td>\n",
              "      <td>-0.008071</td>\n",
              "      <td>0.010563</td>\n",
              "    </tr>\n",
              "    <tr>\n",
              "      <th>...</th>\n",
              "      <td>...</td>\n",
              "      <td>...</td>\n",
              "      <td>...</td>\n",
              "      <td>...</td>\n",
              "      <td>...</td>\n",
              "    </tr>\n",
              "    <tr>\n",
              "      <th>2022-03-11</th>\n",
              "      <td>0.006592</td>\n",
              "      <td>0.022737</td>\n",
              "      <td>0.011291</td>\n",
              "      <td>-0.005000</td>\n",
              "      <td>0.002884</td>\n",
              "    </tr>\n",
              "    <tr>\n",
              "      <th>2022-03-14</th>\n",
              "      <td>0.010505</td>\n",
              "      <td>-0.023444</td>\n",
              "      <td>-0.003610</td>\n",
              "      <td>0.002801</td>\n",
              "      <td>0.008211</td>\n",
              "    </tr>\n",
              "    <tr>\n",
              "      <th>2022-03-15</th>\n",
              "      <td>0.008219</td>\n",
              "      <td>-0.014901</td>\n",
              "      <td>-0.009729</td>\n",
              "      <td>0.011025</td>\n",
              "      <td>-0.022904</td>\n",
              "    </tr>\n",
              "    <tr>\n",
              "      <th>2022-03-16</th>\n",
              "      <td>0.018362</td>\n",
              "      <td>0.024790</td>\n",
              "      <td>0.015787</td>\n",
              "      <td>0.038957</td>\n",
              "      <td>0.016882</td>\n",
              "    </tr>\n",
              "    <tr>\n",
              "      <th>2022-03-17</th>\n",
              "      <td>0.031098</td>\n",
              "      <td>-0.004920</td>\n",
              "      <td>0.021011</td>\n",
              "      <td>0.019286</td>\n",
              "      <td>0.032600</td>\n",
              "    </tr>\n",
              "  </tbody>\n",
              "</table>\n",
              "<p>1236 rows × 5 columns</p>\n",
              "</div>\n",
              "      <button class=\"colab-df-convert\" onclick=\"convertToInteractive('df-2e83b807-6fb5-48f1-b109-d1f6d34ad355')\"\n",
              "              title=\"Convert this dataframe to an interactive table.\"\n",
              "              style=\"display:none;\">\n",
              "        \n",
              "  <svg xmlns=\"http://www.w3.org/2000/svg\" height=\"24px\"viewBox=\"0 0 24 24\"\n",
              "       width=\"24px\">\n",
              "    <path d=\"M0 0h24v24H0V0z\" fill=\"none\"/>\n",
              "    <path d=\"M18.56 5.44l.94 2.06.94-2.06 2.06-.94-2.06-.94-.94-2.06-.94 2.06-2.06.94zm-11 1L8.5 8.5l.94-2.06 2.06-.94-2.06-.94L8.5 2.5l-.94 2.06-2.06.94zm10 10l.94 2.06.94-2.06 2.06-.94-2.06-.94-.94-2.06-.94 2.06-2.06.94z\"/><path d=\"M17.41 7.96l-1.37-1.37c-.4-.4-.92-.59-1.43-.59-.52 0-1.04.2-1.43.59L10.3 9.45l-7.72 7.72c-.78.78-.78 2.05 0 2.83L4 21.41c.39.39.9.59 1.41.59.51 0 1.02-.2 1.41-.59l7.78-7.78 2.81-2.81c.8-.78.8-2.07 0-2.86zM5.41 20L4 18.59l7.72-7.72 1.47 1.35L5.41 20z\"/>\n",
              "  </svg>\n",
              "      </button>\n",
              "      \n",
              "  <style>\n",
              "    .colab-df-container {\n",
              "      display:flex;\n",
              "      flex-wrap:wrap;\n",
              "      gap: 12px;\n",
              "    }\n",
              "\n",
              "    .colab-df-convert {\n",
              "      background-color: #E8F0FE;\n",
              "      border: none;\n",
              "      border-radius: 50%;\n",
              "      cursor: pointer;\n",
              "      display: none;\n",
              "      fill: #1967D2;\n",
              "      height: 32px;\n",
              "      padding: 0 0 0 0;\n",
              "      width: 32px;\n",
              "    }\n",
              "\n",
              "    .colab-df-convert:hover {\n",
              "      background-color: #E2EBFA;\n",
              "      box-shadow: 0px 1px 2px rgba(60, 64, 67, 0.3), 0px 1px 3px 1px rgba(60, 64, 67, 0.15);\n",
              "      fill: #174EA6;\n",
              "    }\n",
              "\n",
              "    [theme=dark] .colab-df-convert {\n",
              "      background-color: #3B4455;\n",
              "      fill: #D2E3FC;\n",
              "    }\n",
              "\n",
              "    [theme=dark] .colab-df-convert:hover {\n",
              "      background-color: #434B5C;\n",
              "      box-shadow: 0px 1px 3px 1px rgba(0, 0, 0, 0.15);\n",
              "      filter: drop-shadow(0px 1px 2px rgba(0, 0, 0, 0.3));\n",
              "      fill: #FFFFFF;\n",
              "    }\n",
              "  </style>\n",
              "\n",
              "      <script>\n",
              "        const buttonEl =\n",
              "          document.querySelector('#df-2e83b807-6fb5-48f1-b109-d1f6d34ad355 button.colab-df-convert');\n",
              "        buttonEl.style.display =\n",
              "          google.colab.kernel.accessAllowed ? 'block' : 'none';\n",
              "\n",
              "        async function convertToInteractive(key) {\n",
              "          const element = document.querySelector('#df-2e83b807-6fb5-48f1-b109-d1f6d34ad355');\n",
              "          const dataTable =\n",
              "            await google.colab.kernel.invokeFunction('convertToInteractive',\n",
              "                                                     [key], {});\n",
              "          if (!dataTable) return;\n",
              "\n",
              "          const docLinkHtml = 'Like what you see? Visit the ' +\n",
              "            '<a target=\"_blank\" href=https://colab.research.google.com/notebooks/data_table.ipynb>data table notebook</a>'\n",
              "            + ' to learn more about interactive tables.';\n",
              "          element.innerHTML = '';\n",
              "          dataTable['output_type'] = 'display_data';\n",
              "          await google.colab.output.renderOutput(dataTable, element);\n",
              "          const docLink = document.createElement('div');\n",
              "          docLink.innerHTML = docLinkHtml;\n",
              "          element.appendChild(docLink);\n",
              "        }\n",
              "      </script>\n",
              "    </div>\n",
              "  </div>\n",
              "  "
            ]
          },
          "metadata": {},
          "execution_count": 14
        }
      ]
    },
    {
      "cell_type": "code",
      "source": [
        "returns.plot(label = tickers, figsize = (15,7))"
      ],
      "metadata": {
        "colab": {
          "base_uri": "https://localhost:8080/",
          "height": 433
        },
        "id": "z2trxDeeeAA4",
        "outputId": "e12de4ad-dd8f-4585-fa57-b444471614c7"
      },
      "execution_count": null,
      "outputs": [
        {
          "output_type": "execute_result",
          "data": {
            "text/plain": [
              "<matplotlib.axes._subplots.AxesSubplot at 0x7f6bcf93cb10>"
            ]
          },
          "metadata": {},
          "execution_count": 15
        },
        {
          "output_type": "display_data",
          "data": {
            "text/plain": [
              "<Figure size 1080x504 with 1 Axes>"
            ],
            "image/png": "[encoded data removed]"
          },
          "metadata": {
            "needs_background": "light"
          }
        }
      ]
    },
    {
      "cell_type": "markdown",
      "source": [
        "## HRP (Hierarchical Risk Parity) [Best Model]"
      ],
      "metadata": {
        "id": "kUTW8tFUgB4C"
      }
    },
    {
      "cell_type": "code",
      "source": [
        "# Using Hierarchical Risk Parity method to compute optimized portfolio weights\n",
        "hrp = HRPOpt(returns)\n",
        "hrp.optimize()\n",
        "weights = hrp.clean_weights()\n",
        "weights"
      ],
      "metadata": {
        "colab": {
          "base_uri": "https://localhost:8080/"
        },
        "id": "YbRjtvYqeI7t",
        "outputId": "ae18588e-738c-4388-eb72-c5f505a4ab97"
      },
      "execution_count": null,
      "outputs": [
        {
          "output_type": "execute_result",
          "data": {
            "text/plain": [
              "OrderedDict([(('Close', 'ASIANPAINT.NS'), 0.18115),\n",
              "             (('Close', 'IOC.NS'), 0.21242),\n",
              "             (('Close', 'LUPIN.NS'), 0.22411),\n",
              "             (('Close', 'PIDILITIND.NS'), 0.17966),\n",
              "             (('Close', 'RELIANCE.NS'), 0.20266)])"
            ]
          },
          "metadata": {},
          "execution_count": 16
        }
      ]
    },
    {
      "cell_type": "code",
      "source": [
        "weightsdf = pd.DataFrame.from_dict(weights, orient=\"index\")\n",
        "weightscol = weightsdf.iloc[:, 0]\n",
        "weightscol"
      ],
      "metadata": {
        "colab": {
          "base_uri": "https://localhost:8080/"
        },
        "id": "Am-1YfDM6F10",
        "outputId": "229f491c-0ad6-4aea-80e4-c901ced39206"
      },
      "execution_count": null,
      "outputs": [
        {
          "output_type": "execute_result",
          "data": {
            "text/plain": [
              "(Close, ASIANPAINT.NS)    0.18115\n",
              "(Close, IOC.NS)           0.21242\n",
              "(Close, LUPIN.NS)         0.22411\n",
              "(Close, PIDILITIND.NS)    0.17966\n",
              "(Close, RELIANCE.NS)      0.20266\n",
              "Name: 0, dtype: float64"
            ]
          },
          "metadata": {},
          "execution_count": 19
        }
      ]
    },
    {
      "cell_type": "code",
      "source": [
        "weightscol.sum()"
      ],
      "metadata": {
        "colab": {
          "base_uri": "https://localhost:8080/"
        },
        "id": "uQLy_-HWK2su",
        "outputId": "2532d3fa-c77b-4077-d998-b38309bd70d7"
      },
      "execution_count": null,
      "outputs": [
        {
          "output_type": "execute_result",
          "data": {
            "text/plain": [
              "1.0"
            ]
          },
          "metadata": {},
          "execution_count": 20
        }
      ]
    },
    {
      "cell_type": "code",
      "source": [
        "hrp.portfolio_performance(verbose=True)"
      ],
      "metadata": {
        "colab": {
          "base_uri": "https://localhost:8080/"
        },
        "id": "rtyrg7Y4fRoS",
        "outputId": "681eac64-4078-4432-e0a4-75d7f2bdc8a0"
      },
      "execution_count": null,
      "outputs": [
        {
          "output_type": "stream",
          "name": "stdout",
          "text": [
            "Expected annual return: 13.9%\n",
            "Annual volatility: 19.2%\n",
            "Sharpe Ratio: 0.62\n"
          ]
        },
        {
          "output_type": "execute_result",
          "data": {
            "text/plain": [
              "(0.13903837254267337, 0.19236659996810446, 0.6188099834504048)"
            ]
          },
          "metadata": {},
          "execution_count": 48
        }
      ]
    },
    {
      "cell_type": "code",
      "source": [
        "plotting.plot_dendrogram(hrp) "
      ],
      "metadata": {
        "colab": {
          "base_uri": "https://localhost:8080/",
          "height": 314
        },
        "id": "-3Dde_L_fVAK",
        "outputId": "d5f2416c-16dd-4347-8289-55b22fb1304e"
      },
      "execution_count": null,
      "outputs": [
        {
          "output_type": "execute_result",
          "data": {
            "text/plain": [
              "<matplotlib.axes._subplots.AxesSubplot at 0x7fe03d24b7d0>"
            ]
          },
          "metadata": {},
          "execution_count": 49
        },
        {
          "output_type": "display_data",
          "data": {
            "text/plain": [
              "<Figure size 432x288 with 1 Axes>"
            ],
            "image/png": "[encoded data removed]"
          },
          "metadata": {
            "needs_background": "light"
          }
        }
      ]
    },
    {
      "cell_type": "markdown",
      "source": [
        "## CLA (Critical Line Algorithm)"
      ],
      "metadata": {
        "id": "43Q2hNXIgXZT"
      }
    },
    {
      "cell_type": "code",
      "source": [
        "mu = expected_returns.mean_historical_return(df)\n",
        "S = risk_models.sample_cov(df)"
      ],
      "metadata": {
        "id": "gPw8aiedglN3"
      },
      "execution_count": null,
      "outputs": []
    },
    {
      "cell_type": "code",
      "source": [
        "mu"
      ],
      "metadata": {
        "colab": {
          "base_uri": "https://localhost:8080/"
        },
        "id": "v32wM0LBgwW8",
        "outputId": "f2da0c30-8e0e-4adc-8279-d5f7b1a80271"
      },
      "execution_count": null,
      "outputs": [
        {
          "output_type": "execute_result",
          "data": {
            "text/plain": [
              "Close  ASIANPAINT.NS    0.242941\n",
              "       IOC.NS          -0.085311\n",
              "       LUPIN.NS        -0.122955\n",
              "       PIDILITIND.NS    0.296710\n",
              "       RELIANCE.NS      0.316481\n",
              "dtype: float64"
            ]
          },
          "metadata": {},
          "execution_count": 39
        }
      ]
    },
    {
      "cell_type": "code",
      "source": [
        "S"
      ],
      "metadata": {
        "colab": {
          "base_uri": "https://localhost:8080/",
          "height": 235
        },
        "id": "pNIZhNP8gyER",
        "outputId": "2c4d4116-b6fe-47fa-f247-4b8411b80de7"
      },
      "execution_count": null,
      "outputs": [
        {
          "output_type": "execute_result",
          "data": {
            "text/plain": [
              "                            Close                                    \\\n",
              "                    ASIANPAINT.NS    IOC.NS  LUPIN.NS PIDILITIND.NS   \n",
              "Close ASIANPAINT.NS      0.070017  0.023275  0.009063      0.040019   \n",
              "      IOC.NS             0.023275  0.107291  0.019123      0.024902   \n",
              "      LUPIN.NS           0.009063  0.019123  0.101692      0.011666   \n",
              "      PIDILITIND.NS      0.040019  0.024902  0.011666      0.070596   \n",
              "      RELIANCE.NS        0.030536  0.031913  0.018938      0.026691   \n",
              "\n",
              "                                 \n",
              "                    RELIANCE.NS  \n",
              "Close ASIANPAINT.NS    0.030536  \n",
              "      IOC.NS           0.031913  \n",
              "      LUPIN.NS         0.018938  \n",
              "      PIDILITIND.NS    0.026691  \n",
              "      RELIANCE.NS      0.098205  "
            ],
            "text/html": [
              "\n",
              "  <div id=\"df-534fa567-65ae-49df-9edb-b8aab1c89c1a\">\n",
              "    <div class=\"colab-df-container\">\n",
              "      <div>\n",
              "<style scoped>\n",
              "    .dataframe tbody tr th:only-of-type {\n",
              "        vertical-align: middle;\n",
              "    }\n",
              "\n",
              "    .dataframe tbody tr th {\n",
              "        vertical-align: top;\n",
              "    }\n",
              "\n",
              "    .dataframe thead tr th {\n",
              "        text-align: left;\n",
              "    }\n",
              "</style>\n",
              "<table border=\"1\" class=\"dataframe\">\n",
              "  <thead>\n",
              "    <tr>\n",
              "      <th></th>\n",
              "      <th></th>\n",
              "      <th colspan=\"5\" halign=\"left\">Close</th>\n",
              "    </tr>\n",
              "    <tr>\n",
              "      <th></th>\n",
              "      <th></th>\n",
              "      <th>ASIANPAINT.NS</th>\n",
              "      <th>IOC.NS</th>\n",
              "      <th>LUPIN.NS</th>\n",
              "      <th>PIDILITIND.NS</th>\n",
              "      <th>RELIANCE.NS</th>\n",
              "    </tr>\n",
              "  </thead>\n",
              "  <tbody>\n",
              "    <tr>\n",
              "      <th rowspan=\"5\" valign=\"top\">Close</th>\n",
              "      <th>ASIANPAINT.NS</th>\n",
              "      <td>0.070017</td>\n",
              "      <td>0.023275</td>\n",
              "      <td>0.009063</td>\n",
              "      <td>0.040019</td>\n",
              "      <td>0.030536</td>\n",
              "    </tr>\n",
              "    <tr>\n",
              "      <th>IOC.NS</th>\n",
              "      <td>0.023275</td>\n",
              "      <td>0.107291</td>\n",
              "      <td>0.019123</td>\n",
              "      <td>0.024902</td>\n",
              "      <td>0.031913</td>\n",
              "    </tr>\n",
              "    <tr>\n",
              "      <th>LUPIN.NS</th>\n",
              "      <td>0.009063</td>\n",
              "      <td>0.019123</td>\n",
              "      <td>0.101692</td>\n",
              "      <td>0.011666</td>\n",
              "      <td>0.018938</td>\n",
              "    </tr>\n",
              "    <tr>\n",
              "      <th>PIDILITIND.NS</th>\n",
              "      <td>0.040019</td>\n",
              "      <td>0.024902</td>\n",
              "      <td>0.011666</td>\n",
              "      <td>0.070596</td>\n",
              "      <td>0.026691</td>\n",
              "    </tr>\n",
              "    <tr>\n",
              "      <th>RELIANCE.NS</th>\n",
              "      <td>0.030536</td>\n",
              "      <td>0.031913</td>\n",
              "      <td>0.018938</td>\n",
              "      <td>0.026691</td>\n",
              "      <td>0.098205</td>\n",
              "    </tr>\n",
              "  </tbody>\n",
              "</table>\n",
              "</div>\n",
              "      <button class=\"colab-df-convert\" onclick=\"convertToInteractive('df-534fa567-65ae-49df-9edb-b8aab1c89c1a')\"\n",
              "              title=\"Convert this dataframe to an interactive table.\"\n",
              "              style=\"display:none;\">\n",
              "        \n",
              "  <svg xmlns=\"http://www.w3.org/2000/svg\" height=\"24px\"viewBox=\"0 0 24 24\"\n",
              "       width=\"24px\">\n",
              "    <path d=\"M0 0h24v24H0V0z\" fill=\"none\"/>\n",
              "    <path d=\"M18.56 5.44l.94 2.06.94-2.06 2.06-.94-2.06-.94-.94-2.06-.94 2.06-2.06.94zm-11 1L8.5 8.5l.94-2.06 2.06-.94-2.06-.94L8.5 2.5l-.94 2.06-2.06.94zm10 10l.94 2.06.94-2.06 2.06-.94-2.06-.94-.94-2.06-.94 2.06-2.06.94z\"/><path d=\"M17.41 7.96l-1.37-1.37c-.4-.4-.92-.59-1.43-.59-.52 0-1.04.2-1.43.59L10.3 9.45l-7.72 7.72c-.78.78-.78 2.05 0 2.83L4 21.41c.39.39.9.59 1.41.59.51 0 1.02-.2 1.41-.59l7.78-7.78 2.81-2.81c.8-.78.8-2.07 0-2.86zM5.41 20L4 18.59l7.72-7.72 1.47 1.35L5.41 20z\"/>\n",
              "  </svg>\n",
              "      </button>\n",
              "      \n",
              "  <style>\n",
              "    .colab-df-container {\n",
              "      display:flex;\n",
              "      flex-wrap:wrap;\n",
              "      gap: 12px;\n",
              "    }\n",
              "\n",
              "    .colab-df-convert {\n",
              "      background-color: #E8F0FE;\n",
              "      border: none;\n",
              "      border-radius: 50%;\n",
              "      cursor: pointer;\n",
              "      display: none;\n",
              "      fill: #1967D2;\n",
              "      height: 32px;\n",
              "      padding: 0 0 0 0;\n",
              "      width: 32px;\n",
              "    }\n",
              "\n",
              "    .colab-df-convert:hover {\n",
              "      background-color: #E2EBFA;\n",
              "      box-shadow: 0px 1px 2px rgba(60, 64, 67, 0.3), 0px 1px 3px 1px rgba(60, 64, 67, 0.15);\n",
              "      fill: #174EA6;\n",
              "    }\n",
              "\n",
              "    [theme=dark] .colab-df-convert {\n",
              "      background-color: #3B4455;\n",
              "      fill: #D2E3FC;\n",
              "    }\n",
              "\n",
              "    [theme=dark] .colab-df-convert:hover {\n",
              "      background-color: #434B5C;\n",
              "      box-shadow: 0px 1px 3px 1px rgba(0, 0, 0, 0.15);\n",
              "      filter: drop-shadow(0px 1px 2px rgba(0, 0, 0, 0.3));\n",
              "      fill: #FFFFFF;\n",
              "    }\n",
              "  </style>\n",
              "\n",
              "      <script>\n",
              "        const buttonEl =\n",
              "          document.querySelector('#df-534fa567-65ae-49df-9edb-b8aab1c89c1a button.colab-df-convert');\n",
              "        buttonEl.style.display =\n",
              "          google.colab.kernel.accessAllowed ? 'block' : 'none';\n",
              "\n",
              "        async function convertToInteractive(key) {\n",
              "          const element = document.querySelector('#df-534fa567-65ae-49df-9edb-b8aab1c89c1a');\n",
              "          const dataTable =\n",
              "            await google.colab.kernel.invokeFunction('convertToInteractive',\n",
              "                                                     [key], {});\n",
              "          if (!dataTable) return;\n",
              "\n",
              "          const docLinkHtml = 'Like what you see? Visit the ' +\n",
              "            '<a target=\"_blank\" href=https://colab.research.google.com/notebooks/data_table.ipynb>data table notebook</a>'\n",
              "            + ' to learn more about interactive tables.';\n",
              "          element.innerHTML = '';\n",
              "          dataTable['output_type'] = 'display_data';\n",
              "          await google.colab.output.renderOutput(dataTable, element);\n",
              "          const docLink = document.createElement('div');\n",
              "          docLink.innerHTML = docLinkHtml;\n",
              "          element.appendChild(docLink);\n",
              "        }\n",
              "      </script>\n",
              "    </div>\n",
              "  </div>\n",
              "  "
            ]
          },
          "metadata": {},
          "execution_count": 34
        }
      ]
    },
    {
      "cell_type": "code",
      "source": [
        "cla = CLA(mu, S)\n",
        "cla.max_sharpe()\n",
        "cla.clean_weights()"
      ],
      "metadata": {
        "colab": {
          "base_uri": "https://localhost:8080/"
        },
        "id": "663BulhXfXK-",
        "outputId": "e902b0a6-e58f-4df1-f62c-9070ae7cf75a"
      },
      "execution_count": null,
      "outputs": [
        {
          "output_type": "execute_result",
          "data": {
            "text/plain": [
              "OrderedDict([(('Close', 'ASIANPAINT.NS'), 0.14747),\n",
              "             (('Close', 'IOC.NS'), 0.0),\n",
              "             (('Close', 'LUPIN.NS'), 0.0),\n",
              "             (('Close', 'PIDILITIND.NS'), 0.48722),\n",
              "             (('Close', 'RELIANCE.NS'), 0.36531)])"
            ]
          },
          "metadata": {},
          "execution_count": 44
        }
      ]
    },
    {
      "cell_type": "code",
      "source": [
        "cla.portfolio_performance(verbose=True)"
      ],
      "metadata": {
        "colab": {
          "base_uri": "https://localhost:8080/"
        },
        "id": "tKurSYpTkzAT",
        "outputId": "caf786e8-0395-4b24-fbd5-3035da612741"
      },
      "execution_count": null,
      "outputs": [
        {
          "output_type": "stream",
          "name": "stdout",
          "text": [
            "Expected annual return: 29.6%\n",
            "Annual volatility: 22.3%\n",
            "Sharpe Ratio: 1.24\n"
          ]
        },
        {
          "output_type": "execute_result",
          "data": {
            "text/plain": [
              "(0.29600312375953075, 0.22344783664547857, 1.235201592922272)"
            ]
          },
          "metadata": {},
          "execution_count": 42
        }
      ]
    },
    {
      "cell_type": "code",
      "source": [
        "plotting.plot_efficient_frontier(cla)"
      ],
      "metadata": {
        "colab": {
          "base_uri": "https://localhost:8080/",
          "height": 314
        },
        "id": "m8adHOfrk2CG",
        "outputId": "48ffbeb2-2085-479e-ddbf-6bba0406122b"
      },
      "execution_count": null,
      "outputs": [
        {
          "output_type": "execute_result",
          "data": {
            "text/plain": [
              "<matplotlib.axes._subplots.AxesSubplot at 0x7f4f26e8e310>"
            ]
          },
          "metadata": {},
          "execution_count": 43
        },
        {
          "output_type": "display_data",
          "data": {
            "text/plain": [
              "<Figure size 432x288 with 1 Axes>"
            ],
            "image/png": "[encoded data removed]"
          },
          "metadata": {
            "needs_background": "light"
          }
        }
      ]
    },
    {
      "cell_type": "markdown",
      "source": [
        "# Statistical Models (RiskFolio-Lib) [Best Library]"
      ],
      "metadata": {
        "id": "IKsYvvehbQfd"
      }
    },
    {
      "cell_type": "code",
      "source": [
        "import riskfolio as rp"
      ],
      "metadata": {
        "id": "59qqKwZo5nmi"
      },
      "execution_count": 27,
      "outputs": []
    },
    {
      "cell_type": "code",
      "source": [
        "# Calculating returns\n",
        "Y = df.pct_change().dropna()\n",
        "Y"
      ],
      "metadata": {
        "colab": {
          "base_uri": "https://localhost:8080/",
          "height": 450
        },
        "id": "Rlb_EJB3bvYx",
        "outputId": "2fe322af-6c0f-4354-badb-42e09bf1caab"
      },
      "execution_count": 28,
      "outputs": [
        {
          "output_type": "execute_result",
          "data": {
            "text/plain": [
              "            ASIANPAINT.NS    IOC.NS  LUPIN.NS  PIDILITIND.NS  RELIANCE.NS\n",
              "Date                                                                     \n",
              "2020-03-25       0.044791 -0.023212 -0.043398      -0.003137     0.147180\n",
              "2020-03-26       0.014939  0.001927 -0.013857      -0.002517    -0.014830\n",
              "2020-03-27      -0.007916 -0.014103 -0.018885       0.024647    -0.000563\n",
              "2020-03-30      -0.005735 -0.001300  0.022806      -0.012277    -0.032986\n",
              "2020-03-31       0.044860  0.063151  0.051820       0.057045     0.080838\n",
              "...                   ...       ...       ...            ...          ...\n",
              "2022-03-17       0.031098 -0.004920  0.021011       0.019286     0.032600\n",
              "2022-03-21      -0.028965 -0.027606 -0.013327      -0.010018    -0.005762\n",
              "2022-03-22       0.001773  0.022458  0.002781      -0.014043     0.025837\n",
              "2022-03-23      -0.011258  0.008703 -0.014460      -0.006713     0.003180\n",
              "2022-03-24       0.002022 -0.009449  0.035910      -0.003574     0.014434\n",
              "\n",
              "[497 rows x 5 columns]"
            ],
            "text/html": [
              "\n",
              "  <div id=\"df-2bbb82b5-f45b-4edd-8282-d206eb8b5a61\">\n",
              "    <div class=\"colab-df-container\">\n",
              "      <div>\n",
              "<style scoped>\n",
              "    .dataframe tbody tr th:only-of-type {\n",
              "        vertical-align: middle;\n",
              "    }\n",
              "\n",
              "    .dataframe tbody tr th {\n",
              "        vertical-align: top;\n",
              "    }\n",
              "\n",
              "    .dataframe thead th {\n",
              "        text-align: right;\n",
              "    }\n",
              "</style>\n",
              "<table border=\"1\" class=\"dataframe\">\n",
              "  <thead>\n",
              "    <tr style=\"text-align: right;\">\n",
              "      <th></th>\n",
              "      <th>ASIANPAINT.NS</th>\n",
              "      <th>IOC.NS</th>\n",
              "      <th>LUPIN.NS</th>\n",
              "      <th>PIDILITIND.NS</th>\n",
              "      <th>RELIANCE.NS</th>\n",
              "    </tr>\n",
              "    <tr>\n",
              "      <th>Date</th>\n",
              "      <th></th>\n",
              "      <th></th>\n",
              "      <th></th>\n",
              "      <th></th>\n",
              "      <th></th>\n",
              "    </tr>\n",
              "  </thead>\n",
              "  <tbody>\n",
              "    <tr>\n",
              "      <th>2020-03-25</th>\n",
              "      <td>0.044791</td>\n",
              "      <td>-0.023212</td>\n",
              "      <td>-0.043398</td>\n",
              "      <td>-0.003137</td>\n",
              "      <td>0.147180</td>\n",
              "    </tr>\n",
              "    <tr>\n",
              "      <th>2020-03-26</th>\n",
              "      <td>0.014939</td>\n",
              "      <td>0.001927</td>\n",
              "      <td>-0.013857</td>\n",
              "      <td>-0.002517</td>\n",
              "      <td>-0.014830</td>\n",
              "    </tr>\n",
              "    <tr>\n",
              "      <th>2020-03-27</th>\n",
              "      <td>-0.007916</td>\n",
              "      <td>-0.014103</td>\n",
              "      <td>-0.018885</td>\n",
              "      <td>0.024647</td>\n",
              "      <td>-0.000563</td>\n",
              "    </tr>\n",
              "    <tr>\n",
              "      <th>2020-03-30</th>\n",
              "      <td>-0.005735</td>\n",
              "      <td>-0.001300</td>\n",
              "      <td>0.022806</td>\n",
              "      <td>-0.012277</td>\n",
              "      <td>-0.032986</td>\n",
              "    </tr>\n",
              "    <tr>\n",
              "      <th>2020-03-31</th>\n",
              "      <td>0.044860</td>\n",
              "      <td>0.063151</td>\n",
              "      <td>0.051820</td>\n",
              "      <td>0.057045</td>\n",
              "      <td>0.080838</td>\n",
              "    </tr>\n",
              "    <tr>\n",
              "      <th>...</th>\n",
              "      <td>...</td>\n",
              "      <td>...</td>\n",
              "      <td>...</td>\n",
              "      <td>...</td>\n",
              "      <td>...</td>\n",
              "    </tr>\n",
              "    <tr>\n",
              "      <th>2022-03-17</th>\n",
              "      <td>0.031098</td>\n",
              "      <td>-0.004920</td>\n",
              "      <td>0.021011</td>\n",
              "      <td>0.019286</td>\n",
              "      <td>0.032600</td>\n",
              "    </tr>\n",
              "    <tr>\n",
              "      <th>2022-03-21</th>\n",
              "      <td>-0.028965</td>\n",
              "      <td>-0.027606</td>\n",
              "      <td>-0.013327</td>\n",
              "      <td>-0.010018</td>\n",
              "      <td>-0.005762</td>\n",
              "    </tr>\n",
              "    <tr>\n",
              "      <th>2022-03-22</th>\n",
              "      <td>0.001773</td>\n",
              "      <td>0.022458</td>\n",
              "      <td>0.002781</td>\n",
              "      <td>-0.014043</td>\n",
              "      <td>0.025837</td>\n",
              "    </tr>\n",
              "    <tr>\n",
              "      <th>2022-03-23</th>\n",
              "      <td>-0.011258</td>\n",
              "      <td>0.008703</td>\n",
              "      <td>-0.014460</td>\n",
              "      <td>-0.006713</td>\n",
              "      <td>0.003180</td>\n",
              "    </tr>\n",
              "    <tr>\n",
              "      <th>2022-03-24</th>\n",
              "      <td>0.002022</td>\n",
              "      <td>-0.009449</td>\n",
              "      <td>0.035910</td>\n",
              "      <td>-0.003574</td>\n",
              "      <td>0.014434</td>\n",
              "    </tr>\n",
              "  </tbody>\n",
              "</table>\n",
              "<p>497 rows × 5 columns</p>\n",
              "</div>\n",
              "      <button class=\"colab-df-convert\" onclick=\"convertToInteractive('df-2bbb82b5-f45b-4edd-8282-d206eb8b5a61')\"\n",
              "              title=\"Convert this dataframe to an interactive table.\"\n",
              "              style=\"display:none;\">\n",
              "        \n",
              "  <svg xmlns=\"http://www.w3.org/2000/svg\" height=\"24px\"viewBox=\"0 0 24 24\"\n",
              "       width=\"24px\">\n",
              "    <path d=\"M0 0h24v24H0V0z\" fill=\"none\"/>\n",
              "    <path d=\"M18.56 5.44l.94 2.06.94-2.06 2.06-.94-2.06-.94-.94-2.06-.94 2.06-2.06.94zm-11 1L8.5 8.5l.94-2.06 2.06-.94-2.06-.94L8.5 2.5l-.94 2.06-2.06.94zm10 10l.94 2.06.94-2.06 2.06-.94-2.06-.94-.94-2.06-.94 2.06-2.06.94z\"/><path d=\"M17.41 7.96l-1.37-1.37c-.4-.4-.92-.59-1.43-.59-.52 0-1.04.2-1.43.59L10.3 9.45l-7.72 7.72c-.78.78-.78 2.05 0 2.83L4 21.41c.39.39.9.59 1.41.59.51 0 1.02-.2 1.41-.59l7.78-7.78 2.81-2.81c.8-.78.8-2.07 0-2.86zM5.41 20L4 18.59l7.72-7.72 1.47 1.35L5.41 20z\"/>\n",
              "  </svg>\n",
              "      </button>\n",
              "      \n",
              "  <style>\n",
              "    .colab-df-container {\n",
              "      display:flex;\n",
              "      flex-wrap:wrap;\n",
              "      gap: 12px;\n",
              "    }\n",
              "\n",
              "    .colab-df-convert {\n",
              "      background-color: #E8F0FE;\n",
              "      border: none;\n",
              "      border-radius: 50%;\n",
              "      cursor: pointer;\n",
              "      display: none;\n",
              "      fill: #1967D2;\n",
              "      height: 32px;\n",
              "      padding: 0 0 0 0;\n",
              "      width: 32px;\n",
              "    }\n",
              "\n",
              "    .colab-df-convert:hover {\n",
              "      background-color: #E2EBFA;\n",
              "      box-shadow: 0px 1px 2px rgba(60, 64, 67, 0.3), 0px 1px 3px 1px rgba(60, 64, 67, 0.15);\n",
              "      fill: #174EA6;\n",
              "    }\n",
              "\n",
              "    [theme=dark] .colab-df-convert {\n",
              "      background-color: #3B4455;\n",
              "      fill: #D2E3FC;\n",
              "    }\n",
              "\n",
              "    [theme=dark] .colab-df-convert:hover {\n",
              "      background-color: #434B5C;\n",
              "      box-shadow: 0px 1px 3px 1px rgba(0, 0, 0, 0.15);\n",
              "      filter: drop-shadow(0px 1px 2px rgba(0, 0, 0, 0.3));\n",
              "      fill: #FFFFFF;\n",
              "    }\n",
              "  </style>\n",
              "\n",
              "      <script>\n",
              "        const buttonEl =\n",
              "          document.querySelector('#df-2bbb82b5-f45b-4edd-8282-d206eb8b5a61 button.colab-df-convert');\n",
              "        buttonEl.style.display =\n",
              "          google.colab.kernel.accessAllowed ? 'block' : 'none';\n",
              "\n",
              "        async function convertToInteractive(key) {\n",
              "          const element = document.querySelector('#df-2bbb82b5-f45b-4edd-8282-d206eb8b5a61');\n",
              "          const dataTable =\n",
              "            await google.colab.kernel.invokeFunction('convertToInteractive',\n",
              "                                                     [key], {});\n",
              "          if (!dataTable) return;\n",
              "\n",
              "          const docLinkHtml = 'Like what you see? Visit the ' +\n",
              "            '<a target=\"_blank\" href=https://colab.research.google.com/notebooks/data_table.ipynb>data table notebook</a>'\n",
              "            + ' to learn more about interactive tables.';\n",
              "          element.innerHTML = '';\n",
              "          dataTable['output_type'] = 'display_data';\n",
              "          await google.colab.output.renderOutput(dataTable, element);\n",
              "          const docLink = document.createElement('div');\n",
              "          docLink.innerHTML = docLinkHtml;\n",
              "          element.appendChild(docLink);\n",
              "        }\n",
              "      </script>\n",
              "    </div>\n",
              "  </div>\n",
              "  "
            ]
          },
          "metadata": {},
          "execution_count": 28
        }
      ]
    },
    {
      "cell_type": "code",
      "source": [
        "# Plotting Assets Clusters\n",
        "\n",
        "ax = rp.plot_clusters(returns=Y,\n",
        "                        codependence='pearson',\n",
        "                        linkage='single',\n",
        "                        k=None,\n",
        "                        max_k=10,\n",
        "                        leaf_order=True,\n",
        "                        ax=None)"
      ],
      "metadata": {
        "colab": {
          "base_uri": "https://localhost:8080/",
          "height": 917
        },
        "id": "4lXQhdnKcZ2K",
        "outputId": "e27bbbd6-5b9d-4742-a318-a13dd151f3ea"
      },
      "execution_count": 29,
      "outputs": [
        {
          "output_type": "stream",
          "name": "stderr",
          "text": [
            "/usr/local/lib/python3.7/dist-packages/riskfolio/PlotFunctions.py:2174: UserWarning: FixedFormatter should only be used together with FixedLocator\n",
            "  ax2.set_xticklabels(labels[permutation], rotation=90, ha=\"center\")\n",
            "/usr/local/lib/python3.7/dist-packages/riskfolio/PlotFunctions.py:2218: UserWarning: This figure includes Axes that are not compatible with tight_layout, so results might be incorrect.\n",
            "  fig.tight_layout()\n"
          ]
        },
        {
          "output_type": "display_data",
          "data": {
            "text/plain": [
              "<Figure size 864x864 with 4 Axes>"
            ],
            "image/png": "[encoded data removed]"
          },
          "metadata": {
            "needs_background": "light"
          }
        }
      ]
    },
    {
      "cell_type": "markdown",
      "source": [
        "## HRP (Hierarchical Risk Parity)"
      ],
      "metadata": {
        "id": "cQ19Og0atiH4"
      }
    },
    {
      "cell_type": "code",
      "source": [
        "# Building the portfolio object\n",
        "port1 = rp.HCPortfolio(returns=Y)"
      ],
      "metadata": {
        "id": "J9MlzIjIci6P"
      },
      "execution_count": null,
      "outputs": []
    },
    {
      "cell_type": "code",
      "source": [
        "# Estimate optimal portfolio:\n",
        "\n",
        "model='HRP' # Could be HRP or HERC\n",
        "codependence = 'pearson' # Correlation matrix used to group assets in clusters\n",
        "# Risk measure\n",
        "rm = 'CDaR'\n",
        "rf = 0 # Risk free rate\n",
        "obj = 'Sharpe' # Objective function, could be MinRisk, MaxRet, Utility or Sharpe\n",
        "linkage = 'single' # Linkage method used to build clusters\n",
        "max_k = 10 # Max number of clusters used in two difference gap statistic, only for HERC model\n",
        "leaf_order = True # Consider optimal order of leafs in dendrogram\n",
        "hist = True # Use historical scenarios for risk measures that depend on scenarios\n",
        "\n",
        "w1 = port1.optimization(model=model,\n",
        "                      codependence=codependence,\n",
        "                      rm=rm,\n",
        "                      rf=rf,\n",
        "                      obj=obj,\n",
        "                      linkage=linkage,\n",
        "                      max_k=max_k,\n",
        "                      leaf_order=leaf_order,\n",
        "                      hist=hist)\n",
        "\n",
        "display(w1.T)"
      ],
      "metadata": {
        "colab": {
          "base_uri": "https://localhost:8080/",
          "height": 80
        },
        "id": "rbdMSuXKfKgg",
        "outputId": "b29ba009-4dd7-4734-8cd1-cbf7be337aac"
      },
      "execution_count": null,
      "outputs": [
        {
          "output_type": "display_data",
          "data": {
            "text/plain": [
              "         ASIANPAINT.NS    IOC.NS  LUPIN.NS  PIDILITIND.NS  RELIANCE.NS\n",
              "weights       0.253569  0.087373  0.114356       0.229982     0.314719"
            ],
            "text/html": [
              "\n",
              "  <div id=\"df-4f28d85d-6b39-4281-ad48-b9e802275c01\">\n",
              "    <div class=\"colab-df-container\">\n",
              "      <div>\n",
              "<style scoped>\n",
              "    .dataframe tbody tr th:only-of-type {\n",
              "        vertical-align: middle;\n",
              "    }\n",
              "\n",
              "    .dataframe tbody tr th {\n",
              "        vertical-align: top;\n",
              "    }\n",
              "\n",
              "    .dataframe thead th {\n",
              "        text-align: right;\n",
              "    }\n",
              "</style>\n",
              "<table border=\"1\" class=\"dataframe\">\n",
              "  <thead>\n",
              "    <tr style=\"text-align: right;\">\n",
              "      <th></th>\n",
              "      <th>ASIANPAINT.NS</th>\n",
              "      <th>IOC.NS</th>\n",
              "      <th>LUPIN.NS</th>\n",
              "      <th>PIDILITIND.NS</th>\n",
              "      <th>RELIANCE.NS</th>\n",
              "    </tr>\n",
              "  </thead>\n",
              "  <tbody>\n",
              "    <tr>\n",
              "      <th>weights</th>\n",
              "      <td>0.253569</td>\n",
              "      <td>0.087373</td>\n",
              "      <td>0.114356</td>\n",
              "      <td>0.229982</td>\n",
              "      <td>0.314719</td>\n",
              "    </tr>\n",
              "  </tbody>\n",
              "</table>\n",
              "</div>\n",
              "      <button class=\"colab-df-convert\" onclick=\"convertToInteractive('df-4f28d85d-6b39-4281-ad48-b9e802275c01')\"\n",
              "              title=\"Convert this dataframe to an interactive table.\"\n",
              "              style=\"display:none;\">\n",
              "        \n",
              "  <svg xmlns=\"http://www.w3.org/2000/svg\" height=\"24px\"viewBox=\"0 0 24 24\"\n",
              "       width=\"24px\">\n",
              "    <path d=\"M0 0h24v24H0V0z\" fill=\"none\"/>\n",
              "    <path d=\"M18.56 5.44l.94 2.06.94-2.06 2.06-.94-2.06-.94-.94-2.06-.94 2.06-2.06.94zm-11 1L8.5 8.5l.94-2.06 2.06-.94-2.06-.94L8.5 2.5l-.94 2.06-2.06.94zm10 10l.94 2.06.94-2.06 2.06-.94-2.06-.94-.94-2.06-.94 2.06-2.06.94z\"/><path d=\"M17.41 7.96l-1.37-1.37c-.4-.4-.92-.59-1.43-.59-.52 0-1.04.2-1.43.59L10.3 9.45l-7.72 7.72c-.78.78-.78 2.05 0 2.83L4 21.41c.39.39.9.59 1.41.59.51 0 1.02-.2 1.41-.59l7.78-7.78 2.81-2.81c.8-.78.8-2.07 0-2.86zM5.41 20L4 18.59l7.72-7.72 1.47 1.35L5.41 20z\"/>\n",
              "  </svg>\n",
              "      </button>\n",
              "      \n",
              "  <style>\n",
              "    .colab-df-container {\n",
              "      display:flex;\n",
              "      flex-wrap:wrap;\n",
              "      gap: 12px;\n",
              "    }\n",
              "\n",
              "    .colab-df-convert {\n",
              "      background-color: #E8F0FE;\n",
              "      border: none;\n",
              "      border-radius: 50%;\n",
              "      cursor: pointer;\n",
              "      display: none;\n",
              "      fill: #1967D2;\n",
              "      height: 32px;\n",
              "      padding: 0 0 0 0;\n",
              "      width: 32px;\n",
              "    }\n",
              "\n",
              "    .colab-df-convert:hover {\n",
              "      background-color: #E2EBFA;\n",
              "      box-shadow: 0px 1px 2px rgba(60, 64, 67, 0.3), 0px 1px 3px 1px rgba(60, 64, 67, 0.15);\n",
              "      fill: #174EA6;\n",
              "    }\n",
              "\n",
              "    [theme=dark] .colab-df-convert {\n",
              "      background-color: #3B4455;\n",
              "      fill: #D2E3FC;\n",
              "    }\n",
              "\n",
              "    [theme=dark] .colab-df-convert:hover {\n",
              "      background-color: #434B5C;\n",
              "      box-shadow: 0px 1px 3px 1px rgba(0, 0, 0, 0.15);\n",
              "      filter: drop-shadow(0px 1px 2px rgba(0, 0, 0, 0.3));\n",
              "      fill: #FFFFFF;\n",
              "    }\n",
              "  </style>\n",
              "\n",
              "      <script>\n",
              "        const buttonEl =\n",
              "          document.querySelector('#df-4f28d85d-6b39-4281-ad48-b9e802275c01 button.colab-df-convert');\n",
              "        buttonEl.style.display =\n",
              "          google.colab.kernel.accessAllowed ? 'block' : 'none';\n",
              "\n",
              "        async function convertToInteractive(key) {\n",
              "          const element = document.querySelector('#df-4f28d85d-6b39-4281-ad48-b9e802275c01');\n",
              "          const dataTable =\n",
              "            await google.colab.kernel.invokeFunction('convertToInteractive',\n",
              "                                                     [key], {});\n",
              "          if (!dataTable) return;\n",
              "\n",
              "          const docLinkHtml = 'Like what you see? Visit the ' +\n",
              "            '<a target=\"_blank\" href=https://colab.research.google.com/notebooks/data_table.ipynb>data table notebook</a>'\n",
              "            + ' to learn more about interactive tables.';\n",
              "          element.innerHTML = '';\n",
              "          dataTable['output_type'] = 'display_data';\n",
              "          await google.colab.output.renderOutput(dataTable, element);\n",
              "          const docLink = document.createElement('div');\n",
              "          docLink.innerHTML = docLinkHtml;\n",
              "          element.appendChild(docLink);\n",
              "        }\n",
              "      </script>\n",
              "    </div>\n",
              "  </div>\n",
              "  "
            ]
          },
          "metadata": {}
        }
      ]
    },
    {
      "cell_type": "code",
      "source": [
        "# Plotting the composition of the portfolio\n",
        "\n",
        "ax = rp.plot_pie(w=w1,\n",
        "                 title='HRP Naive Risk Parity',\n",
        "                 others=0,\n",
        "                 nrow=25,\n",
        "                 cmap=\"tab20\",\n",
        "                 height=8,\n",
        "                 width=10,\n",
        "                 ax=None)"
      ],
      "metadata": {
        "colab": {
          "base_uri": "https://localhost:8080/",
          "height": 585
        },
        "id": "-Y-UVUrkfuJs",
        "outputId": "b6b67501-97f8-4942-b405-ee7814998f59"
      },
      "execution_count": null,
      "outputs": [
        {
          "output_type": "display_data",
          "data": {
            "text/plain": [
              "<Figure size 720x576 with 1 Axes>"
            ],
            "image/png": "[encoded data removed]"
          },
          "metadata": {}
        }
      ]
    },
    {
      "cell_type": "code",
      "source": [
        "get_port_stats(port1.returns, w1, port1.cov)"
      ],
      "metadata": {
        "colab": {
          "base_uri": "https://localhost:8080/"
        },
        "id": "kADoWYbCn194",
        "outputId": "f669211d-84d8-4dba-c8d5-e07740a89e91"
      },
      "execution_count": null,
      "outputs": [
        {
          "output_type": "stream",
          "name": "stdout",
          "text": [
            "Expected Returns: 22.17%\n",
            "Annual Volatility: 20.05%\n",
            "Sharpe Ratio: 1.01\n"
          ]
        }
      ]
    },
    {
      "cell_type": "markdown",
      "source": [
        "## HERC (Hierarchical Equal Risk Contribution) [Better model than HRP] \n",
        "\n",
        "Reference - https://hudsonthames.org/beyond-risk-parity-the-hierarchical-equal-risk-contribution-algorithm/"
      ],
      "metadata": {
        "id": "a1aNCsZhrEdY"
      }
    },
    {
      "cell_type": "code",
      "source": [
        "# Building the portfolio object\n",
        "port2 = rp.HCPortfolio(returns=Y)"
      ],
      "metadata": {
        "id": "r8xJ7qZJrEFO"
      },
      "execution_count": 30,
      "outputs": []
    },
    {
      "cell_type": "markdown",
      "source": [
        "### Using two Risk measures - CDaR and Ulcer Index\n",
        "\n",
        "Both of these risk measures are focused towards minimizing the risk of the portfolio and assigning optimal weights to make the portfolio more robust to market volatility rather than focusing only on maximing the returns."
      ],
      "metadata": {
        "id": "yTVF-4XnXheX"
      }
    },
    {
      "cell_type": "code",
      "source": [
        "# Estimate optimal portfolio:\n",
        "\n",
        "model='HERC' # Could be HRP or HERC\n",
        "codependence = 'pearson' # Correlation matrix used to group assets in clusters\n",
        "# Risk Measure - Conditional Drawdown at Risk of uncompounded cumulative returns\n",
        "# rm = 'CDaR'\n",
        "# Risk Measure - Ulcer Index of uncompounded cumulative returns.\n",
        "rm = 'UCI'\n",
        "obj = 'Sharpe' # Objective function, could be MinRisk, MaxRet, Utility or Sharpe\n",
        "rf = 0 # Risk free rate\n",
        "linkage = 'ward' # Linkage method used to build clusters\n",
        "max_k = 10 # Max number of clusters used in two difference gap statistic, only for HERC model\n",
        "leaf_order = True # Consider optimal order of leafs in dendrogram\n",
        "hist = True # Use historical scenarios for risk measures that depend on scenarios\n",
        "\n",
        "w2 = port2.optimization(model=model,\n",
        "                      codependence=codependence,\n",
        "                      rm=rm,\n",
        "                      rf=rf,\n",
        "                      obj=obj,\n",
        "                      linkage=linkage,\n",
        "                      max_k=max_k,\n",
        "                      leaf_order=leaf_order,\n",
        "                      hist=hist)\n",
        "\n",
        "display(w2.T)"
      ],
      "metadata": {
        "colab": {
          "base_uri": "https://localhost:8080/",
          "height": 80
        },
        "id": "HLDHhMLJf5LZ",
        "outputId": "11fda06a-0c08-4b5d-c2a1-88e8f1fc1519"
      },
      "execution_count": 31,
      "outputs": [
        {
          "output_type": "display_data",
          "data": {
            "text/plain": [
              "         ASIANPAINT.NS   IOC.NS  LUPIN.NS  PIDILITIND.NS  RELIANCE.NS\n",
              "weights       0.207465  0.16162  0.176697       0.271822     0.182396"
            ],
            "text/html": [
              "\n",
              "  <div id=\"df-0c6796dc-7b86-41c2-9707-cd13894b0a72\">\n",
              "    <div class=\"colab-df-container\">\n",
              "      <div>\n",
              "<style scoped>\n",
              "    .dataframe tbody tr th:only-of-type {\n",
              "        vertical-align: middle;\n",
              "    }\n",
              "\n",
              "    .dataframe tbody tr th {\n",
              "        vertical-align: top;\n",
              "    }\n",
              "\n",
              "    .dataframe thead th {\n",
              "        text-align: right;\n",
              "    }\n",
              "</style>\n",
              "<table border=\"1\" class=\"dataframe\">\n",
              "  <thead>\n",
              "    <tr style=\"text-align: right;\">\n",
              "      <th></th>\n",
              "      <th>ASIANPAINT.NS</th>\n",
              "      <th>IOC.NS</th>\n",
              "      <th>LUPIN.NS</th>\n",
              "      <th>PIDILITIND.NS</th>\n",
              "      <th>RELIANCE.NS</th>\n",
              "    </tr>\n",
              "  </thead>\n",
              "  <tbody>\n",
              "    <tr>\n",
              "      <th>weights</th>\n",
              "      <td>0.207465</td>\n",
              "      <td>0.16162</td>\n",
              "      <td>0.176697</td>\n",
              "      <td>0.271822</td>\n",
              "      <td>0.182396</td>\n",
              "    </tr>\n",
              "  </tbody>\n",
              "</table>\n",
              "</div>\n",
              "      <button class=\"colab-df-convert\" onclick=\"convertToInteractive('df-0c6796dc-7b86-41c2-9707-cd13894b0a72')\"\n",
              "              title=\"Convert this dataframe to an interactive table.\"\n",
              "              style=\"display:none;\">\n",
              "        \n",
              "  <svg xmlns=\"http://www.w3.org/2000/svg\" height=\"24px\"viewBox=\"0 0 24 24\"\n",
              "       width=\"24px\">\n",
              "    <path d=\"M0 0h24v24H0V0z\" fill=\"none\"/>\n",
              "    <path d=\"M18.56 5.44l.94 2.06.94-2.06 2.06-.94-2.06-.94-.94-2.06-.94 2.06-2.06.94zm-11 1L8.5 8.5l.94-2.06 2.06-.94-2.06-.94L8.5 2.5l-.94 2.06-2.06.94zm10 10l.94 2.06.94-2.06 2.06-.94-2.06-.94-.94-2.06-.94 2.06-2.06.94z\"/><path d=\"M17.41 7.96l-1.37-1.37c-.4-.4-.92-.59-1.43-.59-.52 0-1.04.2-1.43.59L10.3 9.45l-7.72 7.72c-.78.78-.78 2.05 0 2.83L4 21.41c.39.39.9.59 1.41.59.51 0 1.02-.2 1.41-.59l7.78-7.78 2.81-2.81c.8-.78.8-2.07 0-2.86zM5.41 20L4 18.59l7.72-7.72 1.47 1.35L5.41 20z\"/>\n",
              "  </svg>\n",
              "      </button>\n",
              "      \n",
              "  <style>\n",
              "    .colab-df-container {\n",
              "      display:flex;\n",
              "      flex-wrap:wrap;\n",
              "      gap: 12px;\n",
              "    }\n",
              "\n",
              "    .colab-df-convert {\n",
              "      background-color: #E8F0FE;\n",
              "      border: none;\n",
              "      border-radius: 50%;\n",
              "      cursor: pointer;\n",
              "      display: none;\n",
              "      fill: #1967D2;\n",
              "      height: 32px;\n",
              "      padding: 0 0 0 0;\n",
              "      width: 32px;\n",
              "    }\n",
              "\n",
              "    .colab-df-convert:hover {\n",
              "      background-color: #E2EBFA;\n",
              "      box-shadow: 0px 1px 2px rgba(60, 64, 67, 0.3), 0px 1px 3px 1px rgba(60, 64, 67, 0.15);\n",
              "      fill: #174EA6;\n",
              "    }\n",
              "\n",
              "    [theme=dark] .colab-df-convert {\n",
              "      background-color: #3B4455;\n",
              "      fill: #D2E3FC;\n",
              "    }\n",
              "\n",
              "    [theme=dark] .colab-df-convert:hover {\n",
              "      background-color: #434B5C;\n",
              "      box-shadow: 0px 1px 3px 1px rgba(0, 0, 0, 0.15);\n",
              "      filter: drop-shadow(0px 1px 2px rgba(0, 0, 0, 0.3));\n",
              "      fill: #FFFFFF;\n",
              "    }\n",
              "  </style>\n",
              "\n",
              "      <script>\n",
              "        const buttonEl =\n",
              "          document.querySelector('#df-0c6796dc-7b86-41c2-9707-cd13894b0a72 button.colab-df-convert');\n",
              "        buttonEl.style.display =\n",
              "          google.colab.kernel.accessAllowed ? 'block' : 'none';\n",
              "\n",
              "        async function convertToInteractive(key) {\n",
              "          const element = document.querySelector('#df-0c6796dc-7b86-41c2-9707-cd13894b0a72');\n",
              "          const dataTable =\n",
              "            await google.colab.kernel.invokeFunction('convertToInteractive',\n",
              "                                                     [key], {});\n",
              "          if (!dataTable) return;\n",
              "\n",
              "          const docLinkHtml = 'Like what you see? Visit the ' +\n",
              "            '<a target=\"_blank\" href=https://colab.research.google.com/notebooks/data_table.ipynb>data table notebook</a>'\n",
              "            + ' to learn more about interactive tables.';\n",
              "          element.innerHTML = '';\n",
              "          dataTable['output_type'] = 'display_data';\n",
              "          await google.colab.output.renderOutput(dataTable, element);\n",
              "          const docLink = document.createElement('div');\n",
              "          docLink.innerHTML = docLinkHtml;\n",
              "          element.appendChild(docLink);\n",
              "        }\n",
              "      </script>\n",
              "    </div>\n",
              "  </div>\n",
              "  "
            ]
          },
          "metadata": {}
        }
      ]
    },
    {
      "cell_type": "code",
      "source": [
        "# Plotting the composition of the portfolio\n",
        "\n",
        "ax = rp.plot_pie(w=w2,\n",
        "                 title='HERC Naive Risk Parity',\n",
        "                 others=0,\n",
        "                 nrow=25,\n",
        "                 cmap=\"tab20\",\n",
        "                 height=8,\n",
        "                 width=10,\n",
        "                 ax=None)"
      ],
      "metadata": {
        "colab": {
          "base_uri": "https://localhost:8080/",
          "height": 585
        },
        "id": "nGO_UNNVt0Nw",
        "outputId": "9ebd256f-0080-4753-b472-efce09f833d6"
      },
      "execution_count": 32,
      "outputs": [
        {
          "output_type": "display_data",
          "data": {
            "text/plain": [
              "<Figure size 720x576 with 1 Axes>"
            ],
            "image/png": "[encoded data removed]"
          },
          "metadata": {}
        }
      ]
    },
    {
      "cell_type": "code",
      "source": [
        "# Plotting the risk contribution graph of each asset\n",
        "\n",
        "\n",
        "ax = rp.plot_risk_con(w=w2,\n",
        "                 cov=port2.cov, \n",
        "                 returns=port2.returns, \n",
        "                 ax=None)"
      ],
      "metadata": {
        "colab": {
          "base_uri": "https://localhost:8080/",
          "height": 441
        },
        "id": "j1hCsqYBiSdu",
        "outputId": "e4e772c6-1cc6-4430-edaf-982117782ae1"
      },
      "execution_count": 33,
      "outputs": [
        {
          "output_type": "display_data",
          "data": {
            "text/plain": [
              "<Figure size 720x432 with 1 Axes>"
            ],
            "image/png": "[encoded data removed]"
          },
          "metadata": {
            "needs_background": "light"
          }
        }
      ]
    },
    {
      "cell_type": "code",
      "source": [
        "get_port_stats(port2.returns, w2, port2.cov)"
      ],
      "metadata": {
        "colab": {
          "base_uri": "https://localhost:8080/"
        },
        "id": "S-6OQbmHgc_r",
        "outputId": "fc91185e-1fbb-4eda-862a-b3ab795e947f"
      },
      "execution_count": 34,
      "outputs": [
        {
          "output_type": "stream",
          "name": "stdout",
          "text": [
            "Expected Returns: 35.95%\n",
            "Annual Volatility: 19.59%\n",
            "Sharpe Ratio: 1.83\n"
          ]
        }
      ]
    },
    {
      "cell_type": "code",
      "source": [
        ""
      ],
      "metadata": {
        "id": "xTFun6y6O7pc"
      },
      "execution_count": null,
      "outputs": []
    }
  ],
  "metadata": {
    "accelerator": "GPU",
    "colab": {
      "name": "Athena - Portfolio Optimization using Machine Learning.ipynb",
      "provenance": [],
      "collapsed_sections": [
        "jKCX7DdD4F1q",
        "onZAh1jUgf0L",
        "gQ5Dxq7dcIyH",
        "LpDcPFkMsj5g"
      ],
      "toc_visible": true,
      "include_colab_link": true
    },
    "kernelspec": {
      "display_name": "Python 3",
      "name": "python3"
    },
    "language_info": {
      "name": "python"
    }
  },
  "nbformat": 4,
  "nbformat_minor": 0
}